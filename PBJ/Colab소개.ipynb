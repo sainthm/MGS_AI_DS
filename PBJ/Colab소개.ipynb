{
 "cells": [
  {
   "cell_type": "markdown",
   "metadata": {
    "id": "Eq5DgL8EBcfy"
   },
   "source": [
    "\\- 브라우저에서 파이썬 이용 가능"
   ]
  },
  {
   "cell_type": "code",
   "execution_count": 1,
   "metadata": {
    "colab": {
     "base_uri": "https://localhost:8080/"
    },
    "id": "6_Ryw9FPBHTN",
    "outputId": "8296a574-6f90-4f98-fc26-3dd520de766f"
   },
   "outputs": [
    {
     "name": "stdout",
     "output_type": "stream",
     "text": [
      "Python\n"
     ]
    }
   ],
   "source": [
    "print('Python')"
   ]
  },
  {
   "cell_type": "markdown",
   "metadata": {
    "id": "xI1Eg-OTaFSH"
   },
   "source": []
  },
  {
   "cell_type": "markdown",
   "metadata": {
    "id": "gH2Ks7HuFGze"
   },
   "source": [
    "\\- 코드 셀 : 코드를 입력하고 실행하는 셀\n",
    "\n",
    "\\- 텍스트 셀 : 텍스트, 이미지, 수식 등을 입력하는 셀"
   ]
  },
  {
   "cell_type": "markdown",
   "metadata": {
    "id": "brNUr5DNI2ki"
   },
   "source": [
    "ex1) 텍스트 셀에 파이썬 코드를 입력한 경우"
   ]
  },
  {
   "cell_type": "markdown",
   "metadata": {
    "id": "Ay0le1JnI_ha"
   },
   "source": [
    "print('Python')"
   ]
  },
  {
   "cell_type": "markdown",
   "metadata": {
    "id": "TQJBngVjJbZ-"
   },
   "source": [
    "ex2) 코드 셀에 코드가 아닌 글자를 입력한 경우"
   ]
  },
  {
   "cell_type": "code",
   "execution_count": null,
   "metadata": {
    "colab": {
     "base_uri": "https://localhost:8080/",
     "height": 164
    },
    "id": "7laKQnnIFHhi",
    "outputId": "258a9854-8e8f-4f9c-c439-ece82ea38e17"
   },
   "outputs": [
    {
     "ename": "NameError",
     "evalue": "ignored",
     "output_type": "error",
     "traceback": [
      "\u001b[0;31m---------------------------------------------------------------------------\u001b[0m",
      "\u001b[0;31mNameError\u001b[0m                                 Traceback (most recent call last)",
      "\u001b[0;32m<ipython-input-7-041a565a82b3>\u001b[0m in \u001b[0;36m<module>\u001b[0;34m()\u001b[0m\n\u001b[0;32m----> 1\u001b[0;31m \u001b[0m안녕하세요\u001b[0m\u001b[0;34m\u001b[0m\u001b[0;34m\u001b[0m\u001b[0m\n\u001b[0m",
      "\u001b[0;31mNameError\u001b[0m: name '안녕하세요' is not defined"
     ]
    }
   ],
   "source": [
    "안녕하세요"
   ]
  },
  {
   "cell_type": "markdown",
   "metadata": {
    "id": "FKQhnLr5MuOH"
   },
   "source": [
    "# 분류"
   ]
  },
  {
   "cell_type": "markdown",
   "metadata": {
    "id": "N_Kh_B07Q_oe"
   },
   "source": [
    "## 중분류1"
   ]
  },
  {
   "cell_type": "markdown",
   "metadata": {
    "id": "7L4Pgbl_RL10"
   },
   "source": [
    "### 소분류1"
   ]
  },
  {
   "cell_type": "markdown",
   "metadata": {
    "id": "98WP6oIARkdu"
   },
   "source": [
    "#### 한번 더"
   ]
  },
  {
   "cell_type": "markdown",
   "metadata": {
    "id": "8pR8NwFYRpVR"
   },
   "source": [
    "##### 한번만 더..."
   ]
  },
  {
   "cell_type": "markdown",
   "metadata": {
    "id": "xI62Q3CqRsdz"
   },
   "source": [
    "최대 다섯개까지"
   ]
  },
  {
   "cell_type": "markdown",
   "metadata": {
    "id": "Q7qvoeg7RN3E"
   },
   "source": [
    "### 소분류2"
   ]
  },
  {
   "cell_type": "markdown",
   "metadata": {
    "id": "spz--mIDR_OW"
   },
   "source": []
  },
  {
   "cell_type": "markdown",
   "metadata": {
    "id": "9iXqWjVHQ_0l"
   },
   "source": [
    "## 중분류2"
   ]
  },
  {
   "cell_type": "markdown",
   "metadata": {
    "id": "wcSsgXh6RELo"
   },
   "source": [
    "### 소분류1"
   ]
  },
  {
   "cell_type": "markdown",
   "metadata": {
    "id": "0zQKazsgSg_G"
   },
   "source": [
    "# 마크다운"
   ]
  },
  {
   "cell_type": "markdown",
   "metadata": {
    "id": "CDeEBP82SsfS"
   },
   "source": [
    "* \\* 로 글머리기호 표시 가능"
   ]
  },
  {
   "cell_type": "markdown",
   "metadata": {
    "id": "PuFl0-B8a9Ti"
   },
   "source": [
    "* \\* 두 개를 감싸주면 **강조** 가능"
   ]
  },
  {
   "cell_type": "markdown",
   "metadata": {
    "id": "AidZ615mUOYt"
   },
   "source": [
    "* \\`(따옴표 아님) 를 문장의 앞 뒤로 감싸주어 코드 셀의 배경으로 작성 가능\n",
    "```\n",
    "파이썬에서 원하는 문구를 출력하기 위해서는 print() 문을 사용하면 된다.\n",
    "print('Python')\n",
    "```"
   ]
  },
  {
   "cell_type": "markdown",
   "metadata": {
    "id": "zURI963WW39h"
   },
   "source": [
    "* 밑줄 \n",
    "\n",
    "\\- 바(-) 3개 입력시\n",
    "</br>\n",
    "</br>\n",
    "\n",
    "---\n",
    "\n",
    "</br>\n",
    "</br>\n",
    "\n",
    "\\- 언더바(_) 3개 입력시\n",
    "</br>\n",
    "</br>\n",
    "\n",
    "___\n"
   ]
  },
  {
   "cell_type": "markdown",
   "metadata": {
    "id": "dMUKGWYYVTKl"
   },
   "source": [
    "* 표 생성\n",
    "\n",
    "\\- 작성 코드\n",
    "\n",
    "```\n",
    "첫번째 행이름       | 두번째 열이름 \n",
    "-----------------|------------------\n",
    "첫번째 행의 첫번째 열 | 첫번째 행의 두번째 열 \n",
    "두번째 행의 첫번째 열 | 두번째 행의 두번째 열\n",
    "```\n",
    "\n",
    "\\- 실행 결과\n",
    "\n",
    "첫번째 행이름       | 두번째 열이름 \n",
    "-----------------|------------------\n",
    "첫번째 행의 첫번째 열 | 첫번째 행의 두번째 열 \n",
    "두번째 행의 첫번째 열 | 두번째 행의 두번째 열"
   ]
  },
  {
   "cell_type": "markdown",
   "metadata": {
    "id": "0BDDB8IIca1-"
   },
   "source": [
    "* 링크 삽입하고 싶을 때\n",
    "```\n",
    "[링크 설명](웹 페이지 주소)\n",
    "```\n",
    "\n",
    "[패스트 캠퍼스](https://fastcampus.co.kr/)"
   ]
  },
  {
   "cell_type": "markdown",
   "metadata": {
    "id": "GaCmDHGoX94n"
   },
   "source": [
    "* 웹 이미지\n",
    "\n",
    "```\n",
    "![이미지 설명](이미지 링크)\n",
    "```\n",
    "\n",
    "![설명](https://cdn.malgnlms.com/cdndata/ssac/file/9134a4e85b027b8bfbe2445b1686477a.jpg)"
   ]
  },
  {
   "cell_type": "markdown",
   "metadata": {
    "id": "p3i-GMwfc09y"
   },
   "source": [
    "* [Latex](https://en.wikibooks.org/wiki/LaTeX/Mathematics) 문법을 통한 수식 작성\n",
    "```\n",
    "$사용할 Latex 문법$\n",
    "```\n",
    "\n",
    "$\\infty$\n",
    "\n",
    "$y = x ^ 2$\n",
    "\n",
    "$\n",
    "A_{m,n} = \n",
    " \\begin{pmatrix}\n",
    "  a_{1,1} & a_{1,2} & \\cdots & a_{1,n} \\\\\n",
    "  a_{2,1} & a_{2,2} & \\cdots & a_{2,n} \\\\\n",
    "  \\vdots  & \\vdots  & \\ddots & \\vdots  \\\\\n",
    "  a_{m,1} & a_{m,2} & \\cdots & a_{m,n} \n",
    " \\end{pmatrix}\n",
    "$"
   ]
  },
  {
   "cell_type": "markdown",
   "metadata": {
    "id": "7NYiRUOHbYxR"
   },
   "source": [
    "* 과거의 코드를 복구하고 싶을 때 **파일 -> 업데이트 기록**"
   ]
  },
  {
   "cell_type": "code",
   "execution_count": null,
   "metadata": {
    "id": "4kmf7WgPzwpk"
   },
   "outputs": [],
   "source": []
  }
 ],
 "metadata": {
  "colab": {
   "collapsed_sections": [],
   "provenance": []
  },
  "kernelspec": {
   "display_name": "Python 3 (ipykernel)",
   "language": "python",
   "name": "python3"
  },
  "language_info": {
   "codemirror_mode": {
    "name": "ipython",
    "version": 3
   },
   "file_extension": ".py",
   "mimetype": "text/x-python",
   "name": "python",
   "nbconvert_exporter": "python",
   "pygments_lexer": "ipython3",
   "version": "3.8.13"
  }
 },
 "nbformat": 4,
 "nbformat_minor": 1
}

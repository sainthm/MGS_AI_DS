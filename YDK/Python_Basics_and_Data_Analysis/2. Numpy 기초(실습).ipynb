{
 "cells": [
  {
   "cell_type": "markdown",
   "metadata": {
    "id": "kv6gH7G01Pal"
   },
   "source": [
    "## Numpy"
   ]
  },
  {
   "cell_type": "markdown",
   "metadata": {
    "id": "RQWkeQgD1Pam"
   },
   "source": [
    "### 1. Numpy Array and Operation"
   ]
  },
  {
   "cell_type": "markdown",
   "metadata": {
    "id": "igGUA1oE1Pam"
   },
   "source": [
    "- numpy의 기본적인 사용법에 대해서 배워봅니다.\n",
    "\n",
    "\n",
    "- numpy에서 numpy.array를 만드는 여러가지 방법과 지원하는 연산자에 대해서 공부합니다."
   ]
  },
  {
   "cell_type": "markdown",
   "metadata": {
    "id": "ZzPzxgQ53PcS"
   },
   "source": [
    "### 1.1. Numpy Array creation"
   ]
  },
  {
   "cell_type": "code",
   "execution_count": 1,
   "metadata": {
    "id": "MoD6QOXY1Pan"
   },
   "outputs": [],
   "source": [
    "# numpy 라이브러리를 불러옵니다.\n",
    "import numpy as np"
   ]
  },
  {
   "cell_type": "code",
   "execution_count": null,
   "metadata": {
    "id": "bqVEQaBP1Pan"
   },
   "outputs": [],
   "source": [
    "# 파이썬 리스트 선언\n"
   ]
  },
  {
   "cell_type": "code",
   "execution_count": null,
   "metadata": {
    "id": "jADukVLG1Pan"
   },
   "outputs": [],
   "source": [
    "# 파이썬 2차원 리스트(행렬) 선언\n",
    "data2 = "
   ]
  },
  {
   "cell_type": "code",
   "execution_count": null,
   "metadata": {
    "id": "jQq60ZfX1Pan"
   },
   "outputs": [],
   "source": [
    "# 파이썬 list를 numpy array로 변환합니다.\n",
    "\n",
    "# numpy array를 만드는 방식의 대부분은 파이썬 리스트를 np.array로 변환하는 방식입니다.\n"
   ]
  },
  {
   "cell_type": "code",
   "execution_count": null,
   "metadata": {
    "id": "eqbxPjfu1Pao"
   },
   "outputs": [],
   "source": [
    "# 2차원 리스트를 np.array로 만듭니다.\n",
    "arr2 = np.array(data2) # data2라는 리스트를 numpy array로 만들어라.\n"
   ]
  },
  {
   "cell_type": "code",
   "execution_count": null,
   "metadata": {
    "id": "oMdYjtc21Pao"
   },
   "outputs": [],
   "source": [
    "# 0부터 9까지 숫자를 자동으로 생성한 array\n"
   ]
  },
  {
   "cell_type": "code",
   "execution_count": null,
   "metadata": {
    "id": "NwMSPz0Z1Pao"
   },
   "outputs": [],
   "source": [
    "# 10부터 99까지 숫자를 자동으로 생성한 array\n"
   ]
  },
  {
   "cell_type": "markdown",
   "metadata": {
    "id": "UFFwSitw1Pao"
   },
   "source": [
    "### 1.2. Reshaping array"
   ]
  },
  {
   "cell_type": "code",
   "execution_count": null,
   "metadata": {
    "id": "-vcHHFl81Pao"
   },
   "outputs": [],
   "source": [
    "# 3 x 3 행렬을 만들어봅시다.\n",
    "x = "
   ]
  },
  {
   "cell_type": "code",
   "execution_count": null,
   "metadata": {
    "id": "HChX3Sv91Pao"
   },
   "outputs": [],
   "source": [
    "# reshape을 이용하여 만들어봅시다.\n"
   ]
  },
  {
   "cell_type": "code",
   "execution_count": null,
   "metadata": {
    "id": "jKHQRaFx5QFT"
   },
   "outputs": [],
   "source": [
    "# row vector를 column vector로\n"
   ]
  },
  {
   "cell_type": "code",
   "execution_count": null,
   "metadata": {
    "id": "Jre4TnZT5YwK"
   },
   "outputs": [],
   "source": [
    "# 펼치기\n"
   ]
  },
  {
   "cell_type": "markdown",
   "metadata": {
    "id": "MMrKtZy-1Pao"
   },
   "source": [
    "### 1.3. Concatenation of arrays"
   ]
  },
  {
   "cell_type": "code",
   "execution_count": 3,
   "metadata": {
    "id": "6g1bOHDn1Pao"
   },
   "outputs": [
    {
     "data": {
      "text/plain": [
       "array([5, 7, 9])"
      ]
     },
     "execution_count": 3,
     "metadata": {},
     "output_type": "execute_result"
    }
   ],
   "source": [
    "arr1 = np.array([1, 2, 3])\n",
    "arr2 = np.array([4, 5, 6])\n",
    "# arr1 + arr2 = ?\n",
    "arr1 + arr2\n",
    "# arr1와 arr2를 합칩니다"
   ]
  },
  {
   "cell_type": "code",
   "execution_count": 4,
   "metadata": {
    "id": "ePV80Pwx1Pao"
   },
   "outputs": [
    {
     "data": {
      "text/plain": [
       "array([[1, 2, 3],\n",
       "       [4, 5, 6]])"
      ]
     },
     "execution_count": 4,
     "metadata": {},
     "output_type": "execute_result"
    }
   ],
   "source": [
    "# stacking vertically\n",
    "np.vstack([arr1, arr2])"
   ]
  },
  {
   "cell_type": "code",
   "execution_count": 5,
   "metadata": {
    "id": "xcY9pR2M1Pap"
   },
   "outputs": [
    {
     "data": {
      "text/plain": [
       "array([1, 2, 3, 4, 5, 6])"
      ]
     },
     "execution_count": 5,
     "metadata": {},
     "output_type": "execute_result"
    }
   ],
   "source": [
    "# stacking horizontally\n",
    "np.hstack([arr1, arr2])"
   ]
  },
  {
   "cell_type": "markdown",
   "metadata": {
    "id": "1Pioy4a-1Pap"
   },
   "source": [
    "## 1.4. Array Arithmetic (like vector) --> Universal Function"
   ]
  },
  {
   "cell_type": "code",
   "execution_count": 6,
   "metadata": {
    "id": "sxjF6pdh1Pap"
   },
   "outputs": [],
   "source": [
    "# v1 = (1, 2, 3), v2 = (4, 5, 6) 벡터 2개 생성하기.\n",
    "v1 = np.array([1, 2, 3])\n",
    "v2 = np.array([4, 5, 6])"
   ]
  },
  {
   "cell_type": "code",
   "execution_count": 7,
   "metadata": {
    "id": "KFKEKB711Pap"
   },
   "outputs": [
    {
     "data": {
      "text/plain": [
       "[1, 2, 3, 4, 5, 6]"
      ]
     },
     "execution_count": 7,
     "metadata": {},
     "output_type": "execute_result"
    }
   ],
   "source": [
    "# 리스트로 더하기 연산해보기\n",
    "L1 = [1, 2, 3]\n",
    "L2 = [4, 5, 6]\n",
    "L1 + L2"
   ]
  },
  {
   "cell_type": "code",
   "execution_count": 8,
   "metadata": {
    "id": "UiDh2wZX1Pap"
   },
   "outputs": [
    {
     "data": {
      "text/plain": [
       "array([5, 7, 9])"
      ]
     },
     "execution_count": 8,
     "metadata": {},
     "output_type": "execute_result"
    }
   ],
   "source": [
    "#  vector addition\n",
    "v1 + v2"
   ]
  },
  {
   "cell_type": "code",
   "execution_count": 10,
   "metadata": {
    "id": "z1uh1zIW1Pap"
   },
   "outputs": [
    {
     "data": {
      "text/plain": [
       "array([-3, -3, -3])"
      ]
     },
     "execution_count": 10,
     "metadata": {},
     "output_type": "execute_result"
    }
   ],
   "source": [
    "#  vector subtraction\n",
    "v1 - v2"
   ]
  },
  {
   "cell_type": "code",
   "execution_count": 11,
   "metadata": {
    "id": "Kp3n7JU91Pap"
   },
   "outputs": [
    {
     "data": {
      "text/plain": [
       "array([ 4, 10, 18])"
      ]
     },
     "execution_count": 11,
     "metadata": {},
     "output_type": "execute_result"
    }
   ],
   "source": [
    "# (not vector operation) elementwise multiplication\n",
    "v1 * v2"
   ]
  },
  {
   "cell_type": "code",
   "execution_count": 12,
   "metadata": {
    "id": "WQDxd6ew1Pap"
   },
   "outputs": [
    {
     "data": {
      "text/plain": [
       "array([0.25, 0.4 , 0.5 ])"
      ]
     },
     "execution_count": 12,
     "metadata": {},
     "output_type": "execute_result"
    }
   ],
   "source": [
    "# (not vector operation) elementwise division\n",
    "v1 / v2"
   ]
  },
  {
   "cell_type": "code",
   "execution_count": 13,
   "metadata": {
    "id": "Kh9DEujN1Pap"
   },
   "outputs": [
    {
     "data": {
      "text/plain": [
       "32"
      ]
     },
     "execution_count": 13,
     "metadata": {},
     "output_type": "execute_result"
    }
   ],
   "source": [
    "# dot product\n",
    "v1 @ v2"
   ]
  },
  {
   "cell_type": "markdown",
   "metadata": {
    "id": "Dp11IV1l1Pap"
   },
   "source": [
    "### 1.5. Broadcast and Universal Function"
   ]
  },
  {
   "cell_type": "markdown",
   "metadata": {
    "id": "lbGKwuWf1Pap"
   },
   "source": [
    "- 서로 크기가 다른 numpy array를 연산할 때, 자동으로 연산을 전파(broadcast)해주는 기능. 행렬곱 연산을 할 때 편리하다."
   ]
  },
  {
   "cell_type": "code",
   "execution_count": 14,
   "metadata": {
    "id": "g8pG0d-V1Paq"
   },
   "outputs": [],
   "source": [
    "arr1 = np.array([1, 0, 0])"
   ]
  },
  {
   "cell_type": "code",
   "execution_count": 17,
   "metadata": {
    "id": "CQDgu7vG1Paq"
   },
   "outputs": [],
   "source": [
    "arr2 = np.array([[1, 2, 3],\n",
    "                 [4, 5, 6]])"
   ]
  },
  {
   "cell_type": "code",
   "execution_count": 18,
   "metadata": {
    "id": "-4EWUAZB1Paq"
   },
   "outputs": [
    {
     "data": {
      "text/plain": [
       "array([[2, 2, 3],\n",
       "       [5, 5, 6]])"
      ]
     },
     "execution_count": 18,
     "metadata": {},
     "output_type": "execute_result"
    }
   ],
   "source": [
    "# 2개의 array를 더해보면?\n",
    "arr1 + arr2 # 2->2->3(v)"
   ]
  },
  {
   "cell_type": "code",
   "execution_count": 19,
   "metadata": {
    "id": "EvOolsHz1Paq"
   },
   "outputs": [
    {
     "data": {
      "text/plain": [
       "array([[1, 0, 0],\n",
       "       [4, 0, 0]])"
      ]
     },
     "execution_count": 19,
     "metadata": {},
     "output_type": "execute_result"
    }
   ],
   "source": [
    "# 2개의 array를 곱해보면? (**)\n",
    "arr1 * arr2"
   ]
  },
  {
   "cell_type": "markdown",
   "metadata": {
    "id": "Rch_pHQW55S-"
   },
   "source": [
    "- Universal Function : broadcast 기능을 확장해서, numpy array의 모든 원소에 동일한 함수를 반복문으로 적용한 것과 같은 효과를 내는 기능."
   ]
  },
  {
   "cell_type": "code",
   "execution_count": 20,
   "metadata": {
    "id": "AeXAfqUI6H0V"
   },
   "outputs": [
    {
     "name": "stderr",
     "output_type": "stream",
     "text": [
      "/var/folders/4h/b2cqm88s3cl_l0lpwl10b69r0000gn/T/ipykernel_24600/704277822.py:2: RuntimeWarning: divide by zero encountered in divide\n",
      "  1 / arr1\n"
     ]
    },
    {
     "data": {
      "text/plain": [
       "array([ 1., inf, inf])"
      ]
     },
     "execution_count": 20,
     "metadata": {},
     "output_type": "execute_result"
    }
   ],
   "source": [
    "# f = lambda x : 1/x\n",
    "1 / arr1"
   ]
  },
  {
   "cell_type": "code",
   "execution_count": 21,
   "metadata": {
    "id": "xt20aKq21Paq"
   },
   "outputs": [
    {
     "data": {
      "text/plain": [
       "array([3, 2, 2])"
      ]
     },
     "execution_count": 21,
     "metadata": {},
     "output_type": "execute_result"
    }
   ],
   "source": [
    "# f = lambda x : x + 2\n",
    "2 + arr1"
   ]
  },
  {
   "cell_type": "markdown",
   "metadata": {
    "id": "JQ9vQmo-1Paq"
   },
   "source": [
    "### 1.6. Indexing\n"
   ]
  },
  {
   "cell_type": "code",
   "execution_count": null,
   "metadata": {
    "id": "C2U2Y3Sz1Paq"
   },
   "outputs": [],
   "source": [
    "arr1 = np.arange(10)"
   ]
  },
  {
   "cell_type": "code",
   "execution_count": null,
   "metadata": {
    "id": "5WULHYrI1Paq"
   },
   "outputs": [],
   "source": [
    "# 첫번째 원소\n"
   ]
  },
  {
   "cell_type": "code",
   "execution_count": null,
   "metadata": {
    "id": "_N-nEw7V1Paq"
   },
   "outputs": [],
   "source": [
    "# 마지막 원소\n"
   ]
  },
  {
   "cell_type": "code",
   "execution_count": null,
   "metadata": {
    "id": "wNQa8qoO1Paq"
   },
   "outputs": [],
   "source": [
    "# 앞에서부터 원소 3개 slicing\n"
   ]
  },
  {
   "cell_type": "code",
   "execution_count": 2,
   "metadata": {
    "id": "29pYfFvL1Paq"
   },
   "outputs": [
    {
     "data": {
      "text/plain": [
       "array([[ 1,  2,  3,  4],\n",
       "       [ 5,  6,  7,  8],\n",
       "       [ 9, 10, 11, 12]])"
      ]
     },
     "execution_count": 2,
     "metadata": {},
     "output_type": "execute_result"
    }
   ],
   "source": [
    "arr2 = np.array([[1, 2, 3, 4],\n",
    "               [5, 6, 7, 8],\n",
    "               [9, 10, 11, 12]])\n",
    "arr2"
   ]
  },
  {
   "cell_type": "code",
   "execution_count": null,
   "metadata": {
    "id": "p8EFXNq91Paq"
   },
   "outputs": [],
   "source": [
    "# arr2의 2row, 3column 원소 = 7\n"
   ]
  },
  {
   "cell_type": "code",
   "execution_count": null,
   "metadata": {
    "id": "OVgw4bT11Paq"
   },
   "outputs": [],
   "source": [
    "# arr2의 세번째 column [3, 7, 11]\n"
   ]
  },
  {
   "cell_type": "code",
   "execution_count": null,
   "metadata": {
    "id": "krLo7Tvg1Paq"
   },
   "outputs": [],
   "source": [
    "# arr2의 두번째 row\n"
   ]
  },
  {
   "cell_type": "markdown",
   "metadata": {
    "id": "nb3NOpgU1Par"
   },
   "source": [
    "## 2. Numpy Methods\n",
    "\n",
    "- numpy에서 사용되는 여러가지 함수들을 사용해봅시다."
   ]
  },
  {
   "cell_type": "markdown",
   "metadata": {
    "id": "wsDCnH9Q1Par"
   },
   "source": [
    "### 2.1. Math Functions "
   ]
  },
  {
   "cell_type": "code",
   "execution_count": null,
   "metadata": {
    "id": "Pme3p6FQ1Par"
   },
   "outputs": [],
   "source": [
    "# 표준정규분포에서 random sampling을 한 원소를 가지는 5x3 행렬을 만든다.\n",
    "mat1 = "
   ]
  },
  {
   "cell_type": "code",
   "execution_count": null,
   "metadata": {
    "id": "YnWulebZ1Par"
   },
   "outputs": [],
   "source": [
    "# mat1에 절대값 씌우기\n"
   ]
  },
  {
   "cell_type": "code",
   "execution_count": null,
   "metadata": {
    "id": "LEt94K-t6sdK"
   },
   "outputs": [],
   "source": [
    "# mat1 제곱하기\n"
   ]
  },
  {
   "cell_type": "code",
   "execution_count": null,
   "metadata": {
    "id": "mFldaHe_6wHC"
   },
   "outputs": [],
   "source": [
    "# mat1의 제곱근 구하기\n"
   ]
  },
  {
   "cell_type": "code",
   "execution_count": null,
   "metadata": {
    "id": "khqI2kwA62Ez"
   },
   "outputs": [],
   "source": [
    "# linear algebra functions\n",
    "vec = \n",
    "\n",
    "# 1. norm\n",
    "\n",
    "\n",
    "# 2. eigenvalue\n"
   ]
  },
  {
   "cell_type": "markdown",
   "metadata": {
    "id": "Tk5S0yOf1Par"
   },
   "source": [
    "### 2.2. Aggregation functions "
   ]
  },
  {
   "cell_type": "code",
   "execution_count": 31,
   "metadata": {
    "id": "b0ei5LJ51Par"
   },
   "outputs": [
    {
     "data": {
      "text/plain": [
       "array([[0.37454012, 0.95071431],\n",
       "       [0.73199394, 0.59865848],\n",
       "       [0.15601864, 0.15599452]])"
      ]
     },
     "execution_count": 31,
     "metadata": {},
     "output_type": "execute_result"
    }
   ],
   "source": [
    "np.random.seed(42) # seed set  ## reproducibility\n",
    "mat2 = np.random.rand(3, 2)\n",
    "mat2"
   ]
  },
  {
   "cell_type": "code",
   "execution_count": null,
   "metadata": {
    "id": "hMKOS5O51Par"
   },
   "outputs": [],
   "source": [
    "# Summation\n"
   ]
  },
  {
   "cell_type": "code",
   "execution_count": null,
   "metadata": {
    "id": "OdJZdrx_1Par"
   },
   "outputs": [],
   "source": [
    "# mean\n",
    "np.mean(mat3, axis=0)"
   ]
  },
  {
   "cell_type": "code",
   "execution_count": 35,
   "metadata": {
    "id": "78xMuXMY1Par"
   },
   "outputs": [
    {
     "data": {
      "text/plain": [
       "array([[0.37454012, 0.95071431],\n",
       "       [0.73199394, 0.59865848],\n",
       "       [0.15601864, 0.15599452]])"
      ]
     },
     "execution_count": 35,
     "metadata": {},
     "output_type": "execute_result"
    }
   ],
   "source": [
    "# std\n",
    "mat2"
   ]
  },
  {
   "cell_type": "code",
   "execution_count": 32,
   "metadata": {
    "id": "KzfPurFc1Par"
   },
   "outputs": [
    {
     "data": {
      "text/plain": [
       "array([0.15601864, 0.15599452])"
      ]
     },
     "execution_count": 32,
     "metadata": {},
     "output_type": "execute_result"
    }
   ],
   "source": [
    "# min, max\n",
    "np.min(mat2, axis=0)"
   ]
  },
  {
   "cell_type": "code",
   "execution_count": 33,
   "metadata": {},
   "outputs": [
    {
     "data": {
      "text/plain": [
       "array([0.95071431, 0.73199394, 0.15601864])"
      ]
     },
     "execution_count": 33,
     "metadata": {},
     "output_type": "execute_result"
    }
   ],
   "source": [
    "np.max(mat2, axis=1)"
   ]
  },
  {
   "cell_type": "code",
   "execution_count": 34,
   "metadata": {
    "id": "YtRtiSG31Pas"
   },
   "outputs": [
    {
     "data": {
      "text/plain": [
       "array([0, 1, 1])"
      ]
     },
     "execution_count": 34,
     "metadata": {},
     "output_type": "execute_result"
    }
   ],
   "source": [
    "# 최소값이 있는 Index\n",
    "np.argmin(mat2, axis=1)"
   ]
  },
  {
   "cell_type": "code",
   "execution_count": 36,
   "metadata": {
    "id": "0cndLCKl1Pas"
   },
   "outputs": [
    {
     "data": {
      "text/plain": [
       "array([1, 0])"
      ]
     },
     "execution_count": 36,
     "metadata": {},
     "output_type": "execute_result"
    }
   ],
   "source": [
    "# 최대값이 있는 Index\n",
    "np.argmax(mat2, axis=0)"
   ]
  },
  {
   "cell_type": "code",
   "execution_count": 38,
   "metadata": {
    "id": "y2LVvF5b1Pas"
   },
   "outputs": [
    {
     "data": {
      "text/plain": [
       "array([[0.15601864, 0.15599452],\n",
       "       [0.37454012, 0.59865848],\n",
       "       [0.73199394, 0.95071431]])"
      ]
     },
     "execution_count": 38,
     "metadata": {},
     "output_type": "execute_result"
    }
   ],
   "source": [
    "# 그냥 정렬 (오름차순 정렬만 지원합니다)\n",
    "np.sort(mat2, axis=0) # default > axis=1"
   ]
  },
  {
   "cell_type": "code",
   "execution_count": 39,
   "metadata": {
    "id": "mLeMOv7f1Pas"
   },
   "outputs": [
    {
     "data": {
      "text/plain": [
       "array([[2, 2],\n",
       "       [0, 1],\n",
       "       [1, 0]])"
      ]
     },
     "execution_count": 39,
     "metadata": {},
     "output_type": "execute_result"
    }
   ],
   "source": [
    "# index를 정렬\n",
    "np.argsort(mat2, axis=0)"
   ]
  },
  {
   "cell_type": "markdown",
   "metadata": {
    "id": "2a2AgVdm1Pas"
   },
   "source": [
    "## 3. \bPerformance Check"
   ]
  },
  {
   "cell_type": "markdown",
   "metadata": {
    "id": "ciO_FLLW1Pas"
   },
   "source": [
    "- Universal Function 기능을 통해 반복문을 사용한 것보다 훨씬 빠른 성능을 냅니다.\n",
    "\n",
    "\n",
    "- 직접 실험을 통해 그 차이를 확인해보겠습니다."
   ]
  },
  {
   "cell_type": "code",
   "execution_count": 50,
   "metadata": {
    "id": "oVBZX1U31Pas"
   },
   "outputs": [],
   "source": [
    "np.random.seed(0)\n",
    "\n",
    "def reverse_num(values): # 함수로 정의했기 때문에 오버헤드가 발생\n",
    "    output = np.empty(len(values)) \n",
    "    \n",
    "    for i in range(len(values)): # dynamic type binding\n",
    "        output[i] = 1.0 / values[i]\n",
    "    \n",
    "    return output"
   ]
  },
  {
   "cell_type": "code",
   "execution_count": 57,
   "metadata": {
    "id": "aagBlNXs1Pas"
   },
   "outputs": [
    {
     "data": {
      "text/plain": [
       "array([30, 61, 97, ..., 48,  8, 23])"
      ]
     },
     "execution_count": 57,
     "metadata": {},
     "output_type": "execute_result"
    }
   ],
   "source": [
    "# 1부터 100까지 범위에서 1000000개를 랜덤으로 뽑아서 array를 만듭니다.\n",
    "big_array = np.random.randint(1, 101, 100000000)\n",
    "big_array"
   ]
  },
  {
   "cell_type": "code",
   "execution_count": 55,
   "metadata": {
    "id": "VMyEUiVM1Pas"
   },
   "outputs": [
    {
     "name": "stdout",
     "output_type": "stream",
     "text": [
      "1min 7s ± 273 ms per loop (mean ± std. dev. of 7 runs, 1 loop each)\n"
     ]
    }
   ],
   "source": [
    "%timeit reverse_num(big_array)"
   ]
  },
  {
   "cell_type": "code",
   "execution_count": 56,
   "metadata": {
    "id": "k7PvHI7-1Pas"
   },
   "outputs": [
    {
     "name": "stdout",
     "output_type": "stream",
     "text": [
      "96.4 ms ± 179 µs per loop (mean ± std. dev. of 7 runs, 10 loops each)\n"
     ]
    }
   ],
   "source": [
    "%timeit 1.0 / big_array"
   ]
  },
  {
   "cell_type": "markdown",
   "metadata": {
    "id": "_11lEint1Pas"
   },
   "source": [
    "## 결론: 데이터가 많으면 많을 수록 브로드캐스트, 유니버셜 펑션을 사용하는 것이 좋다!"
   ]
  }
 ],
 "metadata": {
  "colab": {
   "collapsed_sections": [],
   "name": "Chapter.02 데이터 분석 라이브러리-03. Numpy method (실습).ipynb",
   "provenance": []
  },
  "kernelspec": {
   "display_name": "Python 3 (ipykernel)",
   "language": "python",
   "name": "python3"
  },
  "language_info": {
   "codemirror_mode": {
    "name": "ipython",
    "version": 3
   },
   "file_extension": ".py",
   "mimetype": "text/x-python",
   "name": "python",
   "nbconvert_exporter": "python",
   "pygments_lexer": "ipython3",
   "version": "3.8.13"
  },
  "vscode": {
   "interpreter": {
    "hash": "ec0e73bc9db08b8d89387f8f6c8d25ddb5b98c92e4d4d339c361044cb7be0e6a"
   }
  }
 },
 "nbformat": 4,
 "nbformat_minor": 1
}

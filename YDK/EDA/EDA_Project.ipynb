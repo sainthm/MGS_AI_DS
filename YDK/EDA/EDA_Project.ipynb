{
 "cells": [
  {
   "cell_type": "markdown",
   "id": "05393a29",
   "metadata": {},
   "source": [
    "# EDA"
   ]
  },
  {
   "cell_type": "markdown",
   "id": "a2efaaed",
   "metadata": {},
   "source": [
    "## 맡은 데이터 파트\n",
    "- 한국 금리 변동\n",
    "- 한국 통화량 추이\n",
    "- 한국 주택담보 대출 추이"
   ]
  },
  {
   "cell_type": "code",
   "execution_count": 2,
   "id": "c09f8e8f",
   "metadata": {},
   "outputs": [],
   "source": [
    "import pandas as pd\n",
    "import numpy as np\n",
    "import matplotlib.pyplot as plt\n",
    "import seaborn as sns"
   ]
  },
  {
   "cell_type": "markdown",
   "id": "aac70e39",
   "metadata": {},
   "source": [
    "### 한국 금리 변동"
   ]
  },
  {
   "cell_type": "code",
   "execution_count": 5,
   "id": "8320853b",
   "metadata": {},
   "outputs": [
    {
     "data": {
      "text/html": [
       "<div>\n",
       "<style scoped>\n",
       "    .dataframe tbody tr th:only-of-type {\n",
       "        vertical-align: middle;\n",
       "    }\n",
       "\n",
       "    .dataframe tbody tr th {\n",
       "        vertical-align: top;\n",
       "    }\n",
       "\n",
       "    .dataframe thead th {\n",
       "        text-align: right;\n",
       "    }\n",
       "</style>\n",
       "<table border=\"1\" class=\"dataframe\">\n",
       "  <thead>\n",
       "    <tr style=\"text-align: right;\">\n",
       "      <th></th>\n",
       "      <th>DateTime</th>\n",
       "      <th>Percent</th>\n",
       "    </tr>\n",
       "  </thead>\n",
       "  <tbody>\n",
       "    <tr>\n",
       "      <th>0</th>\n",
       "      <td>2008-08-07</td>\n",
       "      <td>5.25</td>\n",
       "    </tr>\n",
       "    <tr>\n",
       "      <th>1</th>\n",
       "      <td>2008-10-09</td>\n",
       "      <td>5.00</td>\n",
       "    </tr>\n",
       "    <tr>\n",
       "      <th>2</th>\n",
       "      <td>2008-10-27</td>\n",
       "      <td>4.25</td>\n",
       "    </tr>\n",
       "    <tr>\n",
       "      <th>3</th>\n",
       "      <td>2008-11-07</td>\n",
       "      <td>4.00</td>\n",
       "    </tr>\n",
       "    <tr>\n",
       "      <th>4</th>\n",
       "      <td>2008-12-11</td>\n",
       "      <td>3.00</td>\n",
       "    </tr>\n",
       "  </tbody>\n",
       "</table>\n",
       "</div>"
      ],
      "text/plain": [
       "     DateTime  Percent\n",
       "0  2008-08-07     5.25\n",
       "1  2008-10-09     5.00\n",
       "2  2008-10-27     4.25\n",
       "3  2008-11-07     4.00\n",
       "4  2008-12-11     3.00"
      ]
     },
     "execution_count": 5,
     "metadata": {},
     "output_type": "execute_result"
    }
   ],
   "source": [
    "# 데이터 가져오기\n",
    "bokbr = pd.read_csv(\"./EDA_file/bokbr.csv\")\n",
    "bokbr.head()"
   ]
  },
  {
   "cell_type": "markdown",
   "id": "23a279b4",
   "metadata": {},
   "source": [
    "### 한국 통화량 추이"
   ]
  },
  {
   "cell_type": "code",
   "execution_count": null,
   "id": "dfcb92ae",
   "metadata": {},
   "outputs": [],
   "source": []
  },
  {
   "cell_type": "markdown",
   "id": "9476c1cf",
   "metadata": {},
   "source": [
    "### 한국 주택담보 대출 추이"
   ]
  },
  {
   "cell_type": "code",
   "execution_count": null,
   "id": "9f80bfd7",
   "metadata": {},
   "outputs": [],
   "source": []
  }
 ],
 "metadata": {
  "kernelspec": {
   "display_name": "Python 3 (ipykernel)",
   "language": "python",
   "name": "python3"
  },
  "language_info": {
   "codemirror_mode": {
    "name": "ipython",
    "version": 3
   },
   "file_extension": ".py",
   "mimetype": "text/x-python",
   "name": "python",
   "nbconvert_exporter": "python",
   "pygments_lexer": "ipython3",
   "version": "3.8.13"
  }
 },
 "nbformat": 4,
 "nbformat_minor": 5
}

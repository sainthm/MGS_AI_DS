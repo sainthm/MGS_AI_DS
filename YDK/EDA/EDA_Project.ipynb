{
 "cells": [
  {
   "cell_type": "markdown",
   "id": "05393a29",
   "metadata": {},
   "source": [
    "# EDA"
   ]
  },
  {
   "cell_type": "markdown",
   "id": "a2efaaed",
   "metadata": {},
   "source": [
    "## 맡은 데이터 파트\n",
    "- 한국 금리 변동\n",
    "- 한국 통화량 추이\n",
    "- 한국 주택담보 대출 추이"
   ]
  },
  {
   "cell_type": "markdown",
   "id": "aac70e39",
   "metadata": {},
   "source": [
    "### 한국 금리 변동"
   ]
  },
  {
   "cell_type": "code",
   "execution_count": null,
   "id": "8320853b",
   "metadata": {},
   "outputs": [],
   "source": []
  },
  {
   "cell_type": "markdown",
   "id": "23a279b4",
   "metadata": {},
   "source": [
    "### 한국 통화량 추이"
   ]
  },
  {
   "cell_type": "code",
   "execution_count": null,
   "id": "dfcb92ae",
   "metadata": {},
   "outputs": [],
   "source": []
  },
  {
   "cell_type": "markdown",
   "id": "9476c1cf",
   "metadata": {},
   "source": [
    "### 한국 주택담보 대출 추이"
   ]
  },
  {
   "cell_type": "code",
   "execution_count": null,
   "id": "9f80bfd7",
   "metadata": {},
   "outputs": [],
   "source": []
  }
 ],
 "metadata": {
  "kernelspec": {
   "display_name": "Python 3 (ipykernel)",
   "language": "python",
   "name": "python3"
  },
  "language_info": {
   "codemirror_mode": {
    "name": "ipython",
    "version": 3
   },
   "file_extension": ".py",
   "mimetype": "text/x-python",
   "name": "python",
   "nbconvert_exporter": "python",
   "pygments_lexer": "ipython3",
   "version": "3.8.13"
  }
 },
 "nbformat": 4,
 "nbformat_minor": 5
}

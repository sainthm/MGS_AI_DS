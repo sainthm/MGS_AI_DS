{
 "cells": [
  {
   "cell_type": "markdown",
   "id": "967c9261",
   "metadata": {},
   "source": [
    "# EDA To Prediction (DieTanic)"
   ]
  },
  {
   "cell_type": "markdown",
   "id": "acc6f8bc",
   "metadata": {},
   "source": [
    "### Contents of the Notebook:\n",
    "\n",
    "### \n",
    "\n",
    "#### Part1: Exploratory Data Analysis(EDA):\n",
    "1) Analysis of the features.\n",
    "\n",
    "2) Finding any relations or trends considering multiple features.\n",
    "\n",
    "### \n",
    "\n",
    "#### Part2: Fature Engineering and Data Cleaning:\n",
    "1) Adding any few features.\n",
    "\n",
    "2) Removing redundant features.\n",
    "\n",
    "3) Converting features into suitable form for modeling."
   ]
  },
  {
   "cell_type": "markdown",
   "id": "9f783ad7",
   "metadata": {},
   "source": [
    "## Part1: Exploratory Data Analysis(EDA):"
   ]
  },
  {
   "cell_type": "code",
   "execution_count": null,
   "id": "abc59e9c",
   "metadata": {},
   "outputs": [],
   "source": []
  }
 ],
 "metadata": {
  "kernelspec": {
   "display_name": "Python 3 (ipykernel)",
   "language": "python",
   "name": "python3"
  },
  "language_info": {
   "codemirror_mode": {
    "name": "ipython",
    "version": 3
   },
   "file_extension": ".py",
   "mimetype": "text/x-python",
   "name": "python",
   "nbconvert_exporter": "python",
   "pygments_lexer": "ipython3",
   "version": "3.8.13"
  }
 },
 "nbformat": 4,
 "nbformat_minor": 5
}

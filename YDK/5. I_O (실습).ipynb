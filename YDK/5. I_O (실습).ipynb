{
 "cells": [
  {
   "cell_type": "markdown",
   "metadata": {
    "id": "7KaEFFwmaz9f"
   },
   "source": [
    "## I/O (Input / Output) "
   ]
  },
  {
   "cell_type": "markdown",
   "metadata": {
    "id": "Ob-m8XQbaz9o"
   },
   "source": [
    "### 1. STDIN / STDOUT (Standard IN, Standard OUT)"
   ]
  },
  {
   "cell_type": "markdown",
   "metadata": {
    "id": "I9B1Br_0az9o"
   },
   "source": [
    "- 파이썬은 input()을 통해서 stdin을 사용자로부터 입력받을 수 있다.\n",
    "\n",
    "\n",
    "- 파이썬은 print()를 통해서 stdout을 사용자에게 출력할 수 있다."
   ]
  },
  {
   "cell_type": "code",
   "execution_count": 5,
   "metadata": {
    "id": "NcHNtr58az9p"
   },
   "outputs": [
    {
     "name": "stdout",
     "output_type": "stream",
     "text": [
      "아무거나 입력해주세요. 5\n"
     ]
    },
    {
     "data": {
      "text/plain": [
       "'53'"
      ]
     },
     "execution_count": 5,
     "metadata": {},
     "output_type": "execute_result"
    }
   ],
   "source": [
    "# a에 키보드로 입력받은 값을 할당하고 출력해본다.\n",
    "a = input(\"아무거나 입력해주세요. \")\n",
    "a, type(a)\n",
    "\n",
    "a + '3'\n"
   ]
  },
  {
   "cell_type": "markdown",
   "metadata": {
    "id": "-9bkJP0haz9q"
   },
   "source": [
    "- 파이썬에서는 stdin은 무조건 문자열 타입으로 들어온다. 이를 type casting을 통해서 다른 데이터 타입으로 바꾸어 사용해야 한다."
   ]
  },
  {
   "cell_type": "code",
   "execution_count": 7,
   "metadata": {
    "id": "Kre90bwsaz9r"
   },
   "outputs": [
    {
     "name": "stdout",
     "output_type": "stream",
     "text": [
      "숫자를 아무거나 하나 입력해주세요. 7\n"
     ]
    },
    {
     "data": {
      "text/plain": [
       "10"
      ]
     },
     "execution_count": 7,
     "metadata": {},
     "output_type": "execute_result"
    }
   ],
   "source": [
    "# 입력받는 값을 숫자라고 가정한 경우.\n",
    "a = int(input(\"숫자를 아무거나 하나 입력해주세요. \"))\n",
    "a + 3"
   ]
  },
  {
   "cell_type": "code",
   "execution_count": null,
   "metadata": {
    "id": "8iinAvVAaz9r"
   },
   "outputs": [],
   "source": [
    "# 입력받는 값을 숫자라고 가정했는데 문자열이 들어오면 에러가 난다. 이 경우는 type casting이 실패한 경우이다.\n"
   ]
  },
  {
   "cell_type": "markdown",
   "metadata": {
    "id": "6eZWUq_Daz9r"
   },
   "source": [
    "- 입력이 문자열이기 때문에 fancy하게 input을 처리할 수 있는 방법이 있다."
   ]
  },
  {
   "cell_type": "markdown",
   "metadata": {
    "id": "XDI8URO8az9s"
   },
   "source": [
    "#### Q. 만약에 stdin으로 여러 개의 숫자가 들어오는 경우, 입력의 format을 알고 있다고 가정했을 때, 이를 효과적으로 처리할 수 있을까?"
   ]
  },
  {
   "cell_type": "code",
   "execution_count": 14,
   "metadata": {
    "id": "sg0e_5H5az9s"
   },
   "outputs": [
    {
     "name": "stdout",
     "output_type": "stream",
     "text": [
      "숫자를 2개 입력해주세요. e.g. 3,4: 30,40\n",
      "40\n",
      "50\n"
     ]
    }
   ],
   "source": [
    "# 이는 숫자를 2개로 가정한 경우\n",
    "# a, b = 4, 3\n",
    "# print(a)\n",
    "# print(b)\n",
    "\n",
    "# L = input(\"숫자를 2개 입력해주세요. e.g. 3,4: \").split(',')\n",
    "\n",
    "# for i in L:\n",
    "#     print(int(i))\n",
    "    \n",
    "\n",
    "a, b = input(\"숫자를 2개 입력해주세요. e.g. 3,4: \").split(',')\n",
    "print(int(a) + 10)\n",
    "print(int(b) + 10)"
   ]
  },
  {
   "cell_type": "code",
   "execution_count": 20,
   "metadata": {
    "id": "SPAtlM66az9s"
   },
   "outputs": [
    {
     "name": "stdout",
     "output_type": "stream",
     "text": [
      "숫자를 여러개 입력해주세요. e.g. 3, 4, ...: 1,5,3,9,11\n"
     ]
    },
    {
     "data": {
      "text/plain": [
       "[1, 5, 3, 9, 11]"
      ]
     },
     "execution_count": 20,
     "metadata": {},
     "output_type": "execute_result"
    }
   ],
   "source": [
    "# 이와 같은 표현을 list comprehension이라고 한다.\n",
    "# pythonic 하게 짜보자!\n",
    "\n",
    "# L = input(\"숫자를 여러개 입력해주세요. e.g. 3, 4, ...: \").split(',')\n",
    "\n",
    "# [int(i) for i in L]\n",
    "\n",
    "# [(리스트 원소에 대한 표현) for i in ~~~]\n",
    "\n",
    "\n",
    "L3 = [int(i) for i in input(\"숫자를 여러개 입력해주세요. e.g. 3, 4, ...: \").split(',')]\n",
    "L3"
   ]
  },
  {
   "cell_type": "code",
   "execution_count": 21,
   "metadata": {},
   "outputs": [
    {
     "data": {
      "text/plain": [
       "{1: 2, 3: 4}"
      ]
     },
     "execution_count": 21,
     "metadata": {},
     "output_type": "execute_result"
    }
   ],
   "source": [
    "{k:v for k,v in [(1, 2), [3, 4]]}"
   ]
  },
  {
   "cell_type": "code",
   "execution_count": 22,
   "metadata": {},
   "outputs": [
    {
     "data": {
      "text/plain": [
       "{'아메리카노': 4100,\n",
       " '카페라떼': 4600,\n",
       " '카페모카': 4600,\n",
       " '바닐라라떼': 5100,\n",
       " '핸드드립': 6000,\n",
       " '콜드브루': 5000}"
      ]
     },
     "execution_count": 22,
     "metadata": {},
     "output_type": "execute_result"
    }
   ],
   "source": [
    "coffees = ['아메리카노', '카페라떼', '카페모카', '바닐라라떼', '핸드드립', '콜드브루']\n",
    "prices = [4100, 4600, 4600, 5100, 6000, 5000]\n",
    "\n",
    "menu = {coffee:price for coffee, price in zip(coffees, prices)}\n",
    "menu"
   ]
  },
  {
   "cell_type": "code",
   "execution_count": null,
   "metadata": {
    "id": "fCGVWA4Z4O6W"
   },
   "outputs": [],
   "source": [
    "# for문을 사용한 코드\n"
   ]
  },
  {
   "cell_type": "code",
   "execution_count": 2,
   "metadata": {},
   "outputs": [
    {
     "name": "stdout",
     "output_type": "stream",
     "text": [
      "홍길동님의 주민등록번호는 220901-311111입니다.\n",
      "홍길동님의 주민등록번호는 220901-311111입니다.;a\n"
     ]
    }
   ],
   "source": [
    "# print 함수 응용\n",
    "# 1. formatting\n",
    "name = '홍길동'\n",
    "bod = '220901' \n",
    "pn = '311111'\n",
    "\n",
    "print(f\"{name}님의 주민등록번호는 {bod}-{pn}입니다.\")\n",
    "\n",
    "# 2. 출력 양식의 마지막을 지정하는 방법\n",
    "print(f\"{name}님의 주민등록번호는 {bod}-{pn}입니다.\", end=\";\")\n",
    "print(\"a\")"
   ]
  },
  {
   "cell_type": "code",
   "execution_count": 2,
   "metadata": {
    "id": "SfAWJB7taz9t"
   },
   "outputs": [
    {
     "name": "stdout",
     "output_type": "stream",
     "text": [
      "[3, 4, 5, 6]\n",
      "----------\n",
      "['hello', 'kim', 'python', 'wednesday']\n",
      "----------\n",
      "['hello', 'kim', 'python', 'wednesday']\n"
     ]
    }
   ],
   "source": [
    "# 위의 코드는 아래와 같다. 위의 코드가 훨씬 간단한 것을 확인할 수 있다. 익숙해져서 list comprehension을 사용하도록 하자.\n",
    "# L = []\n",
    "\n",
    "# for i in range(1, 5):\n",
    "#     L.append(i+2)\n",
    "\n",
    "# L\n",
    "\n",
    "L = [i+2 for i in range(1, 5)]\n",
    "print(L)\n",
    "print('-' * 10)\n",
    "\n",
    "L2 = [x.lower() for x in [\"Hello\", \"Kim\", \"PyTHON\", \"Wednesday\"]]\n",
    "print(L2)\n",
    "print('-' * 10)\n",
    "\n",
    "\n",
    "L3 = []\n",
    "for i in [\"Hello\", \"Kim\", \"PyTHON\", \"Wednesday\"]:\n",
    "    L3.append(i.lower())\n",
    "print(L3)\n"
   ]
  },
  {
   "cell_type": "markdown",
   "metadata": {
    "id": "DPYlwZhEaz9t"
   },
   "source": [
    "### 2. File I/O"
   ]
  },
  {
   "cell_type": "markdown",
   "metadata": {
    "id": "HqaNOvZG1sgw"
   },
   "source": [
    "- file I/O란 프로그램에서 파일을 저장하고 불러오는 모든 것들을 의미합니다.\n",
    "\n",
    "- file에는 txt, png, json, xlsx 등 여러가지 종류가 있습니다.\n",
    "\n",
    "- 그 중에서 가장 간단하게 사용할 수 있는 데이터는 txt 파일입니다."
   ]
  },
  {
   "cell_type": "markdown",
   "metadata": {
    "id": "BGNX1KElaz9t"
   },
   "source": [
    "> 텍스트 파일을 여는 방법에는 read(), readline(), readlines(), for문을 이용한 방법이 있다. 코드를 통해 각 방법의 차이를 알아보자."
   ]
  },
  {
   "cell_type": "markdown",
   "metadata": {},
   "source": [
    "#### 파일을 불러올 때, 생기는 분노 포인트:\n",
    "1. 경로를 인식하지 못하는 경우\n",
    "\n",
    "> 경로에 영어가 아닌 다른 글자(주로 한글)이 있는 경우에 인식하지 못하는 케이스 있음.\n",
    "> 경로가 진짜로 틀린 경우. e.g. '/' '\\' (보통 오타)\n",
    "\n",
    "2. 파일 내부의 데이터가 **한글** 텍스트인 경우\n",
    "\n",
    "> 기본적으로 텍스트를 'utf-8' 이라는 방식으로 인코딩함.\n",
    "> 윈도우 + 한글: cp949\n",
    "\n"
   ]
  },
  {
   "cell_type": "code",
   "execution_count": 11,
   "metadata": {
    "id": "VKYHye1baz9u"
   },
   "outputs": [
    {
     "data": {
      "text/plain": [
       "'아\\n휴\\n아이구\\n아이쿠\\n아이고\\n어\\n나\\n우리\\n저희\\n따라\\n의해\\n을\\n를\\n에\\n의\\n가\\n으로\\n로\\n에게\\n뿐이다\\n의거하여\\n근거하여\\n입각하여\\n기준으로\\n예하면\\n예를 들면\\n예를 들자면'"
      ]
     },
     "execution_count": 11,
     "metadata": {},
     "output_type": "execute_result"
    }
   ],
   "source": [
    "# 원론적으론 open 하고 cloase 해줘야하지만 with open을 통해 열 경우, 휘리릭 열 수 있다\n",
    "# f.read()를 통해 data 폴더안에 있는 test.txt를 read mode로 열어봅니다.\n",
    "# read - r, (over)write - r, append - a\n",
    "with open('test.txt', 'r', encoding='utf-8') as f: # 이걸 통채로 외워도 좋다!, f 자리에는 다른 것이와도 가능! # encoding 관련 에러가 발생할 경우 encoding='utf-8' 부분을 추가해주자!\n",
    "#     print(f.read()) # f.read(): 갖고 있는 파일의 모든 문자를 하나의 string으로 읽어옴\n",
    "    s = f.read()\n",
    "\n",
    "s"
   ]
  },
  {
   "cell_type": "code",
   "execution_count": 12,
   "metadata": {
    "id": "4DSliMQlaz9u"
   },
   "outputs": [
    {
     "data": {
      "text/plain": [
       "'아\\n'"
      ]
     },
     "execution_count": 12,
     "metadata": {},
     "output_type": "execute_result"
    }
   ],
   "source": [
    "# f.readline()를 통해 data 폴더안에 있는 test.txt를 read mode로 열어봅니다.\n",
    "with open('test.txt', 'r') as f:\n",
    "    s = f.readline() # readline() 정의: \\n 까지 읽어오기 (첫 번째 줄을 읽어옴)\n",
    "s"
   ]
  },
  {
   "cell_type": "code",
   "execution_count": 13,
   "metadata": {
    "id": "SLD_zgm4az9u"
   },
   "outputs": [
    {
     "data": {
      "text/plain": [
       "['아\\n',\n",
       " '휴\\n',\n",
       " '아이구\\n',\n",
       " '아이쿠\\n',\n",
       " '아이고\\n',\n",
       " '어\\n',\n",
       " '나\\n',\n",
       " '우리\\n',\n",
       " '저희\\n',\n",
       " '따라\\n',\n",
       " '의해\\n',\n",
       " '을\\n',\n",
       " '를\\n',\n",
       " '에\\n',\n",
       " '의\\n',\n",
       " '가\\n',\n",
       " '으로\\n',\n",
       " '로\\n',\n",
       " '에게\\n',\n",
       " '뿐이다\\n',\n",
       " '의거하여\\n',\n",
       " '근거하여\\n',\n",
       " '입각하여\\n',\n",
       " '기준으로\\n',\n",
       " '예하면\\n',\n",
       " '예를 들면\\n',\n",
       " '예를 들자면']"
      ]
     },
     "execution_count": 13,
     "metadata": {},
     "output_type": "execute_result"
    }
   ],
   "source": [
    "# f.readlines()를 통해 data 폴더안에 있는 test.txt를 read mode로 열어봅니다.\n",
    "with open('test.txt', 'r') as f:\n",
    "    s = f.readlines() # 한줄 한줄 원소로해서 가져오는 readlines()\n",
    "s"
   ]
  },
  {
   "cell_type": "code",
   "execution_count": 20,
   "metadata": {
    "id": "WEP8wGLoaz9u"
   },
   "outputs": [
    {
     "data": {
      "text/plain": [
       "['아',\n",
       " '휴',\n",
       " '아이구',\n",
       " '아이쿠',\n",
       " '아이고',\n",
       " '어',\n",
       " '나',\n",
       " '우리',\n",
       " '저희',\n",
       " '따라',\n",
       " '의해',\n",
       " '을',\n",
       " '를',\n",
       " '에',\n",
       " '의',\n",
       " '가',\n",
       " '으로',\n",
       " '로',\n",
       " '에게',\n",
       " '뿐이다',\n",
       " '의거하여',\n",
       " '근거하여',\n",
       " '입각하여',\n",
       " '기준으로',\n",
       " '예하면',\n",
       " '예를 들면',\n",
       " '예를 들자면']"
      ]
     },
     "execution_count": 20,
     "metadata": {},
     "output_type": "execute_result"
    }
   ],
   "source": [
    "# # for문을 통해 data 폴더안에 있는 test.txt를 read mode로 열어서 출력해봅니다.\n",
    "# L = []\n",
    "# with open('test.txt', 'r') as f:\n",
    "#     for line in f:\n",
    "#         L.append(line)\n",
    "\n",
    "# L\n",
    "\n",
    "with open('test.txt', 'r') as f:\n",
    "    L = [line.strip() for line in f]\n",
    "L\n"
   ]
  },
  {
   "cell_type": "markdown",
   "metadata": {
    "id": "RJ7dLzyeaz9v"
   },
   "source": [
    "#### Q. test.txt를 열어서 한글자짜리를 다 지우고 다시 저장하고 싶다. 어떻게 해야할까?"
   ]
  },
  {
   "cell_type": "code",
   "execution_count": null,
   "metadata": {
    "id": "fP0xhI0Caz9v"
   },
   "outputs": [],
   "source": [
    "output = []\n",
    "# test.txt를 read mode로 열고 할 일이 끝나면 자동으로 닫는다.\n",
    "\n",
    "\n",
    "# 한글자 이상인 텍스트만 output list에 저장한다.\n",
    "\n",
    "\n",
    "# result.txt로 output list에 있는 내용을 저장하기 위해 write mode로 열었다.\n"
   ]
  },
  {
   "cell_type": "code",
   "execution_count": null,
   "metadata": {
    "id": "WT40gJ8Naz9v"
   },
   "outputs": [],
   "source": [
    "# 제대로 데이터가 저장되어 있는지, 불러와서 확인한다.\n"
   ]
  },
  {
   "cell_type": "markdown",
   "metadata": {
    "id": "Z1O6wq4Baz9v"
   },
   "source": [
    "### (OPTIONAL) pickle 라이브러리를 통해서 파이썬 object 자체를 저장하기"
   ]
  },
  {
   "cell_type": "code",
   "execution_count": null,
   "metadata": {
    "id": "Y8SXE8dDaz9v"
   },
   "outputs": [],
   "source": [
    "output"
   ]
  },
  {
   "cell_type": "code",
   "execution_count": null,
   "metadata": {
    "id": "aRRPi3VZaz9w"
   },
   "outputs": [],
   "source": [
    "import pickle"
   ]
  }
 ],
 "metadata": {
  "colab": {
   "collapsed_sections": [],
   "name": "Chapter.01 파이썬 프로그래밍-12. I/O (실습).ipynb",
   "provenance": []
  },
  "kernelspec": {
   "display_name": "Python 3 (ipykernel)",
   "language": "python",
   "name": "python3"
  },
  "language_info": {
   "codemirror_mode": {
    "name": "ipython",
    "version": 3
   },
   "file_extension": ".py",
   "mimetype": "text/x-python",
   "name": "python",
   "nbconvert_exporter": "python",
   "pygments_lexer": "ipython3",
   "version": "3.8.13"
  }
 },
 "nbformat": 4,
 "nbformat_minor": 1
}

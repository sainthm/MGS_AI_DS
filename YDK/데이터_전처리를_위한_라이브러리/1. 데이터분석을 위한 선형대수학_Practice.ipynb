{
 "cells": [
  {
   "cell_type": "markdown",
   "id": "e448bae5",
   "metadata": {},
   "source": [
    "### 데이터 간의 유사성을 판단하기 위해서는, 거리를 계산합니다.\n",
    "\n",
    "주로 사용하는 거리 함수(distance function, metric)로는 다음 3가지가 있습니다.\n",
    "\n",
    "\n",
    "1. Manhattan Distance (L1 distance)\n",
    "\n",
    "\n",
    "2. Euclidean Distance (L2 distance)\n",
    "\n",
    "\n",
    "3. Cosine Distance\n",
    "\n",
    "\n",
    "위의 3가지 metric을 직접 구현해보고 차이점을 확인해봅니다."
   ]
  },
  {
   "cell_type": "code",
   "execution_count": 1,
   "id": "9f68db64",
   "metadata": {},
   "outputs": [],
   "source": [
    "import numpy as np\n",
    "\n",
    "v1 = np.array([1, 0, 0])\n",
    "v2 = np.array([0, 1, 0])\n",
    "\n",
    "v3 = np.array([3, 1, 2])\n",
    "v4 = np.array([3, -1, -1])"
   ]
  },
  {
   "cell_type": "code",
   "execution_count": null,
   "id": "eb5376aa",
   "metadata": {},
   "outputs": [],
   "source": [
    "# def manhattan_distance(x, y):\n",
    "#     \"\"\"\n",
    "#     x, y : np.array\n",
    "#     return : x와 y 사이의 manhattan distance\n",
    "#     \"\"\"\n",
    "    \n",
    "#     return"
   ]
  },
  {
   "cell_type": "code",
   "execution_count": 9,
   "id": "e62908e5",
   "metadata": {},
   "outputs": [],
   "source": [
    "def euclidean_distance(x, y):\n",
    "    \"\"\"\n",
    "    x, y : np.array\n",
    "    return : x와 y 사이의 euclidean distance\n",
    "    \"\"\"\n",
    "    return ((x - y) ** 2).sum() ** 0.5"
   ]
  },
  {
   "cell_type": "code",
   "execution_count": null,
   "id": "26c65ce1",
   "metadata": {},
   "outputs": [],
   "source": [
    "# def cosine_distance(x, y):\n",
    "#     \"\"\"\n",
    "#     x, y : np.array\n",
    "#     return : x와 y 사이의 cosine distance\n",
    "#     \"\"\"\n",
    "    \n",
    "#     return"
   ]
  },
  {
   "cell_type": "code",
   "execution_count": 10,
   "id": "cf382019",
   "metadata": {},
   "outputs": [
    {
     "data": {
      "text/plain": [
       "1.4142135623730951"
      ]
     },
     "execution_count": 10,
     "metadata": {},
     "output_type": "execute_result"
    }
   ],
   "source": [
    "euclidean_distance(v1, v2)"
   ]
  },
  {
   "cell_type": "code",
   "execution_count": null,
   "id": "2ece0440",
   "metadata": {},
   "outputs": [],
   "source": []
  }
 ],
 "metadata": {
  "kernelspec": {
   "display_name": "Python 3 (ipykernel)",
   "language": "python",
   "name": "python3"
  },
  "language_info": {
   "codemirror_mode": {
    "name": "ipython",
    "version": 3
   },
   "file_extension": ".py",
   "mimetype": "text/x-python",
   "name": "python",
   "nbconvert_exporter": "python",
   "pygments_lexer": "ipython3",
   "version": "3.10.5"
  }
 },
 "nbformat": 4,
 "nbformat_minor": 5
}

{
  "nbformat": 4,
  "nbformat_minor": 0,
  "metadata": {
    "colab": {
      "provenance": []
    },
    "kernelspec": {
      "name": "python3",
      "display_name": "Python 3"
    },
    "language_info": {
      "name": "python"
    },
    "accelerator": "GPU",
    "gpuClass": "standard"
  },
  "cells": [
    {
      "cell_type": "markdown",
      "source": [
        "### Citizen Developer 과정.\n",
        "\n",
        "> **Deep Learning Track. Mini PJT - CIFAR100 classification**\n",
        "\n",
        "\n",
        "저희는 수업시간에 CIFAR10을 분류하는 문제를 풀어보았습니다.\n",
        "\n",
        "이 때 까지 배운 모든 방법을 사용하여, CIFAR100 데이터셋을 100가지로 분류하는 문제를 풀어보세요.\n",
        "프로젝트를 수행할 때, 다음 조건들을 만족하여야 합니다.\n",
        "\n",
        "----\n",
        "\n",
        "1.  MLP, (Vanilla)CNN, ResNet50 중에 2개의 모델을 골라서 구현합니다.\n",
        "\n",
        "\n",
        "2. 각 모델을 design하여 (hyper-parameter를 세팅) 구현합니다.\n",
        "\n",
        "\n",
        "3. Validation Accuracy 기준 0.4를 넘기는 모델과 학습 세팅을 찾습니다.\n",
        "\n",
        "----\n",
        "\n",
        "> 모델을 구현하고 성능을 올리기 위한 팁들을 몇 가지 소개합니다.\n",
        "\n",
        "- learning rate가 optimization에 가장 큰 영향을 끼칩니다. 다양한 숫자를 테스트해보세요.\n",
        "\n",
        "\n",
        "- 처음에 학습이 잘되는 세팅을 찾기 위해서는 10 epoch 정도로 초반 학습 성능이 잘나오는지 확인하는게 중요합니다. (val acc도 포함)\n",
        "\n",
        "\n",
        "- 초반 학습 성능이 잘 나왔다면, epochs를 늘려서 학습이 잘되는지 확인합니다.\n",
        "\n",
        "\n",
        "- epoch를 늘려도 한계에 도달했다면, overfitting이 되었는지 아닌지 확인합니다.\n",
        "\n",
        "\n",
        "- overfitting이 되었다면, 여러 regularization 기법들이 도움이 될 겁니다. e.g. tensorflow.keras.layers.Dropout\n",
        "\n",
        "\n",
        "- batch size도 바꿔보세요. batch size가 full-batch에 가까울 수록, 속도는 느려지지만 optimizer의 방향은 최적의 값을 향합니다.\n",
        "\n",
        "\n",
        "- MLP나 CNN을 구현하고 있다면, 모델의 크기를 바꿔보세요. 파라미터가 많을 수록, 학습할 수 있는 정보가 많아집니다."
      ],
      "metadata": {
        "id": "B_Tl5owl6lrD"
      }
    },
    {
      "cell_type": "code",
      "execution_count": 1,
      "metadata": {
        "id": "Tifm1-8CPohp"
      },
      "outputs": [],
      "source": [
        "# Import Libraries\n",
        "import numpy as np\n",
        "import tensorflow as tf\n",
        "import random\n",
        "import os\n",
        "\n",
        "# cifar100과 keras layer들 불러오기\n",
        "from tensorflow.keras.datasets import cifar100\n",
        "from tensorflow.keras.layers import Dense, Input, Flatten, Conv2D, MaxPool2D, Dropout\n",
        "from tensorflow.keras import Sequential\n",
        "\n",
        "# ResNet50\n",
        "from tensorflow.keras.applications import ResNet50"
      ]
    },
    {
      "cell_type": "code",
      "source": [
        "## mini batch 데이터의 변경을 막기 위한 random seed 고정\n",
        "def seed_everything(seed: int = 42):\n",
        "    random.seed(seed)\n",
        "    np.random.seed(seed)\n",
        "    os.environ[\"PYTHONHASHSEED\"] = str(seed)\n",
        "    tf.random.set_seed(seed)\n",
        "    \n",
        "seed_everything(0xC0FFEE)"
      ],
      "metadata": {
        "id": "axtj0EVpHJyn"
      },
      "execution_count": 2,
      "outputs": []
    },
    {
      "cell_type": "code",
      "source": [
        "# Load Datasets\n",
        "(X_train, y_train), (X_test, y_test) = cifar100.load_data()\n",
        "print(X_train.shape) # 4차원 Tensor\n",
        "print(X_test.shape)"
      ],
      "metadata": {
        "colab": {
          "base_uri": "https://localhost:8080/"
        },
        "id": "YNu9pRl0Vlns",
        "outputId": "056d5114-1d2a-49de-a2ae-8783e0567205"
      },
      "execution_count": 3,
      "outputs": [
        {
          "output_type": "stream",
          "name": "stdout",
          "text": [
            "(50000, 32, 32, 3)\n",
            "(10000, 32, 32, 3)\n"
          ]
        }
      ]
    },
    {
      "cell_type": "markdown",
      "source": [
        "## Preprocessing\n",
        "\n",
        "1. Normalization\n",
        "\n",
        "2. Standardization"
      ],
      "metadata": {
        "id": "PmzcC27FVuqB"
      }
    },
    {
      "cell_type": "code",
      "source": [
        "preprocessing = \"standard\" # \"standard\"\n",
        "debug_mode = False"
      ],
      "metadata": {
        "id": "lE_W6ZRhVzCS"
      },
      "execution_count": 4,
      "outputs": []
    },
    {
      "cell_type": "code",
      "source": [
        "# Normalization (Minmax scaling)\n",
        "if preprocessing == \"normalize\":\n",
        "    X_train = X_train.astype(np.float32) / 255.0\n",
        "    X_test = X_test.astype(np.float32) / 255."
      ],
      "metadata": {
        "id": "0XGAmRcQV0es"
      },
      "execution_count": 5,
      "outputs": []
    },
    {
      "cell_type": "code",
      "source": [
        "# Standarization\n",
        "if preprocessing == \"standard\":\n",
        "    if debug_mode:\n",
        "        print(\"-- Before --\")\n",
        "        print(\"Training data\\n\", X_train[0])\n",
        "\n",
        "    img_mean = np.mean(X_train, axis=0)\n",
        "    img_std = np.std(X_train, axis=0)\n",
        "\n",
        "    if debug_mode:\n",
        "        print(img_mean.shape)\n",
        "        print(img_std.shape)\n",
        "\n",
        "        print(\"mean : \", np.mean(X_train)) # through data\n",
        "        print(\"std : \", np.std(X_train))\n",
        "\n",
        "    # Scaling\n",
        "    X_train = X_train.astype(np.float32) - img_mean\n",
        "    X_train = X_train.astype(np.float32) / img_std\n",
        "\n",
        "    if debug_mode:\n",
        "        print(\"\\n\\n-- After --\")\n",
        "        #print(\"Training data\\n\", X_train[0])\n",
        "        print(\"mean : \", np.mean(X_train))\n",
        "        print(\"std : \", np.std(X_train))\n",
        "    \n",
        "    # Scaling\n",
        "    X_test = X_test.astype(np.float32) - img_mean\n",
        "    X_test = X_test.astype(np.float32) / img_std"
      ],
      "metadata": {
        "id": "1SW0fU2AV1tF"
      },
      "execution_count": 6,
      "outputs": []
    },
    {
      "cell_type": "code",
      "source": [
        "X_train[0]"
      ],
      "metadata": {
        "colab": {
          "base_uri": "https://localhost:8080/"
        },
        "id": "c0MMzwIfV3Y6",
        "outputId": "a58fae34-2fc5-4fb5-b258-9b8a29a61e3a"
      },
      "execution_count": 7,
      "outputs": [
        {
          "output_type": "execute_result",
          "data": {
            "text/plain": [
              "array([[[ 1.53251193,  1.51296775,  1.44629107],\n",
              "        [ 1.55153995,  1.53377838,  1.46330664],\n",
              "        [ 1.54591772,  1.53056499,  1.45879109],\n",
              "        ...,\n",
              "        [ 0.77055431,  0.86360549,  0.70122931],\n",
              "        [ 0.99200195,  1.11709595,  0.83759357],\n",
              "        [ 0.6147392 ,  0.72577384,  0.39293219]],\n",
              "\n",
              "       [[ 1.55410443,  1.53796805,  1.46989723],\n",
              "        [ 1.56471202,  1.55032771,  1.47822947],\n",
              "        [ 1.56327365,  1.55217166,  1.47830967],\n",
              "        ...,\n",
              "        [ 0.4680204 ,  0.5008764 ,  0.19913396],\n",
              "        [ 0.35755549,  0.39788889, -0.04194801],\n",
              "        [ 0.16715592,  0.213365  , -0.24865682]],\n",
              "\n",
              "       [[ 1.56348386,  1.55198186,  1.4862925 ],\n",
              "        [ 1.57694682,  1.56863003,  1.49818036],\n",
              "        [ 1.59390365,  1.58947671,  1.5161559 ],\n",
              "        ...,\n",
              "        [ 0.72568033,  0.82667946,  0.45002623],\n",
              "        [ 0.42875599,  0.54280933, -0.03044805],\n",
              "        [-0.15475149, -0.06264002, -0.56121994]],\n",
              "\n",
              "       ...,\n",
              "\n",
              "       [[ 0.26914654,  0.81025376, -0.47233305],\n",
              "        [ 0.20957039,  0.80589112, -0.74917764],\n",
              "        [ 0.18516714,  0.77945005, -0.70835603],\n",
              "        ...,\n",
              "        [-1.32334716, -1.52664718, -1.5018074 ],\n",
              "        [-0.83818374, -0.88513003, -1.30916054],\n",
              "        [-0.68674138, -0.6768239 , -1.24219837]],\n",
              "\n",
              "       [[-0.0842574 ,  0.41150935, -0.6466115 ],\n",
              "        [-0.09816303,  0.40880214, -0.73981459],\n",
              "        [-0.02051041,  0.48461057, -0.56838745],\n",
              "        ...,\n",
              "        [-1.43313289, -1.54145868, -1.47677134],\n",
              "        [-0.40933884, -0.19105953, -0.76603944],\n",
              "        [ 0.18119164,  0.48222709, -0.36080268]],\n",
              "\n",
              "       [[-0.55194976, -0.07853356, -0.97734185],\n",
              "        [-0.53817686, -0.06754838, -1.00186273],\n",
              "        [-0.37405539,  0.09569437, -0.7837146 ],\n",
              "        ...,\n",
              "        [-1.27988424, -1.27022379, -1.3953971 ],\n",
              "        [-0.31169136,  0.08633714, -0.73839409],\n",
              "        [ 0.13212066,  0.63384494, -0.47497975]]])"
            ]
          },
          "metadata": {},
          "execution_count": 7
        }
      ]
    },
    {
      "cell_type": "markdown",
      "source": [
        "## Training with Vanilla CNN\n",
        "\n",
        "**Model Architecture**\n",
        "\n",
        "> Conv - Relu - Conv - Relu - Pool - Conv - Relu - Conv - Relu - Pool - FC - Softmax"
      ],
      "metadata": {
        "id": "XnUGNOIfV6Y3"
      }
    },
    {
      "cell_type": "code",
      "source": [
        "# 위의 Vanilla CNN 구조를 직접 구현해봅니다.\n",
        "\n",
        "model = Sequential([\n",
        "    Input(shape=(32, 32, 3)),\n",
        "    Conv2D(filters=8, kernel_size=3, strides=1, padding='same', activation='relu'),\n",
        "    Conv2D(filters=16, kernel_size=3, strides=1, padding='same', activation='relu'),\n",
        "    MaxPool2D(pool_size=2),\n",
        "    Conv2D(24, 3, 1, padding='same', activation='relu'),\n",
        "    Conv2D(48, 3, 1, padding='same', activation='relu'),\n",
        "    MaxPool2D(2),\n",
        "    Flatten(),\n",
        "    Dropout(0.2),\n",
        "    Dense(1024, activation='relu'),\n",
        "    Dropout(0.2),\n",
        "    Dense(100, activation='softmax') # softmax\n",
        "])\n",
        "\n",
        "model.summary()"
      ],
      "metadata": {
        "colab": {
          "base_uri": "https://localhost:8080/"
        },
        "id": "F1MYmkqRV_u2",
        "outputId": "75ee82a4-3580-4e16-fb46-e4618663c287"
      },
      "execution_count": 8,
      "outputs": [
        {
          "output_type": "stream",
          "name": "stdout",
          "text": [
            "Model: \"sequential\"\n",
            "_________________________________________________________________\n",
            " Layer (type)                Output Shape              Param #   \n",
            "=================================================================\n",
            " conv2d (Conv2D)             (None, 32, 32, 8)         224       \n",
            "                                                                 \n",
            " conv2d_1 (Conv2D)           (None, 32, 32, 16)        1168      \n",
            "                                                                 \n",
            " max_pooling2d (MaxPooling2D  (None, 16, 16, 16)       0         \n",
            " )                                                               \n",
            "                                                                 \n",
            " conv2d_2 (Conv2D)           (None, 16, 16, 24)        3480      \n",
            "                                                                 \n",
            " conv2d_3 (Conv2D)           (None, 16, 16, 48)        10416     \n",
            "                                                                 \n",
            " max_pooling2d_1 (MaxPooling  (None, 8, 8, 48)         0         \n",
            " 2D)                                                             \n",
            "                                                                 \n",
            " flatten (Flatten)           (None, 3072)              0         \n",
            "                                                                 \n",
            " dropout (Dropout)           (None, 3072)              0         \n",
            "                                                                 \n",
            " dense (Dense)               (None, 1024)              3146752   \n",
            "                                                                 \n",
            " dropout_1 (Dropout)         (None, 1024)              0         \n",
            "                                                                 \n",
            " dense_1 (Dense)             (None, 100)               102500    \n",
            "                                                                 \n",
            "=================================================================\n",
            "Total params: 3,264,540\n",
            "Trainable params: 3,264,540\n",
            "Non-trainable params: 0\n",
            "_________________________________________________________________\n"
          ]
        }
      ]
    },
    {
      "cell_type": "code",
      "source": [
        "# training setup\n",
        "from tensorflow.keras.optimizers import SGD, Adam\n",
        "from tensorflow.keras.callbacks import LearningRateScheduler, ModelCheckpoint\n",
        "\n",
        "# val_loss 기준 체크포인터도 생성합니다.\n",
        "cnn_filename = \"CNN_best_model.ckpt\"\n",
        "checkpoint = ModelCheckpoint(cnn_filename, \n",
        "                             save_weights_only=True,\n",
        "                             save_best_only=True,\n",
        "                             monitor='val_loss',\n",
        "                             verbose=1)\n",
        "\n",
        "\n",
        "## config variables\n",
        "batch_size = 25000 # 50000\n",
        "lr = 1e-3\n",
        "epochs = 10 # 30\n",
        "\n",
        "# learning rate를 업데이트 해보려고 합니다.\n",
        "def scheduler(epoch, learning_rate):\n",
        "    if epoch < 25:\n",
        "        return learning_rate\n",
        "    elif epoch < 50:\n",
        "        return lr/10\n",
        "    elif epoch < 75:\n",
        "        return lr/50\n",
        "    else:\n",
        "        return lr/100    \n",
        "\n",
        "# Set optimizer, loss function, metrics, callback function\n",
        "#optimizer = SGD(learning_rate=lr, momentum=0.9) # Momentum optimizer \n",
        "optimizer = Adam(learning_rate=lr)\n",
        "loss_fn = 'sparse_categorical_crossentropy' # multi-class classification\n",
        "metrics = ['accuracy']\n",
        "lr_callback = LearningRateScheduler(scheduler)\n",
        "\n",
        "model.compile(optimizer=optimizer,\n",
        "              loss=loss_fn,\n",
        "              metrics=metrics)"
      ],
      "metadata": {
        "id": "P-sXWqOyV4eb"
      },
      "execution_count": 9,
      "outputs": []
    },
    {
      "cell_type": "code",
      "source": [
        "# model training\n",
        "# 한번만 직접 해봅시다!\n",
        "\n",
        "history = model.fit(x=X_train,\n",
        "                    y=y_train,\n",
        "                    batch_size=batch_size,\n",
        "                    epochs=epochs,\n",
        "                    verbose=1,\n",
        "                    callbacks=[lr_callback, checkpoint],\n",
        "                    validation_data=(X_test, y_test))"
      ],
      "metadata": {
        "colab": {
          "base_uri": "https://localhost:8080/"
        },
        "id": "GrjZy3uLWEPh",
        "outputId": "3e8740db-2370-4ac7-94b8-5c10a0dfa07e"
      },
      "execution_count": 10,
      "outputs": [
        {
          "output_type": "stream",
          "name": "stdout",
          "text": [
            "Epoch 1/10\n",
            "2/2 [==============================] - ETA: 0s - loss: 4.5891 - accuracy: 0.0129 \n",
            "Epoch 1: val_loss improved from inf to 4.49975, saving model to CNN_best_model.ckpt\n",
            "2/2 [==============================] - 21s 3s/step - loss: 4.5891 - accuracy: 0.0129 - val_loss: 4.4998 - val_accuracy: 0.0268 - lr: 0.0010\n",
            "Epoch 2/10\n",
            "2/2 [==============================] - ETA: 0s - loss: 4.4626 - accuracy: 0.0410\n",
            "Epoch 2: val_loss improved from 4.49975 to 4.32226, saving model to CNN_best_model.ckpt\n",
            "2/2 [==============================] - 2s 1s/step - loss: 4.4626 - accuracy: 0.0410 - val_loss: 4.3223 - val_accuracy: 0.0718 - lr: 0.0010\n",
            "Epoch 3/10\n",
            "2/2 [==============================] - ETA: 0s - loss: 4.2775 - accuracy: 0.0763\n",
            "Epoch 3: val_loss improved from 4.32226 to 4.12011, saving model to CNN_best_model.ckpt\n",
            "2/2 [==============================] - 2s 1s/step - loss: 4.2775 - accuracy: 0.0763 - val_loss: 4.1201 - val_accuracy: 0.1015 - lr: 0.0010\n",
            "Epoch 4/10\n",
            "2/2 [==============================] - ETA: 0s - loss: 4.1148 - accuracy: 0.0939\n",
            "Epoch 4: val_loss improved from 4.12011 to 3.97834, saving model to CNN_best_model.ckpt\n",
            "2/2 [==============================] - 2s 1s/step - loss: 4.1148 - accuracy: 0.0939 - val_loss: 3.9783 - val_accuracy: 0.1144 - lr: 0.0010\n",
            "Epoch 5/10\n",
            "2/2 [==============================] - ETA: 0s - loss: 3.9945 - accuracy: 0.1070\n",
            "Epoch 5: val_loss improved from 3.97834 to 3.86117, saving model to CNN_best_model.ckpt\n",
            "2/2 [==============================] - 2s 1s/step - loss: 3.9945 - accuracy: 0.1070 - val_loss: 3.8612 - val_accuracy: 0.1290 - lr: 0.0010\n",
            "Epoch 6/10\n",
            "2/2 [==============================] - ETA: 0s - loss: 3.8724 - accuracy: 0.1237\n",
            "Epoch 6: val_loss improved from 3.86117 to 3.77996, saving model to CNN_best_model.ckpt\n",
            "2/2 [==============================] - 2s 1s/step - loss: 3.8724 - accuracy: 0.1237 - val_loss: 3.7800 - val_accuracy: 0.1457 - lr: 0.0010\n",
            "Epoch 7/10\n",
            "2/2 [==============================] - ETA: 0s - loss: 3.7902 - accuracy: 0.1354\n",
            "Epoch 7: val_loss improved from 3.77996 to 3.70960, saving model to CNN_best_model.ckpt\n",
            "2/2 [==============================] - 2s 1s/step - loss: 3.7902 - accuracy: 0.1354 - val_loss: 3.7096 - val_accuracy: 0.1613 - lr: 0.0010\n",
            "Epoch 8/10\n",
            "2/2 [==============================] - ETA: 0s - loss: 3.7101 - accuracy: 0.1519\n",
            "Epoch 8: val_loss improved from 3.70960 to 3.63525, saving model to CNN_best_model.ckpt\n",
            "2/2 [==============================] - 2s 1s/step - loss: 3.7101 - accuracy: 0.1519 - val_loss: 3.6352 - val_accuracy: 0.1717 - lr: 0.0010\n",
            "Epoch 9/10\n",
            "2/2 [==============================] - ETA: 0s - loss: 3.6329 - accuracy: 0.1654\n",
            "Epoch 9: val_loss improved from 3.63525 to 3.56468, saving model to CNN_best_model.ckpt\n",
            "2/2 [==============================] - 2s 1s/step - loss: 3.6329 - accuracy: 0.1654 - val_loss: 3.5647 - val_accuracy: 0.1863 - lr: 0.0010\n",
            "Epoch 10/10\n",
            "2/2 [==============================] - ETA: 0s - loss: 3.5640 - accuracy: 0.1735\n",
            "Epoch 10: val_loss improved from 3.56468 to 3.50982, saving model to CNN_best_model.ckpt\n",
            "2/2 [==============================] - 2s 1s/step - loss: 3.5640 - accuracy: 0.1735 - val_loss: 3.5098 - val_accuracy: 0.1914 - lr: 0.0010\n"
          ]
        }
      ]
    },
    {
      "cell_type": "code",
      "source": [
        "# evaluate\n",
        "loss, acc = model.evaluate(X_test, y_test, batch_size=batch_size)\n",
        "print(\"Loss : %.4f, Accuracy : %.4f\" % (loss, acc))"
      ],
      "metadata": {
        "colab": {
          "base_uri": "https://localhost:8080/"
        },
        "id": "w_k-1YL9WF1l",
        "outputId": "e642d270-0533-4e71-84db-7bfa13e02a85"
      },
      "execution_count": 11,
      "outputs": [
        {
          "output_type": "stream",
          "name": "stdout",
          "text": [
            "1/1 [==============================] - 0s 216ms/step - loss: 3.5098 - accuracy: 0.1914\n",
            "Loss : 3.5098, Accuracy : 0.1914\n"
          ]
        }
      ]
    },
    {
      "cell_type": "code",
      "source": [
        "## loss visualize\n",
        "import matplotlib.pyplot as plt\n",
        "\n",
        "plt.figure(figsize=(8,4))\n",
        "plt.subplot(1, 2,1)\n",
        "plt.plot(history.history['loss'],'b-', label = \"training\")\n",
        "plt.plot(history.history['val_loss'], 'r:', label = \"validation\")\n",
        "plt.title(\"model - loss\")\n",
        "plt.legend()\n",
        "\n",
        "plt.subplot(1, 2, 2)\n",
        "plt.title(\"model - accuracy\")\n",
        "\n",
        "plt.plot(history.history['accuracy'], 'b-', label = \"training\")\n",
        "plt.plot(history.history['val_accuracy'], 'r:', label = \"validation\")\n",
        "\n",
        "plt.legend()\n",
        "plt.tight_layout()\n",
        "plt.show()"
      ],
      "metadata": {
        "colab": {
          "base_uri": "https://localhost:8080/",
          "height": 297
        },
        "id": "niYJ4B97WHRU",
        "outputId": "18aa6759-57d5-4add-f7b4-764ec68f09e1"
      },
      "execution_count": 12,
      "outputs": [
        {
          "output_type": "display_data",
          "data": {
            "text/plain": [
              "<Figure size 576x288 with 2 Axes>"
            ],
            "image/png": "[encoded data removed]"
          },
          "metadata": {
            "needs_background": "light"
          }
        }
      ]
    },
    {
      "cell_type": "markdown",
      "source": [
        "### 이번엔 ResNet50를 사용해봅시다.\n",
        "\n",
        "- ResNet50을 사용하기 위해서는 keras에 구현되어 있는 ResNet50 구조를 가져옵니다.\n",
        "\n",
        "- pretrained를 가져오는 경우도 있지만, 지금은 ImageNet 세팅이 아니므로 구조만 가져옵니다.(input이 완전히 다름)\n",
        "\n",
        "- Reference : https://keras.io/api/applications/resnet/#resnet50-function"
      ],
      "metadata": {
        "id": "UYMj5UTgWJqS"
      }
    },
    {
      "cell_type": "code",
      "source": [
        "# load ResNet50\n",
        "from tensorflow.keras.applications import ResNet50\n",
        "\n",
        "resnet = ResNet50(\n",
        "    include_top=True,        # classification : True,  embedding : False\n",
        "    weights=None,             # ImageNet pretrained : True, else : None\n",
        "    input_shape=(32, 32, 3),  # if not pretrained, you must specify.\n",
        "    pooling='max',\n",
        "    classes=100,               # number of classes\n",
        "    classifier_activation='softmax'    # output function\n",
        ")"
      ],
      "metadata": {
        "id": "wZbH3kX1WIa4"
      },
      "execution_count": 13,
      "outputs": []
    },
    {
      "cell_type": "code",
      "source": [
        "# see ResNet50 model\n",
        "#resnet.summary()"
      ],
      "metadata": {
        "id": "3LPDrOz0WNB5"
      },
      "execution_count": 14,
      "outputs": []
    },
    {
      "cell_type": "code",
      "source": [
        "### resnet training strategy\n",
        "# val_loss 기준 체크포인터도 생성합니다.\n",
        "resnet_filename = \"resnet_best_model.ckpt\"\n",
        "checkpoint = ModelCheckpoint(resnet_filename, \n",
        "                             save_weights_only=True,\n",
        "                             save_best_only=True,\n",
        "                             monitor='val_loss',\n",
        "                             verbose=1)\n",
        "\n",
        "\n",
        "## config variables\n",
        "batch_size = 64\n",
        "lr = 5e-3\n",
        "epochs = 30\n",
        "\n",
        "# learning rate를 업데이트 해보려고 합니다\n",
        "def scheduler(epoch, learning_rate):\n",
        "    if epoch < 5:\n",
        "        return learning_rate\n",
        "    elif epoch < 10:\n",
        "        return lr/10\n",
        "    elif epoch < 15:\n",
        "        return lr/50\n",
        "    else:\n",
        "        return lr/100\n",
        "    \n",
        "#optimizer = SGD(learning_rate=lr, momentum=0.9)\n",
        "optimizer = Adam(learning_rate=lr)\n",
        "loss_fn = 'sparse_categorical_crossentropy'\n",
        "metrics = ['accuracy']\n",
        "\n",
        "resnet.compile(optimizer=optimizer,\n",
        "               loss=loss_fn,\n",
        "               metrics=metrics)"
      ],
      "metadata": {
        "id": "R24vwid9WSl7"
      },
      "execution_count": 15,
      "outputs": []
    },
    {
      "cell_type": "code",
      "source": [
        "# training ResNet50\n",
        "resnet_history = resnet.fit(X_train, y_train,\n",
        "                            batch_size=batch_size,\n",
        "                            epochs=epochs,\n",
        "                            validation_data=(X_test, y_test),\n",
        "                            callbacks=[lr_callback, checkpoint],\n",
        "                            verbose=1)"
      ],
      "metadata": {
        "colab": {
          "base_uri": "https://localhost:8080/"
        },
        "id": "0WKQt6tUWUyM",
        "outputId": "8976ce58-177d-4b32-8dd1-4395f1eddc54"
      },
      "execution_count": 16,
      "outputs": [
        {
          "output_type": "stream",
          "name": "stdout",
          "text": [
            "Epoch 1/30\n",
            "782/782 [==============================] - ETA: 0s - loss: 5.2392 - accuracy: 0.0238\n",
            "Epoch 1: val_loss improved from inf to 4.50960, saving model to resnet_best_model.ckpt\n",
            "782/782 [==============================] - 46s 50ms/step - loss: 5.2392 - accuracy: 0.0238 - val_loss: 4.5096 - val_accuracy: 0.0358 - lr: 0.0050\n",
            "Epoch 2/30\n",
            "782/782 [==============================] - ETA: 0s - loss: 4.0479 - accuracy: 0.0646\n",
            "Epoch 2: val_loss improved from 4.50960 to 3.94048, saving model to resnet_best_model.ckpt\n",
            "782/782 [==============================] - 38s 48ms/step - loss: 4.0479 - accuracy: 0.0646 - val_loss: 3.9405 - val_accuracy: 0.0877 - lr: 0.0050\n",
            "Epoch 3/30\n",
            "782/782 [==============================] - ETA: 0s - loss: 3.7113 - accuracy: 0.1137\n",
            "Epoch 3: val_loss improved from 3.94048 to 3.77229, saving model to resnet_best_model.ckpt\n",
            "782/782 [==============================] - 38s 49ms/step - loss: 3.7113 - accuracy: 0.1137 - val_loss: 3.7723 - val_accuracy: 0.1101 - lr: 0.0050\n",
            "Epoch 4/30\n",
            "781/782 [============================>.] - ETA: 0s - loss: 3.4546 - accuracy: 0.1623\n",
            "Epoch 4: val_loss did not improve from 3.77229\n",
            "782/782 [==============================] - 39s 49ms/step - loss: 3.4547 - accuracy: 0.1623 - val_loss: 7.6385 - val_accuracy: 0.0749 - lr: 0.0050\n",
            "Epoch 5/30\n",
            "781/782 [============================>.] - ETA: 0s - loss: 3.4200 - accuracy: 0.1702\n",
            "Epoch 5: val_loss improved from 3.77229 to 3.43276, saving model to resnet_best_model.ckpt\n",
            "782/782 [==============================] - 38s 49ms/step - loss: 3.4200 - accuracy: 0.1702 - val_loss: 3.4328 - val_accuracy: 0.1853 - lr: 0.0050\n",
            "Epoch 6/30\n",
            "782/782 [==============================] - ETA: 0s - loss: 3.1922 - accuracy: 0.2136\n",
            "Epoch 6: val_loss did not improve from 3.43276\n",
            "782/782 [==============================] - 41s 52ms/step - loss: 3.1922 - accuracy: 0.2136 - val_loss: 4.1764 - val_accuracy: 0.1913 - lr: 0.0050\n",
            "Epoch 7/30\n",
            "782/782 [==============================] - ETA: 0s - loss: 3.0465 - accuracy: 0.2391\n",
            "Epoch 7: val_loss improved from 3.43276 to 3.32094, saving model to resnet_best_model.ckpt\n",
            "782/782 [==============================] - 38s 49ms/step - loss: 3.0465 - accuracy: 0.2391 - val_loss: 3.3209 - val_accuracy: 0.2289 - lr: 0.0050\n",
            "Epoch 8/30\n",
            "781/782 [============================>.] - ETA: 0s - loss: 2.9132 - accuracy: 0.2638\n",
            "Epoch 8: val_loss did not improve from 3.32094\n",
            "782/782 [==============================] - 38s 48ms/step - loss: 2.9138 - accuracy: 0.2638 - val_loss: 131.5922 - val_accuracy: 0.0793 - lr: 0.0050\n",
            "Epoch 9/30\n",
            "782/782 [==============================] - ETA: 0s - loss: 3.2916 - accuracy: 0.1975\n",
            "Epoch 9: val_loss did not improve from 3.32094\n",
            "782/782 [==============================] - 37s 47ms/step - loss: 3.2916 - accuracy: 0.1975 - val_loss: 3.5541 - val_accuracy: 0.2222 - lr: 0.0050\n",
            "Epoch 10/30\n",
            "782/782 [==============================] - ETA: 0s - loss: 2.8937 - accuracy: 0.2711\n",
            "Epoch 10: val_loss improved from 3.32094 to 3.05371, saving model to resnet_best_model.ckpt\n",
            "782/782 [==============================] - 38s 49ms/step - loss: 2.8937 - accuracy: 0.2711 - val_loss: 3.0537 - val_accuracy: 0.2590 - lr: 0.0050\n",
            "Epoch 11/30\n",
            "781/782 [============================>.] - ETA: 0s - loss: 2.7593 - accuracy: 0.2957\n",
            "Epoch 11: val_loss improved from 3.05371 to 2.83970, saving model to resnet_best_model.ckpt\n",
            "782/782 [==============================] - 39s 50ms/step - loss: 2.7594 - accuracy: 0.2957 - val_loss: 2.8397 - val_accuracy: 0.2857 - lr: 0.0050\n",
            "Epoch 12/30\n",
            "781/782 [============================>.] - ETA: 0s - loss: 2.7269 - accuracy: 0.3022\n",
            "Epoch 12: val_loss did not improve from 2.83970\n",
            "782/782 [==============================] - 38s 49ms/step - loss: 2.7271 - accuracy: 0.3022 - val_loss: 3.1102 - val_accuracy: 0.2518 - lr: 0.0050\n",
            "Epoch 13/30\n",
            "782/782 [==============================] - ETA: 0s - loss: 2.5683 - accuracy: 0.3368\n",
            "Epoch 13: val_loss did not improve from 2.83970\n",
            "782/782 [==============================] - 37s 47ms/step - loss: 2.5683 - accuracy: 0.3368 - val_loss: 2.9635 - val_accuracy: 0.3101 - lr: 0.0050\n",
            "Epoch 14/30\n",
            "782/782 [==============================] - ETA: 0s - loss: 2.4758 - accuracy: 0.3524\n",
            "Epoch 14: val_loss improved from 2.83970 to 2.71413, saving model to resnet_best_model.ckpt\n",
            "782/782 [==============================] - 38s 49ms/step - loss: 2.4758 - accuracy: 0.3524 - val_loss: 2.7141 - val_accuracy: 0.3351 - lr: 0.0050\n",
            "Epoch 15/30\n",
            "781/782 [============================>.] - ETA: 0s - loss: 2.4592 - accuracy: 0.3606\n",
            "Epoch 15: val_loss improved from 2.71413 to 2.71303, saving model to resnet_best_model.ckpt\n",
            "782/782 [==============================] - 38s 49ms/step - loss: 2.4590 - accuracy: 0.3607 - val_loss: 2.7130 - val_accuracy: 0.3289 - lr: 0.0050\n",
            "Epoch 16/30\n",
            "781/782 [============================>.] - ETA: 0s - loss: 2.2130 - accuracy: 0.4094\n",
            "Epoch 16: val_loss improved from 2.71303 to 2.67693, saving model to resnet_best_model.ckpt\n",
            "782/782 [==============================] - 38s 49ms/step - loss: 2.2132 - accuracy: 0.4094 - val_loss: 2.6769 - val_accuracy: 0.3341 - lr: 0.0050\n",
            "Epoch 17/30\n",
            "782/782 [==============================] - ETA: 0s - loss: 2.0741 - accuracy: 0.4381\n",
            "Epoch 17: val_loss did not improve from 2.67693\n",
            "782/782 [==============================] - 37s 47ms/step - loss: 2.0741 - accuracy: 0.4381 - val_loss: 2.6787 - val_accuracy: 0.3531 - lr: 0.0050\n",
            "Epoch 18/30\n",
            "782/782 [==============================] - ETA: 0s - loss: 1.9295 - accuracy: 0.4678\n",
            "Epoch 18: val_loss improved from 2.67693 to 2.58269, saving model to resnet_best_model.ckpt\n",
            "782/782 [==============================] - 38s 49ms/step - loss: 1.9295 - accuracy: 0.4678 - val_loss: 2.5827 - val_accuracy: 0.3724 - lr: 0.0050\n",
            "Epoch 19/30\n",
            "781/782 [============================>.] - ETA: 0s - loss: 1.8158 - accuracy: 0.4947\n",
            "Epoch 19: val_loss did not improve from 2.58269\n",
            "782/782 [==============================] - 37s 47ms/step - loss: 1.8159 - accuracy: 0.4947 - val_loss: 2.6345 - val_accuracy: 0.3564 - lr: 0.0050\n",
            "Epoch 20/30\n",
            "781/782 [============================>.] - ETA: 0s - loss: 1.6453 - accuracy: 0.5357\n",
            "Epoch 20: val_loss did not improve from 2.58269\n",
            "782/782 [==============================] - 38s 48ms/step - loss: 1.6455 - accuracy: 0.5357 - val_loss: 2.5887 - val_accuracy: 0.3733 - lr: 0.0050\n",
            "Epoch 21/30\n",
            "782/782 [==============================] - ETA: 0s - loss: 1.4809 - accuracy: 0.5753\n",
            "Epoch 21: val_loss did not improve from 2.58269\n",
            "782/782 [==============================] - 37s 47ms/step - loss: 1.4809 - accuracy: 0.5753 - val_loss: 2.6825 - val_accuracy: 0.3806 - lr: 0.0050\n",
            "Epoch 22/30\n",
            "781/782 [============================>.] - ETA: 0s - loss: 1.3415 - accuracy: 0.6063\n",
            "Epoch 22: val_loss did not improve from 2.58269\n",
            "782/782 [==============================] - 37s 47ms/step - loss: 1.3418 - accuracy: 0.6063 - val_loss: 2.8308 - val_accuracy: 0.3784 - lr: 0.0050\n",
            "Epoch 23/30\n",
            "781/782 [============================>.] - ETA: 0s - loss: 1.1970 - accuracy: 0.6449\n",
            "Epoch 23: val_loss did not improve from 2.58269\n",
            "782/782 [==============================] - 37s 47ms/step - loss: 1.1973 - accuracy: 0.6449 - val_loss: 2.7688 - val_accuracy: 0.3872 - lr: 0.0050\n",
            "Epoch 24/30\n",
            "782/782 [==============================] - ETA: 0s - loss: 1.0524 - accuracy: 0.6810\n",
            "Epoch 24: val_loss did not improve from 2.58269\n",
            "782/782 [==============================] - 37s 47ms/step - loss: 1.0524 - accuracy: 0.6810 - val_loss: 3.0254 - val_accuracy: 0.3825 - lr: 0.0050\n",
            "Epoch 25/30\n",
            "782/782 [==============================] - ETA: 0s - loss: 0.9321 - accuracy: 0.7146\n",
            "Epoch 25: val_loss did not improve from 2.58269\n",
            "782/782 [==============================] - 37s 47ms/step - loss: 0.9321 - accuracy: 0.7146 - val_loss: 3.1066 - val_accuracy: 0.3796 - lr: 0.0050\n",
            "Epoch 26/30\n",
            "781/782 [============================>.] - ETA: 0s - loss: 0.5153 - accuracy: 0.8436\n",
            "Epoch 26: val_loss did not improve from 2.58269\n",
            "782/782 [==============================] - 37s 47ms/step - loss: 0.5154 - accuracy: 0.8436 - val_loss: 2.9670 - val_accuracy: 0.4227 - lr: 5.0000e-04\n",
            "Epoch 27/30\n",
            "782/782 [==============================] - ETA: 0s - loss: 0.3590 - accuracy: 0.8920\n",
            "Epoch 27: val_loss did not improve from 2.58269\n",
            "782/782 [==============================] - 38s 48ms/step - loss: 0.3590 - accuracy: 0.8920 - val_loss: 3.1669 - val_accuracy: 0.4195 - lr: 5.0000e-04\n",
            "Epoch 28/30\n",
            "782/782 [==============================] - ETA: 0s - loss: 0.2850 - accuracy: 0.9164\n",
            "Epoch 28: val_loss did not improve from 2.58269\n",
            "782/782 [==============================] - 37s 47ms/step - loss: 0.2850 - accuracy: 0.9164 - val_loss: 3.3517 - val_accuracy: 0.4169 - lr: 5.0000e-04\n",
            "Epoch 29/30\n",
            "781/782 [============================>.] - ETA: 0s - loss: 0.2298 - accuracy: 0.9330\n",
            "Epoch 29: val_loss did not improve from 2.58269\n",
            "782/782 [==============================] - 37s 47ms/step - loss: 0.2301 - accuracy: 0.9329 - val_loss: 3.5226 - val_accuracy: 0.4182 - lr: 5.0000e-04\n",
            "Epoch 30/30\n",
            "781/782 [============================>.] - ETA: 0s - loss: 0.1921 - accuracy: 0.9457\n",
            "Epoch 30: val_loss did not improve from 2.58269\n",
            "782/782 [==============================] - 37s 47ms/step - loss: 0.1923 - accuracy: 0.9457 - val_loss: 3.7004 - val_accuracy: 0.4114 - lr: 5.0000e-04\n"
          ]
        }
      ]
    },
    {
      "cell_type": "code",
      "source": [
        "# evaluate\n",
        "loss, acc = resnet.evaluate(X_test, y_test, batch_size=batch_size)\n",
        "print(\"Loss : %.4f, Accuracy : %.4f\" % (loss, acc))"
      ],
      "metadata": {
        "colab": {
          "base_uri": "https://localhost:8080/"
        },
        "id": "t5yoekPdWV61",
        "outputId": "f2c1a348-4d9c-4dc1-a4a0-5b2b7f55d101"
      },
      "execution_count": 17,
      "outputs": [
        {
          "output_type": "stream",
          "name": "stdout",
          "text": [
            "157/157 [==============================] - 2s 15ms/step - loss: 3.7004 - accuracy: 0.4114\n",
            "Loss : 3.7004, Accuracy : 0.4114\n"
          ]
        }
      ]
    },
    {
      "cell_type": "code",
      "source": [
        "## loss visualize\n",
        "import matplotlib.pyplot as plt\n",
        "\n",
        "plt.figure(figsize=(8,4))\n",
        "plt.subplot(1, 2,1)\n",
        "plt.plot(resnet_history.history['loss'],'b-', label = \"training\")\n",
        "plt.plot(resnet_history.history['val_loss'], 'r:', label = \"validation\")\n",
        "plt.title(\"model - loss\")\n",
        "plt.legend()\n",
        "\n",
        "plt.subplot(1, 2, 2)\n",
        "plt.title(\"model - accuracy\")\n",
        "\n",
        "plt.plot(resnet_history.history['accuracy'], 'b-', label = \"training\")\n",
        "plt.plot(resnet_history.history['val_accuracy'], 'r:', label = \"validation\")\n",
        "\n",
        "plt.legend()\n",
        "plt.tight_layout()\n",
        "plt.show()"
      ],
      "metadata": {
        "colab": {
          "base_uri": "https://localhost:8080/",
          "height": 297
        },
        "id": "-iZEFc7jWY9Z",
        "outputId": "dd22d7ca-3fd2-48f1-afb5-b2e4d258aba5"
      },
      "execution_count": 18,
      "outputs": [
        {
          "output_type": "display_data",
          "data": {
            "text/plain": [
              "<Figure size 576x288 with 2 Axes>"
            ],
            "image/png": "[encoded data removed]"
          },
          "metadata": {
            "needs_background": "light"
          }
        }
      ]
    }
  ]
}
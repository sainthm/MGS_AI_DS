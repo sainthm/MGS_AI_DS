{
  "nbformat": 4,
  "nbformat_minor": 0,
  "metadata": {
    "colab": {
      "provenance": []
    },
    "kernelspec": {
      "name": "python3",
      "display_name": "Python 3"
    },
    "language_info": {
      "name": "python"
    },
    "accelerator": "GPU",
    "gpuClass": "standard"
  },
  "cells": [
    {
      "cell_type": "code",
      "source": [
        "# import os\n",
        "# os.cpu_count()\n",
        "!nvidia-smi"
      ],
      "metadata": {
        "colab": {
          "base_uri": "https://localhost:8080/"
        },
        "id": "bUC9clUWWL-x",
        "outputId": "d29a8662-abe2-4911-e198-631d12174f7d"
      },
      "execution_count": 2,
      "outputs": [
        {
          "output_type": "stream",
          "name": "stdout",
          "text": [
            "Wed Nov 30 08:12:29 2022       \n",
            "+-----------------------------------------------------------------------------+\n",
            "| NVIDIA-SMI 460.32.03    Driver Version: 460.32.03    CUDA Version: 11.2     |\n",
            "|-------------------------------+----------------------+----------------------+\n",
            "| GPU  Name        Persistence-M| Bus-Id        Disp.A | Volatile Uncorr. ECC |\n",
            "| Fan  Temp  Perf  Pwr:Usage/Cap|         Memory-Usage | GPU-Util  Compute M. |\n",
            "|                               |                      |               MIG M. |\n",
            "|===============================+======================+======================|\n",
            "|   0  Tesla T4            Off  | 00000000:00:04.0 Off |                    0 |\n",
            "| N/A   67C    P8    13W /  70W |      0MiB / 15109MiB |      0%      Default |\n",
            "|                               |                      |                  N/A |\n",
            "+-------------------------------+----------------------+----------------------+\n",
            "                                                                               \n",
            "+-----------------------------------------------------------------------------+\n",
            "| Processes:                                                                  |\n",
            "|  GPU   GI   CI        PID   Type   Process name                  GPU Memory |\n",
            "|        ID   ID                                                   Usage      |\n",
            "|=============================================================================|\n",
            "|  No running processes found                                                 |\n",
            "+-----------------------------------------------------------------------------+\n"
          ]
        }
      ]
    },
    {
      "cell_type": "code",
      "execution_count": 3,
      "metadata": {
        "id": "Tifm1-8CPohp"
      },
      "outputs": [],
      "source": [
        "# Import Libraries\n",
        "import numpy as np\n",
        "import tensorflow as tf\n",
        "\n",
        "# import tensorflow layers\n",
        "from tensorflow.keras.datasets import cifar10\n",
        "from tensorflow.keras import Sequential\n",
        "from tensorflow.keras.layers import Dense, Input, Flatten\n",
        "from tensorflow.keras.layers import Conv2D, MaxPool2D"
      ]
    },
    {
      "cell_type": "code",
      "source": [
        "# Load Datasets\n",
        "(X_train, y_train), (X_test, y_test) = cifar10.load_data()\n",
        "\n",
        "print(X_train.shape) # 4차원 Tensor\n",
        "## 32 x 32 x 3(RGB-channel) -> 이미지당 pixel 개수.\n",
        "print(X_test.shape)"
      ],
      "metadata": {
        "id": "B_DfrD71RMbU",
        "colab": {
          "base_uri": "https://localhost:8080/"
        },
        "outputId": "f566f4cc-f4db-4ec0-afe0-bb78592c49a5"
      },
      "execution_count": 4,
      "outputs": [
        {
          "output_type": "stream",
          "name": "stdout",
          "text": [
            "Downloading data from https://www.cs.toronto.edu/~kriz/cifar-10-python.tar.gz\n",
            "170498071/170498071 [==============================] - 13s 0us/step\n",
            "(50000, 32, 32, 3)\n",
            "(10000, 32, 32, 3)\n"
          ]
        }
      ]
    },
    {
      "cell_type": "markdown",
      "source": [
        "### Preprocessing\n",
        "\n",
        "Input Normalization"
      ],
      "metadata": {
        "id": "IT7FBbGUd2cT"
      }
    },
    {
      "cell_type": "code",
      "source": [
        "# min-max scaling\n",
        "# RGB, 3-channel color [0, 255] 24bit True color, 32bit True color (CYMK)\n",
        "X_train[0]"
      ],
      "metadata": {
        "id": "VZNehz43MBcX",
        "colab": {
          "base_uri": "https://localhost:8080/"
        },
        "outputId": "f1816967-edfb-4356-8ad4-15100956dcb1"
      },
      "execution_count": 5,
      "outputs": [
        {
          "output_type": "execute_result",
          "data": {
            "text/plain": [
              "array([[[ 59,  62,  63],\n",
              "        [ 43,  46,  45],\n",
              "        [ 50,  48,  43],\n",
              "        ...,\n",
              "        [158, 132, 108],\n",
              "        [152, 125, 102],\n",
              "        [148, 124, 103]],\n",
              "\n",
              "       [[ 16,  20,  20],\n",
              "        [  0,   0,   0],\n",
              "        [ 18,   8,   0],\n",
              "        ...,\n",
              "        [123,  88,  55],\n",
              "        [119,  83,  50],\n",
              "        [122,  87,  57]],\n",
              "\n",
              "       [[ 25,  24,  21],\n",
              "        [ 16,   7,   0],\n",
              "        [ 49,  27,   8],\n",
              "        ...,\n",
              "        [118,  84,  50],\n",
              "        [120,  84,  50],\n",
              "        [109,  73,  42]],\n",
              "\n",
              "       ...,\n",
              "\n",
              "       [[208, 170,  96],\n",
              "        [201, 153,  34],\n",
              "        [198, 161,  26],\n",
              "        ...,\n",
              "        [160, 133,  70],\n",
              "        [ 56,  31,   7],\n",
              "        [ 53,  34,  20]],\n",
              "\n",
              "       [[180, 139,  96],\n",
              "        [173, 123,  42],\n",
              "        [186, 144,  30],\n",
              "        ...,\n",
              "        [184, 148,  94],\n",
              "        [ 97,  62,  34],\n",
              "        [ 83,  53,  34]],\n",
              "\n",
              "       [[177, 144, 116],\n",
              "        [168, 129,  94],\n",
              "        [179, 142,  87],\n",
              "        ...,\n",
              "        [216, 184, 140],\n",
              "        [151, 118,  84],\n",
              "        [123,  92,  72]]], dtype=uint8)"
            ]
          },
          "metadata": {},
          "execution_count": 5
        }
      ]
    },
    {
      "cell_type": "code",
      "source": [
        "X_train = X_train / 255.0\n",
        "X_test = X_test / 255.0\n",
        "X_train[0]"
      ],
      "metadata": {
        "colab": {
          "base_uri": "https://localhost:8080/"
        },
        "id": "hB_vfAuPmqtL",
        "outputId": "bbb837ff-52a4-4f41-af66-f143b36f2dbc"
      },
      "execution_count": 6,
      "outputs": [
        {
          "output_type": "execute_result",
          "data": {
            "text/plain": [
              "array([[[0.23137255, 0.24313725, 0.24705882],\n",
              "        [0.16862745, 0.18039216, 0.17647059],\n",
              "        [0.19607843, 0.18823529, 0.16862745],\n",
              "        ...,\n",
              "        [0.61960784, 0.51764706, 0.42352941],\n",
              "        [0.59607843, 0.49019608, 0.4       ],\n",
              "        [0.58039216, 0.48627451, 0.40392157]],\n",
              "\n",
              "       [[0.0627451 , 0.07843137, 0.07843137],\n",
              "        [0.        , 0.        , 0.        ],\n",
              "        [0.07058824, 0.03137255, 0.        ],\n",
              "        ...,\n",
              "        [0.48235294, 0.34509804, 0.21568627],\n",
              "        [0.46666667, 0.3254902 , 0.19607843],\n",
              "        [0.47843137, 0.34117647, 0.22352941]],\n",
              "\n",
              "       [[0.09803922, 0.09411765, 0.08235294],\n",
              "        [0.0627451 , 0.02745098, 0.        ],\n",
              "        [0.19215686, 0.10588235, 0.03137255],\n",
              "        ...,\n",
              "        [0.4627451 , 0.32941176, 0.19607843],\n",
              "        [0.47058824, 0.32941176, 0.19607843],\n",
              "        [0.42745098, 0.28627451, 0.16470588]],\n",
              "\n",
              "       ...,\n",
              "\n",
              "       [[0.81568627, 0.66666667, 0.37647059],\n",
              "        [0.78823529, 0.6       , 0.13333333],\n",
              "        [0.77647059, 0.63137255, 0.10196078],\n",
              "        ...,\n",
              "        [0.62745098, 0.52156863, 0.2745098 ],\n",
              "        [0.21960784, 0.12156863, 0.02745098],\n",
              "        [0.20784314, 0.13333333, 0.07843137]],\n",
              "\n",
              "       [[0.70588235, 0.54509804, 0.37647059],\n",
              "        [0.67843137, 0.48235294, 0.16470588],\n",
              "        [0.72941176, 0.56470588, 0.11764706],\n",
              "        ...,\n",
              "        [0.72156863, 0.58039216, 0.36862745],\n",
              "        [0.38039216, 0.24313725, 0.13333333],\n",
              "        [0.3254902 , 0.20784314, 0.13333333]],\n",
              "\n",
              "       [[0.69411765, 0.56470588, 0.45490196],\n",
              "        [0.65882353, 0.50588235, 0.36862745],\n",
              "        [0.70196078, 0.55686275, 0.34117647],\n",
              "        ...,\n",
              "        [0.84705882, 0.72156863, 0.54901961],\n",
              "        [0.59215686, 0.4627451 , 0.32941176],\n",
              "        [0.48235294, 0.36078431, 0.28235294]]])"
            ]
          },
          "metadata": {},
          "execution_count": 6
        }
      ]
    },
    {
      "cell_type": "markdown",
      "source": [
        "### Training with Vanilla CNN\n",
        "\n",
        "**Model Architecture**\n",
        "\n",
        "> Conv - Relu - Conv - Relu - FC - FC\n"
      ],
      "metadata": {
        "id": "GDNHTBpQTnoQ"
      }
    },
    {
      "cell_type": "code",
      "source": [
        "# Sequential 객체를 이용하여 layer를 쌓아올려 모델을 만듭니다.\n",
        "model = Sequential([\n",
        "    Input(shape=(32, 32, 3)),\n",
        "    Conv2D(filters=6,\n",
        "           kernel_size=5, # 5 x 5\n",
        "           strides=1,\n",
        "           padding='same', # 0 일 경우, 하얀색 테두리를 두름 # 'same' 을 넣으면 같게 해줌\n",
        "           activation='relu'),\n",
        "    Conv2D(16, 5, 1, \"same\", activation=\"relu\"),\n",
        "    MaxPool2D(pool_size=2, strides=2),\n",
        "    Flatten(),\n",
        "    Dense(1024, activation=\"relu\"),\n",
        "    Dense(128, activation=\"relu\"),\n",
        "    Dense(10, activation=\"softmax\")\n",
        "])\n",
        "\n",
        "model.summary()"
      ],
      "metadata": {
        "id": "0Bu7msHoSQv5",
        "colab": {
          "base_uri": "https://localhost:8080/"
        },
        "outputId": "d7262167-1cd1-4fdb-8271-6adb7265722a"
      },
      "execution_count": 9,
      "outputs": [
        {
          "output_type": "stream",
          "name": "stdout",
          "text": [
            "Model: \"sequential_2\"\n",
            "_________________________________________________________________\n",
            " Layer (type)                Output Shape              Param #   \n",
            "=================================================================\n",
            " conv2d_4 (Conv2D)           (None, 32, 32, 6)         456       \n",
            "                                                                 \n",
            " conv2d_5 (Conv2D)           (None, 32, 32, 16)        2416      \n",
            "                                                                 \n",
            " max_pooling2d_2 (MaxPooling  (None, 16, 16, 16)       0         \n",
            " 2D)                                                             \n",
            "                                                                 \n",
            " flatten_2 (Flatten)         (None, 4096)              0         \n",
            "                                                                 \n",
            " dense_4 (Dense)             (None, 1024)              4195328   \n",
            "                                                                 \n",
            " dense_5 (Dense)             (None, 128)               131200    \n",
            "                                                                 \n",
            " dense_6 (Dense)             (None, 10)                1290      \n",
            "                                                                 \n",
            "=================================================================\n",
            "Total params: 4,330,690\n",
            "Trainable params: 4,330,690\n",
            "Non-trainable params: 0\n",
            "_________________________________________________________________\n"
          ]
        }
      ]
    },
    {
      "cell_type": "code",
      "source": [
        "# training setup\n",
        "from tensorflow.keras.optimizers import SGD, Adam\n",
        "\n",
        "## config variables\n",
        "batch_size = 128\n",
        "lr = 1e-4\n",
        "epochs = 15\n",
        "\n",
        "# Set optimizer, loss function, metrics, callback function\n",
        "optimizer = Adam(learning_rate=lr)\n",
        "\n",
        "# categorical_crossentropy : target value가 이미 one-hot vector인 경우\n",
        "# sparse_categorical_crossentropy : 그냥 정수\n",
        "\n",
        "loss_fn = 'sparse_categorical_crossentropy' # multi-class classification\n",
        "metrics = ['accuracy']\n",
        "\n",
        "model.compile(optimizer=optimizer,\n",
        "              loss=loss_fn,\n",
        "              metrics=metrics)"
      ],
      "metadata": {
        "id": "5cKYHdiUlyTy"
      },
      "execution_count": 10,
      "outputs": []
    },
    {
      "cell_type": "code",
      "source": [
        "# model training\n",
        "\n",
        "history = model.fit(X_train, y_train,\n",
        "                    batch_size=batch_size,\n",
        "                    epochs=epochs,\n",
        "                    validation_data=(X_test, y_test), # 매 epoch마다 validation 성능 체크 가능!\n",
        "                    verbose=1)"
      ],
      "metadata": {
        "id": "u3E2WHWcmmTg",
        "colab": {
          "base_uri": "https://localhost:8080/"
        },
        "outputId": "d9f26a72-1135-4d62-b9ce-4e67b4cf4144"
      },
      "execution_count": 11,
      "outputs": [
        {
          "output_type": "stream",
          "name": "stdout",
          "text": [
            "Epoch 1/15\n",
            "391/391 [==============================] - 10s 9ms/step - loss: 1.7275 - accuracy: 0.3831 - val_loss: 1.5089 - val_accuracy: 0.4693\n",
            "Epoch 2/15\n",
            "391/391 [==============================] - 3s 8ms/step - loss: 1.4238 - accuracy: 0.4976 - val_loss: 1.3524 - val_accuracy: 0.5246\n",
            "Epoch 3/15\n",
            "391/391 [==============================] - 3s 7ms/step - loss: 1.2956 - accuracy: 0.5442 - val_loss: 1.2705 - val_accuracy: 0.5500\n",
            "Epoch 4/15\n",
            "391/391 [==============================] - 3s 7ms/step - loss: 1.2137 - accuracy: 0.5748 - val_loss: 1.2326 - val_accuracy: 0.5643\n",
            "Epoch 5/15\n",
            "391/391 [==============================] - 3s 8ms/step - loss: 1.1466 - accuracy: 0.5971 - val_loss: 1.1551 - val_accuracy: 0.5967\n",
            "Epoch 6/15\n",
            "391/391 [==============================] - 3s 8ms/step - loss: 1.0861 - accuracy: 0.6193 - val_loss: 1.1243 - val_accuracy: 0.6040\n",
            "Epoch 7/15\n",
            "391/391 [==============================] - 3s 8ms/step - loss: 1.0318 - accuracy: 0.6422 - val_loss: 1.1129 - val_accuracy: 0.6123\n",
            "Epoch 8/15\n",
            "391/391 [==============================] - 3s 7ms/step - loss: 0.9847 - accuracy: 0.6592 - val_loss: 1.0771 - val_accuracy: 0.6234\n",
            "Epoch 9/15\n",
            "391/391 [==============================] - 3s 8ms/step - loss: 0.9369 - accuracy: 0.6757 - val_loss: 1.0545 - val_accuracy: 0.6318\n",
            "Epoch 10/15\n",
            "391/391 [==============================] - 3s 7ms/step - loss: 0.8925 - accuracy: 0.6920 - val_loss: 1.0340 - val_accuracy: 0.6407\n",
            "Epoch 11/15\n",
            "391/391 [==============================] - 3s 8ms/step - loss: 0.8496 - accuracy: 0.7082 - val_loss: 1.0264 - val_accuracy: 0.6461\n",
            "Epoch 12/15\n",
            "391/391 [==============================] - 3s 7ms/step - loss: 0.8050 - accuracy: 0.7230 - val_loss: 1.0220 - val_accuracy: 0.6454\n",
            "Epoch 13/15\n",
            "391/391 [==============================] - 3s 8ms/step - loss: 0.7646 - accuracy: 0.7383 - val_loss: 1.0126 - val_accuracy: 0.6480\n",
            "Epoch 14/15\n",
            "391/391 [==============================] - 3s 7ms/step - loss: 0.7231 - accuracy: 0.7533 - val_loss: 1.0189 - val_accuracy: 0.6493\n",
            "Epoch 15/15\n",
            "391/391 [==============================] - 3s 8ms/step - loss: 0.6808 - accuracy: 0.7689 - val_loss: 1.0138 - val_accuracy: 0.6563\n"
          ]
        }
      ]
    },
    {
      "cell_type": "code",
      "source": [
        "# evaluate\n",
        "loss, acc = model.evaluate(X_test, y_test, batch_size=batch_size)\n",
        "print(\"Loss : %.4f, Accuracy : %.4f\" % (loss, acc))"
      ],
      "metadata": {
        "id": "Pf-qRnKQnvIw",
        "colab": {
          "base_uri": "https://localhost:8080/"
        },
        "outputId": "d57bd416-4bc9-4a39-fd3a-6cb1f471794b"
      },
      "execution_count": 12,
      "outputs": [
        {
          "output_type": "stream",
          "name": "stdout",
          "text": [
            "79/79 [==============================] - 0s 5ms/step - loss: 1.0138 - accuracy: 0.6563\n",
            "Loss : 1.0138, Accuracy : 0.6563\n"
          ]
        }
      ]
    },
    {
      "cell_type": "code",
      "source": [
        "## loss visualize\n",
        "import matplotlib.pyplot as plt\n",
        "\n",
        "plt.figure(figsize=(8,4))\n",
        "plt.subplot(1, 2,1)\n",
        "plt.plot(history.history['loss'],'b-', label = \"training\")\n",
        "plt.plot(history.history['val_loss'], 'r:', label = \"validation\")\n",
        "plt.title(\"model - loss\")\n",
        "plt.legend()\n",
        "\n",
        "plt.subplot(1, 2, 2)\n",
        "plt.title(\"model - accuracy\")\n",
        "\n",
        "plt.plot(history.history['accuracy'], 'b-', label = \"training\")\n",
        "plt.plot(history.history['val_accuracy'], 'r:', label = \"validation\")\n",
        "\n",
        "plt.legend()\n",
        "plt.tight_layout()\n",
        "plt.show()"
      ],
      "metadata": {
        "id": "8vquJ73VwGfN",
        "colab": {
          "base_uri": "https://localhost:8080/",
          "height": 297
        },
        "outputId": "831f70c9-c84d-424a-ecde-444cc2e09253"
      },
      "execution_count": 13,
      "outputs": [
        {
          "output_type": "display_data",
          "data": {
            "text/plain": [
              "<Figure size 576x288 with 2 Axes>"
            ],
            "image/png": "[encoded data removed]"
          },
          "metadata": {
            "needs_background": "light"
          }
        }
      ]
    },
    {
      "cell_type": "code",
      "source": [],
      "metadata": {
        "id": "axtj0EVpHJyn"
      },
      "execution_count": null,
      "outputs": []
    }
  ]
}
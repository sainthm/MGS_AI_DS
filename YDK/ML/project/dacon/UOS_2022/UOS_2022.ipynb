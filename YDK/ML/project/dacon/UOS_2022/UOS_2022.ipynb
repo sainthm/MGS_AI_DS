{
 "cells": [
  {
   "cell_type": "markdown",
   "id": "2e429d6d",
   "metadata": {},
   "source": [
    "# 2022 UOS Big Data Algorithm Competition"
   ]
  },
  {
   "cell_type": "markdown",
   "id": "12700158",
   "metadata": {},
   "source": [
    "## Details of competition\n",
    "\n",
    "<br>\n",
    "\n",
    "### URL: https://dacon.io/competitions/official/236029/overview/description\n",
    "\n",
    "<br>\n",
    "\n",
    "### Topic\n",
    "\n",
    "서울시 지역구별 **따릉이 대여량 예측 모델 개발**\n",
    "\n",
    "<br>\n",
    "\n",
    "### Background\n",
    "\n",
    "전 세계의 많은 도시가 교통 정체와 대기 오염의 감축을 위해 공유 자전거 시스템을 도입하고 있으며, 국내의 경우에는 대표적으로 2015년부터 서울시에서 서비스 중인 '따릉이'라는 공유 자전거 시스템이 있습니다.\n",
    "\n",
    "\n",
    "따릉이 이용객이 증가함에 따라 각 지역구에서 공유 자전거 수요는 증가하고 있지만, 한정된 예산하에서 수요를 관리하기 때문에 운영과 관리에 어려움이 존재합니다.\n",
    "\n",
    "\n",
    "또한 최근에는 코로나로 인한 사회적 거리두기가 해제되면서 서울시의 따릉이 수요는 나날이 급증하고 있습니다.\n",
    "\n",
    "\n",
    "따라서 다음 해의 서울시 지역구별 따릉이 수요를 정확히 예측할 수 있다면 대여소의 확장, 공유 자전거 신규 도입 등에 더 효율적으로 예산을 활용할 수 있을 것입니다.\n",
    "\n",
    "\n",
    "이번 경진대회에서 따릉이의 효율적인 운영과 관리에 도움을 줄 수 있는 서울시 지역구별 따릉이 대여량 예측 AI 모델을 만들어 주세요.\n",
    "\n",
    "\n",
    "<br>\n"
   ]
  },
  {
   "cell_type": "markdown",
   "id": "2cddf9e8",
   "metadata": {},
   "source": [
    "## Details of data\n",
    "\n",
    "<br>\n",
    "\n",
    "### train.csv [파일]\n",
    "\n",
    "\n",
    "- 2018년 01월 01일 ~ 2021년 12월 31일까지의 지역구별 따릉이 대여량\n",
    "- 일시 : 년월일\n",
    "- 광진구 : 광진구의 일별 따릉이 대여량 (천명 단위)\n",
    "- 동대문구 : 동대문구의 일별 따릉이 대여량 (천명 단위)\n",
    "- 성동구 : 성동구의 일별 따릉이 대여량 (천명 단위)\n",
    "- 중랑구 : 중랑구의 일별 따릉이 대여량 (천명 단위)\n",
    "\n",
    "<br>\n",
    "\n",
    "### sample_submission.csv [제출양식]\n",
    "\n",
    "\n",
    "- 2022년 01월 01일 ~ 2022년 11월 30일까지의 예측한 지역구별 따릉이 대여(수요)량\n",
    "- 일시 : 년월일\n",
    "- 광진구 : 광진구의 일별 따릉이 대여량 (천명 단위)\n",
    "- 동대문구 : 동대문구의 일별 따릉이 대여량 (천명 단위)\n",
    "- 성동구 : 성동구의 일별 따릉이 대여량 (천명 단위)\n",
    "- 중랑구 : 중랑구의 일별 따릉이 대여량 (천명 단위)\n",
    "\n",
    "<br>\n",
    "\n",
    "### 추천 공공 데이터\n",
    "\n",
    "\n",
    "- 아래의 링크에서 외부 변수들을 추가로 활용할 수 있는 외부 데이터를 탐색할 수 있습니다.\n",
    "- 서울시 열린데이터 광장 링크: https://data.seoul.go.kr/\n",
    "- 단, 외부 데이터 사용 규칙을 꼭 유의하여 사용해주시기 바랍니다.\n",
    "\n",
    "<br>\n"
   ]
  },
  {
   "cell_type": "code",
   "execution_count": null,
   "id": "0c7d63d1",
   "metadata": {},
   "outputs": [],
   "source": []
  },
  {
   "cell_type": "markdown",
   "id": "93407016",
   "metadata": {},
   "source": [
    "## 1. Derive results using Excel only"
   ]
  },
  {
   "cell_type": "markdown",
   "id": "1a41642c",
   "metadata": {},
   "source": [
    "## 놀랍게도 결과는 3등!!\n",
    "- Score: 3.86611"
   ]
  },
  {
   "cell_type": "code",
   "execution_count": null,
   "id": "b3be3d13",
   "metadata": {},
   "outputs": [],
   "source": []
  },
  {
   "cell_type": "markdown",
   "id": "a7ba7cd0",
   "metadata": {},
   "source": [
    "## 2. Derive results using prophet"
   ]
  },
  {
   "cell_type": "code",
   "execution_count": 3,
   "id": "69dacda9",
   "metadata": {},
   "outputs": [],
   "source": [
    "# import basic module\n",
    "import pandas as pd\n",
    "import numpy as np\n",
    "import matplotlib.pyplot as plt\n",
    "import seaborn as sns"
   ]
  },
  {
   "cell_type": "code",
   "execution_count": 2,
   "id": "e76e89ee",
   "metadata": {},
   "outputs": [
    {
     "name": "stdout",
     "output_type": "stream",
     "text": [
      "UOS_2022.ipynb        \u001b[1m\u001b[36mdacon_236029_open\u001b[m\u001b[m     dacon_236029_open.zip\r\n"
     ]
    }
   ],
   "source": [
    "# pwd & file check\n",
    "!ls"
   ]
  },
  {
   "cell_type": "code",
   "execution_count": null,
   "id": "f02d045f",
   "metadata": {},
   "outputs": [],
   "source": [
    "# import data\n",
    "raw_data = pd.read"
   ]
  },
  {
   "cell_type": "code",
   "execution_count": null,
   "id": "e1a68bb7",
   "metadata": {},
   "outputs": [],
   "source": [
    "# Reference: jjooki\n",
    "\n",
    "## 정리된 코드입니다.\n",
    "\n",
    "from prophet import Prophet\n",
    "import pandas as pd\n",
    "\n",
    "train = pd.read_csv('/content/drive/MyDrive/data/open/train.csv')\n",
    "sample = pd.read_csv('/content/drive/MyDrive/data/open/sample_submission.csv')\n",
    "\n",
    "train['일시'] = pd.to_datetime(train['일시'], format='%Y%m%d')\n",
    "\n",
    "def 예측하기(train, column):\n",
    "    model = Prophet()\n",
    "    df = pd.DataFrame()\n",
    "    df['ds'] = train['일시']\n",
    "    df['y'] = train[column]\n",
    "    model.fit(df)\n",
    "    future = model.make_future_dataframe(periods=334, freq='D')\n",
    "    forecast = model.predict(future)\n",
    "    return forecast.loc[1461:, 'yhat'].values\n",
    "\n",
    "sample['광진구'] = 예측하기(train, '광진구')\n",
    "sample['동대문구'] = 예측하기(train, '동대문구')\n",
    "sample['성동구'] = 예측하기(train, '성동구')\n",
    "sample['중랑구'] = 예측하기(train, '중랑구')\n",
    "sample\n",
    "sample.to_csv('/content/drive/MyDrive/submission.csv', index=False)"
   ]
  },
  {
   "cell_type": "code",
   "execution_count": null,
   "id": "edb590a6",
   "metadata": {},
   "outputs": [],
   "source": []
  },
  {
   "cell_type": "code",
   "execution_count": null,
   "id": "3ef057ab",
   "metadata": {},
   "outputs": [],
   "source": []
  },
  {
   "cell_type": "code",
   "execution_count": null,
   "id": "7fdb0a25",
   "metadata": {},
   "outputs": [],
   "source": []
  },
  {
   "cell_type": "code",
   "execution_count": null,
   "id": "b8437fdd",
   "metadata": {},
   "outputs": [],
   "source": []
  },
  {
   "cell_type": "code",
   "execution_count": null,
   "id": "ec9d741a",
   "metadata": {},
   "outputs": [],
   "source": []
  },
  {
   "cell_type": "code",
   "execution_count": null,
   "id": "7049414b",
   "metadata": {},
   "outputs": [],
   "source": []
  },
  {
   "cell_type": "code",
   "execution_count": null,
   "id": "348edb35",
   "metadata": {},
   "outputs": [],
   "source": []
  },
  {
   "cell_type": "code",
   "execution_count": null,
   "id": "13df6f7d",
   "metadata": {},
   "outputs": [],
   "source": []
  },
  {
   "cell_type": "code",
   "execution_count": null,
   "id": "80e61c4e",
   "metadata": {},
   "outputs": [],
   "source": []
  },
  {
   "cell_type": "code",
   "execution_count": null,
   "id": "287481af",
   "metadata": {},
   "outputs": [],
   "source": []
  },
  {
   "cell_type": "code",
   "execution_count": null,
   "id": "64f804db",
   "metadata": {},
   "outputs": [],
   "source": []
  }
 ],
 "metadata": {
  "kernelspec": {
   "display_name": "Python 3 (ipykernel)",
   "language": "python",
   "name": "python3"
  },
  "language_info": {
   "codemirror_mode": {
    "name": "ipython",
    "version": 3
   },
   "file_extension": ".py",
   "mimetype": "text/x-python",
   "name": "python",
   "nbconvert_exporter": "python",
   "pygments_lexer": "ipython3",
   "version": "3.8.13"
  }
 },
 "nbformat": 4,
 "nbformat_minor": 5
}

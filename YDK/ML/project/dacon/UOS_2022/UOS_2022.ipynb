{
 "cells": [
  {
   "cell_type": "markdown",
   "id": "315f5c59",
   "metadata": {},
   "source": [
    "# 2022 UOS Big Data Algorithm Competition"
   ]
  },
  {
   "cell_type": "markdown",
   "id": "9f051e59",
   "metadata": {},
   "source": [
    "## Details of competition\n",
    "\n",
    "<br>\n",
    "\n",
    "### URL: https://dacon.io/competitions/official/236029/overview/description\n",
    "\n",
    "<br>\n",
    "\n",
    "### Topic\n",
    "\n",
    "서울시 지역구별 **따릉이 대여량 예측 모델 개발**\n",
    "\n",
    "<br>\n",
    "\n",
    "### Background\n",
    "\n",
    "전 세계의 많은 도시가 교통 정체와 대기 오염의 감축을 위해 공유 자전거 시스템을 도입하고 있으며, 국내의 경우에는 대표적으로 2015년부터 서울시에서 서비스 중인 '따릉이'라는 공유 자전거 시스템이 있습니다.\n",
    "\n",
    "\n",
    "따릉이 이용객이 증가함에 따라 각 지역구에서 공유 자전거 수요는 증가하고 있지만, 한정된 예산하에서 수요를 관리하기 때문에 운영과 관리에 어려움이 존재합니다.\n",
    "\n",
    "\n",
    "또한 최근에는 코로나로 인한 사회적 거리두기가 해제되면서 서울시의 따릉이 수요는 나날이 급증하고 있습니다.\n",
    "\n",
    "\n",
    "따라서 다음 해의 서울시 지역구별 따릉이 수요를 정확히 예측할 수 있다면 대여소의 확장, 공유 자전거 신규 도입 등에 더 효율적으로 예산을 활용할 수 있을 것입니다.\n",
    "\n",
    "\n",
    "이번 경진대회에서 따릉이의 효율적인 운영과 관리에 도움을 줄 수 있는 서울시 지역구별 따릉이 대여량 예측 AI 모델을 만들어 주세요.\n",
    "\n",
    "\n",
    "<br>\n"
   ]
  },
  {
   "cell_type": "markdown",
   "id": "0607ed14",
   "metadata": {},
   "source": [
    "## Details of data\n",
    "\n",
    "<br>\n",
    "\n",
    "### train.csv [파일]\n",
    "\n",
    "\n",
    "- 2018년 01월 01일 ~ 2021년 12월 31일까지의 지역구별 따릉이 대여량\n",
    "- 일시 : 년월일\n",
    "- 광진구 : 광진구의 일별 따릉이 대여량 (천명 단위)\n",
    "- 동대문구 : 동대문구의 일별 따릉이 대여량 (천명 단위)\n",
    "- 성동구 : 성동구의 일별 따릉이 대여량 (천명 단위)\n",
    "- 중랑구 : 중랑구의 일별 따릉이 대여량 (천명 단위)\n",
    "\n",
    "<br>\n",
    "\n",
    "### sample_submission.csv [제출양식]\n",
    "\n",
    "\n",
    "- 2022년 01월 01일 ~ 2022년 11월 30일까지의 예측한 지역구별 따릉이 대여(수요)량\n",
    "- 일시 : 년월일\n",
    "- 광진구 : 광진구의 일별 따릉이 대여량 (천명 단위)\n",
    "- 동대문구 : 동대문구의 일별 따릉이 대여량 (천명 단위)\n",
    "- 성동구 : 성동구의 일별 따릉이 대여량 (천명 단위)\n",
    "- 중랑구 : 중랑구의 일별 따릉이 대여량 (천명 단위)\n",
    "\n",
    "<br>\n",
    "\n",
    "### 추천 공공 데이터\n",
    "\n",
    "\n",
    "- 아래의 링크에서 외부 변수들을 추가로 활용할 수 있는 외부 데이터를 탐색할 수 있습니다.\n",
    "- 서울시 열린데이터 광장 링크: https://data.seoul.go.kr/\n",
    "- 단, 외부 데이터 사용 규칙을 꼭 유의하여 사용해주시기 바랍니다.\n",
    "\n",
    "<br>\n"
   ]
  },
  {
   "cell_type": "code",
   "execution_count": null,
   "id": "5d3f63b7",
   "metadata": {},
   "outputs": [],
   "source": []
  },
  {
   "cell_type": "markdown",
   "id": "6bbff652",
   "metadata": {},
   "source": [
    "## 1. Derive results using Excel only"
   ]
  },
  {
   "cell_type": "markdown",
   "id": "c331e44d",
   "metadata": {},
   "source": [
    "## 놀랍게도 결과는 3등!!\n",
    "- Score: 3.86611"
   ]
  },
  {
   "cell_type": "code",
   "execution_count": null,
   "id": "0aeac9f3",
   "metadata": {},
   "outputs": [],
   "source": []
  },
  {
   "cell_type": "markdown",
   "id": "589850cd",
   "metadata": {},
   "source": [
    "## 2. Derive results using prophet"
   ]
  },
  {
   "cell_type": "code",
   "execution_count": 1,
   "id": "ac4a3d64",
   "metadata": {},
   "outputs": [],
   "source": [
    "# import basic module\n",
    "import pandas as pd\n",
    "import numpy as np\n",
    "import matplotlib.pyplot as plt\n",
    "import seaborn as sns"
   ]
  },
  {
   "cell_type": "code",
   "execution_count": 2,
   "id": "32aae035",
   "metadata": {},
   "outputs": [
    {
     "name": "stdout",
     "output_type": "stream",
     "text": [
      "UOS_2022.ipynb        \u001b[1m\u001b[36mdacon_236029_open\u001b[m\u001b[m     dacon_236029_open.zip\r\n"
     ]
    }
   ],
   "source": [
    "# pwd & file check\n",
    "!ls"
   ]
  },
  {
   "cell_type": "code",
   "execution_count": 3,
   "id": "f0180054",
   "metadata": {},
   "outputs": [],
   "source": [
    "# pip install prophet\n",
    "from prophet import Prophet"
   ]
  },
  {
   "cell_type": "code",
   "execution_count": 4,
   "id": "190d5fc2",
   "metadata": {},
   "outputs": [
    {
     "data": {
      "text/html": [
       "<div>\n",
       "<style scoped>\n",
       "    .dataframe tbody tr th:only-of-type {\n",
       "        vertical-align: middle;\n",
       "    }\n",
       "\n",
       "    .dataframe tbody tr th {\n",
       "        vertical-align: top;\n",
       "    }\n",
       "\n",
       "    .dataframe thead th {\n",
       "        text-align: right;\n",
       "    }\n",
       "</style>\n",
       "<table border=\"1\" class=\"dataframe\">\n",
       "  <thead>\n",
       "    <tr style=\"text-align: right;\">\n",
       "      <th></th>\n",
       "      <th>일시</th>\n",
       "      <th>광진구</th>\n",
       "      <th>동대문구</th>\n",
       "      <th>성동구</th>\n",
       "      <th>중랑구</th>\n",
       "    </tr>\n",
       "  </thead>\n",
       "  <tbody>\n",
       "    <tr>\n",
       "      <th>0</th>\n",
       "      <td>20180101</td>\n",
       "      <td>0.592</td>\n",
       "      <td>0.368</td>\n",
       "      <td>0.580</td>\n",
       "      <td>0.162</td>\n",
       "    </tr>\n",
       "    <tr>\n",
       "      <th>1</th>\n",
       "      <td>20180102</td>\n",
       "      <td>0.840</td>\n",
       "      <td>0.614</td>\n",
       "      <td>1.034</td>\n",
       "      <td>0.260</td>\n",
       "    </tr>\n",
       "    <tr>\n",
       "      <th>2</th>\n",
       "      <td>20180103</td>\n",
       "      <td>0.828</td>\n",
       "      <td>0.576</td>\n",
       "      <td>0.952</td>\n",
       "      <td>0.288</td>\n",
       "    </tr>\n",
       "    <tr>\n",
       "      <th>3</th>\n",
       "      <td>20180104</td>\n",
       "      <td>0.792</td>\n",
       "      <td>0.542</td>\n",
       "      <td>0.914</td>\n",
       "      <td>0.292</td>\n",
       "    </tr>\n",
       "    <tr>\n",
       "      <th>4</th>\n",
       "      <td>20180105</td>\n",
       "      <td>0.818</td>\n",
       "      <td>0.602</td>\n",
       "      <td>0.994</td>\n",
       "      <td>0.308</td>\n",
       "    </tr>\n",
       "    <tr>\n",
       "      <th>...</th>\n",
       "      <td>...</td>\n",
       "      <td>...</td>\n",
       "      <td>...</td>\n",
       "      <td>...</td>\n",
       "      <td>...</td>\n",
       "    </tr>\n",
       "    <tr>\n",
       "      <th>1456</th>\n",
       "      <td>20211227</td>\n",
       "      <td>3.830</td>\n",
       "      <td>3.416</td>\n",
       "      <td>2.908</td>\n",
       "      <td>2.350</td>\n",
       "    </tr>\n",
       "    <tr>\n",
       "      <th>1457</th>\n",
       "      <td>20211228</td>\n",
       "      <td>4.510</td>\n",
       "      <td>3.890</td>\n",
       "      <td>3.714</td>\n",
       "      <td>2.700</td>\n",
       "    </tr>\n",
       "    <tr>\n",
       "      <th>1458</th>\n",
       "      <td>20211229</td>\n",
       "      <td>4.490</td>\n",
       "      <td>3.524</td>\n",
       "      <td>3.660</td>\n",
       "      <td>2.524</td>\n",
       "    </tr>\n",
       "    <tr>\n",
       "      <th>1459</th>\n",
       "      <td>20211230</td>\n",
       "      <td>4.444</td>\n",
       "      <td>3.574</td>\n",
       "      <td>3.530</td>\n",
       "      <td>2.506</td>\n",
       "    </tr>\n",
       "    <tr>\n",
       "      <th>1460</th>\n",
       "      <td>20211231</td>\n",
       "      <td>3.616</td>\n",
       "      <td>3.210</td>\n",
       "      <td>2.620</td>\n",
       "      <td>2.146</td>\n",
       "    </tr>\n",
       "  </tbody>\n",
       "</table>\n",
       "<p>1461 rows × 5 columns</p>\n",
       "</div>"
      ],
      "text/plain": [
       "            일시    광진구   동대문구    성동구    중랑구\n",
       "0     20180101  0.592  0.368  0.580  0.162\n",
       "1     20180102  0.840  0.614  1.034  0.260\n",
       "2     20180103  0.828  0.576  0.952  0.288\n",
       "3     20180104  0.792  0.542  0.914  0.292\n",
       "4     20180105  0.818  0.602  0.994  0.308\n",
       "...        ...    ...    ...    ...    ...\n",
       "1456  20211227  3.830  3.416  2.908  2.350\n",
       "1457  20211228  4.510  3.890  3.714  2.700\n",
       "1458  20211229  4.490  3.524  3.660  2.524\n",
       "1459  20211230  4.444  3.574  3.530  2.506\n",
       "1460  20211231  3.616  3.210  2.620  2.146\n",
       "\n",
       "[1461 rows x 5 columns]"
      ]
     },
     "execution_count": 4,
     "metadata": {},
     "output_type": "execute_result"
    }
   ],
   "source": [
    "train = pd.read_csv('./dacon_236029_open/train.csv')\n",
    "train"
   ]
  },
  {
   "cell_type": "code",
   "execution_count": 12,
   "id": "6bb0da4f",
   "metadata": {},
   "outputs": [],
   "source": [
    "sample = pd.read_csv('./dacon_236029_open/sample_submission.csv')\n",
    "# sample"
   ]
  },
  {
   "cell_type": "code",
   "execution_count": 9,
   "id": "a1425c3a",
   "metadata": {},
   "outputs": [],
   "source": [
    "# Data preprocessing\n",
    "train['일시'] = pd.to_datetime(train['일시'], format='%Y%m%d')\n",
    "# train"
   ]
  },
  {
   "cell_type": "code",
   "execution_count": 13,
   "id": "6c4ad729",
   "metadata": {},
   "outputs": [],
   "source": [
    "# Coding!!\n",
    "\n",
    "def predict(train, column):\n",
    "    model = Prophet()\n",
    "    df = pd.DataFrame()\n",
    "    df['ds'] = train['일시']\n",
    "    df['y'] = train[column]\n",
    "    model.fit(df)\n",
    "    future = model.make_future_dataframe(periods=334, freq='D')\n",
    "    forecast = model.predict(future)\n",
    "    return forecast.loc[1461:, 'yhat'].values\n"
   ]
  },
  {
   "cell_type": "code",
   "execution_count": 14,
   "id": "df2d02a6",
   "metadata": {},
   "outputs": [
    {
     "name": "stderr",
     "output_type": "stream",
     "text": [
      "18:51:46 - cmdstanpy - INFO - Chain [1] start processing\n",
      "18:51:46 - cmdstanpy - INFO - Chain [1] done processing\n",
      "18:51:46 - cmdstanpy - ERROR - Chain [1] error: terminated by signal 6 Unknown error: -6\n",
      "Optimization terminated abnormally. Falling back to Newton.\n",
      "18:51:46 - cmdstanpy - INFO - Chain [1] start processing\n",
      "18:51:46 - cmdstanpy - INFO - Chain [1] done processing\n",
      "18:51:46 - cmdstanpy - ERROR - Chain [1] error: terminated by signal 6 Unknown error: -6\n"
     ]
    },
    {
     "ename": "RuntimeError",
     "evalue": "Error during optimization! Command '/opt/homebrew/Caskroom/miniforge/base/envs/sainthm/lib/python3.8/site-packages/prophet/stan_model/prophet_model.bin random seed=77362 data file=/var/folders/4h/b2cqm88s3cl_l0lpwl10b69r0000gn/T/tmpy7hejwwx/cdb3qhin.json init=/var/folders/4h/b2cqm88s3cl_l0lpwl10b69r0000gn/T/tmpy7hejwwx/fbrcdetf.json output file=/var/folders/4h/b2cqm88s3cl_l0lpwl10b69r0000gn/T/tmpy7hejwwx/prophet_modelvqt6i1dj/prophet_model-20221114185146.csv method=optimize algorithm=newton iter=10000' failed: console log output:\n\ndyld[24289]: Library not loaded: @rpath/libtbb.dylib\n  Referenced from: <5064D6A4-6525-33CA-A867-351973DF9790> /opt/homebrew/Caskroom/miniforge/base/envs/sainthm/lib/python3.8/site-packages/prophet/stan_model/prophet_model.bin\n  Reason: tried: '/private/var/folders/4h/b2cqm88s3cl_l0lpwl10b69r0000gn/T/pip-install-_jieyoxi/prophet_28ba9a46e6fe4651aa5689bd0091a0a5/build/lib.macosx-11.0-arm64-cpython-38/prophet/stan_model/cmdstan-2.26.1/stan/lib/stan_math/lib/tbb/libtbb.dylib' (no such file), '/System/Volumes/Preboot/Cryptexes/OS/private/var/folders/4h/b2cqm88s3cl_l0lpwl10b69r0000gn/T/pip-install-_jieyoxi/prophet_28ba9a46e6fe4651aa5689bd0091a0a5/build/lib.macosx-11.0-arm64-cpython-38/prophet/stan_model/cmdstan-2.26.1/stan/lib/stan_math/lib/tbb/libtbb.dylib' (no such file), '/private/var/folders/4h/b2cqm88s3cl_l0lpwl10b69r0000gn/T/pip-install-_jieyoxi/prophet_28ba9a46e6fe4651aa5689bd0091a0a5/build/lib.macosx-11.0-arm64-cpython-38/prophet/stan_model/cmdstan-2.26.1/stan/lib/stan_math/lib/tbb/libtbb.dylib' (no such file), '/System/Volumes/Preboot/Cryptexes/OS/private/var/folders/4h/b2cqm88s3cl_l0lpwl10b69r0000gn/T/pip-install-_jieyoxi/prophet_28ba9a46e6fe4651aa5689bd0091a0a5/build/lib.macosx-11.0-arm64-cpython-38/prophet/stan_model/cmdstan-2.26.1/stan/lib/stan_math/lib/tbb/libtbb.dylib' (no such file), '/System/Volumes/Preboot/Cryptexes/OS@rpath/libtbb.dylib' (no such file), '/private/var/folders/4h/b2cqm88s3cl_l0lpwl10b69r0000gn/T/pip-install-_jieyoxi/prophet_28ba9a46e6fe4651aa5689bd0091a0a5/build/lib.macosx-11.0-arm64-cpython-38/prophet/stan_model/cmdstan-2.26.1/stan/lib/stan_math/lib/tbb/libtbb.dylib' (no such file), '/System/Volumes/Preboot/Cryptexes/OS/private/var/folders/4h/b2cqm88s3cl_l0lpwl10b69r0000gn/T/pip-install-_jieyoxi/prophet_28ba9a46e6fe4651aa5689bd0091a0a5/build/lib.macosx-11.0-arm64-cpython-38/prophet/stan_model/cmdstan-2.26.1/stan/lib/stan_math/lib/tbb/libtbb.dylib' (no such file), '/private/var/folders/4h/b2cqm88s3cl_l0lpwl10b69r0000gn/T/pip-install-_jieyoxi/prophet_28ba9a46e6fe4651aa5689bd0091a0a5/build/lib.macosx-11.0-arm64-cpython-38/prophet/stan_model/cmdstan-2.26.1/stan/lib/stan_math/lib/tbb/libtbb.dylib' (no such file), '/System/Volumes/Preboot/Cryptexes/OS/private/var/folders/4h/b2cqm88s3cl_l0lpwl10b69r0000gn/T/pip-install-_jieyoxi/prophet_28ba9a46e6fe4651aa5689bd0091a0a5/build/lib.macosx-11.0-arm64-cpython-38/prophet/stan_model/cmdstan-2.26.1/stan/lib/stan_math/lib/tbb/libtbb.dylib' (no such file), '/usr/local/lib/libtbb.dylib' (no such file), '/usr/lib/libtbb.dylib' (no such file, not in dyld cache)\n",
     "output_type": "error",
     "traceback": [
      "\u001b[0;31m---------------------------------------------------------------------------\u001b[0m",
      "\u001b[0;31mRuntimeError\u001b[0m                              Traceback (most recent call last)",
      "File \u001b[0;32m/opt/homebrew/Caskroom/miniforge/base/envs/sainthm/lib/python3.8/site-packages/prophet/models.py:96\u001b[0m, in \u001b[0;36mCmdStanPyBackend.fit\u001b[0;34m(self, stan_init, stan_data, **kwargs)\u001b[0m\n\u001b[1;32m     95\u001b[0m \u001b[38;5;28;01mtry\u001b[39;00m:\n\u001b[0;32m---> 96\u001b[0m     \u001b[38;5;28mself\u001b[39m\u001b[38;5;241m.\u001b[39mstan_fit \u001b[38;5;241m=\u001b[39m \u001b[38;5;28;43mself\u001b[39;49m\u001b[38;5;241;43m.\u001b[39;49m\u001b[43mmodel\u001b[49m\u001b[38;5;241;43m.\u001b[39;49m\u001b[43moptimize\u001b[49m\u001b[43m(\u001b[49m\u001b[38;5;241;43m*\u001b[39;49m\u001b[38;5;241;43m*\u001b[39;49m\u001b[43margs\u001b[49m\u001b[43m)\u001b[49m\n\u001b[1;32m     97\u001b[0m \u001b[38;5;28;01mexcept\u001b[39;00m \u001b[38;5;167;01mRuntimeError\u001b[39;00m \u001b[38;5;28;01mas\u001b[39;00m e:\n\u001b[1;32m     98\u001b[0m     \u001b[38;5;66;03m# Fall back on Newton\u001b[39;00m\n",
      "File \u001b[0;32m/opt/homebrew/Caskroom/miniforge/base/envs/sainthm/lib/python3.8/site-packages/cmdstanpy/model.py:725\u001b[0m, in \u001b[0;36mCmdStanModel.optimize\u001b[0;34m(self, data, seed, inits, output_dir, sig_figs, save_profile, algorithm, init_alpha, tol_obj, tol_rel_obj, tol_grad, tol_rel_grad, tol_param, history_size, iter, save_iterations, require_converged, show_console, refresh, time_fmt, timeout)\u001b[0m\n\u001b[1;32m    724\u001b[0m     \u001b[38;5;28;01melse\u001b[39;00m:\n\u001b[0;32m--> 725\u001b[0m         \u001b[38;5;28;01mraise\u001b[39;00m \u001b[38;5;167;01mRuntimeError\u001b[39;00m(msg)\n\u001b[1;32m    726\u001b[0m mle \u001b[38;5;241m=\u001b[39m CmdStanMLE(runset)\n",
      "\u001b[0;31mRuntimeError\u001b[0m: Error during optimization! Command '/opt/homebrew/Caskroom/miniforge/base/envs/sainthm/lib/python3.8/site-packages/prophet/stan_model/prophet_model.bin random seed=17756 data file=/var/folders/4h/b2cqm88s3cl_l0lpwl10b69r0000gn/T/tmpy7hejwwx/_07lv3vm.json init=/var/folders/4h/b2cqm88s3cl_l0lpwl10b69r0000gn/T/tmpy7hejwwx/hc94woux.json output file=/var/folders/4h/b2cqm88s3cl_l0lpwl10b69r0000gn/T/tmpy7hejwwx/prophet_modelk2n7yz54/prophet_model-20221114185146.csv method=optimize algorithm=lbfgs iter=10000' failed: console log output:\n\ndyld[24288]: Library not loaded: @rpath/libtbb.dylib\n  Referenced from: <5064D6A4-6525-33CA-A867-351973DF9790> /opt/homebrew/Caskroom/miniforge/base/envs/sainthm/lib/python3.8/site-packages/prophet/stan_model/prophet_model.bin\n  Reason: tried: '/private/var/folders/4h/b2cqm88s3cl_l0lpwl10b69r0000gn/T/pip-install-_jieyoxi/prophet_28ba9a46e6fe4651aa5689bd0091a0a5/build/lib.macosx-11.0-arm64-cpython-38/prophet/stan_model/cmdstan-2.26.1/stan/lib/stan_math/lib/tbb/libtbb.dylib' (no such file), '/System/Volumes/Preboot/Cryptexes/OS/private/var/folders/4h/b2cqm88s3cl_l0lpwl10b69r0000gn/T/pip-install-_jieyoxi/prophet_28ba9a46e6fe4651aa5689bd0091a0a5/build/lib.macosx-11.0-arm64-cpython-38/prophet/stan_model/cmdstan-2.26.1/stan/lib/stan_math/lib/tbb/libtbb.dylib' (no such file), '/private/var/folders/4h/b2cqm88s3cl_l0lpwl10b69r0000gn/T/pip-install-_jieyoxi/prophet_28ba9a46e6fe4651aa5689bd0091a0a5/build/lib.macosx-11.0-arm64-cpython-38/prophet/stan_model/cmdstan-2.26.1/stan/lib/stan_math/lib/tbb/libtbb.dylib' (no such file), '/System/Volumes/Preboot/Cryptexes/OS/private/var/folders/4h/b2cqm88s3cl_l0lpwl10b69r0000gn/T/pip-install-_jieyoxi/prophet_28ba9a46e6fe4651aa5689bd0091a0a5/build/lib.macosx-11.0-arm64-cpython-38/prophet/stan_model/cmdstan-2.26.1/stan/lib/stan_math/lib/tbb/libtbb.dylib' (no such file), '/System/Volumes/Preboot/Cryptexes/OS@rpath/libtbb.dylib' (no such file), '/private/var/folders/4h/b2cqm88s3cl_l0lpwl10b69r0000gn/T/pip-install-_jieyoxi/prophet_28ba9a46e6fe4651aa5689bd0091a0a5/build/lib.macosx-11.0-arm64-cpython-38/prophet/stan_model/cmdstan-2.26.1/stan/lib/stan_math/lib/tbb/libtbb.dylib' (no such file), '/System/Volumes/Preboot/Cryptexes/OS/private/var/folders/4h/b2cqm88s3cl_l0lpwl10b69r0000gn/T/pip-install-_jieyoxi/prophet_28ba9a46e6fe4651aa5689bd0091a0a5/build/lib.macosx-11.0-arm64-cpython-38/prophet/stan_model/cmdstan-2.26.1/stan/lib/stan_math/lib/tbb/libtbb.dylib' (no such file), '/private/var/folders/4h/b2cqm88s3cl_l0lpwl10b69r0000gn/T/pip-install-_jieyoxi/prophet_28ba9a46e6fe4651aa5689bd0091a0a5/build/lib.macosx-11.0-arm64-cpython-38/prophet/stan_model/cmdstan-2.26.1/stan/lib/stan_math/lib/tbb/libtbb.dylib' (no such file), '/System/Volumes/Preboot/Cryptexes/OS/private/var/folders/4h/b2cqm88s3cl_l0lpwl10b69r0000gn/T/pip-install-_jieyoxi/prophet_28ba9a46e6fe4651aa5689bd0091a0a5/build/lib.macosx-11.0-arm64-cpython-38/prophet/stan_model/cmdstan-2.26.1/stan/lib/stan_math/lib/tbb/libtbb.dylib' (no such file), '/usr/local/lib/libtbb.dylib' (no such file), '/usr/lib/libtbb.dylib' (no such file, not in dyld cache)\n",
      "\nDuring handling of the above exception, another exception occurred:\n",
      "\u001b[0;31mRuntimeError\u001b[0m                              Traceback (most recent call last)",
      "Cell \u001b[0;32mIn [14], line 2\u001b[0m\n\u001b[1;32m      1\u001b[0m \u001b[38;5;66;03m# Training!!\u001b[39;00m\n\u001b[0;32m----> 2\u001b[0m sample[\u001b[38;5;124m'\u001b[39m\u001b[38;5;124m광진구\u001b[39m\u001b[38;5;124m'\u001b[39m] \u001b[38;5;241m=\u001b[39m \u001b[43mpredict\u001b[49m\u001b[43m(\u001b[49m\u001b[43mtrain\u001b[49m\u001b[43m,\u001b[49m\u001b[43m \u001b[49m\u001b[38;5;124;43m'\u001b[39;49m\u001b[38;5;124;43m광진구\u001b[39;49m\u001b[38;5;124;43m'\u001b[39;49m\u001b[43m)\u001b[49m\n\u001b[1;32m      3\u001b[0m sample[\u001b[38;5;124m'\u001b[39m\u001b[38;5;124m동대문구\u001b[39m\u001b[38;5;124m'\u001b[39m] \u001b[38;5;241m=\u001b[39m predict(train, \u001b[38;5;124m'\u001b[39m\u001b[38;5;124m동대문구\u001b[39m\u001b[38;5;124m'\u001b[39m)\n\u001b[1;32m      4\u001b[0m sample[\u001b[38;5;124m'\u001b[39m\u001b[38;5;124m성동구\u001b[39m\u001b[38;5;124m'\u001b[39m] \u001b[38;5;241m=\u001b[39m predict(train, \u001b[38;5;124m'\u001b[39m\u001b[38;5;124m성동구\u001b[39m\u001b[38;5;124m'\u001b[39m)\n",
      "Cell \u001b[0;32mIn [13], line 8\u001b[0m, in \u001b[0;36mpredict\u001b[0;34m(train, column)\u001b[0m\n\u001b[1;32m      6\u001b[0m df[\u001b[38;5;124m'\u001b[39m\u001b[38;5;124mds\u001b[39m\u001b[38;5;124m'\u001b[39m] \u001b[38;5;241m=\u001b[39m train[\u001b[38;5;124m'\u001b[39m\u001b[38;5;124m일시\u001b[39m\u001b[38;5;124m'\u001b[39m]\n\u001b[1;32m      7\u001b[0m df[\u001b[38;5;124m'\u001b[39m\u001b[38;5;124my\u001b[39m\u001b[38;5;124m'\u001b[39m] \u001b[38;5;241m=\u001b[39m train[column]\n\u001b[0;32m----> 8\u001b[0m \u001b[43mmodel\u001b[49m\u001b[38;5;241;43m.\u001b[39;49m\u001b[43mfit\u001b[49m\u001b[43m(\u001b[49m\u001b[43mdf\u001b[49m\u001b[43m)\u001b[49m\n\u001b[1;32m      9\u001b[0m future \u001b[38;5;241m=\u001b[39m model\u001b[38;5;241m.\u001b[39mmake_future_dataframe(periods\u001b[38;5;241m=\u001b[39m\u001b[38;5;241m334\u001b[39m, freq\u001b[38;5;241m=\u001b[39m\u001b[38;5;124m'\u001b[39m\u001b[38;5;124mD\u001b[39m\u001b[38;5;124m'\u001b[39m)\n\u001b[1;32m     10\u001b[0m forecast \u001b[38;5;241m=\u001b[39m model\u001b[38;5;241m.\u001b[39mpredict(future)\n",
      "File \u001b[0;32m/opt/homebrew/Caskroom/miniforge/base/envs/sainthm/lib/python3.8/site-packages/prophet/forecaster.py:1174\u001b[0m, in \u001b[0;36mProphet.fit\u001b[0;34m(self, df, **kwargs)\u001b[0m\n\u001b[1;32m   1172\u001b[0m     \u001b[38;5;28mself\u001b[39m\u001b[38;5;241m.\u001b[39mparams \u001b[38;5;241m=\u001b[39m \u001b[38;5;28mself\u001b[39m\u001b[38;5;241m.\u001b[39mstan_backend\u001b[38;5;241m.\u001b[39msampling(stan_init, dat, \u001b[38;5;28mself\u001b[39m\u001b[38;5;241m.\u001b[39mmcmc_samples, \u001b[38;5;241m*\u001b[39m\u001b[38;5;241m*\u001b[39mkwargs)\n\u001b[1;32m   1173\u001b[0m \u001b[38;5;28;01melse\u001b[39;00m:\n\u001b[0;32m-> 1174\u001b[0m     \u001b[38;5;28mself\u001b[39m\u001b[38;5;241m.\u001b[39mparams \u001b[38;5;241m=\u001b[39m \u001b[38;5;28;43mself\u001b[39;49m\u001b[38;5;241;43m.\u001b[39;49m\u001b[43mstan_backend\u001b[49m\u001b[38;5;241;43m.\u001b[39;49m\u001b[43mfit\u001b[49m\u001b[43m(\u001b[49m\u001b[43mstan_init\u001b[49m\u001b[43m,\u001b[49m\u001b[43m \u001b[49m\u001b[43mdat\u001b[49m\u001b[43m,\u001b[49m\u001b[43m \u001b[49m\u001b[38;5;241;43m*\u001b[39;49m\u001b[38;5;241;43m*\u001b[39;49m\u001b[43mkwargs\u001b[49m\u001b[43m)\u001b[49m\n\u001b[1;32m   1176\u001b[0m \u001b[38;5;28mself\u001b[39m\u001b[38;5;241m.\u001b[39mstan_fit \u001b[38;5;241m=\u001b[39m \u001b[38;5;28mself\u001b[39m\u001b[38;5;241m.\u001b[39mstan_backend\u001b[38;5;241m.\u001b[39mstan_fit\n\u001b[1;32m   1177\u001b[0m \u001b[38;5;66;03m# If no changepoints were requested, replace delta with 0s\u001b[39;00m\n",
      "File \u001b[0;32m/opt/homebrew/Caskroom/miniforge/base/envs/sainthm/lib/python3.8/site-packages/prophet/models.py:103\u001b[0m, in \u001b[0;36mCmdStanPyBackend.fit\u001b[0;34m(self, stan_init, stan_data, **kwargs)\u001b[0m\n\u001b[1;32m    101\u001b[0m     logger\u001b[38;5;241m.\u001b[39mwarning(\u001b[38;5;124m'\u001b[39m\u001b[38;5;124mOptimization terminated abnormally. Falling back to Newton.\u001b[39m\u001b[38;5;124m'\u001b[39m)\n\u001b[1;32m    102\u001b[0m     args[\u001b[38;5;124m'\u001b[39m\u001b[38;5;124malgorithm\u001b[39m\u001b[38;5;124m'\u001b[39m] \u001b[38;5;241m=\u001b[39m \u001b[38;5;124m'\u001b[39m\u001b[38;5;124mNewton\u001b[39m\u001b[38;5;124m'\u001b[39m\n\u001b[0;32m--> 103\u001b[0m     \u001b[38;5;28mself\u001b[39m\u001b[38;5;241m.\u001b[39mstan_fit \u001b[38;5;241m=\u001b[39m \u001b[38;5;28;43mself\u001b[39;49m\u001b[38;5;241;43m.\u001b[39;49m\u001b[43mmodel\u001b[49m\u001b[38;5;241;43m.\u001b[39;49m\u001b[43moptimize\u001b[49m\u001b[43m(\u001b[49m\u001b[38;5;241;43m*\u001b[39;49m\u001b[38;5;241;43m*\u001b[39;49m\u001b[43margs\u001b[49m\u001b[43m)\u001b[49m\n\u001b[1;32m    104\u001b[0m params \u001b[38;5;241m=\u001b[39m \u001b[38;5;28mself\u001b[39m\u001b[38;5;241m.\u001b[39mstan_to_dict_numpy(\n\u001b[1;32m    105\u001b[0m     \u001b[38;5;28mself\u001b[39m\u001b[38;5;241m.\u001b[39mstan_fit\u001b[38;5;241m.\u001b[39mcolumn_names, \u001b[38;5;28mself\u001b[39m\u001b[38;5;241m.\u001b[39mstan_fit\u001b[38;5;241m.\u001b[39moptimized_params_np)\n\u001b[1;32m    106\u001b[0m \u001b[38;5;28;01mfor\u001b[39;00m par \u001b[38;5;129;01min\u001b[39;00m params:\n",
      "File \u001b[0;32m/opt/homebrew/Caskroom/miniforge/base/envs/sainthm/lib/python3.8/site-packages/cmdstanpy/model.py:725\u001b[0m, in \u001b[0;36mCmdStanModel.optimize\u001b[0;34m(self, data, seed, inits, output_dir, sig_figs, save_profile, algorithm, init_alpha, tol_obj, tol_rel_obj, tol_grad, tol_rel_grad, tol_param, history_size, iter, save_iterations, require_converged, show_console, refresh, time_fmt, timeout)\u001b[0m\n\u001b[1;32m    723\u001b[0m         get_logger()\u001b[38;5;241m.\u001b[39mwarning(msg)\n\u001b[1;32m    724\u001b[0m     \u001b[38;5;28;01melse\u001b[39;00m:\n\u001b[0;32m--> 725\u001b[0m         \u001b[38;5;28;01mraise\u001b[39;00m \u001b[38;5;167;01mRuntimeError\u001b[39;00m(msg)\n\u001b[1;32m    726\u001b[0m mle \u001b[38;5;241m=\u001b[39m CmdStanMLE(runset)\n\u001b[1;32m    727\u001b[0m \u001b[38;5;28;01mreturn\u001b[39;00m mle\n",
      "\u001b[0;31mRuntimeError\u001b[0m: Error during optimization! Command '/opt/homebrew/Caskroom/miniforge/base/envs/sainthm/lib/python3.8/site-packages/prophet/stan_model/prophet_model.bin random seed=77362 data file=/var/folders/4h/b2cqm88s3cl_l0lpwl10b69r0000gn/T/tmpy7hejwwx/cdb3qhin.json init=/var/folders/4h/b2cqm88s3cl_l0lpwl10b69r0000gn/T/tmpy7hejwwx/fbrcdetf.json output file=/var/folders/4h/b2cqm88s3cl_l0lpwl10b69r0000gn/T/tmpy7hejwwx/prophet_modelvqt6i1dj/prophet_model-20221114185146.csv method=optimize algorithm=newton iter=10000' failed: console log output:\n\ndyld[24289]: Library not loaded: @rpath/libtbb.dylib\n  Referenced from: <5064D6A4-6525-33CA-A867-351973DF9790> /opt/homebrew/Caskroom/miniforge/base/envs/sainthm/lib/python3.8/site-packages/prophet/stan_model/prophet_model.bin\n  Reason: tried: '/private/var/folders/4h/b2cqm88s3cl_l0lpwl10b69r0000gn/T/pip-install-_jieyoxi/prophet_28ba9a46e6fe4651aa5689bd0091a0a5/build/lib.macosx-11.0-arm64-cpython-38/prophet/stan_model/cmdstan-2.26.1/stan/lib/stan_math/lib/tbb/libtbb.dylib' (no such file), '/System/Volumes/Preboot/Cryptexes/OS/private/var/folders/4h/b2cqm88s3cl_l0lpwl10b69r0000gn/T/pip-install-_jieyoxi/prophet_28ba9a46e6fe4651aa5689bd0091a0a5/build/lib.macosx-11.0-arm64-cpython-38/prophet/stan_model/cmdstan-2.26.1/stan/lib/stan_math/lib/tbb/libtbb.dylib' (no such file), '/private/var/folders/4h/b2cqm88s3cl_l0lpwl10b69r0000gn/T/pip-install-_jieyoxi/prophet_28ba9a46e6fe4651aa5689bd0091a0a5/build/lib.macosx-11.0-arm64-cpython-38/prophet/stan_model/cmdstan-2.26.1/stan/lib/stan_math/lib/tbb/libtbb.dylib' (no such file), '/System/Volumes/Preboot/Cryptexes/OS/private/var/folders/4h/b2cqm88s3cl_l0lpwl10b69r0000gn/T/pip-install-_jieyoxi/prophet_28ba9a46e6fe4651aa5689bd0091a0a5/build/lib.macosx-11.0-arm64-cpython-38/prophet/stan_model/cmdstan-2.26.1/stan/lib/stan_math/lib/tbb/libtbb.dylib' (no such file), '/System/Volumes/Preboot/Cryptexes/OS@rpath/libtbb.dylib' (no such file), '/private/var/folders/4h/b2cqm88s3cl_l0lpwl10b69r0000gn/T/pip-install-_jieyoxi/prophet_28ba9a46e6fe4651aa5689bd0091a0a5/build/lib.macosx-11.0-arm64-cpython-38/prophet/stan_model/cmdstan-2.26.1/stan/lib/stan_math/lib/tbb/libtbb.dylib' (no such file), '/System/Volumes/Preboot/Cryptexes/OS/private/var/folders/4h/b2cqm88s3cl_l0lpwl10b69r0000gn/T/pip-install-_jieyoxi/prophet_28ba9a46e6fe4651aa5689bd0091a0a5/build/lib.macosx-11.0-arm64-cpython-38/prophet/stan_model/cmdstan-2.26.1/stan/lib/stan_math/lib/tbb/libtbb.dylib' (no such file), '/private/var/folders/4h/b2cqm88s3cl_l0lpwl10b69r0000gn/T/pip-install-_jieyoxi/prophet_28ba9a46e6fe4651aa5689bd0091a0a5/build/lib.macosx-11.0-arm64-cpython-38/prophet/stan_model/cmdstan-2.26.1/stan/lib/stan_math/lib/tbb/libtbb.dylib' (no such file), '/System/Volumes/Preboot/Cryptexes/OS/private/var/folders/4h/b2cqm88s3cl_l0lpwl10b69r0000gn/T/pip-install-_jieyoxi/prophet_28ba9a46e6fe4651aa5689bd0091a0a5/build/lib.macosx-11.0-arm64-cpython-38/prophet/stan_model/cmdstan-2.26.1/stan/lib/stan_math/lib/tbb/libtbb.dylib' (no such file), '/usr/local/lib/libtbb.dylib' (no such file), '/usr/lib/libtbb.dylib' (no such file, not in dyld cache)\n"
     ]
    }
   ],
   "source": [
    "# Training!!\n",
    "sample['광진구'] = predict(train, '광진구')\n",
    "sample['동대문구'] = predict(train, '동대문구')\n",
    "sample['성동구'] = predict(train, '성동구')\n",
    "sample['중랑구'] = predict(train, '중랑구')\n",
    "sample"
   ]
  },
  {
   "cell_type": "code",
   "execution_count": 16,
   "id": "2caa8975",
   "metadata": {},
   "outputs": [
    {
     "name": "stdout",
     "output_type": "stream",
     "text": [
      "UOS_2022.ipynb           dacon_236029_open.zip    train_all.csv\r\n",
      "\u001b[1m\u001b[36mdacon_236029_open\u001b[m\u001b[m        \u001b[1m\u001b[36mresult\u001b[m\u001b[m                   \u001b[31mtrain_test_all_2.numbers\u001b[m\u001b[m\r\n"
     ]
    }
   ],
   "source": [
    "!ls"
   ]
  },
  {
   "cell_type": "code",
   "execution_count": null,
   "id": "92016f76",
   "metadata": {},
   "outputs": [],
   "source": []
  },
  {
   "cell_type": "code",
   "execution_count": 17,
   "id": "9ebb4205",
   "metadata": {},
   "outputs": [
    {
     "name": "stderr",
     "output_type": "stream",
     "text": [
      "18:53:29 - cmdstanpy - INFO - Chain [1] start processing\n",
      "18:53:29 - cmdstanpy - INFO - Chain [1] done processing\n",
      "18:53:29 - cmdstanpy - ERROR - Chain [1] error: terminated by signal 6 Unknown error: -6\n",
      "Optimization terminated abnormally. Falling back to Newton.\n",
      "18:53:29 - cmdstanpy - INFO - Chain [1] start processing\n",
      "18:53:29 - cmdstanpy - INFO - Chain [1] done processing\n",
      "18:53:29 - cmdstanpy - ERROR - Chain [1] error: terminated by signal 6 Unknown error: -6\n"
     ]
    },
    {
     "ename": "RuntimeError",
     "evalue": "Error during optimization! Command '/opt/homebrew/Caskroom/miniforge/base/envs/sainthm/lib/python3.8/site-packages/prophet/stan_model/prophet_model.bin random seed=48463 data file=/var/folders/4h/b2cqm88s3cl_l0lpwl10b69r0000gn/T/tmpy7hejwwx/jii2tgup.json init=/var/folders/4h/b2cqm88s3cl_l0lpwl10b69r0000gn/T/tmpy7hejwwx/i5044w5p.json output file=/var/folders/4h/b2cqm88s3cl_l0lpwl10b69r0000gn/T/tmpy7hejwwx/prophet_modelxn2w0hsc/prophet_model-20221114185329.csv method=optimize algorithm=newton iter=10000' failed: console log output:\n\ndyld[24332]: Library not loaded: @rpath/libtbb.dylib\n  Referenced from: <5064D6A4-6525-33CA-A867-351973DF9790> /opt/homebrew/Caskroom/miniforge/base/envs/sainthm/lib/python3.8/site-packages/prophet/stan_model/prophet_model.bin\n  Reason: tried: '/private/var/folders/4h/b2cqm88s3cl_l0lpwl10b69r0000gn/T/pip-install-_jieyoxi/prophet_28ba9a46e6fe4651aa5689bd0091a0a5/build/lib.macosx-11.0-arm64-cpython-38/prophet/stan_model/cmdstan-2.26.1/stan/lib/stan_math/lib/tbb/libtbb.dylib' (no such file), '/System/Volumes/Preboot/Cryptexes/OS/private/var/folders/4h/b2cqm88s3cl_l0lpwl10b69r0000gn/T/pip-install-_jieyoxi/prophet_28ba9a46e6fe4651aa5689bd0091a0a5/build/lib.macosx-11.0-arm64-cpython-38/prophet/stan_model/cmdstan-2.26.1/stan/lib/stan_math/lib/tbb/libtbb.dylib' (no such file), '/private/var/folders/4h/b2cqm88s3cl_l0lpwl10b69r0000gn/T/pip-install-_jieyoxi/prophet_28ba9a46e6fe4651aa5689bd0091a0a5/build/lib.macosx-11.0-arm64-cpython-38/prophet/stan_model/cmdstan-2.26.1/stan/lib/stan_math/lib/tbb/libtbb.dylib' (no such file), '/System/Volumes/Preboot/Cryptexes/OS/private/var/folders/4h/b2cqm88s3cl_l0lpwl10b69r0000gn/T/pip-install-_jieyoxi/prophet_28ba9a46e6fe4651aa5689bd0091a0a5/build/lib.macosx-11.0-arm64-cpython-38/prophet/stan_model/cmdstan-2.26.1/stan/lib/stan_math/lib/tbb/libtbb.dylib' (no such file), '/System/Volumes/Preboot/Cryptexes/OS@rpath/libtbb.dylib' (no such file), '/private/var/folders/4h/b2cqm88s3cl_l0lpwl10b69r0000gn/T/pip-install-_jieyoxi/prophet_28ba9a46e6fe4651aa5689bd0091a0a5/build/lib.macosx-11.0-arm64-cpython-38/prophet/stan_model/cmdstan-2.26.1/stan/lib/stan_math/lib/tbb/libtbb.dylib' (no such file), '/System/Volumes/Preboot/Cryptexes/OS/private/var/folders/4h/b2cqm88s3cl_l0lpwl10b69r0000gn/T/pip-install-_jieyoxi/prophet_28ba9a46e6fe4651aa5689bd0091a0a5/build/lib.macosx-11.0-arm64-cpython-38/prophet/stan_model/cmdstan-2.26.1/stan/lib/stan_math/lib/tbb/libtbb.dylib' (no such file), '/private/var/folders/4h/b2cqm88s3cl_l0lpwl10b69r0000gn/T/pip-install-_jieyoxi/prophet_28ba9a46e6fe4651aa5689bd0091a0a5/build/lib.macosx-11.0-arm64-cpython-38/prophet/stan_model/cmdstan-2.26.1/stan/lib/stan_math/lib/tbb/libtbb.dylib' (no such file), '/System/Volumes/Preboot/Cryptexes/OS/private/var/folders/4h/b2cqm88s3cl_l0lpwl10b69r0000gn/T/pip-install-_jieyoxi/prophet_28ba9a46e6fe4651aa5689bd0091a0a5/build/lib.macosx-11.0-arm64-cpython-38/prophet/stan_model/cmdstan-2.26.1/stan/lib/stan_math/lib/tbb/libtbb.dylib' (no such file), '/usr/local/lib/libtbb.dylib' (no such file), '/usr/lib/libtbb.dylib' (no such file, not in dyld cache)\n",
     "output_type": "error",
     "traceback": [
      "\u001b[0;31m---------------------------------------------------------------------------\u001b[0m",
      "\u001b[0;31mRuntimeError\u001b[0m                              Traceback (most recent call last)",
      "File \u001b[0;32m/opt/homebrew/Caskroom/miniforge/base/envs/sainthm/lib/python3.8/site-packages/prophet/models.py:96\u001b[0m, in \u001b[0;36mCmdStanPyBackend.fit\u001b[0;34m(self, stan_init, stan_data, **kwargs)\u001b[0m\n\u001b[1;32m     95\u001b[0m \u001b[38;5;28;01mtry\u001b[39;00m:\n\u001b[0;32m---> 96\u001b[0m     \u001b[38;5;28mself\u001b[39m\u001b[38;5;241m.\u001b[39mstan_fit \u001b[38;5;241m=\u001b[39m \u001b[38;5;28;43mself\u001b[39;49m\u001b[38;5;241;43m.\u001b[39;49m\u001b[43mmodel\u001b[49m\u001b[38;5;241;43m.\u001b[39;49m\u001b[43moptimize\u001b[49m\u001b[43m(\u001b[49m\u001b[38;5;241;43m*\u001b[39;49m\u001b[38;5;241;43m*\u001b[39;49m\u001b[43margs\u001b[49m\u001b[43m)\u001b[49m\n\u001b[1;32m     97\u001b[0m \u001b[38;5;28;01mexcept\u001b[39;00m \u001b[38;5;167;01mRuntimeError\u001b[39;00m \u001b[38;5;28;01mas\u001b[39;00m e:\n\u001b[1;32m     98\u001b[0m     \u001b[38;5;66;03m# Fall back on Newton\u001b[39;00m\n",
      "File \u001b[0;32m/opt/homebrew/Caskroom/miniforge/base/envs/sainthm/lib/python3.8/site-packages/cmdstanpy/model.py:725\u001b[0m, in \u001b[0;36mCmdStanModel.optimize\u001b[0;34m(self, data, seed, inits, output_dir, sig_figs, save_profile, algorithm, init_alpha, tol_obj, tol_rel_obj, tol_grad, tol_rel_grad, tol_param, history_size, iter, save_iterations, require_converged, show_console, refresh, time_fmt, timeout)\u001b[0m\n\u001b[1;32m    724\u001b[0m     \u001b[38;5;28;01melse\u001b[39;00m:\n\u001b[0;32m--> 725\u001b[0m         \u001b[38;5;28;01mraise\u001b[39;00m \u001b[38;5;167;01mRuntimeError\u001b[39;00m(msg)\n\u001b[1;32m    726\u001b[0m mle \u001b[38;5;241m=\u001b[39m CmdStanMLE(runset)\n",
      "\u001b[0;31mRuntimeError\u001b[0m: Error during optimization! Command '/opt/homebrew/Caskroom/miniforge/base/envs/sainthm/lib/python3.8/site-packages/prophet/stan_model/prophet_model.bin random seed=95441 data file=/var/folders/4h/b2cqm88s3cl_l0lpwl10b69r0000gn/T/tmpy7hejwwx/5l33d0ds.json init=/var/folders/4h/b2cqm88s3cl_l0lpwl10b69r0000gn/T/tmpy7hejwwx/otp0cfqt.json output file=/var/folders/4h/b2cqm88s3cl_l0lpwl10b69r0000gn/T/tmpy7hejwwx/prophet_modelhurf9hqj/prophet_model-20221114185329.csv method=optimize algorithm=lbfgs iter=10000' failed: console log output:\n\ndyld[24331]: Library not loaded: @rpath/libtbb.dylib\n  Referenced from: <5064D6A4-6525-33CA-A867-351973DF9790> /opt/homebrew/Caskroom/miniforge/base/envs/sainthm/lib/python3.8/site-packages/prophet/stan_model/prophet_model.bin\n  Reason: tried: '/private/var/folders/4h/b2cqm88s3cl_l0lpwl10b69r0000gn/T/pip-install-_jieyoxi/prophet_28ba9a46e6fe4651aa5689bd0091a0a5/build/lib.macosx-11.0-arm64-cpython-38/prophet/stan_model/cmdstan-2.26.1/stan/lib/stan_math/lib/tbb/libtbb.dylib' (no such file), '/System/Volumes/Preboot/Cryptexes/OS/private/var/folders/4h/b2cqm88s3cl_l0lpwl10b69r0000gn/T/pip-install-_jieyoxi/prophet_28ba9a46e6fe4651aa5689bd0091a0a5/build/lib.macosx-11.0-arm64-cpython-38/prophet/stan_model/cmdstan-2.26.1/stan/lib/stan_math/lib/tbb/libtbb.dylib' (no such file), '/private/var/folders/4h/b2cqm88s3cl_l0lpwl10b69r0000gn/T/pip-install-_jieyoxi/prophet_28ba9a46e6fe4651aa5689bd0091a0a5/build/lib.macosx-11.0-arm64-cpython-38/prophet/stan_model/cmdstan-2.26.1/stan/lib/stan_math/lib/tbb/libtbb.dylib' (no such file), '/System/Volumes/Preboot/Cryptexes/OS/private/var/folders/4h/b2cqm88s3cl_l0lpwl10b69r0000gn/T/pip-install-_jieyoxi/prophet_28ba9a46e6fe4651aa5689bd0091a0a5/build/lib.macosx-11.0-arm64-cpython-38/prophet/stan_model/cmdstan-2.26.1/stan/lib/stan_math/lib/tbb/libtbb.dylib' (no such file), '/System/Volumes/Preboot/Cryptexes/OS@rpath/libtbb.dylib' (no such file), '/private/var/folders/4h/b2cqm88s3cl_l0lpwl10b69r0000gn/T/pip-install-_jieyoxi/prophet_28ba9a46e6fe4651aa5689bd0091a0a5/build/lib.macosx-11.0-arm64-cpython-38/prophet/stan_model/cmdstan-2.26.1/stan/lib/stan_math/lib/tbb/libtbb.dylib' (no such file), '/System/Volumes/Preboot/Cryptexes/OS/private/var/folders/4h/b2cqm88s3cl_l0lpwl10b69r0000gn/T/pip-install-_jieyoxi/prophet_28ba9a46e6fe4651aa5689bd0091a0a5/build/lib.macosx-11.0-arm64-cpython-38/prophet/stan_model/cmdstan-2.26.1/stan/lib/stan_math/lib/tbb/libtbb.dylib' (no such file), '/private/var/folders/4h/b2cqm88s3cl_l0lpwl10b69r0000gn/T/pip-install-_jieyoxi/prophet_28ba9a46e6fe4651aa5689bd0091a0a5/build/lib.macosx-11.0-arm64-cpython-38/prophet/stan_model/cmdstan-2.26.1/stan/lib/stan_math/lib/tbb/libtbb.dylib' (no such file), '/System/Volumes/Preboot/Cryptexes/OS/private/var/folders/4h/b2cqm88s3cl_l0lpwl10b69r0000gn/T/pip-install-_jieyoxi/prophet_28ba9a46e6fe4651aa5689bd0091a0a5/build/lib.macosx-11.0-arm64-cpython-38/prophet/stan_model/cmdstan-2.26.1/stan/lib/stan_math/lib/tbb/libtbb.dylib' (no such file), '/usr/local/lib/libtbb.dylib' (no such file), '/usr/lib/libtbb.dylib' (no such file, not in dyld cache)\n",
      "\nDuring handling of the above exception, another exception occurred:\n",
      "\u001b[0;31mRuntimeError\u001b[0m                              Traceback (most recent call last)",
      "Cell \u001b[0;32mIn [17], line 23\u001b[0m\n\u001b[1;32m     20\u001b[0m     forecast \u001b[38;5;241m=\u001b[39m model\u001b[38;5;241m.\u001b[39mpredict(future)\n\u001b[1;32m     21\u001b[0m     \u001b[38;5;28;01mreturn\u001b[39;00m forecast\u001b[38;5;241m.\u001b[39mloc[\u001b[38;5;241m1461\u001b[39m:, \u001b[38;5;124m'\u001b[39m\u001b[38;5;124myhat\u001b[39m\u001b[38;5;124m'\u001b[39m]\u001b[38;5;241m.\u001b[39mvalues\n\u001b[0;32m---> 23\u001b[0m sample[\u001b[38;5;124m'\u001b[39m\u001b[38;5;124m광진구\u001b[39m\u001b[38;5;124m'\u001b[39m] \u001b[38;5;241m=\u001b[39m \u001b[43m예측하기\u001b[49m\u001b[43m(\u001b[49m\u001b[43mtrain\u001b[49m\u001b[43m,\u001b[49m\u001b[43m \u001b[49m\u001b[38;5;124;43m'\u001b[39;49m\u001b[38;5;124;43m광진구\u001b[39;49m\u001b[38;5;124;43m'\u001b[39;49m\u001b[43m)\u001b[49m\n\u001b[1;32m     24\u001b[0m sample[\u001b[38;5;124m'\u001b[39m\u001b[38;5;124m동대문구\u001b[39m\u001b[38;5;124m'\u001b[39m] \u001b[38;5;241m=\u001b[39m 예측하기(train, \u001b[38;5;124m'\u001b[39m\u001b[38;5;124m동대문구\u001b[39m\u001b[38;5;124m'\u001b[39m)\n\u001b[1;32m     25\u001b[0m sample[\u001b[38;5;124m'\u001b[39m\u001b[38;5;124m성동구\u001b[39m\u001b[38;5;124m'\u001b[39m] \u001b[38;5;241m=\u001b[39m 예측하기(train, \u001b[38;5;124m'\u001b[39m\u001b[38;5;124m성동구\u001b[39m\u001b[38;5;124m'\u001b[39m)\n",
      "Cell \u001b[0;32mIn [17], line 18\u001b[0m, in \u001b[0;36m예측하기\u001b[0;34m(train, column)\u001b[0m\n\u001b[1;32m     16\u001b[0m df[\u001b[38;5;124m'\u001b[39m\u001b[38;5;124mds\u001b[39m\u001b[38;5;124m'\u001b[39m] \u001b[38;5;241m=\u001b[39m train[\u001b[38;5;124m'\u001b[39m\u001b[38;5;124m일시\u001b[39m\u001b[38;5;124m'\u001b[39m]\n\u001b[1;32m     17\u001b[0m df[\u001b[38;5;124m'\u001b[39m\u001b[38;5;124my\u001b[39m\u001b[38;5;124m'\u001b[39m] \u001b[38;5;241m=\u001b[39m train[column]\n\u001b[0;32m---> 18\u001b[0m \u001b[43mmodel\u001b[49m\u001b[38;5;241;43m.\u001b[39;49m\u001b[43mfit\u001b[49m\u001b[43m(\u001b[49m\u001b[43mdf\u001b[49m\u001b[43m)\u001b[49m\n\u001b[1;32m     19\u001b[0m future \u001b[38;5;241m=\u001b[39m model\u001b[38;5;241m.\u001b[39mmake_future_dataframe(periods\u001b[38;5;241m=\u001b[39m\u001b[38;5;241m334\u001b[39m, freq\u001b[38;5;241m=\u001b[39m\u001b[38;5;124m'\u001b[39m\u001b[38;5;124mD\u001b[39m\u001b[38;5;124m'\u001b[39m)\n\u001b[1;32m     20\u001b[0m forecast \u001b[38;5;241m=\u001b[39m model\u001b[38;5;241m.\u001b[39mpredict(future)\n",
      "File \u001b[0;32m/opt/homebrew/Caskroom/miniforge/base/envs/sainthm/lib/python3.8/site-packages/prophet/forecaster.py:1174\u001b[0m, in \u001b[0;36mProphet.fit\u001b[0;34m(self, df, **kwargs)\u001b[0m\n\u001b[1;32m   1172\u001b[0m     \u001b[38;5;28mself\u001b[39m\u001b[38;5;241m.\u001b[39mparams \u001b[38;5;241m=\u001b[39m \u001b[38;5;28mself\u001b[39m\u001b[38;5;241m.\u001b[39mstan_backend\u001b[38;5;241m.\u001b[39msampling(stan_init, dat, \u001b[38;5;28mself\u001b[39m\u001b[38;5;241m.\u001b[39mmcmc_samples, \u001b[38;5;241m*\u001b[39m\u001b[38;5;241m*\u001b[39mkwargs)\n\u001b[1;32m   1173\u001b[0m \u001b[38;5;28;01melse\u001b[39;00m:\n\u001b[0;32m-> 1174\u001b[0m     \u001b[38;5;28mself\u001b[39m\u001b[38;5;241m.\u001b[39mparams \u001b[38;5;241m=\u001b[39m \u001b[38;5;28;43mself\u001b[39;49m\u001b[38;5;241;43m.\u001b[39;49m\u001b[43mstan_backend\u001b[49m\u001b[38;5;241;43m.\u001b[39;49m\u001b[43mfit\u001b[49m\u001b[43m(\u001b[49m\u001b[43mstan_init\u001b[49m\u001b[43m,\u001b[49m\u001b[43m \u001b[49m\u001b[43mdat\u001b[49m\u001b[43m,\u001b[49m\u001b[43m \u001b[49m\u001b[38;5;241;43m*\u001b[39;49m\u001b[38;5;241;43m*\u001b[39;49m\u001b[43mkwargs\u001b[49m\u001b[43m)\u001b[49m\n\u001b[1;32m   1176\u001b[0m \u001b[38;5;28mself\u001b[39m\u001b[38;5;241m.\u001b[39mstan_fit \u001b[38;5;241m=\u001b[39m \u001b[38;5;28mself\u001b[39m\u001b[38;5;241m.\u001b[39mstan_backend\u001b[38;5;241m.\u001b[39mstan_fit\n\u001b[1;32m   1177\u001b[0m \u001b[38;5;66;03m# If no changepoints were requested, replace delta with 0s\u001b[39;00m\n",
      "File \u001b[0;32m/opt/homebrew/Caskroom/miniforge/base/envs/sainthm/lib/python3.8/site-packages/prophet/models.py:103\u001b[0m, in \u001b[0;36mCmdStanPyBackend.fit\u001b[0;34m(self, stan_init, stan_data, **kwargs)\u001b[0m\n\u001b[1;32m    101\u001b[0m     logger\u001b[38;5;241m.\u001b[39mwarning(\u001b[38;5;124m'\u001b[39m\u001b[38;5;124mOptimization terminated abnormally. Falling back to Newton.\u001b[39m\u001b[38;5;124m'\u001b[39m)\n\u001b[1;32m    102\u001b[0m     args[\u001b[38;5;124m'\u001b[39m\u001b[38;5;124malgorithm\u001b[39m\u001b[38;5;124m'\u001b[39m] \u001b[38;5;241m=\u001b[39m \u001b[38;5;124m'\u001b[39m\u001b[38;5;124mNewton\u001b[39m\u001b[38;5;124m'\u001b[39m\n\u001b[0;32m--> 103\u001b[0m     \u001b[38;5;28mself\u001b[39m\u001b[38;5;241m.\u001b[39mstan_fit \u001b[38;5;241m=\u001b[39m \u001b[38;5;28;43mself\u001b[39;49m\u001b[38;5;241;43m.\u001b[39;49m\u001b[43mmodel\u001b[49m\u001b[38;5;241;43m.\u001b[39;49m\u001b[43moptimize\u001b[49m\u001b[43m(\u001b[49m\u001b[38;5;241;43m*\u001b[39;49m\u001b[38;5;241;43m*\u001b[39;49m\u001b[43margs\u001b[49m\u001b[43m)\u001b[49m\n\u001b[1;32m    104\u001b[0m params \u001b[38;5;241m=\u001b[39m \u001b[38;5;28mself\u001b[39m\u001b[38;5;241m.\u001b[39mstan_to_dict_numpy(\n\u001b[1;32m    105\u001b[0m     \u001b[38;5;28mself\u001b[39m\u001b[38;5;241m.\u001b[39mstan_fit\u001b[38;5;241m.\u001b[39mcolumn_names, \u001b[38;5;28mself\u001b[39m\u001b[38;5;241m.\u001b[39mstan_fit\u001b[38;5;241m.\u001b[39moptimized_params_np)\n\u001b[1;32m    106\u001b[0m \u001b[38;5;28;01mfor\u001b[39;00m par \u001b[38;5;129;01min\u001b[39;00m params:\n",
      "File \u001b[0;32m/opt/homebrew/Caskroom/miniforge/base/envs/sainthm/lib/python3.8/site-packages/cmdstanpy/model.py:725\u001b[0m, in \u001b[0;36mCmdStanModel.optimize\u001b[0;34m(self, data, seed, inits, output_dir, sig_figs, save_profile, algorithm, init_alpha, tol_obj, tol_rel_obj, tol_grad, tol_rel_grad, tol_param, history_size, iter, save_iterations, require_converged, show_console, refresh, time_fmt, timeout)\u001b[0m\n\u001b[1;32m    723\u001b[0m         get_logger()\u001b[38;5;241m.\u001b[39mwarning(msg)\n\u001b[1;32m    724\u001b[0m     \u001b[38;5;28;01melse\u001b[39;00m:\n\u001b[0;32m--> 725\u001b[0m         \u001b[38;5;28;01mraise\u001b[39;00m \u001b[38;5;167;01mRuntimeError\u001b[39;00m(msg)\n\u001b[1;32m    726\u001b[0m mle \u001b[38;5;241m=\u001b[39m CmdStanMLE(runset)\n\u001b[1;32m    727\u001b[0m \u001b[38;5;28;01mreturn\u001b[39;00m mle\n",
      "\u001b[0;31mRuntimeError\u001b[0m: Error during optimization! Command '/opt/homebrew/Caskroom/miniforge/base/envs/sainthm/lib/python3.8/site-packages/prophet/stan_model/prophet_model.bin random seed=48463 data file=/var/folders/4h/b2cqm88s3cl_l0lpwl10b69r0000gn/T/tmpy7hejwwx/jii2tgup.json init=/var/folders/4h/b2cqm88s3cl_l0lpwl10b69r0000gn/T/tmpy7hejwwx/i5044w5p.json output file=/var/folders/4h/b2cqm88s3cl_l0lpwl10b69r0000gn/T/tmpy7hejwwx/prophet_modelxn2w0hsc/prophet_model-20221114185329.csv method=optimize algorithm=newton iter=10000' failed: console log output:\n\ndyld[24332]: Library not loaded: @rpath/libtbb.dylib\n  Referenced from: <5064D6A4-6525-33CA-A867-351973DF9790> /opt/homebrew/Caskroom/miniforge/base/envs/sainthm/lib/python3.8/site-packages/prophet/stan_model/prophet_model.bin\n  Reason: tried: '/private/var/folders/4h/b2cqm88s3cl_l0lpwl10b69r0000gn/T/pip-install-_jieyoxi/prophet_28ba9a46e6fe4651aa5689bd0091a0a5/build/lib.macosx-11.0-arm64-cpython-38/prophet/stan_model/cmdstan-2.26.1/stan/lib/stan_math/lib/tbb/libtbb.dylib' (no such file), '/System/Volumes/Preboot/Cryptexes/OS/private/var/folders/4h/b2cqm88s3cl_l0lpwl10b69r0000gn/T/pip-install-_jieyoxi/prophet_28ba9a46e6fe4651aa5689bd0091a0a5/build/lib.macosx-11.0-arm64-cpython-38/prophet/stan_model/cmdstan-2.26.1/stan/lib/stan_math/lib/tbb/libtbb.dylib' (no such file), '/private/var/folders/4h/b2cqm88s3cl_l0lpwl10b69r0000gn/T/pip-install-_jieyoxi/prophet_28ba9a46e6fe4651aa5689bd0091a0a5/build/lib.macosx-11.0-arm64-cpython-38/prophet/stan_model/cmdstan-2.26.1/stan/lib/stan_math/lib/tbb/libtbb.dylib' (no such file), '/System/Volumes/Preboot/Cryptexes/OS/private/var/folders/4h/b2cqm88s3cl_l0lpwl10b69r0000gn/T/pip-install-_jieyoxi/prophet_28ba9a46e6fe4651aa5689bd0091a0a5/build/lib.macosx-11.0-arm64-cpython-38/prophet/stan_model/cmdstan-2.26.1/stan/lib/stan_math/lib/tbb/libtbb.dylib' (no such file), '/System/Volumes/Preboot/Cryptexes/OS@rpath/libtbb.dylib' (no such file), '/private/var/folders/4h/b2cqm88s3cl_l0lpwl10b69r0000gn/T/pip-install-_jieyoxi/prophet_28ba9a46e6fe4651aa5689bd0091a0a5/build/lib.macosx-11.0-arm64-cpython-38/prophet/stan_model/cmdstan-2.26.1/stan/lib/stan_math/lib/tbb/libtbb.dylib' (no such file), '/System/Volumes/Preboot/Cryptexes/OS/private/var/folders/4h/b2cqm88s3cl_l0lpwl10b69r0000gn/T/pip-install-_jieyoxi/prophet_28ba9a46e6fe4651aa5689bd0091a0a5/build/lib.macosx-11.0-arm64-cpython-38/prophet/stan_model/cmdstan-2.26.1/stan/lib/stan_math/lib/tbb/libtbb.dylib' (no such file), '/private/var/folders/4h/b2cqm88s3cl_l0lpwl10b69r0000gn/T/pip-install-_jieyoxi/prophet_28ba9a46e6fe4651aa5689bd0091a0a5/build/lib.macosx-11.0-arm64-cpython-38/prophet/stan_model/cmdstan-2.26.1/stan/lib/stan_math/lib/tbb/libtbb.dylib' (no such file), '/System/Volumes/Preboot/Cryptexes/OS/private/var/folders/4h/b2cqm88s3cl_l0lpwl10b69r0000gn/T/pip-install-_jieyoxi/prophet_28ba9a46e6fe4651aa5689bd0091a0a5/build/lib.macosx-11.0-arm64-cpython-38/prophet/stan_model/cmdstan-2.26.1/stan/lib/stan_math/lib/tbb/libtbb.dylib' (no such file), '/usr/local/lib/libtbb.dylib' (no such file), '/usr/lib/libtbb.dylib' (no such file, not in dyld cache)\n"
     ]
    }
   ],
   "source": [
    "# Reference: jjooki\n",
    "\n",
    "## 정리된 코드입니다.\n",
    "\n",
    "from prophet import Prophet\n",
    "import pandas as pd\n",
    "\n",
    "train = pd.read_csv('./dacon_236029_open/train.csv')\n",
    "sample = pd.read_csv('./dacon_236029_open/sample_submission.csv')\n",
    "\n",
    "train['일시'] = pd.to_datetime(train['일시'], format='%Y%m%d')\n",
    "\n",
    "def 예측하기(train, column):\n",
    "    model = Prophet()\n",
    "    df = pd.DataFrame()\n",
    "    df['ds'] = train['일시']\n",
    "    df['y'] = train[column]\n",
    "    model.fit(df)\n",
    "    future = model.make_future_dataframe(periods=334, freq='D')\n",
    "    forecast = model.predict(future)\n",
    "    return forecast.loc[1461:, 'yhat'].values\n",
    "\n",
    "sample['광진구'] = 예측하기(train, '광진구')\n",
    "sample['동대문구'] = 예측하기(train, '동대문구')\n",
    "sample['성동구'] = 예측하기(train, '성동구')\n",
    "sample['중랑구'] = 예측하기(train, '중랑구')\n",
    "sample\n",
    "sample.to_csv('./submission.csv', index=False)"
   ]
  },
  {
   "cell_type": "code",
   "execution_count": null,
   "id": "6badbad0",
   "metadata": {},
   "outputs": [],
   "source": []
  },
  {
   "cell_type": "code",
   "execution_count": null,
   "id": "9e93359c",
   "metadata": {},
   "outputs": [],
   "source": []
  },
  {
   "cell_type": "code",
   "execution_count": null,
   "id": "66d4df17",
   "metadata": {},
   "outputs": [],
   "source": []
  },
  {
   "cell_type": "code",
   "execution_count": null,
   "id": "c761fd74",
   "metadata": {},
   "outputs": [],
   "source": []
  },
  {
   "cell_type": "code",
   "execution_count": null,
   "id": "2f71851d",
   "metadata": {},
   "outputs": [],
   "source": []
  },
  {
   "cell_type": "code",
   "execution_count": null,
   "id": "d3f8e7e5",
   "metadata": {},
   "outputs": [],
   "source": []
  },
  {
   "cell_type": "code",
   "execution_count": null,
   "id": "a2ee58c3",
   "metadata": {},
   "outputs": [],
   "source": []
  },
  {
   "cell_type": "code",
   "execution_count": null,
   "id": "6d049945",
   "metadata": {},
   "outputs": [],
   "source": []
  },
  {
   "cell_type": "code",
   "execution_count": null,
   "id": "e23ba840",
   "metadata": {},
   "outputs": [],
   "source": []
  },
  {
   "cell_type": "code",
   "execution_count": null,
   "id": "2fc27ac3",
   "metadata": {},
   "outputs": [],
   "source": []
  },
  {
   "cell_type": "code",
   "execution_count": null,
   "id": "0df1f6e0",
   "metadata": {},
   "outputs": [],
   "source": []
  },
  {
   "cell_type": "code",
   "execution_count": null,
   "id": "b53daca6",
   "metadata": {},
   "outputs": [],
   "source": []
  }
 ],
 "metadata": {
  "kernelspec": {
   "display_name": "Python 3 (ipykernel)",
   "language": "python",
   "name": "python3"
  },
  "language_info": {
   "codemirror_mode": {
    "name": "ipython",
    "version": 3
   },
   "file_extension": ".py",
   "mimetype": "text/x-python",
   "name": "python",
   "nbconvert_exporter": "python",
   "pygments_lexer": "ipython3",
   "version": "3.8.13"
  }
 },
 "nbformat": 4,
 "nbformat_minor": 5
}

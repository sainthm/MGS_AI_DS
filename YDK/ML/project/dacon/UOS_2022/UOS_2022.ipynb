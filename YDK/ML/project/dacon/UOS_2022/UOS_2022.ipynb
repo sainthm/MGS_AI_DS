{
 "cells": [
  {
   "cell_type": "markdown",
   "id": "315f5c59",
   "metadata": {},
   "source": [
    "# 2022 UOS Big Data Algorithm Competition"
   ]
  },
  {
   "cell_type": "markdown",
   "id": "9f051e59",
   "metadata": {},
   "source": [
    "## Details of competition\n",
    "\n",
    "<br>\n",
    "\n",
    "### URL: https://dacon.io/competitions/official/236029/overview/description\n",
    "\n",
    "<br>\n",
    "\n",
    "### Topic\n",
    "\n",
    "서울시 지역구별 **따릉이 대여량 예측 모델 개발**\n",
    "\n",
    "<br>\n",
    "\n",
    "### Background\n",
    "\n",
    "전 세계의 많은 도시가 교통 정체와 대기 오염의 감축을 위해 공유 자전거 시스템을 도입하고 있으며, 국내의 경우에는 대표적으로 2015년부터 서울시에서 서비스 중인 '따릉이'라는 공유 자전거 시스템이 있습니다.\n",
    "\n",
    "\n",
    "따릉이 이용객이 증가함에 따라 각 지역구에서 공유 자전거 수요는 증가하고 있지만, 한정된 예산하에서 수요를 관리하기 때문에 운영과 관리에 어려움이 존재합니다.\n",
    "\n",
    "\n",
    "또한 최근에는 코로나로 인한 사회적 거리두기가 해제되면서 서울시의 따릉이 수요는 나날이 급증하고 있습니다.\n",
    "\n",
    "\n",
    "따라서 다음 해의 서울시 지역구별 따릉이 수요를 정확히 예측할 수 있다면 대여소의 확장, 공유 자전거 신규 도입 등에 더 효율적으로 예산을 활용할 수 있을 것입니다.\n",
    "\n",
    "\n",
    "이번 경진대회에서 따릉이의 효율적인 운영과 관리에 도움을 줄 수 있는 서울시 지역구별 따릉이 대여량 예측 AI 모델을 만들어 주세요.\n",
    "\n",
    "\n",
    "<br>\n"
   ]
  },
  {
   "cell_type": "markdown",
   "id": "0607ed14",
   "metadata": {},
   "source": [
    "## Details of data\n",
    "\n",
    "<br>\n",
    "\n",
    "### train.csv [파일]\n",
    "\n",
    "\n",
    "- 2018년 01월 01일 ~ 2021년 12월 31일까지의 지역구별 따릉이 대여량\n",
    "- 일시 : 년월일\n",
    "- 광진구 : 광진구의 일별 따릉이 대여량 (천명 단위)\n",
    "- 동대문구 : 동대문구의 일별 따릉이 대여량 (천명 단위)\n",
    "- 성동구 : 성동구의 일별 따릉이 대여량 (천명 단위)\n",
    "- 중랑구 : 중랑구의 일별 따릉이 대여량 (천명 단위)\n",
    "\n",
    "<br>\n",
    "\n",
    "### sample_submission.csv [제출양식]\n",
    "\n",
    "\n",
    "- 2022년 01월 01일 ~ 2022년 11월 30일까지의 예측한 지역구별 따릉이 대여(수요)량\n",
    "- 일시 : 년월일\n",
    "- 광진구 : 광진구의 일별 따릉이 대여량 (천명 단위)\n",
    "- 동대문구 : 동대문구의 일별 따릉이 대여량 (천명 단위)\n",
    "- 성동구 : 성동구의 일별 따릉이 대여량 (천명 단위)\n",
    "- 중랑구 : 중랑구의 일별 따릉이 대여량 (천명 단위)\n",
    "\n",
    "<br>\n",
    "\n",
    "### 추천 공공 데이터\n",
    "\n",
    "\n",
    "- 아래의 링크에서 외부 변수들을 추가로 활용할 수 있는 외부 데이터를 탐색할 수 있습니다.\n",
    "- 서울시 열린데이터 광장 링크: https://data.seoul.go.kr/\n",
    "- 단, 외부 데이터 사용 규칙을 꼭 유의하여 사용해주시기 바랍니다.\n",
    "\n",
    "<br>\n"
   ]
  },
  {
   "cell_type": "code",
   "execution_count": null,
   "id": "5d3f63b7",
   "metadata": {},
   "outputs": [],
   "source": []
  },
  {
   "cell_type": "markdown",
   "id": "6bbff652",
   "metadata": {},
   "source": [
    "## 1. Derive results using Excel only"
   ]
  },
  {
   "cell_type": "markdown",
   "id": "c331e44d",
   "metadata": {},
   "source": [
    "## 놀랍게도 결과는 3등!!\n",
    "- Score: 3.86611"
   ]
  },
  {
   "cell_type": "code",
   "execution_count": null,
   "id": "0aeac9f3",
   "metadata": {},
   "outputs": [],
   "source": []
  },
  {
   "cell_type": "markdown",
   "id": "589850cd",
   "metadata": {},
   "source": [
    "## 2. Derive results using prophet"
   ]
  },
  {
   "cell_type": "code",
   "execution_count": 1,
   "id": "ac4a3d64",
   "metadata": {},
   "outputs": [],
   "source": [
    "# import basic module\n",
    "import pandas as pd\n",
    "import numpy as np\n",
    "import matplotlib.pyplot as plt\n",
    "import seaborn as sns"
   ]
  },
  {
   "cell_type": "code",
   "execution_count": 2,
   "id": "cc64fc4d",
   "metadata": {},
   "outputs": [
    {
     "name": "stdout",
     "output_type": "stream",
     "text": [
      "Installing CmdStan version: 2.30.1\n",
      "Install directory: /Users/sainthm/.cmdstan\n",
      "CmdStan version 2.30.1 already installed\n"
     ]
    },
    {
     "data": {
      "text/plain": [
       "True"
      ]
     },
     "execution_count": 2,
     "metadata": {},
     "output_type": "execute_result"
    }
   ],
   "source": [
    "import cmdstanpy\n",
    "cmdstanpy.install_cmdstan()"
   ]
  },
  {
   "cell_type": "code",
   "execution_count": 2,
   "id": "32aae035",
   "metadata": {},
   "outputs": [
    {
     "name": "stdout",
     "output_type": "stream",
     "text": [
      "UOS_2022.ipynb                        submission_11-14-2022 19:28:33 PM.csv\r\n",
      "\u001b[1m\u001b[36mdacon_236029_open\u001b[m\u001b[m                     submission_11-14-2022 19:31:33 PM.csv\r\n",
      "dacon_236029_open.zip                 train_all.csv\r\n",
      "\u001b[1m\u001b[36mresult\u001b[m\u001b[m                                \u001b[31mtrain_test_all_2.numbers\u001b[m\u001b[m\r\n"
     ]
    }
   ],
   "source": [
    "# pwd & file check\n",
    "!ls"
   ]
  },
  {
   "cell_type": "code",
   "execution_count": 3,
   "id": "b47637e6",
   "metadata": {},
   "outputs": [],
   "source": [
    "# !pip install prophet"
   ]
  },
  {
   "cell_type": "code",
   "execution_count": 3,
   "id": "f0180054",
   "metadata": {},
   "outputs": [
    {
     "ename": "ModuleNotFoundError",
     "evalue": "No module named 'prophet'",
     "output_type": "error",
     "traceback": [
      "\u001b[0;31m---------------------------------------------------------------------------\u001b[0m",
      "\u001b[0;31mModuleNotFoundError\u001b[0m                       Traceback (most recent call last)",
      "Cell \u001b[0;32mIn [3], line 3\u001b[0m\n\u001b[1;32m      1\u001b[0m \u001b[38;5;66;03m# pip install prophet\u001b[39;00m\n\u001b[1;32m      2\u001b[0m \u001b[38;5;28;01mfrom\u001b[39;00m \u001b[38;5;21;01mdatetime\u001b[39;00m \u001b[38;5;28;01mimport\u001b[39;00m datetime\n\u001b[0;32m----> 3\u001b[0m \u001b[38;5;28;01mfrom\u001b[39;00m \u001b[38;5;21;01mprophet\u001b[39;00m \u001b[38;5;28;01mimport\u001b[39;00m Prophet\n",
      "\u001b[0;31mModuleNotFoundError\u001b[0m: No module named 'prophet'"
     ]
    }
   ],
   "source": [
    "# pip install prophet\n",
    "from datetime import datetime\n",
    "from prophet import Prophet"
   ]
  },
  {
   "cell_type": "code",
   "execution_count": 8,
   "id": "2693df31",
   "metadata": {},
   "outputs": [
    {
     "name": "stdout",
     "output_type": "stream",
     "text": [
      "Hello\n"
     ]
    }
   ],
   "source": [
    "print(\"Hello\")"
   ]
  },
  {
   "cell_type": "code",
   "execution_count": 5,
   "id": "190d5fc2",
   "metadata": {},
   "outputs": [],
   "source": [
    "train = pd.read_csv('./dacon_236029_open/train.csv')\n",
    "# train"
   ]
  },
  {
   "cell_type": "code",
   "execution_count": 6,
   "id": "6bb0da4f",
   "metadata": {},
   "outputs": [],
   "source": [
    "# Data preprocessing\n",
    "sample = pd.read_csv('./dacon_236029_open/sample_submission.csv')\n",
    "# sample"
   ]
  },
  {
   "cell_type": "code",
   "execution_count": 7,
   "id": "a1425c3a",
   "metadata": {},
   "outputs": [],
   "source": [
    "# Data preprocessing\n",
    "train['일시'] = pd.to_datetime(train['일시'], format='%Y%m%d')\n",
    "# train"
   ]
  },
  {
   "cell_type": "code",
   "execution_count": 7,
   "id": "6c4ad729",
   "metadata": {},
   "outputs": [],
   "source": [
    "# Coding!!\n",
    "\n",
    "def predict(train, column):\n",
    "    model = Prophet()\n",
    "    df = pd.DataFrame()\n",
    "    df['ds'] = train['일시']\n",
    "    df['y'] = train[column]\n",
    "    model.fit(df)\n",
    "    future = model.make_future_dataframe(periods=334, freq='D')\n",
    "    forecast = model.predict(future)\n",
    "    return forecast.loc[1461:, 'yhat'].values\n"
   ]
  },
  {
   "cell_type": "code",
   "execution_count": 9,
   "id": "df2d02a6",
   "metadata": {},
   "outputs": [
    {
     "name": "stderr",
     "output_type": "stream",
     "text": [
      "15:05:18 - cmdstanpy - INFO - Chain [1] start processing\n",
      "15:05:18 - cmdstanpy - INFO - Chain [1] done processing\n",
      "15:05:18 - cmdstanpy - ERROR - Chain [1] error: terminated by signal 6 Unknown error: -6\n",
      "Optimization terminated abnormally. Falling back to Newton.\n",
      "15:05:18 - cmdstanpy - INFO - Chain [1] start processing\n",
      "15:05:18 - cmdstanpy - INFO - Chain [1] done processing\n",
      "15:05:18 - cmdstanpy - ERROR - Chain [1] error: terminated by signal 6 Unknown error: -6\n"
     ]
    },
    {
     "ename": "RuntimeError",
     "evalue": "Error during optimization! Command '/opt/homebrew/Caskroom/miniforge/base/envs/sainthm/lib/python3.8/site-packages/prophet/stan_model/prophet_model.bin random seed=97024 data file=/var/folders/4h/b2cqm88s3cl_l0lpwl10b69r0000gn/T/tmp39ip1nwl/v80z84e3.json init=/var/folders/4h/b2cqm88s3cl_l0lpwl10b69r0000gn/T/tmp39ip1nwl/s98eqz19.json output file=/var/folders/4h/b2cqm88s3cl_l0lpwl10b69r0000gn/T/tmp39ip1nwl/prophet_model6ikgpv3u/prophet_model-20221116150518.csv method=optimize algorithm=newton iter=10000' failed: console log output:\n\ndyld[47515]: Symbol not found: __ZNSt11range_errorD1Ev\n  Referenced from: <DA0DD428-9910-3AC9-B8D4-FBE80CB902AA> /opt/homebrew/Caskroom/miniforge/base/envs/sainthm/lib/python3.8/site-packages/prophet/stan_model/prophet_model.bin\n  Expected in:     <93E1DF97-AE72-333C-AE84-4170D07BADC9> /opt/homebrew/Caskroom/miniforge/base/envs/sainthm/lib/libtbb.12.6.dylib\n",
     "output_type": "error",
     "traceback": [
      "\u001b[0;31m---------------------------------------------------------------------------\u001b[0m",
      "\u001b[0;31mRuntimeError\u001b[0m                              Traceback (most recent call last)",
      "File \u001b[0;32m/opt/homebrew/Caskroom/miniforge/base/envs/sainthm/lib/python3.8/site-packages/prophet/models.py:96\u001b[0m, in \u001b[0;36mCmdStanPyBackend.fit\u001b[0;34m(self, stan_init, stan_data, **kwargs)\u001b[0m\n\u001b[1;32m     95\u001b[0m \u001b[38;5;28;01mtry\u001b[39;00m:\n\u001b[0;32m---> 96\u001b[0m     \u001b[38;5;28mself\u001b[39m\u001b[38;5;241m.\u001b[39mstan_fit \u001b[38;5;241m=\u001b[39m \u001b[38;5;28;43mself\u001b[39;49m\u001b[38;5;241;43m.\u001b[39;49m\u001b[43mmodel\u001b[49m\u001b[38;5;241;43m.\u001b[39;49m\u001b[43moptimize\u001b[49m\u001b[43m(\u001b[49m\u001b[38;5;241;43m*\u001b[39;49m\u001b[38;5;241;43m*\u001b[39;49m\u001b[43margs\u001b[49m\u001b[43m)\u001b[49m\n\u001b[1;32m     97\u001b[0m \u001b[38;5;28;01mexcept\u001b[39;00m \u001b[38;5;167;01mRuntimeError\u001b[39;00m \u001b[38;5;28;01mas\u001b[39;00m e:\n\u001b[1;32m     98\u001b[0m     \u001b[38;5;66;03m# Fall back on Newton\u001b[39;00m\n",
      "File \u001b[0;32m/opt/homebrew/Caskroom/miniforge/base/envs/sainthm/lib/python3.8/site-packages/cmdstanpy/model.py:725\u001b[0m, in \u001b[0;36mCmdStanModel.optimize\u001b[0;34m(self, data, seed, inits, output_dir, sig_figs, save_profile, algorithm, init_alpha, tol_obj, tol_rel_obj, tol_grad, tol_rel_grad, tol_param, history_size, iter, save_iterations, require_converged, show_console, refresh, time_fmt, timeout)\u001b[0m\n\u001b[1;32m    724\u001b[0m     \u001b[38;5;28;01melse\u001b[39;00m:\n\u001b[0;32m--> 725\u001b[0m         \u001b[38;5;28;01mraise\u001b[39;00m \u001b[38;5;167;01mRuntimeError\u001b[39;00m(msg)\n\u001b[1;32m    726\u001b[0m mle \u001b[38;5;241m=\u001b[39m CmdStanMLE(runset)\n",
      "\u001b[0;31mRuntimeError\u001b[0m: Error during optimization! Command '/opt/homebrew/Caskroom/miniforge/base/envs/sainthm/lib/python3.8/site-packages/prophet/stan_model/prophet_model.bin random seed=25698 data file=/var/folders/4h/b2cqm88s3cl_l0lpwl10b69r0000gn/T/tmp39ip1nwl/zr7iwv3o.json init=/var/folders/4h/b2cqm88s3cl_l0lpwl10b69r0000gn/T/tmp39ip1nwl/_kx2fuim.json output file=/var/folders/4h/b2cqm88s3cl_l0lpwl10b69r0000gn/T/tmp39ip1nwl/prophet_modelvsqizws8/prophet_model-20221116150518.csv method=optimize algorithm=lbfgs iter=10000' failed: console log output:\n\ndyld[47514]: Symbol not found: __ZNSt11range_errorD1Ev\n  Referenced from: <DA0DD428-9910-3AC9-B8D4-FBE80CB902AA> /opt/homebrew/Caskroom/miniforge/base/envs/sainthm/lib/python3.8/site-packages/prophet/stan_model/prophet_model.bin\n  Expected in:     <93E1DF97-AE72-333C-AE84-4170D07BADC9> /opt/homebrew/Caskroom/miniforge/base/envs/sainthm/lib/libtbb.12.6.dylib\n",
      "\nDuring handling of the above exception, another exception occurred:\n",
      "\u001b[0;31mRuntimeError\u001b[0m                              Traceback (most recent call last)",
      "Cell \u001b[0;32mIn [9], line 2\u001b[0m\n\u001b[1;32m      1\u001b[0m \u001b[38;5;66;03m# Training!!\u001b[39;00m\n\u001b[0;32m----> 2\u001b[0m sample[\u001b[38;5;124m'\u001b[39m\u001b[38;5;124m광진구\u001b[39m\u001b[38;5;124m'\u001b[39m] \u001b[38;5;241m=\u001b[39m \u001b[43mpredict\u001b[49m\u001b[43m(\u001b[49m\u001b[43mtrain\u001b[49m\u001b[43m,\u001b[49m\u001b[43m \u001b[49m\u001b[38;5;124;43m'\u001b[39;49m\u001b[38;5;124;43m광진구\u001b[39;49m\u001b[38;5;124;43m'\u001b[39;49m\u001b[43m)\u001b[49m\n\u001b[1;32m      3\u001b[0m \u001b[38;5;66;03m# sample['동대문구'] = predict(train, '동대문구')\u001b[39;00m\n\u001b[1;32m      4\u001b[0m \u001b[38;5;66;03m# sample['성동구'] = predict(train, '성동구')\u001b[39;00m\n\u001b[1;32m      5\u001b[0m \u001b[38;5;66;03m# sample['중랑구'] = predict(train, '중랑구')\u001b[39;00m\n\u001b[1;32m      6\u001b[0m sample\n",
      "Cell \u001b[0;32mIn [7], line 8\u001b[0m, in \u001b[0;36mpredict\u001b[0;34m(train, column)\u001b[0m\n\u001b[1;32m      6\u001b[0m df[\u001b[38;5;124m'\u001b[39m\u001b[38;5;124mds\u001b[39m\u001b[38;5;124m'\u001b[39m] \u001b[38;5;241m=\u001b[39m train[\u001b[38;5;124m'\u001b[39m\u001b[38;5;124m일시\u001b[39m\u001b[38;5;124m'\u001b[39m]\n\u001b[1;32m      7\u001b[0m df[\u001b[38;5;124m'\u001b[39m\u001b[38;5;124my\u001b[39m\u001b[38;5;124m'\u001b[39m] \u001b[38;5;241m=\u001b[39m train[column]\n\u001b[0;32m----> 8\u001b[0m \u001b[43mmodel\u001b[49m\u001b[38;5;241;43m.\u001b[39;49m\u001b[43mfit\u001b[49m\u001b[43m(\u001b[49m\u001b[43mdf\u001b[49m\u001b[43m)\u001b[49m\n\u001b[1;32m      9\u001b[0m future \u001b[38;5;241m=\u001b[39m model\u001b[38;5;241m.\u001b[39mmake_future_dataframe(periods\u001b[38;5;241m=\u001b[39m\u001b[38;5;241m334\u001b[39m, freq\u001b[38;5;241m=\u001b[39m\u001b[38;5;124m'\u001b[39m\u001b[38;5;124mD\u001b[39m\u001b[38;5;124m'\u001b[39m)\n\u001b[1;32m     10\u001b[0m forecast \u001b[38;5;241m=\u001b[39m model\u001b[38;5;241m.\u001b[39mpredict(future)\n",
      "File \u001b[0;32m/opt/homebrew/Caskroom/miniforge/base/envs/sainthm/lib/python3.8/site-packages/prophet/forecaster.py:1174\u001b[0m, in \u001b[0;36mProphet.fit\u001b[0;34m(self, df, **kwargs)\u001b[0m\n\u001b[1;32m   1172\u001b[0m     \u001b[38;5;28mself\u001b[39m\u001b[38;5;241m.\u001b[39mparams \u001b[38;5;241m=\u001b[39m \u001b[38;5;28mself\u001b[39m\u001b[38;5;241m.\u001b[39mstan_backend\u001b[38;5;241m.\u001b[39msampling(stan_init, dat, \u001b[38;5;28mself\u001b[39m\u001b[38;5;241m.\u001b[39mmcmc_samples, \u001b[38;5;241m*\u001b[39m\u001b[38;5;241m*\u001b[39mkwargs)\n\u001b[1;32m   1173\u001b[0m \u001b[38;5;28;01melse\u001b[39;00m:\n\u001b[0;32m-> 1174\u001b[0m     \u001b[38;5;28mself\u001b[39m\u001b[38;5;241m.\u001b[39mparams \u001b[38;5;241m=\u001b[39m \u001b[38;5;28;43mself\u001b[39;49m\u001b[38;5;241;43m.\u001b[39;49m\u001b[43mstan_backend\u001b[49m\u001b[38;5;241;43m.\u001b[39;49m\u001b[43mfit\u001b[49m\u001b[43m(\u001b[49m\u001b[43mstan_init\u001b[49m\u001b[43m,\u001b[49m\u001b[43m \u001b[49m\u001b[43mdat\u001b[49m\u001b[43m,\u001b[49m\u001b[43m \u001b[49m\u001b[38;5;241;43m*\u001b[39;49m\u001b[38;5;241;43m*\u001b[39;49m\u001b[43mkwargs\u001b[49m\u001b[43m)\u001b[49m\n\u001b[1;32m   1176\u001b[0m \u001b[38;5;28mself\u001b[39m\u001b[38;5;241m.\u001b[39mstan_fit \u001b[38;5;241m=\u001b[39m \u001b[38;5;28mself\u001b[39m\u001b[38;5;241m.\u001b[39mstan_backend\u001b[38;5;241m.\u001b[39mstan_fit\n\u001b[1;32m   1177\u001b[0m \u001b[38;5;66;03m# If no changepoints were requested, replace delta with 0s\u001b[39;00m\n",
      "File \u001b[0;32m/opt/homebrew/Caskroom/miniforge/base/envs/sainthm/lib/python3.8/site-packages/prophet/models.py:103\u001b[0m, in \u001b[0;36mCmdStanPyBackend.fit\u001b[0;34m(self, stan_init, stan_data, **kwargs)\u001b[0m\n\u001b[1;32m    101\u001b[0m     logger\u001b[38;5;241m.\u001b[39mwarning(\u001b[38;5;124m'\u001b[39m\u001b[38;5;124mOptimization terminated abnormally. Falling back to Newton.\u001b[39m\u001b[38;5;124m'\u001b[39m)\n\u001b[1;32m    102\u001b[0m     args[\u001b[38;5;124m'\u001b[39m\u001b[38;5;124malgorithm\u001b[39m\u001b[38;5;124m'\u001b[39m] \u001b[38;5;241m=\u001b[39m \u001b[38;5;124m'\u001b[39m\u001b[38;5;124mNewton\u001b[39m\u001b[38;5;124m'\u001b[39m\n\u001b[0;32m--> 103\u001b[0m     \u001b[38;5;28mself\u001b[39m\u001b[38;5;241m.\u001b[39mstan_fit \u001b[38;5;241m=\u001b[39m \u001b[38;5;28;43mself\u001b[39;49m\u001b[38;5;241;43m.\u001b[39;49m\u001b[43mmodel\u001b[49m\u001b[38;5;241;43m.\u001b[39;49m\u001b[43moptimize\u001b[49m\u001b[43m(\u001b[49m\u001b[38;5;241;43m*\u001b[39;49m\u001b[38;5;241;43m*\u001b[39;49m\u001b[43margs\u001b[49m\u001b[43m)\u001b[49m\n\u001b[1;32m    104\u001b[0m params \u001b[38;5;241m=\u001b[39m \u001b[38;5;28mself\u001b[39m\u001b[38;5;241m.\u001b[39mstan_to_dict_numpy(\n\u001b[1;32m    105\u001b[0m     \u001b[38;5;28mself\u001b[39m\u001b[38;5;241m.\u001b[39mstan_fit\u001b[38;5;241m.\u001b[39mcolumn_names, \u001b[38;5;28mself\u001b[39m\u001b[38;5;241m.\u001b[39mstan_fit\u001b[38;5;241m.\u001b[39moptimized_params_np)\n\u001b[1;32m    106\u001b[0m \u001b[38;5;28;01mfor\u001b[39;00m par \u001b[38;5;129;01min\u001b[39;00m params:\n",
      "File \u001b[0;32m/opt/homebrew/Caskroom/miniforge/base/envs/sainthm/lib/python3.8/site-packages/cmdstanpy/model.py:725\u001b[0m, in \u001b[0;36mCmdStanModel.optimize\u001b[0;34m(self, data, seed, inits, output_dir, sig_figs, save_profile, algorithm, init_alpha, tol_obj, tol_rel_obj, tol_grad, tol_rel_grad, tol_param, history_size, iter, save_iterations, require_converged, show_console, refresh, time_fmt, timeout)\u001b[0m\n\u001b[1;32m    723\u001b[0m         get_logger()\u001b[38;5;241m.\u001b[39mwarning(msg)\n\u001b[1;32m    724\u001b[0m     \u001b[38;5;28;01melse\u001b[39;00m:\n\u001b[0;32m--> 725\u001b[0m         \u001b[38;5;28;01mraise\u001b[39;00m \u001b[38;5;167;01mRuntimeError\u001b[39;00m(msg)\n\u001b[1;32m    726\u001b[0m mle \u001b[38;5;241m=\u001b[39m CmdStanMLE(runset)\n\u001b[1;32m    727\u001b[0m \u001b[38;5;28;01mreturn\u001b[39;00m mle\n",
      "\u001b[0;31mRuntimeError\u001b[0m: Error during optimization! Command '/opt/homebrew/Caskroom/miniforge/base/envs/sainthm/lib/python3.8/site-packages/prophet/stan_model/prophet_model.bin random seed=97024 data file=/var/folders/4h/b2cqm88s3cl_l0lpwl10b69r0000gn/T/tmp39ip1nwl/v80z84e3.json init=/var/folders/4h/b2cqm88s3cl_l0lpwl10b69r0000gn/T/tmp39ip1nwl/s98eqz19.json output file=/var/folders/4h/b2cqm88s3cl_l0lpwl10b69r0000gn/T/tmp39ip1nwl/prophet_model6ikgpv3u/prophet_model-20221116150518.csv method=optimize algorithm=newton iter=10000' failed: console log output:\n\ndyld[47515]: Symbol not found: __ZNSt11range_errorD1Ev\n  Referenced from: <DA0DD428-9910-3AC9-B8D4-FBE80CB902AA> /opt/homebrew/Caskroom/miniforge/base/envs/sainthm/lib/python3.8/site-packages/prophet/stan_model/prophet_model.bin\n  Expected in:     <93E1DF97-AE72-333C-AE84-4170D07BADC9> /opt/homebrew/Caskroom/miniforge/base/envs/sainthm/lib/libtbb.12.6.dylib\n"
     ]
    }
   ],
   "source": [
    "# Training!!\n",
    "sample['광진구'] = predict(train, '광진구')\n",
    "# sample['동대문구'] = predict(train, '동대문구')\n",
    "# sample['성동구'] = predict(train, '성동구')\n",
    "# sample['중랑구'] = predict(train, '중랑구')\n",
    "sample"
   ]
  },
  {
   "cell_type": "code",
   "execution_count": null,
   "id": "2caa8975",
   "metadata": {},
   "outputs": [],
   "source": [
    "!ls"
   ]
  },
  {
   "cell_type": "code",
   "execution_count": null,
   "id": "294d9181",
   "metadata": {},
   "outputs": [],
   "source": [
    "print(\"Hello\")"
   ]
  },
  {
   "cell_type": "code",
   "execution_count": null,
   "id": "92016f76",
   "metadata": {},
   "outputs": [],
   "source": [
    "sample.to_csv('./temp_result/submission_3.csv', index=False)"
   ]
  },
  {
   "cell_type": "code",
   "execution_count": 17,
   "id": "86b6b3e0",
   "metadata": {},
   "outputs": [],
   "source": [
    "currentDateTime = datetime.now().strftime(\"%m-%d-%Y %H:%M:%S %p\")\n",
    "sample.to_csv(f\"submission_{currentDateTime}.csv\", index = False)"
   ]
  },
  {
   "cell_type": "code",
   "execution_count": null,
   "id": "9ebb4205",
   "metadata": {},
   "outputs": [],
   "source": [
    "# # Reference: jjooki\n",
    "\n",
    "# ## 정리된 코드입니다.\n",
    "\n",
    "# from prophet import Prophet\n",
    "# import pandas as pdZ\n",
    "\n",
    "# train = pd.read_csv('./dacon_236029_open/train.csv')\n",
    "# sample = pd.read_csv('./dacon_236029_open/sample_submission.csv')\n",
    "\n",
    "# train['일시'] = pd.to_datetime(train['일시'], format='%Y%m%d')\n",
    "\n",
    "# def 예측하기(train, column):\n",
    "#     model = Prophet()\n",
    "#     df = pd.DataFrame()\n",
    "#     df['ds'] = train['일시']\n",
    "#     df['y'] = train[column]\n",
    "#     model.fit(df)\n",
    "#     future = model.make_future_dataframe(periods=334, freq='D')\n",
    "#     forecast = model.predict(future)\n",
    "#     return forecast.loc[1461:, 'yhat'].values\n",
    "\n",
    "# sample['광진구'] = 예측하기(train, '광진구')\n",
    "# sample['동대문구'] = 예측하기(train, '동대문구')\n",
    "# sample['성동구'] = 예측하기(train, '성동구')\n",
    "# sample['중랑구'] = 예측하기(train, '중랑구')\n",
    "# sample\n",
    "# sample.to_csv('./submission.csv', index=False)"
   ]
  },
  {
   "cell_type": "code",
   "execution_count": null,
   "id": "6badbad0",
   "metadata": {},
   "outputs": [],
   "source": []
  },
  {
   "cell_type": "code",
   "execution_count": null,
   "id": "9e93359c",
   "metadata": {},
   "outputs": [],
   "source": []
  },
  {
   "cell_type": "code",
   "execution_count": null,
   "id": "66d4df17",
   "metadata": {},
   "outputs": [],
   "source": []
  },
  {
   "cell_type": "code",
   "execution_count": null,
   "id": "c761fd74",
   "metadata": {},
   "outputs": [],
   "source": []
  },
  {
   "cell_type": "code",
   "execution_count": null,
   "id": "2f71851d",
   "metadata": {},
   "outputs": [],
   "source": []
  },
  {
   "cell_type": "code",
   "execution_count": null,
   "id": "d3f8e7e5",
   "metadata": {},
   "outputs": [],
   "source": []
  },
  {
   "cell_type": "code",
   "execution_count": null,
   "id": "a2ee58c3",
   "metadata": {},
   "outputs": [],
   "source": []
  },
  {
   "cell_type": "code",
   "execution_count": null,
   "id": "6d049945",
   "metadata": {},
   "outputs": [],
   "source": []
  },
  {
   "cell_type": "code",
   "execution_count": null,
   "id": "e23ba840",
   "metadata": {},
   "outputs": [],
   "source": []
  },
  {
   "cell_type": "code",
   "execution_count": null,
   "id": "2fc27ac3",
   "metadata": {},
   "outputs": [],
   "source": []
  },
  {
   "cell_type": "code",
   "execution_count": null,
   "id": "0df1f6e0",
   "metadata": {},
   "outputs": [],
   "source": []
  },
  {
   "cell_type": "code",
   "execution_count": null,
   "id": "b53daca6",
   "metadata": {},
   "outputs": [],
   "source": []
  }
 ],
 "metadata": {
  "kernelspec": {
   "display_name": "Python 3 (ipykernel)",
   "language": "python",
   "name": "python3"
  },
  "language_info": {
   "codemirror_mode": {
    "name": "ipython",
    "version": 3
   },
   "file_extension": ".py",
   "mimetype": "text/x-python",
   "name": "python",
   "nbconvert_exporter": "python",
   "pygments_lexer": "ipython3",
   "version": "3.11.0"
  }
 },
 "nbformat": 4,
 "nbformat_minor": 5
}

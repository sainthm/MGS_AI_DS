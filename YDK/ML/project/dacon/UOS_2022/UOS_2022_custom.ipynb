{
 "cells": [
  {
   "cell_type": "markdown",
   "id": "315f5c59",
   "metadata": {},
   "source": [
    "# 2022 UOS Big Data Algorithm Competition"
   ]
  },
  {
   "cell_type": "markdown",
   "id": "566d3f6a",
   "metadata": {},
   "source": [
    "## Hyperparameter Tuning and Regularization for Time Series Model Using Prophet in Python"
   ]
  },
  {
   "cell_type": "markdown",
   "id": "efaf7518",
   "metadata": {},
   "source": [
    "### Reference URL:\n",
    "- https://medium.com/grabngoinfo/hyperparameter-tuning-and-regularization-for-time-series-model-using-prophet-in-python-9791370a07dc"
   ]
  },
  {
   "cell_type": "markdown",
   "id": "e163ff54",
   "metadata": {},
   "source": [
    "### What we learn:\n",
    "- What are the hyperparameters for a prophet time series model?\n",
    "\n",
    "\n",
    "- Among all the hyperparameters, what hyperparameters should be tuned, and what hyperparameters are better not to be tuned?\n",
    "\n",
    "\n",
    "- Among all the hyperparameters that should be tuned, what hyperparameters should be tuned automatically vs. manually?\n",
    "\n",
    "\n",
    "- How are hyperparameter tunings related to regularization?\n",
    "\n",
    "\n",
    "- How does data transformation impact the model performance?"
   ]
  },
  {
   "cell_type": "markdown",
   "id": "6bbff652",
   "metadata": {},
   "source": [
    "### For begineer:\n",
    "#### Reference URL:\n",
    "- https://medium.com/grabngoinfo/time-series-forecasting-of-bitcoin-prices-using-prophet-1069133708bc\n",
    "\n",
    "\n",
    "- https://medium.com/grabngoinfo/multivariate-time-series-forecasting-with-seasonality-and-holiday-effect-using-prophet-in-python-d5d4150eeb57\n",
    "\n",
    "\n",
    "\n",
    "- https://medium.com/grabngoinfo/3-ways-for-multiple-time-series-forecasting-using-prophet-in-python-7a0709a117f9"
   ]
  },
  {
   "cell_type": "markdown",
   "id": "b8bf787f",
   "metadata": {},
   "source": [
    "<br>"
   ]
  },
  {
   "cell_type": "markdown",
   "id": "fe4e8284",
   "metadata": {},
   "source": [
    "## Step 0. Overview of All the Hyperparameters for a Prophet Model"
   ]
  },
  {
   "cell_type": "markdown",
   "id": "3d59b1f4",
   "metadata": {},
   "source": [
    "#### 하이퍼 파라미터는 크게 세 그룹으로 나뉘어짐\n",
    "1. The first group contains hyperparameters that are suitable for automatic tuning. We can specify a list of values and do a grid search for the best value combination. For more information about grid search, please refer to my previous tutorial Hyperparameter Tuning For XGBoost\n",
    "\n",
    "\n",
    "##### XGBoost:\n",
    "- https://pub.towardsai.net/lasso-l1-vs-ridge-l2-vs-elastic-net-regularization-for-classification-model-409c3d86f6e9\n",
    "\n",
    "<br>\n",
    "\n",
    "2. The second group contains hyperparameters that are suitable for manual tuning. A human needs to make a judgment on what hyperparameter value to use based on knowledge about data and business.\n",
    "\n",
    "<br>\n",
    "\n",
    "3. The third group contains the hyperparameters that are better left untuned with the default values."
   ]
  },
  {
   "cell_type": "markdown",
   "id": "ebc42f92",
   "metadata": {},
   "source": [
    "### Group 1: Hyperparameters Suitable for Automatic Tuning\n",
    "\n",
    "- 그리드 서치를 통해서 자동 튜닝할 수 있는 하이퍼파라미터는 네 가지!\n",
    "\n",
    "\n",
    "    - changepoint_prior_scale \n",
    "    (Most impactful parameter, default=0.05, 0.001~0.5, log_scale)\n",
    "\n",
    "    - seasonality_prior_scale \n",
    "    (L2 Ridge regularization, default=10, recommended=0.01~10, log_scale)\n",
    "\n",
    "    - holidays_prior_scale \n",
    "    (default=10, recommended=0.01~10)\n",
    "\n",
    "    - seasonality_mode \n",
    "    (two_options=[additive, multiplicative])\n",
    "    \n"
   ]
  },
  {
   "cell_type": "markdown",
   "id": "94858a9a",
   "metadata": {},
   "source": [
    "### Group 2: Hyperparameters Suitbale for Manual Tuning\n",
    "\n",
    "- Business knowledge 또는 data observations를 통한 human-based 튜닝이 필요한 요소들\n",
    "\n",
    "\n",
    "    - changepoint_range\n",
    "    (value=0~1, default=0.8)\n",
    "    \n",
    "    - growth\n",
    "    (two_options=[linear, logistic], default=linear, knowning growth saturating point > logistic)\n",
    "    \n",
    "    - changepoints\n",
    "    (default=None)\n",
    "    \n",
    "    - yearly_seaonality\n",
    "    (three_options=[auto, True, False], default=auto)\n",
    "    \n",
    "    "
   ]
  },
  {
   "cell_type": "code",
   "execution_count": null,
   "id": "fe6585c9",
   "metadata": {},
   "outputs": [],
   "source": []
  },
  {
   "cell_type": "code",
   "execution_count": null,
   "id": "e6a8eef9",
   "metadata": {},
   "outputs": [],
   "source": []
  },
  {
   "cell_type": "code",
   "execution_count": null,
   "id": "30ae70ac",
   "metadata": {},
   "outputs": [],
   "source": []
  },
  {
   "cell_type": "code",
   "execution_count": null,
   "id": "ee489eae",
   "metadata": {},
   "outputs": [],
   "source": []
  },
  {
   "cell_type": "code",
   "execution_count": null,
   "id": "03c42be4",
   "metadata": {},
   "outputs": [],
   "source": []
  },
  {
   "cell_type": "code",
   "execution_count": null,
   "id": "081c90a0",
   "metadata": {},
   "outputs": [],
   "source": []
  },
  {
   "cell_type": "code",
   "execution_count": null,
   "id": "12797948",
   "metadata": {},
   "outputs": [],
   "source": []
  },
  {
   "cell_type": "code",
   "execution_count": null,
   "id": "31a9f5fb",
   "metadata": {},
   "outputs": [],
   "source": []
  },
  {
   "cell_type": "code",
   "execution_count": null,
   "id": "3e501be0",
   "metadata": {},
   "outputs": [],
   "source": []
  }
 ],
 "metadata": {
  "kernelspec": {
   "display_name": "Python 3 (ipykernel)",
   "language": "python",
   "name": "python3"
  },
  "language_info": {
   "codemirror_mode": {
    "name": "ipython",
    "version": 3
   },
   "file_extension": ".py",
   "mimetype": "text/x-python",
   "name": "python",
   "nbconvert_exporter": "python",
   "pygments_lexer": "ipython3",
   "version": "3.7.12"
  }
 },
 "nbformat": 4,
 "nbformat_minor": 5
}

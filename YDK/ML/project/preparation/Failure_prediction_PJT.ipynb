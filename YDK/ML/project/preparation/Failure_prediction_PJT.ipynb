{
 "cells": [
  {
   "cell_type": "markdown",
   "id": "cc37662f",
   "metadata": {},
   "source": [
    "# Failure Prediction PJT"
   ]
  },
  {
   "cell_type": "markdown",
   "id": "416755ee",
   "metadata": {},
   "source": [
    "## Machine Learning 프로젝트 수행을 위한 코드 구조화\n",
    "(분류, 회귀 Task)"
   ]
  },
  {
   "cell_type": "markdown",
   "id": "459ec834",
   "metadata": {},
   "source": [
    "### 템플릿 코드 생성 for ML Project\n",
    "1. 필요한 라이브러리와 데이터를 불러옵니다.\n",
    "\n",
    "\n",
    "2. EDA를 수행합니다. 이 때, EDA의 목적은 풀어야하는 문제를 위해서 수행됩니다.\n",
    "\n",
    "\n",
    "3. 전처리를 수행합니다. 이 때, 중요한 것은 feature engineering을 어떻게 하느냐 입니다.\n",
    "\n",
    "\n",
    "4. 데이터 분할을 진행합니다. 이 때, train data와 test tada 간의 분포 차이가 없는 지 확인합니다.\n",
    "\n",
    "\n",
    "5. 학습을 진행합니다. 어떤 모델을 사용하여 학습할지 정합니다. 성능이 잘 나오는 GBM을 추천합니다.\n",
    "\n",
    "\n",
    "6. Hyper-parameter tuning을 수행합니다. 원흐는 목표 성능이 나올 때 까지 진행합니다. \n",
    "   검증 단계를 통해, 지속적으로 overfitting이 되지 않게 주의하세요.\n",
    "\n",
    "\n",
    "7. 최종 테스트를 진행합니다. 데이터 대회 포맷에 맞는 submission 파일을 만들어서 성능을 확인해보세요.\n",
    "\n"
   ]
  },
  {
   "cell_type": "markdown",
   "id": "41c5b16c",
   "metadata": {},
   "source": [
    "## 1. 라이브러리, 데이터 불러오기"
   ]
  },
  {
   "cell_type": "code",
   "execution_count": 2,
   "id": "b6dbc2dc",
   "metadata": {},
   "outputs": [],
   "source": [
    "# 데이터분석 4종 세트\n",
    "import numpy as np\n",
    "import pandas as pd\n",
    "import matplotlib.pyplot as plt\n",
    "import seaborn as sns\n",
    "\n",
    "# 모델들, 성능 평가\n",
    "# 일반적으로 정형데이터로 머신러닝 분석을 진행할 때는 아래 2개 모델을 돌려봅니다. 특히 RandomForest가 테스트하기 좋습니다.\n",
    "from sklearn.ensemble import RandomForestClassifier\n",
    "from sklearn.ensemble import RandomForestRegressor\n",
    "from lightgbm.sklearn import LGBMClassifier\n",
    "from lightgbm.sklearn import LGBMRegressor\n",
    "\n",
    "# 상관관계 분석, VIF : 다중공선성 제거\n",
    "from statsmodels.stats.outliers_influence import variance_inflation_factor\n",
    "\n",
    "# KFold(CV), partial : optuna를 사용하기 위함\n",
    "from sklearn.model_selection import KFold\n",
    "from functools import partial\n",
    "\n",
    "# hyper-parameter tuning을 위한 라이브러리, optuna\n",
    "import optuna"
   ]
  },
  {
   "cell_type": "code",
   "execution_count": null,
   "id": "cb6cbd09",
   "metadata": {},
   "outputs": [],
   "source": []
  },
  {
   "cell_type": "code",
   "execution_count": null,
   "id": "3c99eb50",
   "metadata": {},
   "outputs": [],
   "source": []
  },
  {
   "cell_type": "code",
   "execution_count": null,
   "id": "27bad275",
   "metadata": {},
   "outputs": [],
   "source": []
  }
 ],
 "metadata": {
  "kernelspec": {
   "display_name": "Python 3 (ipykernel)",
   "language": "python",
   "name": "python3"
  },
  "language_info": {
   "codemirror_mode": {
    "name": "ipython",
    "version": 3
   },
   "file_extension": ".py",
   "mimetype": "text/x-python",
   "name": "python",
   "nbconvert_exporter": "python",
   "pygments_lexer": "ipython3",
   "version": "3.8.13"
  }
 },
 "nbformat": 4,
 "nbformat_minor": 5
}

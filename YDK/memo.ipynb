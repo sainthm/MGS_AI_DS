{
 "cells": [
  {
   "cell_type": "code",
   "execution_count": 38,
   "id": "1b9076ad",
   "metadata": {},
   "outputs": [
    {
     "ename": "SyntaxError",
     "evalue": "invalid syntax (1422721100.py, line 11)",
     "output_type": "error",
     "traceback": [
      "\u001b[0;36m  Input \u001b[0;32mIn [38]\u001b[0;36m\u001b[0m\n\u001b[0;31m    a[i].isupper() == True:\u001b[0m\n\u001b[0m                           ^\u001b[0m\n\u001b[0;31mSyntaxError\u001b[0m\u001b[0;31m:\u001b[0m invalid syntax\n"
     ]
    }
   ],
   "source": [
    "a = 'HelloWorld!'\n",
    "# b = a.split('')\n",
    "# print(b)\n",
    "# I Love Futureskill\n",
    "\n",
    "# 출력\n",
    "# HW\n",
    "# ILF\n",
    "\n",
    "for i in [0, 1, 2]:\n",
    "    a[i].isupper() == True\n",
    "    print(a[i])\n",
    "\n",
    "# print(len(a))\n",
    "# print(a[0].isupper())\n",
    "# print(a[1].isupper())\n",
    "# print(a[2].isupper())\n",
    "# print(a[3].isupper())\n",
    "# print(a[4].isupper())\n",
    "# print(a[5].isupper())\n",
    "# print(a[6].isupper())\n",
    "# print(a[7].isupper())\n",
    "# print(a[8].isupper())\n",
    "# print(a[9].isupper())\n",
    "# print(a[10].isupper())\n",
    "\n",
    "# a = input()\n",
    "\n",
    "\n",
    "\n",
    "# print('a')\n",
    "\n",
    "# if a.pop() == \n",
    "\n",
    "\n",
    "# print()"
   ]
  },
  {
   "cell_type": "code",
   "execution_count": null,
   "id": "dfa6c8df",
   "metadata": {},
   "outputs": [],
   "source": []
  }
 ],
 "metadata": {
  "kernelspec": {
   "display_name": "Python 3 (ipykernel)",
   "language": "python",
   "name": "python3"
  },
  "language_info": {
   "codemirror_mode": {
    "name": "ipython",
    "version": 3
   },
   "file_extension": ".py",
   "mimetype": "text/x-python",
   "name": "python",
   "nbconvert_exporter": "python",
   "pygments_lexer": "ipython3",
   "version": "3.9.12"
  }
 },
 "nbformat": 4,
 "nbformat_minor": 5
}

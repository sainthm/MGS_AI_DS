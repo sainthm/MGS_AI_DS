{
 "cells": [
  {
   "cell_type": "code",
   "execution_count": null,
   "id": "1b9076ad",
   "metadata": {},
   "outputs": [],
   "source": [
    "a= \"\"\"Hqllo\n",
    "querty\n",
    "hqllo my namq is saqrym\"\"\"\n",
    "\n",
    "\n",
    "print(a.replace('q', 'e'))"
   ]
  },
  {
   "cell_type": "code",
   "execution_count": null,
   "id": "dfa6c8df",
   "metadata": {},
   "outputs": [],
   "source": []
  }
 ],
 "metadata": {
  "kernelspec": {
   "display_name": "Python 3 (ipykernel)",
   "language": "python",
   "name": "python3"
  },
  "language_info": {
   "codemirror_mode": {
    "name": "ipython",
    "version": 3
   },
   "file_extension": ".py",
   "mimetype": "text/x-python",
   "name": "python",
   "nbconvert_exporter": "python",
   "pygments_lexer": "ipython3",
   "version": "3.8.13"
  }
 },
 "nbformat": 4,
 "nbformat_minor": 5
}

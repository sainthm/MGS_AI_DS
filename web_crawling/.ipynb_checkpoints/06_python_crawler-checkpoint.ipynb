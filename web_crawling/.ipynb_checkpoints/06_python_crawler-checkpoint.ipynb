{
 "cells": [
  {
   "cell_type": "markdown",
   "metadata": {
    "id": "UsZSmAj47LXm",
    "slideshow": {
     "slide_type": "slide"
    }
   },
   "source": [
    "# **데이터 크롤링**"
   ]
  },
  {
   "cell_type": "markdown",
   "metadata": {
    "id": "qGMeSCoV7QTQ",
    "slideshow": {
     "slide_type": "slide"
    }
   },
   "source": [
    "## **크롤링이란?**\n",
    "> 크롤러(crawler)는 자동화된 방법으로 웹을 탐색하는 컴퓨터 프로그램  \n",
    "'웹 크롤링'(web crawling)??  \n",
    "'데이터 크롤링'(data crawling)!!  "
   ]
  },
  {
   "cell_type": "markdown",
   "metadata": {
    "id": "WboqZ6A47Yqe",
    "slideshow": {
     "slide_type": "slide"
    }
   },
   "source": [
    "우리는 매일 크롤러도 사용하고 있습니다."
   ]
  },
  {
   "cell_type": "markdown",
   "metadata": {
    "id": "5PfW0HG17td5",
    "slideshow": {
     "slide_type": "slide"
    }
   },
   "source": [
    "## **웹 크롤링**\n",
    "> 웹 서비스 내 정보를 수집하는 일  \n",
    "다만 서비스 제공자의 입장에서는??  \n",
    "\n",
    ">> 필요한 정보가 있다면?  \n",
    "API 확인 -> 없으면 직접 크롤링  "
   ]
  },
  {
   "cell_type": "markdown",
   "metadata": {
    "id": "e0ITGMAN70Da",
    "slideshow": {
     "slide_type": "slide"
    }
   },
   "source": [
    "### 웹 서핑을 하는 의식의 흐름\n",
    "> - 브라우저 오픈  \n",
    "> - 원하는 인터넷페이지 주소 입력  \n",
    "> - 화면이 열리면 찾고자 하는 정보를 스크롤 하면서 찾기  \n",
    "> - 문자, 그림, 동영상 조회  "
   ]
  },
  {
   "cell_type": "markdown",
   "metadata": {
    "id": "AWcggzcG728P",
    "slideshow": {
     "slide_type": "slide"
    }
   },
   "source": [
    "### 웹 크롤링 하는 의식의 흐름\n",
    "> - 정보를 가져오고자 하는 url 정의\n",
    "> - url 정보로 requests로 정보 요청\n",
    "> - text 정보를 html로 변환\n",
    "> - html에서 우리가 필요한 정보만 선별"
   ]
  },
  {
   "cell_type": "markdown",
   "metadata": {},
   "source": [
    "## requests\n",
    "> - HTTP 요청을 주고받기 위한 파이썬 패키지\n",
    "> - 파이썬 내장 패키지는 아니지만 사실상 HTTP 요청을 주고받기 위한 표준이라 생각해도 무방함\n",
    "> - 웹 페이지에 요청, 업데이트, 삭제 등 인터넷프로토콜을 파이썬으로 제어한다.\n",
    "> - requests는 요청을 하고 데이터를 전달 받지만 text 혹은 바이너리 형태로만 전달받음."
   ]
  },
  {
   "cell_type": "markdown",
   "metadata": {
    "id": "XT464CpR75Uh",
    "slideshow": {
     "slide_type": "slide"
    }
   },
   "source": [
    "## BeautifulSoup\n",
    "> - API는 통신을 위해 정형화 된 데이터 형태의 text, json등을 통신에 사용한다.  \n",
    "> - requests로 전달받은 데이터를 우리가 원하는 데이터로 가공하기 위해 편의상 html로 변환  \n",
    "> - text를 html로 변환하는 모듈이 beautifulSoup"
   ]
  },
  {
   "cell_type": "markdown",
   "metadata": {},
   "source": [
    "### BeautifulSoup 설치"
   ]
  },
  {
   "cell_type": "code",
   "execution_count": null,
   "metadata": {},
   "outputs": [],
   "source": [
    "# 패키지 설치 및 import \n",
    "# pip install BeautifulSoup4\n",
    "# from bs4 import BeautifulSoup"
   ]
  },
  {
   "cell_type": "markdown",
   "metadata": {
    "id": "5j1oR5fO78FW",
    "slideshow": {
     "slide_type": "slide"
    }
   },
   "source": [
    "## 간단한 데이터 크롤링으로 기본 개념잡기"
   ]
  },
  {
   "cell_type": "code",
   "execution_count": 98,
   "metadata": {
    "ExecuteTime": {
     "end_time": "2022-06-06T12:31:55.025515Z",
     "start_time": "2022-06-06T12:31:55.017120Z"
    }
   },
   "outputs": [],
   "source": [
    "# 필요패키지 import\n",
    "import time\n",
    "import json\n",
    "import urllib\n",
    "import requests\n",
    "import numpy as np\n",
    "import pandas as pd\n",
    "import matplotlib.pyplot as plt\n",
    "import seaborn as sns"
   ]
  },
  {
   "cell_type": "markdown",
   "metadata": {},
   "source": [
    "#### 네이버 메인페이지 크롤링"
   ]
  },
  {
   "cell_type": "code",
   "execution_count": null,
   "metadata": {
    "ExecuteTime": {
     "end_time": "2022-06-05T08:22:42.640127Z",
     "start_time": "2022-06-05T08:22:42.148159Z"
    },
    "scrolled": true
   },
   "outputs": [],
   "source": [
    "'''\n",
    "정보를 가져오고자 하는 url 정의\n",
    "url 정보로 requests로 정보 요청\n",
    "text 정보를 html로 변환\n",
    "html에서 우리가 필요한 정보만 선별\n",
    "'''\n",
    "# url정의\n",
    "\n",
    "# requsts로 url에 정보요청\n",
    "\n",
    "# 정보를 html 변환 (보기 쉽게)\n",
    "\n",
    "# html 내에서 우리가 보고 싶은 정보만 선별\n"
   ]
  },
  {
   "cell_type": "markdown",
   "metadata": {},
   "source": [
    "#### 실제 개발자가 작성한 코드로 확인된다\n",
    "> 정제되지 않은 데이터로 가독성이 좋지 않음  \n",
    "우리는 이 중에서 우리가 원하는 정보를 선별해서 가져오는 작업을 진행합니다.  \n",
    "그러기에 html의 기본 구성을 살펴보도록 하겠습니다.  "
   ]
  },
  {
   "cell_type": "markdown",
   "metadata": {},
   "source": [
    "#### 웹 페이지의 구성\n",
    "> **HTML(Hyper Text Markup Language)**  \n",
    "www 를 구성하는데 사용하는 국제표준 언어로서 컨텐츠와 레이아웃을 담고 있다\n",
    "\n",
    "> **<태그>** 내용 **</태그>**  \n",
    "<tag이름 class=\"class이름1 class이름2\" id=\"주민번호\" href=\"주소\"></tag이름>\n",
    "\n",
    "> 형태나 속성을 묘사하기 위한 구조적 언어 : HTML, CSS (계층이 있음)  \n",
    "웹의 작동 및 제어를 위한 프로그래밍 언어 :  Js"
   ]
  },
  {
   "cell_type": "markdown",
   "metadata": {},
   "source": [
    "#### 셀렉터\n",
    "> 용도 : html에서 내가 원하는 내용을 찾아내기 위해서  \n",
    "<span class=\"news\" id=\"1234\">현대모비스 뉴스1</span>  \n",
    "<span class=\"product\" id=\"1235\">현대모비스 뉴스2</span>  \n",
    "\n",
    "> 단일 셀렉터 html.select('span')\n",
    ">> <span class=\"news\" id=\"1234\">현대모비스 뉴스1</span>  \n",
    "<span class=\"product\" id=\"1235\">현대모비스 뉴스2</span>  \n",
    "\n",
    "> 클래스 포함 셀렉터 html.select('span.news')  \n",
    ">> <span class=\"news\" id=\"1234\">현대모비스 뉴스1</span>  \n",
    "\n",
    "> id 포함 셀렉터 html.select('span#1235')  \n",
    ">> <span class=\"product\" id=\"1235\">현대모비스 뉴스2</span>  "
   ]
  },
  {
   "cell_type": "markdown",
   "metadata": {},
   "source": [
    "#### 복합 셀렉터\n",
    "<span>1</span>  \n",
    "<span class=\"txt\">2</span>  \n",
    "<em class=\"txt\">3</em>  \n",
    "\n",
    "> 태그 이름이 span이고 클래스 이름은 txt인 라인을 찾고 싶다. : span.txt  \n",
    "> em 태그 중에서 class가 txt 인 라인을 찾고 싶다. : em.txt  \n",
    "\n",
    "#### 경로 셀렉터\n",
    "<ul>\n",
    "    <li><span>이걸 찾으려면?</span></li>\n",
    "</ul>\n",
    "<span>이건 아님</span>\n",
    "\n",
    "> ul 태그안 li 태그 안 span 라인을 찾는다  \n",
    "ul > li > span 혹은 ul li span"
   ]
  },
  {
   "cell_type": "markdown",
   "metadata": {},
   "source": [
    "### 다음 뉴스페이지 뉴스 헤더 크롤링"
   ]
  },
  {
   "cell_type": "code",
   "execution_count": null,
   "metadata": {
    "ExecuteTime": {
     "end_time": "2022-06-05T08:40:22.833402Z",
     "start_time": "2022-06-05T08:40:22.454630Z"
    }
   },
   "outputs": [],
   "source": [
    "# 다음 뉴스 페이지 크롤링\n",
    "# url정의\n",
    "\n",
    "\n",
    "# requsts로 url에 정보요청\n",
    "\n",
    "\n",
    "# 정보를 html 변환 (보기 쉽게)\n",
    "\n",
    "\n",
    "# html 내에서 뉴스헤더 선별\n"
   ]
  },
  {
   "cell_type": "markdown",
   "metadata": {},
   "source": [
    "### 다음에서 로또번호 혹은 로또로 검색해서 표시되는 로또번호 크롤링 해오기"
   ]
  },
  {
   "cell_type": "code",
   "execution_count": null,
   "metadata": {
    "ExecuteTime": {
     "end_time": "2022-06-05T08:49:50.566782Z",
     "start_time": "2022-06-05T08:49:49.806605Z"
    }
   },
   "outputs": [],
   "source": [
    "# 다음에서 로또번호 혹은 로또로 검색해서 표시되는 로또번호 크롤링 해오기\n",
    "\n",
    "\n",
    "# requsts로 url에 정보요청\n",
    "\n",
    "\n",
    "# 정보를 html 변환 (보기 쉽게)\n",
    "\n",
    "\n",
    "# 필요정보 선별\n"
   ]
  },
  {
   "cell_type": "markdown",
   "metadata": {
    "ExecuteTime": {
     "end_time": "2022-06-05T08:49:06.402572Z",
     "start_time": "2022-06-05T08:49:06.394988Z"
    }
   },
   "source": [
    "## 패턴 URL 크롤링\n",
    "앞으로는 패턴을 순환하는 크롤링이 진행이 되는데 서비스 제공자가 이를 감지하고 기계적인 접속을 차단하는 경우가 많습니다.  \n",
    "이를 해결하기 위한 여러가지 방법을 소개합니다."
   ]
  },
  {
   "cell_type": "code",
   "execution_count": 30,
   "metadata": {
    "ExecuteTime": {
     "end_time": "2022-06-05T09:05:39.275949Z",
     "start_time": "2022-06-05T09:05:39.266250Z"
    }
   },
   "outputs": [
    {
     "data": {
      "text/plain": [
       "200"
      ]
     },
     "execution_count": 30,
     "metadata": {},
     "output_type": "execute_result"
    }
   ],
   "source": [
    "# requests 요청 객체의 상태코드\n",
    "resp.status_code"
   ]
  },
  {
   "cell_type": "code",
   "execution_count": 26,
   "metadata": {
    "ExecuteTime": {
     "end_time": "2022-06-05T09:05:08.761089Z",
     "start_time": "2022-06-05T09:05:08.752804Z"
    }
   },
   "outputs": [
    {
     "data": {
      "text/plain": [
       "404"
      ]
     },
     "execution_count": 26,
     "metadata": {},
     "output_type": "execute_result"
    }
   ],
   "source": [
    "# HTTP 요청 시 상태코드 확인\n",
    "requests.codes.NOT_FOUND"
   ]
  },
  {
   "cell_type": "code",
   "execution_count": null,
   "metadata": {},
   "outputs": [],
   "source": [
    "resp.codes.ok\n",
    "# 100 우리 이런정보 내주는거야\n",
    "# 200 성공\n",
    "# 300 우리 이 사이트 이리루 이사했어 일루가\n",
    "# 400 유저가 요청을 잘못한경우\n",
    "# 500 서버 문제\n",
    "\n",
    "# 크롤링 시 문제가 없을 경우에만 진행\n",
    "if resp.status_code == requests.codes.ok:\n",
    "    # 크롤링 코드 진행\n",
    "elif resp.status_code == requests.codes.NOT_FOUND:\n",
    "    # 경고메세지 출력 등등등"
   ]
  },
  {
   "cell_type": "code",
   "execution_count": null,
   "metadata": {},
   "outputs": [],
   "source": [
    "# 차단막는 코드\n",
    "# 난수 생성 후 요청 작업에 시간차를 둠\n",
    "seed = np.random.randint(100)\n",
    "np.random.seed(seed)\n",
    "a = np.random.randint(5)\n",
    "time.sleep(a)"
   ]
  },
  {
   "cell_type": "markdown",
   "metadata": {},
   "source": [
    "### 다음에서 로또번호 가져와 볼께요 몽땅 다 가져옵니다 (10페이지)"
   ]
  },
  {
   "cell_type": "code",
   "execution_count": null,
   "metadata": {
    "ExecuteTime": {
     "end_time": "2022-06-05T08:52:53.654809Z",
     "start_time": "2022-06-05T08:52:30.018751Z"
    }
   },
   "outputs": [],
   "source": [
    "# url 설정 (페이지 넘어가는 url 설정을 어떻게 할건지?)\n",
    "# 순환시키면서 저 requests 요청을 어떻게 컨트롤 할 건지?\n",
    "    \n",
    "# url 설정\n",
    "\n",
    "    \n",
    "# requests로 데이터 요청하기\n",
    "\n",
    "    \n",
    "# html로 변환\n",
    "\n",
    "\n",
    "# 데이터 선별\n"
   ]
  },
  {
   "cell_type": "code",
   "execution_count": 17,
   "metadata": {
    "ExecuteTime": {
     "end_time": "2022-06-05T08:57:21.282339Z",
     "start_time": "2022-06-05T08:57:21.166249Z"
    }
   },
   "outputs": [
    {
     "data": {
      "text/plain": [
       "<AxesSubplot:ylabel='count'>"
      ]
     },
     "execution_count": 17,
     "metadata": {},
     "output_type": "execute_result"
    },
    {
     "data": {
      "image/png": "[encoded data removed]",
      "text/plain": [
       "<Figure size 864x432 with 1 Axes>"
      ]
     },
     "metadata": {
      "needs_background": "light"
     },
     "output_type": "display_data"
    }
   ],
   "source": [
    "# 데이터 시각화까지\n"
   ]
  },
  {
   "cell_type": "code",
   "execution_count": 18,
   "metadata": {
    "ExecuteTime": {
     "end_time": "2022-06-05T08:58:02.066263Z",
     "start_time": "2022-06-05T08:58:02.043448Z"
    }
   },
   "outputs": [
    {
     "data": {
      "text/html": [
       "<div>\n",
       "<style scoped>\n",
       "    .dataframe tbody tr th:only-of-type {\n",
       "        vertical-align: middle;\n",
       "    }\n",
       "\n",
       "    .dataframe tbody tr th {\n",
       "        vertical-align: top;\n",
       "    }\n",
       "\n",
       "    .dataframe thead th {\n",
       "        text-align: right;\n",
       "    }\n",
       "</style>\n",
       "<table border=\"1\" class=\"dataframe\">\n",
       "  <thead>\n",
       "    <tr style=\"text-align: right;\">\n",
       "      <th></th>\n",
       "      <th>0</th>\n",
       "      <th>1</th>\n",
       "      <th>2</th>\n",
       "      <th>3</th>\n",
       "      <th>4</th>\n",
       "      <th>5</th>\n",
       "    </tr>\n",
       "  </thead>\n",
       "  <tbody>\n",
       "    <tr>\n",
       "      <th>1회차</th>\n",
       "      <td>10</td>\n",
       "      <td>23</td>\n",
       "      <td>29</td>\n",
       "      <td>33</td>\n",
       "      <td>37</td>\n",
       "      <td>40</td>\n",
       "    </tr>\n",
       "    <tr>\n",
       "      <th>2회차</th>\n",
       "      <td>9</td>\n",
       "      <td>13</td>\n",
       "      <td>21</td>\n",
       "      <td>25</td>\n",
       "      <td>32</td>\n",
       "      <td>42</td>\n",
       "    </tr>\n",
       "    <tr>\n",
       "      <th>3회차</th>\n",
       "      <td>11</td>\n",
       "      <td>16</td>\n",
       "      <td>19</td>\n",
       "      <td>21</td>\n",
       "      <td>27</td>\n",
       "      <td>31</td>\n",
       "    </tr>\n",
       "    <tr>\n",
       "      <th>4회차</th>\n",
       "      <td>14</td>\n",
       "      <td>27</td>\n",
       "      <td>30</td>\n",
       "      <td>31</td>\n",
       "      <td>40</td>\n",
       "      <td>42</td>\n",
       "    </tr>\n",
       "    <tr>\n",
       "      <th>5회차</th>\n",
       "      <td>16</td>\n",
       "      <td>24</td>\n",
       "      <td>29</td>\n",
       "      <td>40</td>\n",
       "      <td>41</td>\n",
       "      <td>42</td>\n",
       "    </tr>\n",
       "    <tr>\n",
       "      <th>6회차</th>\n",
       "      <td>14</td>\n",
       "      <td>15</td>\n",
       "      <td>26</td>\n",
       "      <td>27</td>\n",
       "      <td>40</td>\n",
       "      <td>42</td>\n",
       "    </tr>\n",
       "    <tr>\n",
       "      <th>7회차</th>\n",
       "      <td>2</td>\n",
       "      <td>9</td>\n",
       "      <td>16</td>\n",
       "      <td>25</td>\n",
       "      <td>26</td>\n",
       "      <td>40</td>\n",
       "    </tr>\n",
       "    <tr>\n",
       "      <th>8회차</th>\n",
       "      <td>8</td>\n",
       "      <td>19</td>\n",
       "      <td>25</td>\n",
       "      <td>34</td>\n",
       "      <td>37</td>\n",
       "      <td>39</td>\n",
       "    </tr>\n",
       "    <tr>\n",
       "      <th>9회차</th>\n",
       "      <td>2</td>\n",
       "      <td>4</td>\n",
       "      <td>16</td>\n",
       "      <td>17</td>\n",
       "      <td>36</td>\n",
       "      <td>39</td>\n",
       "    </tr>\n",
       "  </tbody>\n",
       "</table>\n",
       "</div>"
      ],
      "text/plain": [
       "      0   1   2   3   4   5\n",
       "1회차  10  23  29  33  37  40\n",
       "2회차   9  13  21  25  32  42\n",
       "3회차  11  16  19  21  27  31\n",
       "4회차  14  27  30  31  40  42\n",
       "5회차  16  24  29  40  41  42\n",
       "6회차  14  15  26  27  40  42\n",
       "7회차   2   9  16  25  26  40\n",
       "8회차   8  19  25  34  37  39\n",
       "9회차   2   4  16  17  36  39"
      ]
     },
     "execution_count": 18,
     "metadata": {},
     "output_type": "execute_result"
    }
   ],
   "source": [
    "# 데이터프레임으로 저장\n"
   ]
  },
  {
   "cell_type": "markdown",
   "metadata": {},
   "source": [
    "### 네이버 키워드로 검색한 결과를 크롤링"
   ]
  },
  {
   "cell_type": "code",
   "execution_count": null,
   "metadata": {
    "ExecuteTime": {
     "end_time": "2022-04-25T02:48:28.017099Z",
     "start_time": "2022-04-25T02:48:27.997354Z"
    },
    "scrolled": true
   },
   "outputs": [],
   "source": []
  },
  {
   "cell_type": "code",
   "execution_count": null,
   "metadata": {
    "ExecuteTime": {
     "end_time": "2022-06-05T09:10:48.709407Z",
     "start_time": "2022-06-05T09:10:40.136515Z"
    }
   },
   "outputs": [],
   "source": [
    "# url 정의\n",
    "\n",
    "# requsts로 url에 정보요청\n",
    "\n",
    "\n",
    "# 정보를 html 변환 (보기 쉽게)\n",
    "\n",
    "\n",
    "# 정보선별\n"
   ]
  },
  {
   "cell_type": "markdown",
   "metadata": {
    "id": "L--NnRPK9LAN",
    "slideshow": {
     "slide_type": "slide"
    }
   },
   "source": [
    "## 크롤링 결과에서 html 속성 접근"
   ]
  },
  {
   "cell_type": "code",
   "execution_count": null,
   "metadata": {
    "ExecuteTime": {
     "end_time": "2022-06-05T09:12:06.784317Z",
     "start_time": "2022-06-05T09:12:02.268809Z"
    },
    "scrolled": true
   },
   "outputs": [],
   "source": []
  },
  {
   "cell_type": "markdown",
   "metadata": {
    "id": "P_ssRYoV88a7",
    "slideshow": {
     "slide_type": "slide"
    }
   },
   "source": [
    "가져온 데이터에 접근을 하는 방식 자체는 판다스 색인처럼 결과값을 확인하며 진행하는 것이 가장 좋습니다."
   ]
  },
  {
   "cell_type": "markdown",
   "metadata": {
    "ExecuteTime": {
     "end_time": "2021-09-27T00:05:01.376165Z",
     "start_time": "2021-09-27T00:05:01.368066Z"
    }
   },
   "source": [
    "## 관심있는 개별종목의 시가총액, 외국인 소진률, PER, PBR 가져오기 실습"
   ]
  },
  {
   "cell_type": "code",
   "execution_count": null,
   "metadata": {
    "ExecuteTime": {
     "end_time": "2022-04-25T06:21:43.968562Z",
     "start_time": "2022-04-25T06:21:38.408853Z"
    }
   },
   "outputs": [],
   "source": [
    "# url 정의\n",
    "\n",
    "# requests 요청\n",
    "\n",
    "# html 변환\n",
    "\n",
    "# 시가총액, 외국인소진률, PER, PBR\n",
    "# 시가총액\n",
    "\n",
    "# 외국인소진율(경로셀렉터)\n",
    "\n",
    "# per\n",
    "\n",
    "# pbr\n",
    "\n",
    "# 종목명\n"
   ]
  },
  {
   "cell_type": "markdown",
   "metadata": {},
   "source": [
    "#### 여러 종목의 시가총액, 외국인 소진률, PER, PBR 한꺼번에 가져오기"
   ]
  },
  {
   "cell_type": "code",
   "execution_count": 30,
   "metadata": {
    "ExecuteTime": {
     "end_time": "2021-09-27T00:52:30.940704Z",
     "start_time": "2021-09-27T00:52:27.088491Z"
    }
   },
   "outputs": [
    {
     "name": "stdout",
     "output_type": "stream",
     "text": [
      "005930 크롤링 중입니다.\n",
      "002020 크롤링 중입니다.\n",
      "323410 크롤링 중입니다.\n",
      "크롤링 종료\n"
     ]
    }
   ],
   "source": [
    "# 종목리스트 정의\n",
    "\n",
    "# url 정의\n",
    "\n",
    "# requests 요청\n",
    "\n",
    "# html 변환\n",
    "\n",
    "# 데이터 선별\n"
   ]
  },
  {
   "cell_type": "code",
   "execution_count": 31,
   "metadata": {
    "ExecuteTime": {
     "end_time": "2021-09-27T00:52:31.106062Z",
     "start_time": "2021-09-27T00:52:31.101316Z"
    }
   },
   "outputs": [
    {
     "data": {
      "text/plain": [
       "[['462조6,581', '51.98%', '16.32', '1.92'],\n",
       " ['5,145', '11.36%', '3.64', '0.67'],\n",
       " ['32조2,118', '5.45%', '219.42', '9.55']]"
      ]
     },
     "execution_count": 31,
     "metadata": {},
     "output_type": "execute_result"
    }
   ],
   "source": []
  },
  {
   "cell_type": "code",
   "execution_count": 32,
   "metadata": {
    "ExecuteTime": {
     "end_time": "2021-09-27T00:53:55.646061Z",
     "start_time": "2021-09-27T00:53:55.619928Z"
    }
   },
   "outputs": [
    {
     "data": {
      "text/html": [
       "<div>\n",
       "<style scoped>\n",
       "    .dataframe tbody tr th:only-of-type {\n",
       "        vertical-align: middle;\n",
       "    }\n",
       "\n",
       "    .dataframe tbody tr th {\n",
       "        vertical-align: top;\n",
       "    }\n",
       "\n",
       "    .dataframe thead th {\n",
       "        text-align: right;\n",
       "    }\n",
       "</style>\n",
       "<table border=\"1\" class=\"dataframe\">\n",
       "  <thead>\n",
       "    <tr style=\"text-align: right;\">\n",
       "      <th></th>\n",
       "      <th>시가총액</th>\n",
       "      <th>외국인소진률</th>\n",
       "      <th>PER</th>\n",
       "      <th>PBR</th>\n",
       "    </tr>\n",
       "  </thead>\n",
       "  <tbody>\n",
       "    <tr>\n",
       "      <th>삼성전자</th>\n",
       "      <td>462조6,581</td>\n",
       "      <td>51.98%</td>\n",
       "      <td>16.32</td>\n",
       "      <td>1.92</td>\n",
       "    </tr>\n",
       "    <tr>\n",
       "      <th>코오롱</th>\n",
       "      <td>5,145</td>\n",
       "      <td>11.36%</td>\n",
       "      <td>3.64</td>\n",
       "      <td>0.67</td>\n",
       "    </tr>\n",
       "    <tr>\n",
       "      <th>카카오뱅크</th>\n",
       "      <td>32조2,118</td>\n",
       "      <td>5.45%</td>\n",
       "      <td>219.42</td>\n",
       "      <td>9.55</td>\n",
       "    </tr>\n",
       "  </tbody>\n",
       "</table>\n",
       "</div>"
      ],
      "text/plain": [
       "            시가총액  외국인소진률     PER   PBR\n",
       "삼성전자   462조6,581  51.98%   16.32  1.92\n",
       "코오롱        5,145  11.36%    3.64  0.67\n",
       "카카오뱅크   32조2,118   5.45%  219.42  9.55"
      ]
     },
     "execution_count": 32,
     "metadata": {},
     "output_type": "execute_result"
    }
   ],
   "source": [
    "# 데이터프레임 제작\n"
   ]
  },
  {
   "cell_type": "markdown",
   "metadata": {
    "id": "XYhXePUPB7FF",
    "slideshow": {
     "slide_type": "slide"
    }
   },
   "source": [
    "## **동적페이지 크롤링**\n",
    "> 최근에는 Js로 변경이 되며 일반적인 크롤링이 되지 않는 경우가 많음  \n",
    "동적페이지와 숨겨진 url을 가져오는 방법을 알아봅니다"
   ]
  },
  {
   "cell_type": "markdown",
   "metadata": {},
   "source": [
    "### 네이버 주식 시세 데이터 크롤링"
   ]
  },
  {
   "cell_type": "code",
   "execution_count": 96,
   "metadata": {
    "ExecuteTime": {
     "end_time": "2022-06-06T12:23:45.113876Z",
     "start_time": "2022-06-06T12:23:44.915533Z"
    }
   },
   "outputs": [
    {
     "data": {
      "text/html": [
       "<div>\n",
       "<style scoped>\n",
       "    .dataframe tbody tr th:only-of-type {\n",
       "        vertical-align: middle;\n",
       "    }\n",
       "\n",
       "    .dataframe tbody tr th {\n",
       "        vertical-align: top;\n",
       "    }\n",
       "\n",
       "    .dataframe thead th {\n",
       "        text-align: right;\n",
       "    }\n",
       "</style>\n",
       "<table border=\"1\" class=\"dataframe\">\n",
       "  <thead>\n",
       "    <tr style=\"text-align: right;\">\n",
       "      <th></th>\n",
       "      <th>종가</th>\n",
       "      <th>전일비</th>\n",
       "      <th>시가</th>\n",
       "      <th>고가</th>\n",
       "      <th>저가</th>\n",
       "      <th>거래량</th>\n",
       "    </tr>\n",
       "  </thead>\n",
       "  <tbody>\n",
       "    <tr>\n",
       "      <th>2022.05.19</th>\n",
       "      <td>111,000</td>\n",
       "      <td>2,500</td>\n",
       "      <td>110,500</td>\n",
       "      <td>112,500</td>\n",
       "      <td>110,000</td>\n",
       "      <td>3,680,049</td>\n",
       "    </tr>\n",
       "    <tr>\n",
       "      <th>2022.05.18</th>\n",
       "      <td>113,500</td>\n",
       "      <td>1,000</td>\n",
       "      <td>114,000</td>\n",
       "      <td>115,000</td>\n",
       "      <td>113,000</td>\n",
       "      <td>3,570,113</td>\n",
       "    </tr>\n",
       "    <tr>\n",
       "      <th>2022.05.17</th>\n",
       "      <td>112,500</td>\n",
       "      <td>2,000</td>\n",
       "      <td>111,000</td>\n",
       "      <td>113,000</td>\n",
       "      <td>110,500</td>\n",
       "      <td>2,056,143</td>\n",
       "    </tr>\n",
       "    <tr>\n",
       "      <th>2022.05.16</th>\n",
       "      <td>110,500</td>\n",
       "      <td>2,000</td>\n",
       "      <td>113,500</td>\n",
       "      <td>114,000</td>\n",
       "      <td>110,000</td>\n",
       "      <td>3,930,044</td>\n",
       "    </tr>\n",
       "    <tr>\n",
       "      <th>2022.05.13</th>\n",
       "      <td>112,500</td>\n",
       "      <td>3,500</td>\n",
       "      <td>109,000</td>\n",
       "      <td>112,500</td>\n",
       "      <td>109,000</td>\n",
       "      <td>4,003,349</td>\n",
       "    </tr>\n",
       "    <tr>\n",
       "      <th>2022.05.12</th>\n",
       "      <td>109,000</td>\n",
       "      <td>1,500</td>\n",
       "      <td>109,500</td>\n",
       "      <td>111,500</td>\n",
       "      <td>108,500</td>\n",
       "      <td>4,132,948</td>\n",
       "    </tr>\n",
       "    <tr>\n",
       "      <th>2022.05.11</th>\n",
       "      <td>110,500</td>\n",
       "      <td>500</td>\n",
       "      <td>110,500</td>\n",
       "      <td>112,500</td>\n",
       "      <td>108,000</td>\n",
       "      <td>3,658,168</td>\n",
       "    </tr>\n",
       "    <tr>\n",
       "      <th>2022.05.10</th>\n",
       "      <td>110,000</td>\n",
       "      <td>2,500</td>\n",
       "      <td>107,000</td>\n",
       "      <td>111,000</td>\n",
       "      <td>107,000</td>\n",
       "      <td>4,141,923</td>\n",
       "    </tr>\n",
       "    <tr>\n",
       "      <th>2022.05.09</th>\n",
       "      <td>107,500</td>\n",
       "      <td>0</td>\n",
       "      <td>107,000</td>\n",
       "      <td>109,000</td>\n",
       "      <td>106,500</td>\n",
       "      <td>2,203,472</td>\n",
       "    </tr>\n",
       "    <tr>\n",
       "      <th>2022.05.06</th>\n",
       "      <td>107,500</td>\n",
       "      <td>2,000</td>\n",
       "      <td>108,000</td>\n",
       "      <td>108,500</td>\n",
       "      <td>106,500</td>\n",
       "      <td>2,566,813</td>\n",
       "    </tr>\n",
       "  </tbody>\n",
       "</table>\n",
       "</div>"
      ],
      "text/plain": [
       "                 종가    전일비       시가       고가       저가        거래량\n",
       "2022.05.19  111,000  2,500  110,500  112,500  110,000  3,680,049\n",
       "2022.05.18  113,500  1,000  114,000  115,000  113,000  3,570,113\n",
       "2022.05.17  112,500  2,000  111,000  113,000  110,500  2,056,143\n",
       "2022.05.16  110,500  2,000  113,500  114,000  110,000  3,930,044\n",
       "2022.05.13  112,500  3,500  109,000  112,500  109,000  4,003,349\n",
       "2022.05.12  109,000  1,500  109,500  111,500  108,500  4,132,948\n",
       "2022.05.11  110,500    500  110,500  112,500  108,000  3,658,168\n",
       "2022.05.10  110,000  2,500  107,000  111,000  107,000  4,141,923\n",
       "2022.05.09  107,500      0  107,000  109,000  106,500  2,203,472\n",
       "2022.05.06  107,500  2,000  108,000  108,500  106,500  2,566,813"
      ]
     },
     "execution_count": 96,
     "metadata": {},
     "output_type": "execute_result"
    }
   ],
   "source": [
    "# 동적페이지의 숨은 URL\n",
    "# 동적페이지에 요청을 할 때 웹 정책에 필요한 정보를 같이 전달을 해줘야 함.\n",
    "\n",
    "\n",
    "# requests 요청시에 헤더정보 추가\n",
    "\n",
    "# html 변환\n",
    "\n",
    "# 정보선별\n",
    "\n",
    "# df 제작\n"
   ]
  },
  {
   "cell_type": "markdown",
   "metadata": {},
   "source": [
    "#### 20페이지 주가 정보 크롤링 해서 종가 그래프 출력"
   ]
  },
  {
   "cell_type": "code",
   "execution_count": 100,
   "metadata": {
    "ExecuteTime": {
     "end_time": "2021-09-27T04:10:31.778681Z",
     "start_time": "2021-09-27T04:09:40.133778Z"
    }
   },
   "outputs": [
    {
     "name": "stdout",
     "output_type": "stream",
     "text": [
      "1페이지 크롤링 중\n",
      "2페이지 크롤링 중\n",
      "3페이지 크롤링 중\n",
      "4페이지 크롤링 중\n",
      "5페이지 크롤링 중\n",
      "6페이지 크롤링 중\n",
      "7페이지 크롤링 중\n",
      "8페이지 크롤링 중\n",
      "9페이지 크롤링 중\n",
      "10페이지 크롤링 중\n",
      "11페이지 크롤링 중\n",
      "12페이지 크롤링 중\n",
      "13페이지 크롤링 중\n",
      "14페이지 크롤링 중\n",
      "15페이지 크롤링 중\n",
      "16페이지 크롤링 중\n",
      "17페이지 크롤링 중\n",
      "18페이지 크롤링 중\n",
      "19페이지 크롤링 중\n",
      "20페이지 크롤링 중\n"
     ]
    }
   ],
   "source": [
    "# 헤더정보 정의 (동적페이지 헤더정보 그대로 사용)\n",
    "\n",
    "# 인덱스 정의\n",
    "\n",
    "# 전체 가격 데이터 빈 데이터 프레임\n",
    "\n",
    "# requests 요청시에 헤더정보 추가\n",
    "\n",
    "# html 변환\n",
    "\n",
    "# 날짜 인덱스 살려서 활용하기\n",
    "\n",
    "# 가격정보 추출\n",
    "\n",
    "# 데이터프레임 제작\n",
    "pd.concat(df, temp_df)"
   ]
  },
  {
   "cell_type": "code",
   "execution_count": 228,
   "metadata": {
    "ExecuteTime": {
     "end_time": "2022-04-25T07:33:42.799336Z",
     "start_time": "2022-04-25T07:33:42.776007Z"
    }
   },
   "outputs": [
    {
     "data": {
      "text/html": [
       "<div>\n",
       "<style scoped>\n",
       "    .dataframe tbody tr th:only-of-type {\n",
       "        vertical-align: middle;\n",
       "    }\n",
       "\n",
       "    .dataframe tbody tr th {\n",
       "        vertical-align: top;\n",
       "    }\n",
       "\n",
       "    .dataframe thead th {\n",
       "        text-align: right;\n",
       "    }\n",
       "</style>\n",
       "<table border=\"1\" class=\"dataframe\">\n",
       "  <thead>\n",
       "    <tr style=\"text-align: right;\">\n",
       "      <th></th>\n",
       "      <th>종가</th>\n",
       "      <th>전일비</th>\n",
       "      <th>시가</th>\n",
       "      <th>고가</th>\n",
       "      <th>저가</th>\n",
       "      <th>거래량</th>\n",
       "    </tr>\n",
       "  </thead>\n",
       "  <tbody>\n",
       "    <tr>\n",
       "      <th>2022.04.11</th>\n",
       "      <td>111,500</td>\n",
       "      <td>500</td>\n",
       "      <td>111,000</td>\n",
       "      <td>113,000</td>\n",
       "      <td>110,500</td>\n",
       "      <td>2,390,786</td>\n",
       "    </tr>\n",
       "    <tr>\n",
       "      <th>2022.04.08</th>\n",
       "      <td>112,000</td>\n",
       "      <td>1,500</td>\n",
       "      <td>113,000</td>\n",
       "      <td>114,000</td>\n",
       "      <td>110,500</td>\n",
       "      <td>4,268,316</td>\n",
       "    </tr>\n",
       "    <tr>\n",
       "      <th>2022.04.07</th>\n",
       "      <td>113,500</td>\n",
       "      <td>500</td>\n",
       "      <td>111,500</td>\n",
       "      <td>114,500</td>\n",
       "      <td>110,500</td>\n",
       "      <td>5,027,865</td>\n",
       "    </tr>\n",
       "    <tr>\n",
       "      <th>2022.04.06</th>\n",
       "      <td>113,000</td>\n",
       "      <td>3,500</td>\n",
       "      <td>114,500</td>\n",
       "      <td>115,500</td>\n",
       "      <td>113,000</td>\n",
       "      <td>4,541,938</td>\n",
       "    </tr>\n",
       "    <tr>\n",
       "      <th>2022.04.05</th>\n",
       "      <td>116,500</td>\n",
       "      <td>500</td>\n",
       "      <td>117,500</td>\n",
       "      <td>118,000</td>\n",
       "      <td>116,000</td>\n",
       "      <td>2,101,474</td>\n",
       "    </tr>\n",
       "    <tr>\n",
       "      <th>2022.04.04</th>\n",
       "      <td>117,000</td>\n",
       "      <td>1,000</td>\n",
       "      <td>115,000</td>\n",
       "      <td>117,500</td>\n",
       "      <td>114,500</td>\n",
       "      <td>2,470,792</td>\n",
       "    </tr>\n",
       "    <tr>\n",
       "      <th>2022.04.01</th>\n",
       "      <td>116,000</td>\n",
       "      <td>2,000</td>\n",
       "      <td>117,000</td>\n",
       "      <td>117,500</td>\n",
       "      <td>116,000</td>\n",
       "      <td>3,851,558</td>\n",
       "    </tr>\n",
       "    <tr>\n",
       "      <th>2022.03.31</th>\n",
       "      <td>118,000</td>\n",
       "      <td>3,000</td>\n",
       "      <td>119,500</td>\n",
       "      <td>120,000</td>\n",
       "      <td>117,500</td>\n",
       "      <td>4,558,063</td>\n",
       "    </tr>\n",
       "    <tr>\n",
       "      <th>2022.03.30</th>\n",
       "      <td>121,000</td>\n",
       "      <td>1,000</td>\n",
       "      <td>123,000</td>\n",
       "      <td>123,000</td>\n",
       "      <td>120,500</td>\n",
       "      <td>3,436,282</td>\n",
       "    </tr>\n",
       "    <tr>\n",
       "      <th>2022.03.29</th>\n",
       "      <td>120,000</td>\n",
       "      <td>2,000</td>\n",
       "      <td>119,500</td>\n",
       "      <td>120,500</td>\n",
       "      <td>118,500</td>\n",
       "      <td>3,375,247</td>\n",
       "    </tr>\n",
       "  </tbody>\n",
       "</table>\n",
       "</div>"
      ],
      "text/plain": [
       "                 종가    전일비       시가       고가       저가        거래량\n",
       "2022.04.11  111,500    500  111,000  113,000  110,500  2,390,786\n",
       "2022.04.08  112,000  1,500  113,000  114,000  110,500  4,268,316\n",
       "2022.04.07  113,500    500  111,500  114,500  110,500  5,027,865\n",
       "2022.04.06  113,000  3,500  114,500  115,500  113,000  4,541,938\n",
       "2022.04.05  116,500    500  117,500  118,000  116,000  2,101,474\n",
       "2022.04.04  117,000  1,000  115,000  117,500  114,500  2,470,792\n",
       "2022.04.01  116,000  2,000  117,000  117,500  116,000  3,851,558\n",
       "2022.03.31  118,000  3,000  119,500  120,000  117,500  4,558,063\n",
       "2022.03.30  121,000  1,000  123,000  123,000  120,500  3,436,282\n",
       "2022.03.29  120,000  2,000  119,500  120,500  118,500  3,375,247"
      ]
     },
     "execution_count": 228,
     "metadata": {},
     "output_type": "execute_result"
    }
   ],
   "source": []
  },
  {
   "cell_type": "code",
   "execution_count": 243,
   "metadata": {
    "ExecuteTime": {
     "end_time": "2022-04-25T07:39:09.214552Z",
     "start_time": "2022-04-25T07:39:09.138002Z"
    }
   },
   "outputs": [
    {
     "data": {
      "image/png": "[encoded data removed]",
      "text/plain": [
       "<Figure size 1440x432 with 1 Axes>"
      ]
     },
     "metadata": {
      "needs_background": "light"
     },
     "output_type": "display_data"
    }
   ],
   "source": [
    "# 종가 그래프 출력(str)\n"
   ]
  },
  {
   "cell_type": "markdown",
   "metadata": {},
   "source": [
    "### JSON 파싱\n",
    "> 동적페이지 크롤링의 경우에는 일반적인 HTML text 형태의 데이터만을 사용하지 않습니다.  \n",
    "JSON, xml 형식의 데이터도 통신에 사용하기에 요청결과값에 따른 처리가 필요합니다."
   ]
  },
  {
   "cell_type": "markdown",
   "metadata": {},
   "source": [
    "### 다음 주식 일자별 주가 데이터 크롤링 연습"
   ]
  },
  {
   "cell_type": "code",
   "execution_count": 97,
   "metadata": {
    "ExecuteTime": {
     "end_time": "2022-06-06T12:31:12.366223Z",
     "start_time": "2022-06-06T12:31:12.063191Z"
    }
   },
   "outputs": [
    {
     "data": {
      "text/html": [
       "<div>\n",
       "<style scoped>\n",
       "    .dataframe tbody tr th:only-of-type {\n",
       "        vertical-align: middle;\n",
       "    }\n",
       "\n",
       "    .dataframe tbody tr th {\n",
       "        vertical-align: top;\n",
       "    }\n",
       "\n",
       "    .dataframe thead th {\n",
       "        text-align: right;\n",
       "    }\n",
       "</style>\n",
       "<table border=\"1\" class=\"dataframe\">\n",
       "  <thead>\n",
       "    <tr style=\"text-align: right;\">\n",
       "      <th></th>\n",
       "      <th>symbolCode</th>\n",
       "      <th>date</th>\n",
       "      <th>tradePrice</th>\n",
       "      <th>tradeTime</th>\n",
       "      <th>change</th>\n",
       "      <th>changePrice</th>\n",
       "      <th>changeRate</th>\n",
       "      <th>prevClosingPrice</th>\n",
       "      <th>exchangeCountry</th>\n",
       "      <th>openingPrice</th>\n",
       "      <th>highPrice</th>\n",
       "      <th>lowPrice</th>\n",
       "      <th>accTradePrice</th>\n",
       "      <th>accTradeVolume</th>\n",
       "      <th>periodTradePrice</th>\n",
       "      <th>periodTradeVolume</th>\n",
       "      <th>listedSharesCount</th>\n",
       "    </tr>\n",
       "  </thead>\n",
       "  <tbody>\n",
       "    <tr>\n",
       "      <th>0</th>\n",
       "      <td>A005930</td>\n",
       "      <td>2022-05-19 15:30:23</td>\n",
       "      <td>67500.0</td>\n",
       "      <td>15:30:23</td>\n",
       "      <td>FALL</td>\n",
       "      <td>600.0</td>\n",
       "      <td>-0.008811</td>\n",
       "      <td>68100.0</td>\n",
       "      <td>KOREA</td>\n",
       "      <td>66500.0</td>\n",
       "      <td>67600.0</td>\n",
       "      <td>66500.0</td>\n",
       "      <td>1147743790508</td>\n",
       "      <td>17073727</td>\n",
       "      <td>1147743790508</td>\n",
       "      <td>17073727</td>\n",
       "      <td>None</td>\n",
       "    </tr>\n",
       "    <tr>\n",
       "      <th>1</th>\n",
       "      <td>A005930</td>\n",
       "      <td>2022-05-18 15:30:14</td>\n",
       "      <td>68100.0</td>\n",
       "      <td>15:30:14</td>\n",
       "      <td>RISE</td>\n",
       "      <td>500.0</td>\n",
       "      <td>0.007396</td>\n",
       "      <td>67600.0</td>\n",
       "      <td>KOREA</td>\n",
       "      <td>68300.0</td>\n",
       "      <td>68700.0</td>\n",
       "      <td>67600.0</td>\n",
       "      <td>1122585202585</td>\n",
       "      <td>16486319</td>\n",
       "      <td>1122585202585</td>\n",
       "      <td>16486319</td>\n",
       "      <td>None</td>\n",
       "    </tr>\n",
       "    <tr>\n",
       "      <th>2</th>\n",
       "      <td>A005930</td>\n",
       "      <td>2022-05-17 15:30:21</td>\n",
       "      <td>67600.0</td>\n",
       "      <td>15:30:21</td>\n",
       "      <td>RISE</td>\n",
       "      <td>1300.0</td>\n",
       "      <td>0.019608</td>\n",
       "      <td>66300.0</td>\n",
       "      <td>KOREA</td>\n",
       "      <td>66600.0</td>\n",
       "      <td>67900.0</td>\n",
       "      <td>66600.0</td>\n",
       "      <td>1058322764800</td>\n",
       "      <td>15680447</td>\n",
       "      <td>1058322764800</td>\n",
       "      <td>15680447</td>\n",
       "      <td>None</td>\n",
       "    </tr>\n",
       "    <tr>\n",
       "      <th>3</th>\n",
       "      <td>A005930</td>\n",
       "      <td>2022-05-16 15:30:27</td>\n",
       "      <td>66300.0</td>\n",
       "      <td>15:30:27</td>\n",
       "      <td>FALL</td>\n",
       "      <td>200.0</td>\n",
       "      <td>-0.003008</td>\n",
       "      <td>66500.0</td>\n",
       "      <td>KOREA</td>\n",
       "      <td>67100.0</td>\n",
       "      <td>67400.0</td>\n",
       "      <td>66100.0</td>\n",
       "      <td>796060691900</td>\n",
       "      <td>11937555</td>\n",
       "      <td>796060691900</td>\n",
       "      <td>11937555</td>\n",
       "      <td>None</td>\n",
       "    </tr>\n",
       "    <tr>\n",
       "      <th>4</th>\n",
       "      <td>A005930</td>\n",
       "      <td>2022-05-13 15:30:18</td>\n",
       "      <td>66500.0</td>\n",
       "      <td>15:30:18</td>\n",
       "      <td>RISE</td>\n",
       "      <td>1600.0</td>\n",
       "      <td>0.024653</td>\n",
       "      <td>64900.0</td>\n",
       "      <td>KOREA</td>\n",
       "      <td>65300.0</td>\n",
       "      <td>66700.0</td>\n",
       "      <td>65200.0</td>\n",
       "      <td>962476162900</td>\n",
       "      <td>14551536</td>\n",
       "      <td>962476162900</td>\n",
       "      <td>14551536</td>\n",
       "      <td>None</td>\n",
       "    </tr>\n",
       "    <tr>\n",
       "      <th>5</th>\n",
       "      <td>A005930</td>\n",
       "      <td>2022-05-12 15:30:14</td>\n",
       "      <td>64900.0</td>\n",
       "      <td>15:30:14</td>\n",
       "      <td>FALL</td>\n",
       "      <td>800.0</td>\n",
       "      <td>-0.012177</td>\n",
       "      <td>65700.0</td>\n",
       "      <td>KOREA</td>\n",
       "      <td>65200.0</td>\n",
       "      <td>65500.0</td>\n",
       "      <td>64900.0</td>\n",
       "      <td>1069685385550</td>\n",
       "      <td>16414188</td>\n",
       "      <td>1069685385550</td>\n",
       "      <td>16414188</td>\n",
       "      <td>None</td>\n",
       "    </tr>\n",
       "    <tr>\n",
       "      <th>6</th>\n",
       "      <td>A005930</td>\n",
       "      <td>2022-05-11 15:30:01</td>\n",
       "      <td>65700.0</td>\n",
       "      <td>15:30:01</td>\n",
       "      <td>EVEN</td>\n",
       "      <td>0.0</td>\n",
       "      <td>0.000000</td>\n",
       "      <td>65700.0</td>\n",
       "      <td>KOREA</td>\n",
       "      <td>65500.0</td>\n",
       "      <td>66300.0</td>\n",
       "      <td>65200.0</td>\n",
       "      <td>812298026600</td>\n",
       "      <td>12330920</td>\n",
       "      <td>812298026600</td>\n",
       "      <td>12330920</td>\n",
       "      <td>None</td>\n",
       "    </tr>\n",
       "    <tr>\n",
       "      <th>7</th>\n",
       "      <td>A005930</td>\n",
       "      <td>2022-05-10 15:30:16</td>\n",
       "      <td>65700.0</td>\n",
       "      <td>15:30:16</td>\n",
       "      <td>FALL</td>\n",
       "      <td>400.0</td>\n",
       "      <td>-0.006051</td>\n",
       "      <td>66100.0</td>\n",
       "      <td>KOREA</td>\n",
       "      <td>65900.0</td>\n",
       "      <td>66300.0</td>\n",
       "      <td>65300.0</td>\n",
       "      <td>1132067708900</td>\n",
       "      <td>17235605</td>\n",
       "      <td>1132067708900</td>\n",
       "      <td>17235605</td>\n",
       "      <td>None</td>\n",
       "    </tr>\n",
       "    <tr>\n",
       "      <th>8</th>\n",
       "      <td>A005930</td>\n",
       "      <td>2022-05-09 15:30:29</td>\n",
       "      <td>66100.0</td>\n",
       "      <td>15:30:29</td>\n",
       "      <td>FALL</td>\n",
       "      <td>400.0</td>\n",
       "      <td>-0.006015</td>\n",
       "      <td>66500.0</td>\n",
       "      <td>KOREA</td>\n",
       "      <td>66300.0</td>\n",
       "      <td>66900.0</td>\n",
       "      <td>66100.0</td>\n",
       "      <td>787562955000</td>\n",
       "      <td>11858736</td>\n",
       "      <td>787562955000</td>\n",
       "      <td>11858736</td>\n",
       "      <td>None</td>\n",
       "    </tr>\n",
       "    <tr>\n",
       "      <th>9</th>\n",
       "      <td>A005930</td>\n",
       "      <td>2022-05-06 15:30:15</td>\n",
       "      <td>66500.0</td>\n",
       "      <td>15:30:15</td>\n",
       "      <td>FALL</td>\n",
       "      <td>1400.0</td>\n",
       "      <td>-0.020619</td>\n",
       "      <td>67900.0</td>\n",
       "      <td>KOREA</td>\n",
       "      <td>67000.0</td>\n",
       "      <td>67100.0</td>\n",
       "      <td>66500.0</td>\n",
       "      <td>957335193600</td>\n",
       "      <td>14356156</td>\n",
       "      <td>957335193600</td>\n",
       "      <td>14356156</td>\n",
       "      <td>None</td>\n",
       "    </tr>\n",
       "  </tbody>\n",
       "</table>\n",
       "</div>"
      ],
      "text/plain": [
       "  symbolCode                 date  tradePrice tradeTime change  changePrice  \\\n",
       "0    A005930  2022-05-19 15:30:23     67500.0  15:30:23   FALL        600.0   \n",
       "1    A005930  2022-05-18 15:30:14     68100.0  15:30:14   RISE        500.0   \n",
       "2    A005930  2022-05-17 15:30:21     67600.0  15:30:21   RISE       1300.0   \n",
       "3    A005930  2022-05-16 15:30:27     66300.0  15:30:27   FALL        200.0   \n",
       "4    A005930  2022-05-13 15:30:18     66500.0  15:30:18   RISE       1600.0   \n",
       "5    A005930  2022-05-12 15:30:14     64900.0  15:30:14   FALL        800.0   \n",
       "6    A005930  2022-05-11 15:30:01     65700.0  15:30:01   EVEN          0.0   \n",
       "7    A005930  2022-05-10 15:30:16     65700.0  15:30:16   FALL        400.0   \n",
       "8    A005930  2022-05-09 15:30:29     66100.0  15:30:29   FALL        400.0   \n",
       "9    A005930  2022-05-06 15:30:15     66500.0  15:30:15   FALL       1400.0   \n",
       "\n",
       "   changeRate  prevClosingPrice exchangeCountry  openingPrice  highPrice  \\\n",
       "0   -0.008811           68100.0           KOREA       66500.0    67600.0   \n",
       "1    0.007396           67600.0           KOREA       68300.0    68700.0   \n",
       "2    0.019608           66300.0           KOREA       66600.0    67900.0   \n",
       "3   -0.003008           66500.0           KOREA       67100.0    67400.0   \n",
       "4    0.024653           64900.0           KOREA       65300.0    66700.0   \n",
       "5   -0.012177           65700.0           KOREA       65200.0    65500.0   \n",
       "6    0.000000           65700.0           KOREA       65500.0    66300.0   \n",
       "7   -0.006051           66100.0           KOREA       65900.0    66300.0   \n",
       "8   -0.006015           66500.0           KOREA       66300.0    66900.0   \n",
       "9   -0.020619           67900.0           KOREA       67000.0    67100.0   \n",
       "\n",
       "   lowPrice  accTradePrice  accTradeVolume  periodTradePrice  \\\n",
       "0   66500.0  1147743790508        17073727     1147743790508   \n",
       "1   67600.0  1122585202585        16486319     1122585202585   \n",
       "2   66600.0  1058322764800        15680447     1058322764800   \n",
       "3   66100.0   796060691900        11937555      796060691900   \n",
       "4   65200.0   962476162900        14551536      962476162900   \n",
       "5   64900.0  1069685385550        16414188     1069685385550   \n",
       "6   65200.0   812298026600        12330920      812298026600   \n",
       "7   65300.0  1132067708900        17235605     1132067708900   \n",
       "8   66100.0   787562955000        11858736      787562955000   \n",
       "9   66500.0   957335193600        14356156      957335193600   \n",
       "\n",
       "   periodTradeVolume listedSharesCount  \n",
       "0           17073727              None  \n",
       "1           16486319              None  \n",
       "2           15680447              None  \n",
       "3           11937555              None  \n",
       "4           14551536              None  \n",
       "5           16414188              None  \n",
       "6           12330920              None  \n",
       "7           17235605              None  \n",
       "8           11858736              None  \n",
       "9           14356156              None  "
      ]
     },
     "execution_count": 97,
     "metadata": {},
     "output_type": "execute_result"
    }
   ],
   "source": []
  },
  {
   "cell_type": "markdown",
   "metadata": {
    "id": "GIvAIByBCAz1",
    "slideshow": {
     "slide_type": "slide"
    }
   },
   "source": [
    "### 네이버 데이터랩 인기검색어 크롤링"
   ]
  },
  {
   "cell_type": "code",
   "execution_count": 244,
   "metadata": {
    "ExecuteTime": {
     "end_time": "2022-04-25T08:03:58.182889Z",
     "start_time": "2022-04-25T08:03:58.174940Z"
    }
   },
   "outputs": [],
   "source": []
  },
  {
   "cell_type": "markdown",
   "metadata": {},
   "source": [
    "## APIs\n",
    "> 어플리케이션  \n",
    "웹 서비스 제공자가 사용자에게 정보를 제공하기 위한 통신프로그램  \n",
    "일반적인 API의 경우 requests -> response 형태의 크롤링 방법과 동일한 형태를 취한다.  "
   ]
  },
  {
   "cell_type": "markdown",
   "metadata": {},
   "source": [
    "### 네이버 파파고 API"
   ]
  },
  {
   "cell_type": "code",
   "execution_count": 99,
   "metadata": {
    "ExecuteTime": {
     "end_time": "2022-06-06T12:35:35.857721Z",
     "start_time": "2022-06-06T12:35:35.850856Z"
    }
   },
   "outputs": [],
   "source": []
  },
  {
   "cell_type": "code",
   "execution_count": 100,
   "metadata": {
    "ExecuteTime": {
     "end_time": "2022-06-06T12:35:49.696002Z",
     "start_time": "2022-06-06T12:35:38.429957Z"
    }
   },
   "outputs": [
    {
     "name": "stdout",
     "output_type": "stream",
     "text": [
      "번역이 필요한 한국어를 입력하세요 : 오늘 수업은 여기까지입니다. 수고하셨습니다.\n",
      "That's all for today's class. Thank you for your efforts.\n"
     ]
    }
   ],
   "source": []
  },
  {
   "cell_type": "markdown",
   "metadata": {},
   "source": [
    "### 공공데이터 API"
   ]
  },
  {
   "cell_type": "code",
   "execution_count": 112,
   "metadata": {
    "ExecuteTime": {
     "end_time": "2022-06-06T12:41:48.033602Z",
     "start_time": "2022-06-06T12:41:48.026173Z"
    }
   },
   "outputs": [
    {
     "data": {
      "text/plain": [
       "'{\"resultCode\":\"0\",\"resultMsg\":\"SUCCESS\",\"numOfRows\":10,\"pageNo\":0,\"totalCount\":377,\"items\":[{\"date\":\"2018-07-01\",\"positive\":\"2956\",\"negative\":\"648\",\"neutral\":\"295\",\"addr\":\"홍대 걷고 싶은 거리\"},{\"date\":\"2018-08-01\",\"positive\":\"2247\",\"negative\":\"111\",\"neutral\":\"200\",\"addr\":\"홍대 걷고 싶은 거리\"},{\"date\":\"2018-09-01\",\"positive\":\"3602\",\"negative\":\"635\",\"neutral\":\"436\",\"addr\":\"홍대 걷고 싶은 거리\"},{\"date\":\"2018-10-01\",\"positive\":\"2827\",\"negative\":\"394\",\"neutral\":\"623\",\"addr\":\"홍대 걷고 싶은 거리\"},{\"date\":\"2018-11-01\",\"positive\":\"2004\",\"negative\":\"356\",\"neutral\":\"583\",\"addr\":\"홍대 걷고 싶은 거리\"},{\"date\":\"2018-12-01\",\"positive\":\"1457\",\"negative\":\"223\",\"neutral\":\"173\",\"addr\":\"홍대 걷고 싶은 거리\"},{\"date\":\"2019-01-01\",\"positive\":\"1444\",\"negative\":\"143\",\"neutral\":\"127\",\"addr\":\"홍대 걷고 싶은 거리\"},{\"date\":\"2019-02-01\",\"positive\":\"6886\",\"negative\":\"215\",\"neutral\":\"220\",\"addr\":\"홍대 걷고 싶은 거리\"},{\"date\":\"2019-03-01\",\"positive\":\"1945\",\"negative\":\"175\",\"neutral\":\"160\",\"addr\":\"홍대 걷고 싶은 거리\"},{\"date\":\"2019-04-01\",\"positive\":\"1773\",\"negative\":\"90\",\"neutral\":\"103\",\"addr\":\"홍대 걷고 싶은 거리\"}]}'"
      ]
     },
     "execution_count": 112,
     "metadata": {},
     "output_type": "execute_result"
    }
   ],
   "source": []
  }
 ],
 "metadata": {
  "colab": {
   "authorship_tag": "ABX9TyMM9bcGMQdkO/nwIX0kAuhm",
   "collapsed_sections": [],
   "name": "08_crawler.ipynb",
   "provenance": []
  },
  "kernelspec": {
   "display_name": "Python 3 (ipykernel)",
   "language": "python",
   "name": "python3"
  },
  "language_info": {
   "codemirror_mode": {
    "name": "ipython",
    "version": 3
   },
   "file_extension": ".py",
   "mimetype": "text/x-python",
   "name": "python",
   "nbconvert_exporter": "python",
   "pygments_lexer": "ipython3",
   "version": "3.9.12"
  },
  "toc": {
   "base_numbering": 1,
   "nav_menu": {},
   "number_sections": true,
   "sideBar": true,
   "skip_h1_title": true,
   "title_cell": "Table of Contents",
   "title_sidebar": "Contents",
   "toc_cell": false,
   "toc_position": {},
   "toc_section_display": true,
   "toc_window_display": false
  },
  "varInspector": {
   "cols": {
    "lenName": 16,
    "lenType": 16,
    "lenVar": 40
   },
   "kernels_config": {
    "python": {
     "delete_cmd_postfix": "",
     "delete_cmd_prefix": "del ",
     "library": "var_list.py",
     "varRefreshCmd": "print(var_dic_list())"
    },
    "r": {
     "delete_cmd_postfix": ") ",
     "delete_cmd_prefix": "rm(",
     "library": "var_list.r",
     "varRefreshCmd": "cat(var_dic_list()) "
    }
   },
   "types_to_exclude": [
    "module",
    "function",
    "builtin_function_or_method",
    "instance",
    "_Feature"
   ],
   "window_display": false
  }
 },
 "nbformat": 4,
 "nbformat_minor": 1
}

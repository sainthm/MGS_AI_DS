{
 "cells": [
  {
   "cell_type": "markdown",
   "metadata": {
    "slideshow": {
     "slide_type": "slide"
    }
   },
   "source": [
    "# 미니 프로젝트 오리엔테이션\n",
    "> 미니 프로젝트는 데이터분석 기획부터 시각화까지 분석프로세스 중 일부를 수행합니다.  \n",
    "관심있는 분야의 주제를 선정하여 데이터수집(필요하다면 크롤링까지) 및 EDA, 시각화를 통해 데이터의 인사이트를 얻기 위한 목적으로 수행합니다.  \n",
    "지원하고자 하는 필드의 유사 데이터를 선택한다면 취업에 필요한 좋은 포트폴리오가 됨.\n",
    "\n",
    "> 분석 프로젝트의 목적은 현재까지 수강한 수업내용을 바탕으로 사용 가능 한 모든 분석 방법을 동원하여  \n",
    "데이터 내 인사이트를 도출, 더 나아가서는 분석 내용을 바탕으로 서비스 제안 내지 시각화 대시 보드를\n",
    "제작하는 것이 목표"
   ]
  },
  {
   "cell_type": "markdown",
   "metadata": {
    "slideshow": {
     "slide_type": "slide"
    }
   },
   "source": [
    "## 데이터 분석 프로젝트란?\n",
    "> 문제정의에 따라 데이터를 수집, 분석, 모델링을 거쳐 결과물을 만들어내는 전 과정  \n",
    "데이터 과학자의 관점에서 데이터를 연구  \n",
    "데이터를 연구하기에 다양한 필드에 적용이 가능하다  "
   ]
  },
  {
   "cell_type": "markdown",
   "metadata": {
    "slideshow": {
     "slide_type": "slide"
    }
   },
   "source": [
    "## 프로세스\n",
    "> 1. 문제정의\n",
    "2. 데이터수집\n",
    "3. 데이터탐색\n",
    "4. 데이터전처리\n",
    "5. 모델링\n",
    "6. 모델평가\n",
    "7. 결과보고서 작성"
   ]
  },
  {
   "cell_type": "markdown",
   "metadata": {
    "slideshow": {
     "slide_type": "slide"
    }
   },
   "source": [
    "### 문제정의\n",
    "> 프로젝트의 시작, 동기  \n",
    "현업 프로젝트 컨설팅 시 가장 어려워하는 부분  \n",
    "문제정의 전 무엇을 할 수 있는지 파악이 필요함"
   ]
  },
  {
   "cell_type": "markdown",
   "metadata": {
    "slideshow": {
     "slide_type": "slide"
    }
   },
   "source": [
    "#### 잠깐 커리큘럼을 넘어서서 머신러닝의 기본컨셉\n",
    "\n",
    "# $$y = f(x)$$\n",
    "\n",
    "> * $y$ = 해결해야 하는 문제 (종속변수, target data)  \n",
    "> * $f()$ = 머신러닝 알고리즘 (모델)  \n",
    "> * $x$ = 훈련데이터 (설명변수, train data)\n",
    "\n",
    "#### 문제정의는 결국 $y$를 어떻게 풀어낼 것인가에 대한 기획"
   ]
  },
  {
   "cell_type": "markdown",
   "metadata": {
    "slideshow": {
     "slide_type": "slide"
    }
   },
   "source": [
    "#### 필요스킬\n",
    "통계적 배경지식이 중요(업무 base)\n",
    "\n",
    "1개의 데이터셋에서 1개의 문제를 해결하는 것을 기본으로 함\n",
    "\n",
    "    문제정의 예시\n",
    "    * 기존고객 개인정보를 바탕으로 한 신규고객 고객군 분류\n",
    "    - 종속변수 : 신규고객 고객군 분류\n",
    "    - 설명변수 : 기존고객 개인정보\n",
    "      (성별, 나이, 지역, 소득, 신용정보, 가입정도등등)\n",
    "    - 모델 : 분류문제를 해결하기 위한 classification\n",
    "복잡한 문제를 해결해야 할 경우 위의 1개 문제 = 1개 데이터셋의 원칙을 지키면 혼동이 덜 함    "
   ]
  },
  {
   "cell_type": "markdown",
   "metadata": {
    "slideshow": {
     "slide_type": "slide"
    }
   },
   "source": [
    "### 데이터수집\n",
    "분석에 필요한 설명변수, 종속변수에 따라 데이터 수집\n",
    "\n",
    "> 사내데이터 활용  \n",
    "데이터셋 활용  \n",
    "크롤링  \n",
    "API  \n",
    "    \n",
    "실제 수집이 불가능한 데이터가 있을 수 있음"
   ]
  },
  {
   "cell_type": "markdown",
   "metadata": {
    "slideshow": {
     "slide_type": "slide"
    }
   },
   "source": [
    "### 데이터탐색\n",
    "\n",
    "> pandas, 시각화등 다양한 EDA 방법을 사용하여 수집데이터를 흝어보는 과정  \n",
    "수집된 데이터가 문제에 적합하지 않거나 사용이 불가능한 경우가 있을 수 있음"
   ]
  },
  {
   "cell_type": "markdown",
   "metadata": {},
   "source": [
    "#### EDA란?\n",
    "> Exploratory data analysis(탐색적 데이터 분석)으로 주어진 데이터를 다양한 방법으로 정보를 찾아내는 데이터 분석 방법입니다.  \n",
    "모델링 이전 데이터를 확인하고 흟어보면서 데이터에 대한 이해를 목적으로 시행되며 이를 바탕으로 정교한 모델링을 수행 할 수 있다."
   ]
  },
  {
   "cell_type": "markdown",
   "metadata": {
    "slideshow": {
     "slide_type": "slide"
    }
   },
   "source": [
    "### 데이터전처리\n",
    "> 수집된 데이터를 모델링이 가능한 형태로 가공  \n",
    "데이터 병합, 데이터 형변환, 더미화, 클래스불균형 해결, 차원축소등"
   ]
  },
  {
   "cell_type": "markdown",
   "metadata": {
    "slideshow": {
     "slide_type": "slide"
    }
   },
   "source": [
    "### 모델링\n",
    "> 실제로 가장 손쉬운 과정\n",
    "문제해결에 알맞는 모델 탐색 및 최적모델 탐색  \n",
    "사람의 공수가 아닌 하드웨어 스펙에 따라 작업시간 단축"
   ]
  },
  {
   "cell_type": "markdown",
   "metadata": {
    "slideshow": {
     "slide_type": "slide"
    }
   },
   "source": [
    "### 모델평가\n",
    "> 고객군 분류가 되어있지 않은 신규고객데이터를 모델에 적용  \n",
    "기존분류 고객과 차이를 여러가지 방법으로 산출하여 평가"
   ]
  },
  {
   "cell_type": "markdown",
   "metadata": {
    "slideshow": {
     "slide_type": "slide"
    }
   },
   "source": [
    "### 결과보고서 작성\n",
    "> 문제정의부터 모델평가까지 데이터분석 프로젝트 전 과정에 대한 진행경과, 결과, 문제점, 해결방법을 기술"
   ]
  },
  {
   "cell_type": "markdown",
   "metadata": {
    "slideshow": {
     "slide_type": "slide"
    }
   },
   "source": [
    "## 실제 수행 프로젝트 살펴보기\n",
    "실제 수행 프로젝트를 살펴보면서 프로젝트의 구성과 프로세스를 알아봅니다.\n",
    "    \n",
    "* 에어비앤비 1박 가격 예측 프로젝트\n",
    "https://github.com/overgroove/Airbnb_linearregression\n",
    "    \n",
    "* NBA 선수 클러스터링\n",
    "https://github.com/overgroove/NBA_position_clustering"
   ]
  },
  {
   "cell_type": "markdown",
   "metadata": {
    "slideshow": {
     "slide_type": "slide"
    }
   },
   "source": [
    "## 5 .프로젝트 가이드라인\n",
    "    1. 프로젝트 수행목적, 동기\n",
    "    2. 사용할 데이터의 변수 설명 (수집경로, 단위 포함)\n",
    "    3. 최소 10,000개 샘플 사용\n",
    "    4. 솔루션 제공 및 문제점 도출\n",
    "    \n",
    "상기 내용은 강제하는 내용은 아니지만 포함될 경우 좋은 프로젝트로 평가받는 요소들 입니다."
   ]
  }
 ],
 "metadata": {
  "celltoolbar": "Slideshow",
  "kernelspec": {
   "display_name": "Python 3 (ipykernel)",
   "language": "python",
   "name": "python3"
  },
  "language_info": {
   "codemirror_mode": {
    "name": "ipython",
    "version": 3
   },
   "file_extension": ".py",
   "mimetype": "text/x-python",
   "name": "python",
   "nbconvert_exporter": "python",
   "pygments_lexer": "ipython3",
   "version": "3.8.12"
  },
  "toc": {
   "base_numbering": 1,
   "nav_menu": {},
   "number_sections": true,
   "sideBar": true,
   "skip_h1_title": true,
   "title_cell": "Table of Contents",
   "title_sidebar": "Contents",
   "toc_cell": false,
   "toc_position": {},
   "toc_section_display": true,
   "toc_window_display": false
  },
  "varInspector": {
   "cols": {
    "lenName": 16,
    "lenType": 16,
    "lenVar": 40
   },
   "kernels_config": {
    "python": {
     "delete_cmd_postfix": "",
     "delete_cmd_prefix": "del ",
     "library": "var_list.py",
     "varRefreshCmd": "print(var_dic_list())"
    },
    "r": {
     "delete_cmd_postfix": ") ",
     "delete_cmd_prefix": "rm(",
     "library": "var_list.r",
     "varRefreshCmd": "cat(var_dic_list()) "
    }
   },
   "types_to_exclude": [
    "module",
    "function",
    "builtin_function_or_method",
    "instance",
    "_Feature"
   ],
   "window_display": false
  }
 },
 "nbformat": 4,
 "nbformat_minor": 2
}

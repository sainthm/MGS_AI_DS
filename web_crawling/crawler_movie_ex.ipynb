{
 "cells": [
  {
   "cell_type": "code",
   "execution_count": 1,
   "metadata": {
    "ExecuteTime": {
     "end_time": "2021-11-08T02:40:07.338197Z",
     "start_time": "2021-11-08T02:40:03.652395Z"
    }
   },
   "outputs": [],
   "source": [
    "import pandas as pd\n",
    "import numpy as np\n",
    "import matplotlib.pyplot as plt\n",
    "import seaborn as sns\n",
    "import requests\n",
    "import json\n",
    "import time\n",
    "from pandas.io.json import json_normalize\n",
    "from bs4 import BeautifulSoup"
   ]
  },
  {
   "cell_type": "markdown",
   "metadata": {},
   "source": [
    "# 네이버 영화 클레멘타인 평점크롤링\n",
    "\n",
    "네이버 영화 클레멘타인에 유저들이 작성한 한줄평을 크롤링 해보겠습니다.\n",
    "\n",
    "아래 굵은 글씨로 기술된 테스크들을 완수하세요.\n",
    "\n",
    "**네이버 영화 클레멘타인 URL**\n",
    "\n",
    "https://movie.naver.com/movie/bi/mi/point.nhn?code=37886\n",
    "\n",
    "**1. 요청할 url 정의하기**\n",
    "\n",
    "위 URL 페이지를 확인해보면 댓글평점 페이지가 넘어가도 URL이 변하지 않는 것을 확인 할 수 있습니다.\n",
    "\n",
    "동적페이지 크롤링을 위해 개발자 도구로 숨겨진 URL을 확인 해봅시다.\n",
    "\n",
    "우선 1페이지 크롤링을 해보겠습니다."
   ]
  },
  {
   "cell_type": "code",
   "execution_count": 9,
   "metadata": {
    "ExecuteTime": {
     "end_time": "2021-11-08T02:40:15.363492Z",
     "start_time": "2021-11-08T02:40:15.357099Z"
    }
   },
   "outputs": [],
   "source": [
    "page = 1"
   ]
  },
  {
   "cell_type": "markdown",
   "metadata": {},
   "source": [
    "**1. 숨은 url 설정 및 헤더 정보 정의**"
   ]
  },
  {
   "cell_type": "code",
   "execution_count": 49,
   "metadata": {
    "ExecuteTime": {
     "end_time": "2021-11-08T02:40:15.572923Z",
     "start_time": "2021-11-08T02:40:15.563029Z"
    }
   },
   "outputs": [],
   "source": [
    "# CODE\n",
    "url = \"https://movie.naver.com/movie/bi/mi/pointWriteFormList.naver?code=37886&type=after&onlyActualPointYn=N&onlySpoilerPointYn=N&order=sympathyScore\"\n",
    "header = {\n",
    "    \"referer\" : \"https://movie.naver.com/movie/bi/mi/point.naver?code=37886\",\n",
    "    \"user-agent\" : \"Mozilla/5.0 (Linux; Android 6.0; Nexus 5 Build/MRA58N) AppleWebKit/537.36 (KHTML, like Gecko) Chrome/104.0.0.0 Mobile Safari/537.36\"\n",
    "}\n"
   ]
  },
  {
   "cell_type": "markdown",
   "metadata": {},
   "source": [
    "**2. resp 변수명으로 requests로 url 요청한 데이터의 text를 저장합니다.**"
   ]
  },
  {
   "cell_type": "code",
   "execution_count": 50,
   "metadata": {
    "ExecuteTime": {
     "end_time": "2021-11-08T02:40:18.976122Z",
     "start_time": "2021-11-08T02:40:18.791940Z"
    }
   },
   "outputs": [],
   "source": [
    "# CODE\n",
    "resp = requests.get(url)"
   ]
  },
  {
   "cell_type": "markdown",
   "metadata": {},
   "source": [
    "**3. resp 결과값 앞 1000글자 확인 및 어떤형태의 데이터인지 파악하기**"
   ]
  },
  {
   "cell_type": "code",
   "execution_count": 51,
   "metadata": {
    "ExecuteTime": {
     "end_time": "2021-11-08T02:42:06.799305Z",
     "start_time": "2021-11-08T02:42:06.779637Z"
    }
   },
   "outputs": [
    {
     "data": {
      "text/plain": [
       "'\\r\\n\\r\\n\\r\\n\\r\\n<!DOCTYPE html>\\r\\n<html lang=\"ko\">\\r\\n<head>\\r\\n\\t<meta charset=\"utf-8\">\\r\\n\\t<meta http-equiv=\"X-UA-Compatible\" content=\"IE=edge\">\\r\\n\\t<title>네이버 영화</title>\\r\\n\\t\\n\\n\\n\\t\\n\\t\\n\\t\\n\\t\\n\\t\\t<link rel=\"shortcut icon\" href=\"https://ssl.pstatic.net/static/m/movie/icons/naver_movie_favicon.ico\" type=\"image/x-icon\">\\n\\t\\t\\t\\n\\n\\r\\n\\t\\n<link rel=\"stylesheet\" type=\"text/css\" href=\"/css/common.css?20220823121742\" />\\r\\n\\t\\n<link rel=\"stylesheet\" type=\"text/css\" href=\"/css/movie_tablet.css?20220823121742\" />\\n<link rel=\"stylesheet\" type=\"text/css\" href=\"/css/movie_end.css?20220823121742\" />\\r\\n\\t\\r\\n\\t\\n\\n\\n<script type=\"text/javascript\" src=\"/js/deploy/movie.all.js?20220823121742\"></script>\\n\\n\\n\\r\\n</head>\\r\\n<body>\\r\\n\\t<!-- content -->\\r\\n<input type=\"hidden\" name=\"movieCode\" id=\"movieCode\" value=\"37886\"/>\\r\\n<input type=\"hidden\" name=\"onlyActualPointYn\" id=\"onlyActualPointYn\" value=\"N\"/>\\r\\n<input type=\"hidden\" name=\"includeSpoilerYn\" id=\"includeSpoilerYn\" value=\"N\"/>\\r\\n<input type=\"hidden\" name=\"order\" id=\"order\" value=\"sympathyScore\"/>\\r\\n<input type'"
      ]
     },
     "execution_count": 51,
     "metadata": {},
     "output_type": "execute_result"
    }
   ],
   "source": [
    "# CODE\n",
    "resp.text[:1001] # str, html\n"
   ]
  },
  {
   "cell_type": "code",
   "execution_count": 7,
   "metadata": {},
   "outputs": [
    {
     "data": {
      "text/plain": [
       "'\\r\\n\\r\\n\\r\\n\\r\\n<!DOCTYPE html>\\r\\n<html lang=\"ko\">\\r\\n<head>\\r\\n<meta charset=\"utf-8\">\\r\\n<meta http-equiv=\"X-UA-Compatible\" content=\"IE=edge\">\\r\\n<title>네이버 영화</title>\\r\\n\\n\\n\\n\\t\\n\\t\\n\\t\\n\\t\\n\\t\\t<link rel=\"shortcut icon\" href=\"https://ssl.pstatic.net/static/m/movie/icons/naver_movie_favicon.ico\" type=\"image/x-icon\">\\n\\t\\t\\t\\n\\n\\r\\n\\n<link rel=\"stylesheet\" type=\"text/css\" href=\"/css/common.css?20200629181825\" />\\r\\n\\n<link rel=\"stylesheet\" type=\"text/css\" href=\"/css/movie_tablet.css?20200629181825\" />\\n<link rel=\"stylesheet\" type=\"text/css\" href=\"/css/movie_end.css?20200629181825\" />\\r\\n\\r\\n\\n\\n\\n<script type=\"text/javascript\" src=\"/js/deploy/movie.all.js?20200629181825\"></script>\\n\\n\\n\\r\\n</head>\\r\\n<body>\\r\\n\\t<!-- content -->\\r\\n<input type=\"hidden\" name=\"movieCode\" id=\"movieCode\" value=\"37886\"/>\\r\\n<input type=\"hidden\" name=\"onlyActualPointYn\" id=\"onlyActualPointYn\" value=\"N\"/>\\r\\n<input type=\"hidden\" name=\"includeSpoilerYn\" id=\"includeSpoilerYn\" value=\"N\"/>\\r\\n<input type=\"hidden\" name=\"order\" id=\"order\" value=\"sympathyScore\"/>\\r\\n<input type=\"hidde'"
      ]
     },
     "execution_count": 7,
     "metadata": {},
     "output_type": "execute_result"
    }
   ],
   "source": []
  },
  {
   "cell_type": "markdown",
   "metadata": {},
   "source": [
    "**4. response 결과에 따라 적절한 변환 함수를 사용하여 data라는 변수명에 저장합니다.**"
   ]
  },
  {
   "cell_type": "code",
   "execution_count": 52,
   "metadata": {
    "ExecuteTime": {
     "end_time": "2021-11-08T02:43:58.656624Z",
     "start_time": "2021-11-08T02:43:58.467193Z"
    },
    "scrolled": false
   },
   "outputs": [],
   "source": [
    "# CODE\n",
    "\n",
    "resp = requests.get(url, headers=header)\n",
    "data = BeautifulSoup(resp.text, 'html.parser')"
   ]
  },
  {
   "cell_type": "code",
   "execution_count": 9,
   "metadata": {},
   "outputs": [],
   "source": []
  },
  {
   "cell_type": "markdown",
   "metadata": {},
   "source": [
    "**5. 전설적인 댓글평점 '이 영화를 보고 암이 나았습니다.' 에 selector를 사용하여 접근해봅시다.**"
   ]
  },
  {
   "cell_type": "code",
   "execution_count": 61,
   "metadata": {
    "ExecuteTime": {
     "end_time": "2021-11-08T02:48:07.417848Z",
     "start_time": "2021-11-08T02:48:07.404041Z"
    }
   },
   "outputs": [
    {
     "data": {
      "text/plain": [
       "<span id=\"_filtered_ment_0\">\n",
       "\t\t\t\t\t\t\t\t\t\t\t\t\t\t\n",
       "\t\t\t\t\t\t\t\t\t\t\t\t\t\t\t\n",
       "\t\t\t\t\t\t\t\t\t\t\t\t\t\t\t\n",
       "\t\t\t\t\t\t\t\t\t\t\t\t\t\t\t\t이 영화를 보고 암이 나았습니다. \n",
       "\t\t\t\t\t\t\t\t\t\t\t\t\t\t\t\n",
       "\t\t\t\t\t\t\t\t\t\t\t\t\t\t\n",
       "\t\t\t\t\t\t\t\t\t\t\t\t\t\t\n",
       "\t\t\t\t\t\t\t\t\t\t\t\t\t</span>"
      ]
     },
     "execution_count": 61,
     "metadata": {},
     "output_type": "execute_result"
    }
   ],
   "source": [
    "# CODE\n",
    "# #_filtered_ment_0\n",
    "# data\n",
    "# data.select('p')[4]\n",
    "data.select('p span')[0]"
   ]
  },
  {
   "cell_type": "code",
   "execution_count": 42,
   "metadata": {},
   "outputs": [
    {
     "data": {
      "text/plain": [
       "[<span id=\"_filtered_ment_0\">\n",
       " \t\t\t\t\t\t\t\t\t\t\t\t\t\t\n",
       " \t\t\t\t\t\t\t\t\t\t\t\t\t\t\t\n",
       " \t\t\t\t\t\t\t\t\t\t\t\t\t\t\t\n",
       " \t\t\t\t\t\t\t\t\t\t\t\t\t\t\t\t이 영화를 보고 암이 나았습니다. \n",
       " \t\t\t\t\t\t\t\t\t\t\t\t\t\t\t\n",
       " \t\t\t\t\t\t\t\t\t\t\t\t\t\t\n",
       " \t\t\t\t\t\t\t\t\t\t\t\t\t\t\n",
       " \t\t\t\t\t\t\t\t\t\t\t\t\t</span>]"
      ]
     },
     "execution_count": 42,
     "metadata": {},
     "output_type": "execute_result"
    }
   ],
   "source": []
  },
  {
   "cell_type": "markdown",
   "metadata": {},
   "source": [
    "**6. selector로 선택한 항목에서 텍스트만을 추려봅시다.**"
   ]
  },
  {
   "cell_type": "code",
   "execution_count": 69,
   "metadata": {
    "ExecuteTime": {
     "end_time": "2021-11-08T03:41:20.420935Z",
     "start_time": "2021-11-08T03:41:20.416840Z"
    }
   },
   "outputs": [
    {
     "name": "stdout",
     "output_type": "stream",
     "text": [
      "\r",
      "\r",
      "\r",
      "\r",
      "이 영화를 보고 암이 나았습니다. \r",
      "\r",
      "\r",
      "\r\n"
     ]
    }
   ],
   "source": [
    "# CODE\n",
    "cancer = data.select('p span')[0].text\n",
    "cancer = cancer.replace('\\t', '')\n",
    "cancer = cancer.replace('\\n', '')\n",
    "print(cancer)"
   ]
  },
  {
   "cell_type": "code",
   "execution_count": 43,
   "metadata": {},
   "outputs": [
    {
     "data": {
      "text/plain": [
       "'이 영화를 보고 암이 나았습니다.'"
      ]
     },
     "execution_count": 43,
     "metadata": {},
     "output_type": "execute_result"
    }
   ],
   "source": []
  },
  {
   "cell_type": "markdown",
   "metadata": {},
   "source": [
    "**7. 1페이지의 모든 숫자평점과, 댓글평점을 프린트해 봅시다.**"
   ]
  },
  {
   "cell_type": "code",
   "execution_count": 141,
   "metadata": {
    "ExecuteTime": {
     "end_time": "2021-11-08T04:06:00.464619Z",
     "start_time": "2021-11-08T04:06:00.419343Z"
    }
   },
   "outputs": [
    {
     "name": "stdout",
     "output_type": "stream",
     "text": [
      "('10', '이 영화를 보고 암이 나았습니다.')\n",
      "('1', '이것은절대1점이아니다11점을주고싶은 내마음이다')\n",
      "('10', '모니터도 울고 외장하드도 울고 숨어있던 바이러스도 울었다')\n",
      "('10', '당신이 이 영화를 보지 않았다면  아직 살아있을 이유 하나를 간직하고 있는 것이다.')\n",
      "('10', '영화계엔 BC와 AC가 있다. Before Clementain After Clementain...')\n",
      "('10', '남친 집에서 클레멘타인 DVD를 발견했고 결혼을 결심했습니다.')\n",
      "('10', '드디어 보았네요. 나이 40대 중반에 이런 감동을 느낄 수 있음에 스스로도 대견한 생각이 듭니다. 먼 훗날 제 아이들도 이 영화를 보고 저와 같은 감동을 느끼길 바라는 건 그저 바램이겠지요?')\n",
      "('10', '평점깍아내리는 낚시글 몇개있는데 제발그만해라 이기적인새끼들아좋은건 나누는거다')\n",
      "('10', '장난으로 쓰지마라... 본인은 2004년에 실제로 극장에서 이 영화를 봤다')\n",
      "('10', '프로포즈 선물로 다이아반지 대신 클레멘타인 파일을 USB에담아 목걸이로 만들어 그녀 목에 걸어주었다. 눈물로 대신 대답한 그녀...그리고 2세이름은 그녀의 의견을 반영해 이동준과 스티븐시갈의 이름을 딴 이동갈로 지을...')\n"
     ]
    }
   ],
   "source": [
    "# CODE\n",
    "star_list = []\n",
    "data_list = []\n",
    "for count in range(10):\n",
    "    star_list.append(data.select('div.star_score em')[count].text)\n",
    "    for item in data.select(f'li span#_filtered_ment_{count}'):\n",
    "        data_list.append(item.text.strip().replace(',', ''))\n",
    "    result = list(zip(star_list, data_list))\n",
    "    print(result[count])\n"
   ]
  },
  {
   "cell_type": "code",
   "execution_count": 80,
   "metadata": {},
   "outputs": [
    {
     "name": "stdout",
     "output_type": "stream",
     "text": [
      "10 이 영화를 보고 암이 나았습니다.\n",
      "1 이것은절대1점이아니다11점을주고싶은 내마음이다\n",
      "10 모니터도 울고 외장하드도 울고 숨어있던 바이러스도 울었다\n",
      "10 당신이 이 영화를 보지 않았다면  아직 살아있을 이유 하나를 간직하고 있는 것이다.\n",
      "10 영화계엔 BC와 AC가 있다. Before Clementain, After Clementain...\n",
      "10 남친 집에서 클레멘타인 DVD를 발견했고, 결혼을 결심했습니다.\n",
      "10 드디어 보았네요. 나이 40대 중반에 이런 감동을 느낄 수 있음에 스스로도 대견한 생각이 듭니다. 먼 훗날 제 아이들도 이 영화를 보고 저와 같은 감동을 느끼길 바라는 건 그저 바램이겠지요?\n",
      "10 평점깍아내리는 낚시글 몇개있는데 제발그만해라 이기적인새끼들아좋은건 나누는거다\n",
      "10 장난으로 쓰지마라... 본인은 2004년에 실제로 극장에서 이 영화를 봤다\n",
      "10 프로포즈 선물로 다이아반지 대신 클레멘타인 파일을 USB에담아 목걸이로 만들어 그녀 목에 걸어주었다. 눈물로 대신 대답한 그녀...그리고 2세이름은 그녀의 의견을 반영해 이동준과 스티븐시갈의 이름을 딴 이동갈로 지을...\n"
     ]
    }
   ],
   "source": []
  },
  {
   "cell_type": "markdown",
   "metadata": {},
   "source": [
    "**8. 네이버에서는 기계적으로 접근하는 요청을 잘 차단합니다. 지난시간 차단을 막는 코드를 포함하여 1~10페이지의 평점과 댓글평점을 크롤링하여 데이터프레임으로 저장하세요**"
   ]
  },
  {
   "cell_type": "code",
   "execution_count": 146,
   "metadata": {},
   "outputs": [
    {
     "name": "stdout",
     "output_type": "stream",
     "text": [
      "1 페이지 정상처리\n",
      "('10', '이것은절대1점이아니다11점을주고싶은 내마음이다')\n",
      "2 페이지 정상처리\n",
      "('1', '모니터도 울고 외장하드도 울고 숨어있던 바이러스도 울었다')\n",
      "3 페이지 정상처리\n",
      "('10', '당신이 이 영화를 보지 않았다면  아직 살아있을 이유 하나를 간직하고 있는 것이다.')\n",
      "4 페이지 정상처리\n",
      "('10', '영화계엔 BC와 AC가 있다. Before Clementain After Clementain...')\n",
      "5 페이지 정상처리\n",
      "('10', '남친 집에서 클레멘타인 DVD를 발견했고 결혼을 결심했습니다.')\n",
      "6 페이지 정상처리\n",
      "('10', '드디어 보았네요. 나이 40대 중반에 이런 감동을 느낄 수 있음에 스스로도 대견한 생각이 듭니다. 먼 훗날 제 아이들도 이 영화를 보고 저와 같은 감동을 느끼길 바라는 건 그저 바램이겠지요?')\n",
      "7 페이지 정상처리\n",
      "('10', '평점깍아내리는 낚시글 몇개있는데 제발그만해라 이기적인새끼들아좋은건 나누는거다')\n",
      "8 페이지 정상처리\n",
      "('10', '장난으로 쓰지마라... 본인은 2004년에 실제로 극장에서 이 영화를 봤다')\n",
      "9 페이지 정상처리\n",
      "('10', '프로포즈 선물로 다이아반지 대신 클레멘타인 파일을 USB에담아 목걸이로 만들어 그녀 목에 걸어주었다. 눈물로 대신 대답한 그녀...그리고 2세이름은 그녀의 의견을 반영해 이동준과 스티븐시갈의 이름을 딴 이동갈로 지을...')\n",
      "10 페이지 정상처리\n"
     ]
    },
    {
     "ename": "IndexError",
     "evalue": "list index out of range",
     "output_type": "error",
     "traceback": [
      "\u001b[0;31m---------------------------------------------------------------------------\u001b[0m",
      "\u001b[0;31mIndexError\u001b[0m                                Traceback (most recent call last)",
      "Input \u001b[0;32mIn [146]\u001b[0m, in \u001b[0;36m<cell line: 10>\u001b[0;34m()\u001b[0m\n\u001b[1;32m     28\u001b[0m     data_list\u001b[38;5;241m.\u001b[39mappend(item\u001b[38;5;241m.\u001b[39mtext\u001b[38;5;241m.\u001b[39mstrip()\u001b[38;5;241m.\u001b[39mreplace(\u001b[38;5;124m'\u001b[39m\u001b[38;5;124m,\u001b[39m\u001b[38;5;124m'\u001b[39m, \u001b[38;5;124m'\u001b[39m\u001b[38;5;124m'\u001b[39m))\n\u001b[1;32m     29\u001b[0m result \u001b[38;5;241m=\u001b[39m \u001b[38;5;28mlist\u001b[39m(\u001b[38;5;28mzip\u001b[39m(star_list, data_list))\n\u001b[0;32m---> 30\u001b[0m \u001b[38;5;28mprint\u001b[39m(\u001b[43mresult\u001b[49m\u001b[43m[\u001b[49m\u001b[43mpage\u001b[49m\u001b[43m \u001b[49m\u001b[38;5;241;43m-\u001b[39;49m\u001b[43m \u001b[49m\u001b[38;5;241;43m1\u001b[39;49m\u001b[43m]\u001b[49m)\n",
      "\u001b[0;31mIndexError\u001b[0m: list index out of range"
     ]
    }
   ],
   "source": [
    "# CODE\n",
    "# 저장할 데이터프레임과 리스트 생성\n",
    "\n",
    "data_list = []\n",
    "star_list = []\n",
    "\n",
    "\n",
    "# 반복문을 사용하여 페이지 URL 생성\n",
    "\n",
    "for page in range(1, 11):\n",
    "    url = f\"https://movie.naver.com/movie/bi/mi/pointWriteFormList.naver?code=37886&type=after&isActualPointWriteExecute=false&isMileageSubscriptionAlready=false&isMileageSubscriptionReject=false&page={page}\"\n",
    "    print(f\"{page} 페이지 정상처리\")\n",
    "\n",
    "# 난수를 생성하여 차단 피하기\n",
    "# requests 요청 전에 실행되도록 위치합니다.\n",
    "    randn = np.random.randint(100)\n",
    "    np.random.seed(randn)\n",
    "    time_sleep = np.random.randint(1, 5)\n",
    "    time.sleep(time_sleep)\n",
    "\n",
    "# url 요청\n",
    "\n",
    "    resp = requests.get(url, headers=header)\n",
    "    resp.text\n",
    "# 데이터 파싱\n",
    "    star_list.append(data.select('div.star_score em')[page - 1].text)\n",
    "    for item in data.select(f'li span#_filtered_ment_{page}'):\n",
    "        data_list.append(item.text.strip().replace(',', ''))\n",
    "    result = list(zip(star_list, data_list))\n",
    "    print(result[page - 1])\n",
    "# 반복문을 사용하여 리스트에 추출정보를 저장\n",
    "\n",
    "# 리스트정보를 데이터프레임에 저장"
   ]
  },
  {
   "cell_type": "code",
   "execution_count": 88,
   "metadata": {},
   "outputs": [
    {
     "name": "stdout",
     "output_type": "stream",
     "text": [
      "1 페이지 정상처리\n",
      "2 페이지 정상처리\n",
      "3 페이지 정상처리\n",
      "4 페이지 정상처리\n",
      "5 페이지 정상처리\n",
      "6 페이지 정상처리\n",
      "7 페이지 정상처리\n",
      "8 페이지 정상처리\n",
      "9 페이지 정상처리\n",
      "10 페이지 정상처리\n"
     ]
    },
    {
     "data": {
      "text/html": [
       "<div>\n",
       "<style scoped>\n",
       "    .dataframe tbody tr th:only-of-type {\n",
       "        vertical-align: middle;\n",
       "    }\n",
       "\n",
       "    .dataframe tbody tr th {\n",
       "        vertical-align: top;\n",
       "    }\n",
       "\n",
       "    .dataframe thead th {\n",
       "        text-align: right;\n",
       "    }\n",
       "</style>\n",
       "<table border=\"1\" class=\"dataframe\">\n",
       "  <thead>\n",
       "    <tr style=\"text-align: right;\">\n",
       "      <th></th>\n",
       "      <th>star</th>\n",
       "      <th>reply</th>\n",
       "    </tr>\n",
       "  </thead>\n",
       "  <tbody>\n",
       "    <tr>\n",
       "      <th>0</th>\n",
       "      <td>10</td>\n",
       "      <td>이 영화를 보고 암이 나았습니다.</td>\n",
       "    </tr>\n",
       "    <tr>\n",
       "      <th>1</th>\n",
       "      <td>1</td>\n",
       "      <td>이것은절대1점이아니다11점을주고싶은 내마음이다</td>\n",
       "    </tr>\n",
       "    <tr>\n",
       "      <th>2</th>\n",
       "      <td>10</td>\n",
       "      <td>모니터도 울고 외장하드도 울고 숨어있던 바이러스도 울었다</td>\n",
       "    </tr>\n",
       "    <tr>\n",
       "      <th>3</th>\n",
       "      <td>10</td>\n",
       "      <td>당신이 이 영화를 보지 않았다면  아직 살아있을 이유 하나를 간직하고 있는 것이다.</td>\n",
       "    </tr>\n",
       "    <tr>\n",
       "      <th>4</th>\n",
       "      <td>10</td>\n",
       "      <td>영화계엔 BC와 AC가 있다. Before Clementain, After Clem...</td>\n",
       "    </tr>\n",
       "    <tr>\n",
       "      <th>...</th>\n",
       "      <td>...</td>\n",
       "      <td>...</td>\n",
       "    </tr>\n",
       "    <tr>\n",
       "      <th>95</th>\n",
       "      <td>10</td>\n",
       "      <td>도대체 3D 블루레이 버전은 언제나오나요... 기금모금이라도 하고 싶습니다.</td>\n",
       "    </tr>\n",
       "    <tr>\n",
       "      <th>96</th>\n",
       "      <td>10</td>\n",
       "      <td>이영화를 보고나서 아버지 방으로가서 주무시고 계시는 아버지의 얼굴을 물끄러미 쳐다봤...</td>\n",
       "    </tr>\n",
       "    <tr>\n",
       "      <th>97</th>\n",
       "      <td>10</td>\n",
       "      <td>1분이 1초 같아요</td>\n",
       "    </tr>\n",
       "    <tr>\n",
       "      <th>98</th>\n",
       "      <td>10</td>\n",
       "      <td>밑의 분 너무하시네요. 이런 명작을 폄하하시다니, 이 영화를 보신적이 있으시기나 한...</td>\n",
       "    </tr>\n",
       "    <tr>\n",
       "      <th>99</th>\n",
       "      <td>1</td>\n",
       "      <td>이것은 영화에대한 평가가아니다, 애초에 평가를 할수가없다, 이영화를 이제서야본 내자...</td>\n",
       "    </tr>\n",
       "  </tbody>\n",
       "</table>\n",
       "<p>100 rows × 2 columns</p>\n",
       "</div>"
      ],
      "text/plain": [
       "   star                                              reply\n",
       "0    10                                 이 영화를 보고 암이 나았습니다.\n",
       "1     1                          이것은절대1점이아니다11점을주고싶은 내마음이다\n",
       "2    10                    모니터도 울고 외장하드도 울고 숨어있던 바이러스도 울었다\n",
       "3    10     당신이 이 영화를 보지 않았다면  아직 살아있을 이유 하나를 간직하고 있는 것이다.\n",
       "4    10  영화계엔 BC와 AC가 있다. Before Clementain, After Clem...\n",
       "..  ...                                                ...\n",
       "95   10         도대체 3D 블루레이 버전은 언제나오나요... 기금모금이라도 하고 싶습니다.\n",
       "96   10  이영화를 보고나서 아버지 방으로가서 주무시고 계시는 아버지의 얼굴을 물끄러미 쳐다봤...\n",
       "97   10                                         1분이 1초 같아요\n",
       "98   10  밑의 분 너무하시네요. 이런 명작을 폄하하시다니, 이 영화를 보신적이 있으시기나 한...\n",
       "99    1  이것은 영화에대한 평가가아니다, 애초에 평가를 할수가없다, 이영화를 이제서야본 내자...\n",
       "\n",
       "[100 rows x 2 columns]"
      ]
     },
     "execution_count": 88,
     "metadata": {},
     "output_type": "execute_result"
    }
   ],
   "source": []
  },
  {
   "cell_type": "markdown",
   "metadata": {},
   "source": [
    "**9. 우리가 수집한 데이터를 바탕으로 이 영화를 추천할 수 있을까요? 여러분의 생각은 어떠한가요?**"
   ]
  },
  {
   "cell_type": "code",
   "execution_count": null,
   "metadata": {},
   "outputs": [],
   "source": [
    "# ANSWER\n"
   ]
  }
 ],
 "metadata": {
  "kernelspec": {
   "display_name": "Python 3 (ipykernel)",
   "language": "python",
   "name": "python3"
  },
  "language_info": {
   "codemirror_mode": {
    "name": "ipython",
    "version": 3
   },
   "file_extension": ".py",
   "mimetype": "text/x-python",
   "name": "python",
   "nbconvert_exporter": "python",
   "pygments_lexer": "ipython3",
   "version": "3.9.12"
  },
  "toc": {
   "base_numbering": 1,
   "nav_menu": {},
   "number_sections": true,
   "sideBar": true,
   "skip_h1_title": true,
   "title_cell": "Table of Contents",
   "title_sidebar": "Contents",
   "toc_cell": false,
   "toc_position": {},
   "toc_section_display": true,
   "toc_window_display": false
  },
  "varInspector": {
   "cols": {
    "lenName": 16,
    "lenType": 16,
    "lenVar": 40
   },
   "kernels_config": {
    "python": {
     "delete_cmd_postfix": "",
     "delete_cmd_prefix": "del ",
     "library": "var_list.py",
     "varRefreshCmd": "print(var_dic_list())"
    },
    "r": {
     "delete_cmd_postfix": ") ",
     "delete_cmd_prefix": "rm(",
     "library": "var_list.r",
     "varRefreshCmd": "cat(var_dic_list()) "
    }
   },
   "types_to_exclude": [
    "module",
    "function",
    "builtin_function_or_method",
    "instance",
    "_Feature"
   ],
   "window_display": false
  }
 },
 "nbformat": 4,
 "nbformat_minor": 2
}

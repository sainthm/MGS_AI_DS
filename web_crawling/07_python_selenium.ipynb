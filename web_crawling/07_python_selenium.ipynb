{
 "cells": [
  {
   "cell_type": "markdown",
   "metadata": {
    "slideshow": {
     "slide_type": "slide"
    }
   },
   "source": [
    "# 데이터 크롤링"
   ]
  },
  {
   "cell_type": "markdown",
   "metadata": {
    "slideshow": {
     "slide_type": "slide"
    }
   },
   "source": [
    "## selenium(셀레니움)\n",
    "    \n",
    "> 웹 어플리케이션 테스트를 위한 프레임워크.  \n",
    "다양한 브라우저 작동을 지원하며 크롤링에도 활용가능.  \n",
    "정적, 동적페이지 크롤링으로도 접근이 불가능한 데이터에 접근할 때 유용하게 사용  \n",
    "현존하는 거의 모든 웹브라우저를 다양한 언어를 통해 제어 가능"
   ]
  },
  {
   "cell_type": "markdown",
   "metadata": {
    "slideshow": {
     "slide_type": "slide"
    }
   },
   "source": [
    "## selenium Setting\n",
    "\n",
    "> 셀레니움은 이 웹 드라이버 API를 제어하는 파이썬 패키지입니다."
   ]
  },
  {
   "cell_type": "markdown",
   "metadata": {},
   "source": [
    "### 패키지 설치"
   ]
  },
  {
   "cell_type": "code",
   "execution_count": 9,
   "metadata": {
    "ExecuteTime": {
     "end_time": "2022-04-28T10:13:11.736734Z",
     "start_time": "2022-04-28T10:13:10.718495Z"
    },
    "scrolled": true,
    "slideshow": {
     "slide_type": "slide"
    }
   },
   "outputs": [
    {
     "name": "stdout",
     "output_type": "stream",
     "text": [
      "Requirement already satisfied: selenium in /Users/sainthm/opt/anaconda3/lib/python3.9/site-packages (4.4.3)\n",
      "Requirement already satisfied: certifi>=2021.10.8 in /Users/sainthm/opt/anaconda3/lib/python3.9/site-packages (from selenium) (2021.10.8)\n",
      "Requirement already satisfied: trio~=0.17 in /Users/sainthm/opt/anaconda3/lib/python3.9/site-packages (from selenium) (0.21.0)\n",
      "Requirement already satisfied: trio-websocket~=0.9 in /Users/sainthm/opt/anaconda3/lib/python3.9/site-packages (from selenium) (0.9.2)\n",
      "Requirement already satisfied: urllib3[socks]~=1.26 in /Users/sainthm/opt/anaconda3/lib/python3.9/site-packages (from selenium) (1.26.9)\n",
      "Requirement already satisfied: idna in /Users/sainthm/opt/anaconda3/lib/python3.9/site-packages (from trio~=0.17->selenium) (3.3)\n",
      "Requirement already satisfied: sortedcontainers in /Users/sainthm/opt/anaconda3/lib/python3.9/site-packages (from trio~=0.17->selenium) (2.4.0)\n",
      "Requirement already satisfied: outcome in /Users/sainthm/opt/anaconda3/lib/python3.9/site-packages (from trio~=0.17->selenium) (1.2.0)\n",
      "Requirement already satisfied: attrs>=19.2.0 in /Users/sainthm/opt/anaconda3/lib/python3.9/site-packages (from trio~=0.17->selenium) (21.4.0)\n",
      "Requirement already satisfied: async-generator>=1.9 in /Users/sainthm/opt/anaconda3/lib/python3.9/site-packages (from trio~=0.17->selenium) (1.10)\n",
      "Requirement already satisfied: sniffio in /Users/sainthm/opt/anaconda3/lib/python3.9/site-packages (from trio~=0.17->selenium) (1.2.0)\n",
      "Requirement already satisfied: wsproto>=0.14 in /Users/sainthm/opt/anaconda3/lib/python3.9/site-packages (from trio-websocket~=0.9->selenium) (1.2.0)\n",
      "Requirement already satisfied: PySocks!=1.5.7,<2.0,>=1.5.6 in /Users/sainthm/opt/anaconda3/lib/python3.9/site-packages (from urllib3[socks]~=1.26->selenium) (1.7.1)\n",
      "Requirement already satisfied: h11<1,>=0.9.0 in /Users/sainthm/opt/anaconda3/lib/python3.9/site-packages (from wsproto>=0.14->trio-websocket~=0.9->selenium) (0.13.0)\n"
     ]
    }
   ],
   "source": [
    "# 셀레니움 설치\n",
    "!pip install selenium --trusted-host pypi.org --trusted-host files.pythonhosted.org"
   ]
  },
  {
   "cell_type": "code",
   "execution_count": 10,
   "metadata": {},
   "outputs": [
    {
     "name": "stdout",
     "output_type": "stream",
     "text": [
      "Requirement already satisfied: webdriver-manager in /Users/sainthm/opt/anaconda3/lib/python3.9/site-packages (3.8.3)\n",
      "Requirement already satisfied: python-dotenv in /Users/sainthm/opt/anaconda3/lib/python3.9/site-packages (from webdriver-manager) (0.21.0)\n",
      "Requirement already satisfied: tqdm in /Users/sainthm/opt/anaconda3/lib/python3.9/site-packages (from webdriver-manager) (4.64.0)\n",
      "Requirement already satisfied: requests in /Users/sainthm/opt/anaconda3/lib/python3.9/site-packages (from webdriver-manager) (2.27.1)\n",
      "Requirement already satisfied: certifi>=2017.4.17 in /Users/sainthm/opt/anaconda3/lib/python3.9/site-packages (from requests->webdriver-manager) (2021.10.8)\n",
      "Requirement already satisfied: urllib3<1.27,>=1.21.1 in /Users/sainthm/opt/anaconda3/lib/python3.9/site-packages (from requests->webdriver-manager) (1.26.9)\n",
      "Requirement already satisfied: charset-normalizer~=2.0.0 in /Users/sainthm/opt/anaconda3/lib/python3.9/site-packages (from requests->webdriver-manager) (2.0.4)\n",
      "Requirement already satisfied: idna<4,>=2.5 in /Users/sainthm/opt/anaconda3/lib/python3.9/site-packages (from requests->webdriver-manager) (3.3)\n"
     ]
    }
   ],
   "source": [
    "# 크롬드라이버 관리 툴 설치\n",
    "!pip install webdriver-manager --trusted-host pypi.org --trusted-host files.pythonhosted.org"
   ]
  },
  {
   "cell_type": "code",
   "execution_count": 11,
   "metadata": {
    "ExecuteTime": {
     "end_time": "2022-06-08T02:10:30.953692Z",
     "start_time": "2022-06-08T02:10:30.887043Z"
    }
   },
   "outputs": [],
   "source": [
    "# 셀레니움 import\n",
    "from selenium import webdriver\n",
    "from selenium.webdriver.common.keys import Keys\n",
    "from selenium.webdriver.common.by import By\n",
    "from selenium.webdriver.chrome.service import Service\n",
    "from webdriver_manager.chrome import ChromeDriverManager"
   ]
  },
  {
   "cell_type": "code",
   "execution_count": 2,
   "metadata": {
    "ExecuteTime": {
     "end_time": "2022-06-08T02:10:50.476112Z",
     "start_time": "2022-06-08T02:10:50.461697Z"
    }
   },
   "outputs": [],
   "source": [
    "# 강사 개인정보 수강생분들은 import 안하셔도 됩니다.\n",
    "from mykey import MyKey\n",
    "key = MyKey()"
   ]
  },
  {
   "cell_type": "markdown",
   "metadata": {},
   "source": [
    "### webdriver 자동설정"
   ]
  },
  {
   "cell_type": "code",
   "execution_count": 12,
   "metadata": {
    "ExecuteTime": {
     "end_time": "2022-06-08T02:11:18.314465Z",
     "start_time": "2022-06-08T02:11:18.305860Z"
    }
   },
   "outputs": [],
   "source": [
    "# webdriver 자동설정\n",
    "def set_chrome_driver():\n",
    "    chrome_options = webdriver.ChromeOptions()\n",
    "    driver = webdriver.Chrome(service=Service(ChromeDriverManager().install()), options=chrome_options)\n",
    "    return driver\n"
   ]
  },
  {
   "cell_type": "code",
   "execution_count": 13,
   "metadata": {},
   "outputs": [],
   "source": [
    "driver = set_chrome_driver()"
   ]
  },
  {
   "cell_type": "markdown",
   "metadata": {},
   "source": [
    "### webdriver 수동설정\n",
    "> 최근 selenium 업데이트로 자동설정을 권장하고 있습니다.  \n",
    "만약 위의 방법이 진행되지 않으면 사용해야 하는 브라우저의 웹드라이버 다운 필요  \n",
    "크롬 환경설정 -> 크롬 정보로 크롬 버전 확인 필요  \n",
    "    \n",
    ">> 크롬 드라이버 다운로드  \n",
    "https://chromedriver.chromium.org/downloads"
   ]
  },
  {
   "cell_type": "markdown",
   "metadata": {
    "slideshow": {
     "slide_type": "slide"
    }
   },
   "source": [
    "## 간단한 브라우저 컨트롤로 기본 개념잡기"
   ]
  },
  {
   "cell_type": "code",
   "execution_count": 81,
   "metadata": {
    "ExecuteTime": {
     "end_time": "2022-06-08T02:12:22.984502Z",
     "start_time": "2022-06-08T02:12:22.839256Z"
    }
   },
   "outputs": [],
   "source": [
    "import time\n",
    "import warnings\n",
    "warnings.filterwarnings(action='ignore')\n",
    "import numpy as np\n",
    "import pandas as pd\n",
    "from bs4 import BeautifulSoup\n",
    "\n",
    "from selenium.webdriver.common.keys import Keys\n",
    "from selenium import webdriver\n",
    "import pyperclip"
   ]
  },
  {
   "cell_type": "code",
   "execution_count": 99,
   "metadata": {
    "ExecuteTime": {
     "end_time": "2022-06-08T05:55:39.436932Z",
     "start_time": "2022-06-08T05:55:37.849564Z"
    }
   },
   "outputs": [
    {
     "name": "stderr",
     "output_type": "stream",
     "text": [
      "\n",
      "\n",
      "====== WebDriver manager ======\n",
      "Current google-chrome version is 102.0.5005\n",
      "Get LATEST chromedriver version for 102.0.5005 google-chrome\n",
      "Driver [/Users/byun/.wdm/drivers/chromedriver/mac64_m1/102.0.5005.61/chromedriver] found in cache\n"
     ]
    }
   ],
   "source": [
    "# 크롬창 열기\n",
    "# 자동설정\n",
    "\n",
    "# 수동설정\n"
   ]
  },
  {
   "cell_type": "code",
   "execution_count": null,
   "metadata": {},
   "outputs": [],
   "source": []
  },
  {
   "cell_type": "code",
   "execution_count": 65,
   "metadata": {
    "ExecuteTime": {
     "end_time": "2022-06-08T03:58:27.969518Z",
     "start_time": "2022-06-08T03:58:27.369629Z"
    }
   },
   "outputs": [],
   "source": [
    "# 설정한 url로 데이터 get함수로 요청\n",
    "url = 'https://naver.com'"
   ]
  },
  {
   "cell_type": "code",
   "execution_count": 66,
   "metadata": {
    "ExecuteTime": {
     "end_time": "2022-06-08T04:02:37.693692Z",
     "start_time": "2022-06-08T04:02:37.322743Z"
    }
   },
   "outputs": [],
   "source": [
    "driver.get(url)"
   ]
  },
  {
   "cell_type": "code",
   "execution_count": 33,
   "metadata": {},
   "outputs": [],
   "source": [
    "# 선택항목 클릭\n",
    "# 스포츠 항목으로 넘어감!!\n",
    "driver.find_element(By.XPATH, '//*[@id=\"NM_THEME_CATE_LIST\"]/li[2]/a').click()"
   ]
  },
  {
   "cell_type": "code",
   "execution_count": null,
   "metadata": {},
   "outputs": [],
   "source": [
    "# //*[@id=\"NM_THEME_CATE_LIST\"]/li[2]/a # XPATH 정보"
   ]
  },
  {
   "cell_type": "code",
   "execution_count": 34,
   "metadata": {
    "ExecuteTime": {
     "end_time": "2022-06-08T03:47:45.005331Z",
     "start_time": "2022-06-08T03:47:44.964049Z"
    }
   },
   "outputs": [],
   "source": [
    "# 네이버 검색창 클릭\n",
    "driver.find_element(By.XPATH, '//*[@id=\"query\"]').click()"
   ]
  },
  {
   "cell_type": "code",
   "execution_count": 38,
   "metadata": {},
   "outputs": [],
   "source": [
    "# 검색어 입력\n",
    "driver.find_element(By.XPATH, '//*[@id=\"query\"]').send_keys(\"투헬 경질\")"
   ]
  },
  {
   "cell_type": "code",
   "execution_count": 36,
   "metadata": {
    "ExecuteTime": {
     "end_time": "2022-06-08T03:50:02.552143Z",
     "start_time": "2022-06-08T03:50:02.514291Z"
    }
   },
   "outputs": [],
   "source": [
    "# 검색어 입력\n",
    "driver.find_element(By.XPATH, '//*[@id=\"query\"]').send_keys(\"투헬 경질\\n\")"
   ]
  },
  {
   "cell_type": "code",
   "execution_count": 39,
   "metadata": {
    "ExecuteTime": {
     "end_time": "2022-06-08T03:50:14.605876Z",
     "start_time": "2022-06-08T03:50:14.565623Z"
    }
   },
   "outputs": [],
   "source": [
    "# 입력테스트 지우기\n",
    "driver.find_element(By.XPATH, '//*[@id=\"query\"]').clear()"
   ]
  },
  {
   "cell_type": "code",
   "execution_count": 40,
   "metadata": {
    "ExecuteTime": {
     "end_time": "2022-06-08T03:49:53.512162Z",
     "start_time": "2022-06-08T03:49:53.306354Z"
    }
   },
   "outputs": [],
   "source": [
    "# 웹페이지 뒤로\n",
    "driver.back()"
   ]
  },
  {
   "cell_type": "code",
   "execution_count": 16,
   "metadata": {
    "ExecuteTime": {
     "end_time": "2022-06-08T03:52:53.547742Z",
     "start_time": "2022-06-08T03:52:53.541278Z"
    }
   },
   "outputs": [],
   "source": [
    "# 화면 최하단으로 스크롤\n"
   ]
  },
  {
   "cell_type": "code",
   "execution_count": 70,
   "metadata": {
    "ExecuteTime": {
     "end_time": "2022-06-08T03:58:32.247419Z",
     "start_time": "2022-06-08T03:58:31.902057Z"
    }
   },
   "outputs": [],
   "source": [
    "# 네이버 로그인 클릭\n",
    "driver.find_element(By.XPATH, '//*[@id=\"account\"]/a').click()\n",
    "\n",
    "time.sleep(1)"
   ]
  },
  {
   "cell_type": "code",
   "execution_count": 71,
   "metadata": {},
   "outputs": [],
   "source": [
    "# driver.find_element(By.XPATH, '//*[@id=\"account\"]/a').click()\n",
    "\n",
    "driver.find_element(By.XPATH, '//*[@id=\"id\"]').click()\n",
    "time.sleep(5)\n",
    "driver.find_element(By.XPATH, '//*[@id=\"id\"]').send_keys(\"*******\")\n",
    "\n",
    "\n",
    "time.sleep(5)\n"
   ]
  },
  {
   "cell_type": "code",
   "execution_count": 72,
   "metadata": {},
   "outputs": [],
   "source": [
    "# driver.find_element(By.XPATH, '//*[@id=\"pw\"]').click()\n",
    "# time.sleep(10)\n",
    "\n",
    "# driver.find_element(By.XPATH, '//*[@id=\"pw\"]').send_keys(\"********\")\n",
    "# time.sleep(10)\n",
    "\n",
    "# driver.find_element(By.XPATH, '//*[@id=\"log.login\"]/span').click()\n",
    "# time.sleep(10)"
   ]
  },
  {
   "cell_type": "code",
   "execution_count": 78,
   "metadata": {},
   "outputs": [
    {
     "name": "stdout",
     "output_type": "stream",
     "text": [
      "Requirement already satisfied: pyperclip in /Users/sainthm/opt/anaconda3/lib/python3.9/site-packages (1.8.2)\r\n"
     ]
    }
   ],
   "source": [
    "!pip install pyperclip"
   ]
  },
  {
   "cell_type": "code",
   "execution_count": 86,
   "metadata": {},
   "outputs": [],
   "source": [
    "from selenium.webdriver.common.keys import Keys\n",
    "from selenium import webdriver\n",
    "import pyperclip\n",
    "import time \n",
    "\n",
    "from selenium import webdriver\n",
    "from selenium.webdriver.common.keys import Keys\n",
    "from selenium.webdriver.common.by import By\n",
    "from selenium.webdriver.chrome.service import Service\n",
    "from webdriver_manager.chrome import ChromeDriverManager"
   ]
  },
  {
   "cell_type": "code",
   "execution_count": 94,
   "metadata": {},
   "outputs": [
    {
     "ename": "NoSuchElementException",
     "evalue": "Message: no such element: Unable to locate element: {\"method\":\"xpath\",\"selector\":\"//*[@id=\"log.login\"]/span\"}\n  (Session info: chrome=105.0.5195.102)\nStacktrace:\n0   chromedriver                        0x0000000103057788 chromedriver + 4515720\n1   chromedriver                        0x0000000102fdb9d3 chromedriver + 4008403\n2   chromedriver                        0x0000000102c6e12a chromedriver + 413994\n3   chromedriver                        0x0000000102ca5873 chromedriver + 641139\n4   chromedriver                        0x0000000102ca5a61 chromedriver + 641633\n5   chromedriver                        0x0000000102cd7f64 chromedriver + 847716\n6   chromedriver                        0x0000000102cc27fd chromedriver + 759805\n7   chromedriver                        0x0000000102cd5bd9 chromedriver + 838617\n8   chromedriver                        0x0000000102cc2603 chromedriver + 759299\n9   chromedriver                        0x0000000102c98990 chromedriver + 588176\n10  chromedriver                        0x0000000102c99a75 chromedriver + 592501\n11  chromedriver                        0x00000001030276cd chromedriver + 4318925\n12  chromedriver                        0x000000010302bf35 chromedriver + 4337461\n13  chromedriver                        0x00000001030331ff chromedriver + 4366847\n14  chromedriver                        0x000000010302cc5a chromedriver + 4340826\n15  chromedriver                        0x0000000103002c2c chromedriver + 4168748\n16  chromedriver                        0x00000001030494f8 chromedriver + 4457720\n17  chromedriver                        0x0000000103049693 chromedriver + 4458131\n18  chromedriver                        0x000000010305ea3e chromedriver + 4545086\n19  libsystem_pthread.dylib             0x00007ff8009254e1 _pthread_start + 125\n20  libsystem_pthread.dylib             0x00007ff800920f6b thread_start + 15\n",
     "output_type": "error",
     "traceback": [
      "\u001b[0;31m---------------------------------------------------------------------------\u001b[0m",
      "\u001b[0;31mNoSuchElementException\u001b[0m                    Traceback (most recent call last)",
      "Input \u001b[0;32mIn [94]\u001b[0m, in \u001b[0;36m<cell line: 30>\u001b[0;34m()\u001b[0m\n\u001b[1;32m     27\u001b[0m time\u001b[38;5;241m.\u001b[39msleep(\u001b[38;5;241m1\u001b[39m)\n\u001b[1;32m     29\u001b[0m \u001b[38;5;66;03m# 5. 로그인 버튼 클릭\u001b[39;00m\n\u001b[0;32m---> 30\u001b[0m \u001b[43mdriver\u001b[49m\u001b[38;5;241;43m.\u001b[39;49m\u001b[43mfind_element\u001b[49m\u001b[43m(\u001b[49m\u001b[43mBy\u001b[49m\u001b[38;5;241;43m.\u001b[39;49m\u001b[43mXPATH\u001b[49m\u001b[43m,\u001b[49m\u001b[43m \u001b[49m\u001b[38;5;124;43m'\u001b[39;49m\u001b[38;5;124;43m//*[@id=\u001b[39;49m\u001b[38;5;124;43m\"\u001b[39;49m\u001b[38;5;124;43mlog.login\u001b[39;49m\u001b[38;5;124;43m\"\u001b[39;49m\u001b[38;5;124;43m]/span\u001b[39;49m\u001b[38;5;124;43m'\u001b[39;49m\u001b[43m)\u001b[49m\u001b[38;5;241m.\u001b[39mclick()\n",
      "File \u001b[0;32m~/opt/anaconda3/lib/python3.9/site-packages/selenium/webdriver/remote/webdriver.py:855\u001b[0m, in \u001b[0;36mWebDriver.find_element\u001b[0;34m(self, by, value)\u001b[0m\n\u001b[1;32m    852\u001b[0m     by \u001b[38;5;241m=\u001b[39m By\u001b[38;5;241m.\u001b[39mCSS_SELECTOR\n\u001b[1;32m    853\u001b[0m     value \u001b[38;5;241m=\u001b[39m \u001b[38;5;124m'\u001b[39m\u001b[38;5;124m[name=\u001b[39m\u001b[38;5;124m\"\u001b[39m\u001b[38;5;132;01m%s\u001b[39;00m\u001b[38;5;124m\"\u001b[39m\u001b[38;5;124m]\u001b[39m\u001b[38;5;124m'\u001b[39m \u001b[38;5;241m%\u001b[39m value\n\u001b[0;32m--> 855\u001b[0m \u001b[38;5;28;01mreturn\u001b[39;00m \u001b[38;5;28;43mself\u001b[39;49m\u001b[38;5;241;43m.\u001b[39;49m\u001b[43mexecute\u001b[49m\u001b[43m(\u001b[49m\u001b[43mCommand\u001b[49m\u001b[38;5;241;43m.\u001b[39;49m\u001b[43mFIND_ELEMENT\u001b[49m\u001b[43m,\u001b[49m\u001b[43m \u001b[49m\u001b[43m{\u001b[49m\n\u001b[1;32m    856\u001b[0m \u001b[43m    \u001b[49m\u001b[38;5;124;43m'\u001b[39;49m\u001b[38;5;124;43musing\u001b[39;49m\u001b[38;5;124;43m'\u001b[39;49m\u001b[43m:\u001b[49m\u001b[43m \u001b[49m\u001b[43mby\u001b[49m\u001b[43m,\u001b[49m\n\u001b[1;32m    857\u001b[0m \u001b[43m    \u001b[49m\u001b[38;5;124;43m'\u001b[39;49m\u001b[38;5;124;43mvalue\u001b[39;49m\u001b[38;5;124;43m'\u001b[39;49m\u001b[43m:\u001b[49m\u001b[43m \u001b[49m\u001b[43mvalue\u001b[49m\u001b[43m}\u001b[49m\u001b[43m)\u001b[49m[\u001b[38;5;124m'\u001b[39m\u001b[38;5;124mvalue\u001b[39m\u001b[38;5;124m'\u001b[39m]\n",
      "File \u001b[0;32m~/opt/anaconda3/lib/python3.9/site-packages/selenium/webdriver/remote/webdriver.py:428\u001b[0m, in \u001b[0;36mWebDriver.execute\u001b[0;34m(self, driver_command, params)\u001b[0m\n\u001b[1;32m    426\u001b[0m response \u001b[38;5;241m=\u001b[39m \u001b[38;5;28mself\u001b[39m\u001b[38;5;241m.\u001b[39mcommand_executor\u001b[38;5;241m.\u001b[39mexecute(driver_command, params)\n\u001b[1;32m    427\u001b[0m \u001b[38;5;28;01mif\u001b[39;00m response:\n\u001b[0;32m--> 428\u001b[0m     \u001b[38;5;28;43mself\u001b[39;49m\u001b[38;5;241;43m.\u001b[39;49m\u001b[43merror_handler\u001b[49m\u001b[38;5;241;43m.\u001b[39;49m\u001b[43mcheck_response\u001b[49m\u001b[43m(\u001b[49m\u001b[43mresponse\u001b[49m\u001b[43m)\u001b[49m\n\u001b[1;32m    429\u001b[0m     response[\u001b[38;5;124m'\u001b[39m\u001b[38;5;124mvalue\u001b[39m\u001b[38;5;124m'\u001b[39m] \u001b[38;5;241m=\u001b[39m \u001b[38;5;28mself\u001b[39m\u001b[38;5;241m.\u001b[39m_unwrap_value(\n\u001b[1;32m    430\u001b[0m         response\u001b[38;5;241m.\u001b[39mget(\u001b[38;5;124m'\u001b[39m\u001b[38;5;124mvalue\u001b[39m\u001b[38;5;124m'\u001b[39m, \u001b[38;5;28;01mNone\u001b[39;00m))\n\u001b[1;32m    431\u001b[0m     \u001b[38;5;28;01mreturn\u001b[39;00m response\n",
      "File \u001b[0;32m~/opt/anaconda3/lib/python3.9/site-packages/selenium/webdriver/remote/errorhandler.py:243\u001b[0m, in \u001b[0;36mErrorHandler.check_response\u001b[0;34m(self, response)\u001b[0m\n\u001b[1;32m    241\u001b[0m         alert_text \u001b[38;5;241m=\u001b[39m value[\u001b[38;5;124m'\u001b[39m\u001b[38;5;124malert\u001b[39m\u001b[38;5;124m'\u001b[39m]\u001b[38;5;241m.\u001b[39mget(\u001b[38;5;124m'\u001b[39m\u001b[38;5;124mtext\u001b[39m\u001b[38;5;124m'\u001b[39m)\n\u001b[1;32m    242\u001b[0m     \u001b[38;5;28;01mraise\u001b[39;00m exception_class(message, screen, stacktrace, alert_text)  \u001b[38;5;66;03m# type: ignore[call-arg]  # mypy is not smart enough here\u001b[39;00m\n\u001b[0;32m--> 243\u001b[0m \u001b[38;5;28;01mraise\u001b[39;00m exception_class(message, screen, stacktrace)\n",
      "\u001b[0;31mNoSuchElementException\u001b[0m: Message: no such element: Unable to locate element: {\"method\":\"xpath\",\"selector\":\"//*[@id=\"log.login\"]/span\"}\n  (Session info: chrome=105.0.5195.102)\nStacktrace:\n0   chromedriver                        0x0000000103057788 chromedriver + 4515720\n1   chromedriver                        0x0000000102fdb9d3 chromedriver + 4008403\n2   chromedriver                        0x0000000102c6e12a chromedriver + 413994\n3   chromedriver                        0x0000000102ca5873 chromedriver + 641139\n4   chromedriver                        0x0000000102ca5a61 chromedriver + 641633\n5   chromedriver                        0x0000000102cd7f64 chromedriver + 847716\n6   chromedriver                        0x0000000102cc27fd chromedriver + 759805\n7   chromedriver                        0x0000000102cd5bd9 chromedriver + 838617\n8   chromedriver                        0x0000000102cc2603 chromedriver + 759299\n9   chromedriver                        0x0000000102c98990 chromedriver + 588176\n10  chromedriver                        0x0000000102c99a75 chromedriver + 592501\n11  chromedriver                        0x00000001030276cd chromedriver + 4318925\n12  chromedriver                        0x000000010302bf35 chromedriver + 4337461\n13  chromedriver                        0x00000001030331ff chromedriver + 4366847\n14  chromedriver                        0x000000010302cc5a chromedriver + 4340826\n15  chromedriver                        0x0000000103002c2c chromedriver + 4168748\n16  chromedriver                        0x00000001030494f8 chromedriver + 4457720\n17  chromedriver                        0x0000000103049693 chromedriver + 4458131\n18  chromedriver                        0x000000010305ea3e chromedriver + 4545086\n19  libsystem_pthread.dylib             0x00007ff8009254e1 _pthread_start + 125\n20  libsystem_pthread.dylib             0x00007ff800920f6b thread_start + 15\n"
     ]
    }
   ],
   "source": [
    "\n",
    "\n",
    "browser = set_chrome_driver() # 현재파일과 동일한 경로일 경우 생략 가능\n",
    "\n",
    "# 1. 네이버 이동\n",
    "browser.get('http://naver.com')\n",
    "\n",
    "# 2. 로그인 버튼 클릭\n",
    "elem = browser.find_element(By.XPATH, '//*[@id=\"account\"]/a')\n",
    "elem.click()\n",
    "\n",
    "\n",
    "\n",
    "# 3. id 복사 붙여넣기\n",
    "elem_id = browser.find_element(By.XPATH, '//*[@id=\"id\"]')\n",
    "elem_id.click()\n",
    "pyperclip.copy(user_id)\n",
    "elem_id.send_keys(Keys.CONTROL, 'v')\n",
    "time.sleep(1)\n",
    "\n",
    "# 4. pw 복사 붙여넣기\n",
    "elem_pw = browser.find_element(By.XPATH, '//*[@id=\"pw\"]')\n",
    "elem_pw.click()\n",
    "pyperclip.copy(user_pw)\n",
    "elem_pw.send_keys(Keys.CONTROL, 'v')\n",
    "time.sleep(1)\n",
    "\n",
    "# 5. 로그인 버튼 클릭\n",
    "driver.find_element(By.XPATH, '//*[@id=\"log.login\"]/span').click()"
   ]
  },
  {
   "cell_type": "code",
   "execution_count": 23,
   "metadata": {
    "ExecuteTime": {
     "end_time": "2022-06-08T03:58:36.958718Z",
     "start_time": "2022-06-08T03:58:36.853388Z"
    }
   },
   "outputs": [],
   "source": [
    "# 아이디입력\n"
   ]
  },
  {
   "cell_type": "code",
   "execution_count": 24,
   "metadata": {
    "ExecuteTime": {
     "end_time": "2022-06-08T03:59:48.757108Z",
     "start_time": "2022-06-08T03:59:48.333452Z"
    }
   },
   "outputs": [],
   "source": [
    "# 로그인 버튼 클릭\n"
   ]
  },
  {
   "cell_type": "markdown",
   "metadata": {},
   "source": [
    "## 인스타그램 크롤링"
   ]
  },
  {
   "cell_type": "code",
   "execution_count": 98,
   "metadata": {},
   "outputs": [
    {
     "data": {
      "text/plain": [
       "<selenium.webdriver.chrome.webdriver.WebDriver (session=\"131417cf98b0358948b8e8c4cf1f3fcc\")>"
      ]
     },
     "execution_count": 98,
     "metadata": {},
     "output_type": "execute_result"
    }
   ],
   "source": [
    "driver"
   ]
  },
  {
   "cell_type": "code",
   "execution_count": 4,
   "metadata": {
    "ExecuteTime": {
     "end_time": "2022-06-08T05:55:49.524150Z",
     "start_time": "2022-06-08T05:55:47.567978Z"
    },
    "scrolled": true
   },
   "outputs": [],
   "source": [
    "# url 페이지 이동\n",
    "url = 'https://instagram.com'"
   ]
  },
  {
   "cell_type": "code",
   "execution_count": 6,
   "metadata": {},
   "outputs": [
    {
     "ename": "NoSuchWindowException",
     "evalue": "Message: no such window: window was already closed\n  (Session info: chrome=105.0.5195.102)\nStacktrace:\n0   chromedriver                        0x00000001030d1788 chromedriver + 4515720\n1   chromedriver                        0x00000001030559d3 chromedriver + 4008403\n2   chromedriver                        0x0000000102ce812a chromedriver + 413994\n3   chromedriver                        0x0000000102cc9ad4 chromedriver + 289492\n4   chromedriver                        0x0000000102ccdd4d chromedriver + 306509\n5   chromedriver                        0x0000000102cd2e7c chromedriver + 327292\n6   chromedriver                        0x0000000102ce96b2 chromedriver + 419506\n7   chromedriver                        0x0000000102d4f221 chromedriver + 836129\n8   chromedriver                        0x0000000102d3c603 chromedriver + 759299\n9   chromedriver                        0x0000000102d12990 chromedriver + 588176\n10  chromedriver                        0x0000000102d13a75 chromedriver + 592501\n11  chromedriver                        0x00000001030a16cd chromedriver + 4318925\n12  chromedriver                        0x00000001030a5f35 chromedriver + 4337461\n13  chromedriver                        0x00000001030ad1ff chromedriver + 4366847\n14  chromedriver                        0x00000001030a6c5a chromedriver + 4340826\n15  chromedriver                        0x000000010307cc2c chromedriver + 4168748\n16  chromedriver                        0x00000001030c34f8 chromedriver + 4457720\n17  chromedriver                        0x00000001030c3693 chromedriver + 4458131\n18  chromedriver                        0x00000001030d8a3e chromedriver + 4545086\n19  libsystem_pthread.dylib             0x00007ff8009254e1 _pthread_start + 125\n20  libsystem_pthread.dylib             0x00007ff800920f6b thread_start + 15\n",
     "output_type": "error",
     "traceback": [
      "\u001b[0;31m---------------------------------------------------------------------------\u001b[0m",
      "\u001b[0;31mNoSuchWindowException\u001b[0m                     Traceback (most recent call last)",
      "Input \u001b[0;32mIn [6]\u001b[0m, in \u001b[0;36m<cell line: 1>\u001b[0;34m()\u001b[0m\n\u001b[0;32m----> 1\u001b[0m \u001b[43mdriver\u001b[49m\u001b[38;5;241;43m.\u001b[39;49m\u001b[43mget\u001b[49m\u001b[43m(\u001b[49m\u001b[43murl\u001b[49m\u001b[43m)\u001b[49m\n",
      "File \u001b[0;32m~/opt/anaconda3/lib/python3.9/site-packages/selenium/webdriver/remote/webdriver.py:440\u001b[0m, in \u001b[0;36mWebDriver.get\u001b[0;34m(self, url)\u001b[0m\n\u001b[1;32m    436\u001b[0m \u001b[38;5;28;01mdef\u001b[39;00m \u001b[38;5;21mget\u001b[39m(\u001b[38;5;28mself\u001b[39m, url: \u001b[38;5;28mstr\u001b[39m) \u001b[38;5;241m-\u001b[39m\u001b[38;5;241m>\u001b[39m \u001b[38;5;28;01mNone\u001b[39;00m:\n\u001b[1;32m    437\u001b[0m     \u001b[38;5;124;03m\"\"\"\u001b[39;00m\n\u001b[1;32m    438\u001b[0m \u001b[38;5;124;03m    Loads a web page in the current browser session.\u001b[39;00m\n\u001b[1;32m    439\u001b[0m \u001b[38;5;124;03m    \"\"\"\u001b[39;00m\n\u001b[0;32m--> 440\u001b[0m     \u001b[38;5;28;43mself\u001b[39;49m\u001b[38;5;241;43m.\u001b[39;49m\u001b[43mexecute\u001b[49m\u001b[43m(\u001b[49m\u001b[43mCommand\u001b[49m\u001b[38;5;241;43m.\u001b[39;49m\u001b[43mGET\u001b[49m\u001b[43m,\u001b[49m\u001b[43m \u001b[49m\u001b[43m{\u001b[49m\u001b[38;5;124;43m'\u001b[39;49m\u001b[38;5;124;43murl\u001b[39;49m\u001b[38;5;124;43m'\u001b[39;49m\u001b[43m:\u001b[49m\u001b[43m \u001b[49m\u001b[43murl\u001b[49m\u001b[43m}\u001b[49m\u001b[43m)\u001b[49m\n",
      "File \u001b[0;32m~/opt/anaconda3/lib/python3.9/site-packages/selenium/webdriver/remote/webdriver.py:428\u001b[0m, in \u001b[0;36mWebDriver.execute\u001b[0;34m(self, driver_command, params)\u001b[0m\n\u001b[1;32m    426\u001b[0m response \u001b[38;5;241m=\u001b[39m \u001b[38;5;28mself\u001b[39m\u001b[38;5;241m.\u001b[39mcommand_executor\u001b[38;5;241m.\u001b[39mexecute(driver_command, params)\n\u001b[1;32m    427\u001b[0m \u001b[38;5;28;01mif\u001b[39;00m response:\n\u001b[0;32m--> 428\u001b[0m     \u001b[38;5;28;43mself\u001b[39;49m\u001b[38;5;241;43m.\u001b[39;49m\u001b[43merror_handler\u001b[49m\u001b[38;5;241;43m.\u001b[39;49m\u001b[43mcheck_response\u001b[49m\u001b[43m(\u001b[49m\u001b[43mresponse\u001b[49m\u001b[43m)\u001b[49m\n\u001b[1;32m    429\u001b[0m     response[\u001b[38;5;124m'\u001b[39m\u001b[38;5;124mvalue\u001b[39m\u001b[38;5;124m'\u001b[39m] \u001b[38;5;241m=\u001b[39m \u001b[38;5;28mself\u001b[39m\u001b[38;5;241m.\u001b[39m_unwrap_value(\n\u001b[1;32m    430\u001b[0m         response\u001b[38;5;241m.\u001b[39mget(\u001b[38;5;124m'\u001b[39m\u001b[38;5;124mvalue\u001b[39m\u001b[38;5;124m'\u001b[39m, \u001b[38;5;28;01mNone\u001b[39;00m))\n\u001b[1;32m    431\u001b[0m     \u001b[38;5;28;01mreturn\u001b[39;00m response\n",
      "File \u001b[0;32m~/opt/anaconda3/lib/python3.9/site-packages/selenium/webdriver/remote/errorhandler.py:243\u001b[0m, in \u001b[0;36mErrorHandler.check_response\u001b[0;34m(self, response)\u001b[0m\n\u001b[1;32m    241\u001b[0m         alert_text \u001b[38;5;241m=\u001b[39m value[\u001b[38;5;124m'\u001b[39m\u001b[38;5;124malert\u001b[39m\u001b[38;5;124m'\u001b[39m]\u001b[38;5;241m.\u001b[39mget(\u001b[38;5;124m'\u001b[39m\u001b[38;5;124mtext\u001b[39m\u001b[38;5;124m'\u001b[39m)\n\u001b[1;32m    242\u001b[0m     \u001b[38;5;28;01mraise\u001b[39;00m exception_class(message, screen, stacktrace, alert_text)  \u001b[38;5;66;03m# type: ignore[call-arg]  # mypy is not smart enough here\u001b[39;00m\n\u001b[0;32m--> 243\u001b[0m \u001b[38;5;28;01mraise\u001b[39;00m exception_class(message, screen, stacktrace)\n",
      "\u001b[0;31mNoSuchWindowException\u001b[0m: Message: no such window: window was already closed\n  (Session info: chrome=105.0.5195.102)\nStacktrace:\n0   chromedriver                        0x00000001030d1788 chromedriver + 4515720\n1   chromedriver                        0x00000001030559d3 chromedriver + 4008403\n2   chromedriver                        0x0000000102ce812a chromedriver + 413994\n3   chromedriver                        0x0000000102cc9ad4 chromedriver + 289492\n4   chromedriver                        0x0000000102ccdd4d chromedriver + 306509\n5   chromedriver                        0x0000000102cd2e7c chromedriver + 327292\n6   chromedriver                        0x0000000102ce96b2 chromedriver + 419506\n7   chromedriver                        0x0000000102d4f221 chromedriver + 836129\n8   chromedriver                        0x0000000102d3c603 chromedriver + 759299\n9   chromedriver                        0x0000000102d12990 chromedriver + 588176\n10  chromedriver                        0x0000000102d13a75 chromedriver + 592501\n11  chromedriver                        0x00000001030a16cd chromedriver + 4318925\n12  chromedriver                        0x00000001030a5f35 chromedriver + 4337461\n13  chromedriver                        0x00000001030ad1ff chromedriver + 4366847\n14  chromedriver                        0x00000001030a6c5a chromedriver + 4340826\n15  chromedriver                        0x000000010307cc2c chromedriver + 4168748\n16  chromedriver                        0x00000001030c34f8 chromedriver + 4457720\n17  chromedriver                        0x00000001030c3693 chromedriver + 4458131\n18  chromedriver                        0x00000001030d8a3e chromedriver + 4545086\n19  libsystem_pthread.dylib             0x00007ff8009254e1 _pthread_start + 125\n20  libsystem_pthread.dylib             0x00007ff800920f6b thread_start + 15\n"
     ]
    }
   ],
   "source": [
    "driver.get(url)"
   ]
  },
  {
   "cell_type": "code",
   "execution_count": 33,
   "metadata": {
    "ExecuteTime": {
     "end_time": "2022-06-08T04:15:41.417485Z",
     "start_time": "2022-06-08T04:15:41.274770Z"
    },
    "scrolled": true
   },
   "outputs": [],
   "source": [
    "# 알림설정 팝업창 나중에 하기 클릭\n",
    "driver."
   ]
  },
  {
   "cell_type": "code",
   "execution_count": 34,
   "metadata": {
    "ExecuteTime": {
     "end_time": "2022-06-08T04:18:29.516223Z",
     "start_time": "2022-06-08T04:18:29.348703Z"
    }
   },
   "outputs": [],
   "source": [
    "# 검색 키워드로 크롤링을 하기 위해 검색어 입력\n"
   ]
  },
  {
   "cell_type": "code",
   "execution_count": 16,
   "metadata": {
    "ExecuteTime": {
     "end_time": "2022-06-08T04:19:43.455774Z",
     "start_time": "2022-06-08T04:19:43.280703Z"
    }
   },
   "outputs": [
    {
     "ename": "NoSuchWindowException",
     "evalue": "Message: no such window: window was already closed\n  (Session info: chrome=105.0.5195.102)\nStacktrace:\n0   chromedriver                        0x0000000104aa8788 chromedriver + 4515720\n1   chromedriver                        0x0000000104a2c9d3 chromedriver + 4008403\n2   chromedriver                        0x00000001046bf12a chromedriver + 413994\n3   chromedriver                        0x00000001046a0ad4 chromedriver + 289492\n4   chromedriver                        0x00000001046a4d4d chromedriver + 306509\n5   chromedriver                        0x00000001046a9e7c chromedriver + 327292\n6   chromedriver                        0x00000001046c06b2 chromedriver + 419506\n7   chromedriver                        0x0000000104726221 chromedriver + 836129\n8   chromedriver                        0x0000000104713603 chromedriver + 759299\n9   chromedriver                        0x00000001046e9990 chromedriver + 588176\n10  chromedriver                        0x00000001046eaa75 chromedriver + 592501\n11  chromedriver                        0x0000000104a786cd chromedriver + 4318925\n12  chromedriver                        0x0000000104a7cf35 chromedriver + 4337461\n13  chromedriver                        0x0000000104a841ff chromedriver + 4366847\n14  chromedriver                        0x0000000104a7dc5a chromedriver + 4340826\n15  chromedriver                        0x0000000104a53c2c chromedriver + 4168748\n16  chromedriver                        0x0000000104a9a4f8 chromedriver + 4457720\n17  chromedriver                        0x0000000104a9a693 chromedriver + 4458131\n18  chromedriver                        0x0000000104aafa3e chromedriver + 4545086\n19  libsystem_pthread.dylib             0x00007ff8009254e1 _pthread_start + 125\n20  libsystem_pthread.dylib             0x00007ff800920f6b thread_start + 15\n",
     "output_type": "error",
     "traceback": [
      "\u001b[0;31m---------------------------------------------------------------------------\u001b[0m",
      "\u001b[0;31mNoSuchWindowException\u001b[0m                     Traceback (most recent call last)",
      "Input \u001b[0;32mIn [16]\u001b[0m, in \u001b[0;36m<cell line: 3>\u001b[0;34m()\u001b[0m\n\u001b[1;32m      1\u001b[0m \u001b[38;5;66;03m# 첫번째 항목 접근\u001b[39;00m\n\u001b[0;32m----> 3\u001b[0m \u001b[43mdriver\u001b[49m\u001b[38;5;241;43m.\u001b[39;49m\u001b[43mfind_element\u001b[49m\u001b[43m(\u001b[49m\u001b[43mBy\u001b[49m\u001b[38;5;241;43m.\u001b[39;49m\u001b[43mXPATH\u001b[49m\u001b[43m,\u001b[49m\u001b[43m \u001b[49m\u001b[38;5;124;43m'\u001b[39;49m\u001b[38;5;124;43m//*[@id=\u001b[39;49m\u001b[38;5;124;43m\"\u001b[39;49m\u001b[38;5;124;43mmount_0_0_Jm\u001b[39;49m\u001b[38;5;124;43m\"\u001b[39;49m\u001b[38;5;124;43m]/div/div/div/div[2]/div/div/div[1]/div/div[2]/div/div/div/div/div[2]/div/div/div[3]/button[2]\u001b[39;49m\u001b[38;5;124;43m'\u001b[39;49m\u001b[43m)\u001b[49m\u001b[38;5;241m.\u001b[39mclick()\n",
      "File \u001b[0;32m~/opt/anaconda3/lib/python3.9/site-packages/selenium/webdriver/remote/webdriver.py:855\u001b[0m, in \u001b[0;36mWebDriver.find_element\u001b[0;34m(self, by, value)\u001b[0m\n\u001b[1;32m    852\u001b[0m     by \u001b[38;5;241m=\u001b[39m By\u001b[38;5;241m.\u001b[39mCSS_SELECTOR\n\u001b[1;32m    853\u001b[0m     value \u001b[38;5;241m=\u001b[39m \u001b[38;5;124m'\u001b[39m\u001b[38;5;124m[name=\u001b[39m\u001b[38;5;124m\"\u001b[39m\u001b[38;5;132;01m%s\u001b[39;00m\u001b[38;5;124m\"\u001b[39m\u001b[38;5;124m]\u001b[39m\u001b[38;5;124m'\u001b[39m \u001b[38;5;241m%\u001b[39m value\n\u001b[0;32m--> 855\u001b[0m \u001b[38;5;28;01mreturn\u001b[39;00m \u001b[38;5;28;43mself\u001b[39;49m\u001b[38;5;241;43m.\u001b[39;49m\u001b[43mexecute\u001b[49m\u001b[43m(\u001b[49m\u001b[43mCommand\u001b[49m\u001b[38;5;241;43m.\u001b[39;49m\u001b[43mFIND_ELEMENT\u001b[49m\u001b[43m,\u001b[49m\u001b[43m \u001b[49m\u001b[43m{\u001b[49m\n\u001b[1;32m    856\u001b[0m \u001b[43m    \u001b[49m\u001b[38;5;124;43m'\u001b[39;49m\u001b[38;5;124;43musing\u001b[39;49m\u001b[38;5;124;43m'\u001b[39;49m\u001b[43m:\u001b[49m\u001b[43m \u001b[49m\u001b[43mby\u001b[49m\u001b[43m,\u001b[49m\n\u001b[1;32m    857\u001b[0m \u001b[43m    \u001b[49m\u001b[38;5;124;43m'\u001b[39;49m\u001b[38;5;124;43mvalue\u001b[39;49m\u001b[38;5;124;43m'\u001b[39;49m\u001b[43m:\u001b[49m\u001b[43m \u001b[49m\u001b[43mvalue\u001b[49m\u001b[43m}\u001b[49m\u001b[43m)\u001b[49m[\u001b[38;5;124m'\u001b[39m\u001b[38;5;124mvalue\u001b[39m\u001b[38;5;124m'\u001b[39m]\n",
      "File \u001b[0;32m~/opt/anaconda3/lib/python3.9/site-packages/selenium/webdriver/remote/webdriver.py:428\u001b[0m, in \u001b[0;36mWebDriver.execute\u001b[0;34m(self, driver_command, params)\u001b[0m\n\u001b[1;32m    426\u001b[0m response \u001b[38;5;241m=\u001b[39m \u001b[38;5;28mself\u001b[39m\u001b[38;5;241m.\u001b[39mcommand_executor\u001b[38;5;241m.\u001b[39mexecute(driver_command, params)\n\u001b[1;32m    427\u001b[0m \u001b[38;5;28;01mif\u001b[39;00m response:\n\u001b[0;32m--> 428\u001b[0m     \u001b[38;5;28;43mself\u001b[39;49m\u001b[38;5;241;43m.\u001b[39;49m\u001b[43merror_handler\u001b[49m\u001b[38;5;241;43m.\u001b[39;49m\u001b[43mcheck_response\u001b[49m\u001b[43m(\u001b[49m\u001b[43mresponse\u001b[49m\u001b[43m)\u001b[49m\n\u001b[1;32m    429\u001b[0m     response[\u001b[38;5;124m'\u001b[39m\u001b[38;5;124mvalue\u001b[39m\u001b[38;5;124m'\u001b[39m] \u001b[38;5;241m=\u001b[39m \u001b[38;5;28mself\u001b[39m\u001b[38;5;241m.\u001b[39m_unwrap_value(\n\u001b[1;32m    430\u001b[0m         response\u001b[38;5;241m.\u001b[39mget(\u001b[38;5;124m'\u001b[39m\u001b[38;5;124mvalue\u001b[39m\u001b[38;5;124m'\u001b[39m, \u001b[38;5;28;01mNone\u001b[39;00m))\n\u001b[1;32m    431\u001b[0m     \u001b[38;5;28;01mreturn\u001b[39;00m response\n",
      "File \u001b[0;32m~/opt/anaconda3/lib/python3.9/site-packages/selenium/webdriver/remote/errorhandler.py:243\u001b[0m, in \u001b[0;36mErrorHandler.check_response\u001b[0;34m(self, response)\u001b[0m\n\u001b[1;32m    241\u001b[0m         alert_text \u001b[38;5;241m=\u001b[39m value[\u001b[38;5;124m'\u001b[39m\u001b[38;5;124malert\u001b[39m\u001b[38;5;124m'\u001b[39m]\u001b[38;5;241m.\u001b[39mget(\u001b[38;5;124m'\u001b[39m\u001b[38;5;124mtext\u001b[39m\u001b[38;5;124m'\u001b[39m)\n\u001b[1;32m    242\u001b[0m     \u001b[38;5;28;01mraise\u001b[39;00m exception_class(message, screen, stacktrace, alert_text)  \u001b[38;5;66;03m# type: ignore[call-arg]  # mypy is not smart enough here\u001b[39;00m\n\u001b[0;32m--> 243\u001b[0m \u001b[38;5;28;01mraise\u001b[39;00m exception_class(message, screen, stacktrace)\n",
      "\u001b[0;31mNoSuchWindowException\u001b[0m: Message: no such window: window was already closed\n  (Session info: chrome=105.0.5195.102)\nStacktrace:\n0   chromedriver                        0x0000000104aa8788 chromedriver + 4515720\n1   chromedriver                        0x0000000104a2c9d3 chromedriver + 4008403\n2   chromedriver                        0x00000001046bf12a chromedriver + 413994\n3   chromedriver                        0x00000001046a0ad4 chromedriver + 289492\n4   chromedriver                        0x00000001046a4d4d chromedriver + 306509\n5   chromedriver                        0x00000001046a9e7c chromedriver + 327292\n6   chromedriver                        0x00000001046c06b2 chromedriver + 419506\n7   chromedriver                        0x0000000104726221 chromedriver + 836129\n8   chromedriver                        0x0000000104713603 chromedriver + 759299\n9   chromedriver                        0x00000001046e9990 chromedriver + 588176\n10  chromedriver                        0x00000001046eaa75 chromedriver + 592501\n11  chromedriver                        0x0000000104a786cd chromedriver + 4318925\n12  chromedriver                        0x0000000104a7cf35 chromedriver + 4337461\n13  chromedriver                        0x0000000104a841ff chromedriver + 4366847\n14  chromedriver                        0x0000000104a7dc5a chromedriver + 4340826\n15  chromedriver                        0x0000000104a53c2c chromedriver + 4168748\n16  chromedriver                        0x0000000104a9a4f8 chromedriver + 4457720\n17  chromedriver                        0x0000000104a9a693 chromedriver + 4458131\n18  chromedriver                        0x0000000104aafa3e chromedriver + 4545086\n19  libsystem_pthread.dylib             0x00007ff8009254e1 _pthread_start + 125\n20  libsystem_pthread.dylib             0x00007ff800920f6b thread_start + 15\n"
     ]
    }
   ],
   "source": [
    "# 첫번째 항목 접근\n",
    "\n",
    "driver.find_element(By.XPATH, '//*[@id=\"mount_0_0_Jm\"]/div/div/div/div[2]/div/div/div[1]/div/div[2]/div/div/div/div/div[2]/div/div/div[3]/button[2]').click()"
   ]
  },
  {
   "cell_type": "code",
   "execution_count": 36,
   "metadata": {
    "ExecuteTime": {
     "end_time": "2022-06-08T04:36:59.781665Z",
     "start_time": "2022-06-08T04:36:59.678365Z"
    }
   },
   "outputs": [],
   "source": [
    "# 첫번째 포스팅 클릭\n"
   ]
  },
  {
   "cell_type": "code",
   "execution_count": 38,
   "metadata": {
    "ExecuteTime": {
     "end_time": "2022-06-08T04:39:12.763738Z",
     "start_time": "2022-06-08T04:39:12.688243Z"
    }
   },
   "outputs": [],
   "source": [
    "# 좋아요 누르기\n"
   ]
  },
  {
   "cell_type": "code",
   "execution_count": 39,
   "metadata": {
    "ExecuteTime": {
     "end_time": "2022-06-08T04:40:41.458851Z",
     "start_time": "2022-06-08T04:40:41.367317Z"
    }
   },
   "outputs": [],
   "source": [
    "# 댓글 달기\n"
   ]
  },
  {
   "cell_type": "code",
   "execution_count": 48,
   "metadata": {
    "ExecuteTime": {
     "end_time": "2022-06-08T04:44:46.208592Z",
     "start_time": "2022-06-08T04:44:46.103381Z"
    }
   },
   "outputs": [],
   "source": [
    "# 첫번째 포스팅 뒤로 넘기는 버튼\n"
   ]
  },
  {
   "cell_type": "code",
   "execution_count": 56,
   "metadata": {
    "ExecuteTime": {
     "end_time": "2022-06-08T04:46:00.554521Z",
     "start_time": "2022-06-08T04:46:00.492813Z"
    }
   },
   "outputs": [],
   "source": [
    "# 두번째 포스팅부터 뒤로 넘기는 버튼\n"
   ]
  },
  {
   "cell_type": "code",
   "execution_count": 119,
   "metadata": {
    "ExecuteTime": {
     "end_time": "2022-06-08T06:22:30.485969Z",
     "start_time": "2022-06-08T06:22:30.453867Z"
    }
   },
   "outputs": [],
   "source": [
    "# 접근한 페이지의 소스 코드 페이지 html 가져오기\n"
   ]
  },
  {
   "cell_type": "code",
   "execution_count": 120,
   "metadata": {
    "ExecuteTime": {
     "end_time": "2022-06-08T06:22:30.888918Z",
     "start_time": "2022-06-08T06:22:30.855951Z"
    }
   },
   "outputs": [],
   "source": [
    "# html 변환\n"
   ]
  },
  {
   "cell_type": "code",
   "execution_count": 124,
   "metadata": {
    "ExecuteTime": {
     "end_time": "2022-06-08T06:22:56.669322Z",
     "start_time": "2022-06-08T06:22:56.658982Z"
    }
   },
   "outputs": [
    {
     "name": "stdout",
     "output_type": "stream",
     "text": [
      "#01년생\n",
      "#이태원카페\n",
      "#해방촌\n",
      "#루프탑\n",
      "#해방촌카페\n",
      "#핫플\n",
      "#셀피\n",
      "#itaewon\n",
      "#셀스타그램\n",
      "#서울야경\n",
      "#화곡\n",
      "#마곡\n",
      "#오목교\n",
      "#남산\n",
      "#이태원펍\n",
      "#pub\n",
      "#칵테일\n"
     ]
    }
   ],
   "source": [
    "# 태그 셀렉\n"
   ]
  },
  {
   "cell_type": "code",
   "execution_count": 72,
   "metadata": {
    "ExecuteTime": {
     "end_time": "2022-06-08T05:01:23.798182Z",
     "start_time": "2022-06-08T05:01:23.780049Z"
    }
   },
   "outputs": [
    {
     "data": {
      "text/plain": [
       "'..오랫만에 해방촌 카페.3층에 올라서자마자 열린 창으로 보이는 탁 트인 광경에속이 뻥 뚫리는 기분.좌측 남산 교회 첨탑 뷰는 유럽 어딘가 같은 느낌이 들기도.저녁부터는 wine & bar로 운영된다 하니 야경도 일품일듯....'"
      ]
     },
     "execution_count": 72,
     "metadata": {},
     "output_type": "execute_result"
    }
   ],
   "source": [
    "# 포스팅 내용 셀렉\n"
   ]
  },
  {
   "cell_type": "code",
   "execution_count": 79,
   "metadata": {
    "ExecuteTime": {
     "end_time": "2022-06-08T05:03:39.663303Z",
     "start_time": "2022-06-08T05:03:39.643325Z"
    }
   },
   "outputs": [
    {
     "data": {
      "text/plain": [
       "'6월 6, 2022'"
      ]
     },
     "execution_count": 79,
     "metadata": {},
     "output_type": "execute_result"
    }
   ],
   "source": [
    "# 포스팅 날짜 셀렉\n"
   ]
  },
  {
   "cell_type": "code",
   "execution_count": 92,
   "metadata": {
    "ExecuteTime": {
     "end_time": "2022-06-08T05:18:05.623008Z",
     "start_time": "2022-06-08T05:18:05.605287Z"
    }
   },
   "outputs": [],
   "source": [
    "# 이미지 url 따오기\n"
   ]
  },
  {
   "cell_type": "code",
   "execution_count": null,
   "metadata": {},
   "outputs": [],
   "source": [
    "# 셀렉한 이미지 소스에서 이미지 저장\n"
   ]
  },
  {
   "cell_type": "code",
   "execution_count": 93,
   "metadata": {
    "ExecuteTime": {
     "end_time": "2022-06-08T05:18:36.684259Z",
     "start_time": "2022-06-08T05:18:36.148781Z"
    }
   },
   "outputs": [
    {
     "data": {
      "text/plain": [
       "('save_test.png', <http.client.HTTPMessage at 0x1544cd5b0>)"
      ]
     },
     "execution_count": 93,
     "metadata": {},
     "output_type": "execute_result"
    }
   ],
   "source": [
    "# 이미지 저장\n",
    "import urllib\n",
    "urllib.request.urlretrieve(img_url, 'save_test.png')"
   ]
  },
  {
   "cell_type": "code",
   "execution_count": 125,
   "metadata": {
    "ExecuteTime": {
     "end_time": "2022-06-08T06:27:35.482882Z",
     "start_time": "2022-06-08T06:25:35.507724Z"
    }
   },
   "outputs": [],
   "source": [
    "# 반복문으로 페이지 넘기면서 태그 좋아요 갯수 출력\n",
    "# 2번째 페이지 부터 넘기면 코드 깔끔\n"
   ]
  },
  {
   "cell_type": "code",
   "execution_count": 126,
   "metadata": {
    "ExecuteTime": {
     "end_time": "2022-06-08T06:27:51.615396Z",
     "start_time": "2022-06-08T06:27:51.609395Z"
    }
   },
   "outputs": [
    {
     "data": {
      "text/plain": [
       "[['#남산길에서내려가는코스추천'],\n",
       " ['#비건',\n",
       "  '#채식',\n",
       "  '#비건도넛',\n",
       "  '#프로틴빵',\n",
       "  '#비건빵',\n",
       "  '#fitless',\n",
       "  '#약콩요거트',\n",
       "  '#비건요거트',\n",
       "  '#소이요',\n",
       "  '#소미노',\n",
       "  '#VCLT',\n",
       "  '#에그레스에그',\n",
       "  '#르뱅쿠키',\n",
       "  '#바이두부',\n",
       "  '#해방촌',\n",
       "  '#마요덮밥',\n",
       "  '#비빔국수',\n",
       "  '#비건닭갈비',\n",
       "  '#카페시바',\n",
       "  '#숙대입구',\n",
       "  '#남영동',\n",
       "  '#vegan',\n",
       "  '#vegetarian',\n",
       "  '#govegan',\n",
       "  '#veganfoodshare',\n",
       "  '#whatveganseat',\n",
       "  '#plantbased'],\n",
       " ['#HBD', '#해방촌', '#힐즈앤유로파', '#데이트'],\n",
       " ['#후암동꽃집',\n",
       "  '#해방촌꽃집',\n",
       "  '#숙대꽃집',\n",
       "  '#용산꽃집',\n",
       "  '#서울꽃집',\n",
       "  '#후암동',\n",
       "  '#해방촌',\n",
       "  '#숙대입구',\n",
       "  '#숙대입구역',\n",
       "  '#남산',\n",
       "  '#삼각지',\n",
       "  '#꽃',\n",
       "  '#꽃집',\n",
       "  '#꽃다발',\n",
       "  '#꽃선물',\n",
       "  '#flowers',\n",
       "  '#flower',\n",
       "  '#flowershop'],\n",
       " ['#바람의자유하늘의여유',\n",
       "  '#산책하기좋은곳',\n",
       "  '#남산타워',\n",
       "  '#남산서울타워',\n",
       "  '#서울하늘',\n",
       "  '#하늘',\n",
       "  '#해방촌',\n",
       "  '#후암동'],\n",
       " ['#비건',\n",
       "  '#비고미',\n",
       "  '#해방촌',\n",
       "  '#해방촌맛집',\n",
       "  '#해방촌비건',\n",
       "  '#몽크스델리',\n",
       "  '#비건맛집',\n",
       "  '#나의비거니즘일기',\n",
       "  '#vegan',\n",
       "  '#itaewon'],\n",
       " ['#진돗개✖️진돗개',\n",
       "  '#방구석뛰뛰',\n",
       "  '#강아지',\n",
       "  '#진돗개',\n",
       "  '#진도믹스',\n",
       "  '#해방촌',\n",
       "  '#누렁이',\n",
       "  '#dog',\n",
       "  '#dogstagram',\n",
       "  '#jindo',\n",
       "  '#jindomix',\n",
       "  '#jindodog'],\n",
       " [],\n",
       " ['#다이어트',\n",
       "  '#fff',\n",
       "  '#오오티디',\n",
       "  '#좋반테러',\n",
       "  '#대구가오픈카페',\n",
       "  '#selfie',\n",
       "  '#럽',\n",
       "  '#팔로우늘리기',\n",
       "  '#취미',\n",
       "  '#followforfollowback',\n",
       "  '#strawberrycookies',\n",
       "  '#데일리',\n",
       "  '#디저트',\n",
       "  '#고양이동영상',\n",
       "  '#baking',\n",
       "  '#하루한컷',\n",
       "  '#baby',\n",
       "  '#아기옷',\n",
       "  '#dailylook',\n",
       "  '#오브제',\n",
       "  '#첫줄좋튀',\n",
       "  '#해방촌',\n",
       "  '#푸들',\n",
       "  '#슬랙스맛집',\n",
       "  '#갈푸',\n",
       "  '#vinyl',\n",
       "  '#김포강아분양',\n",
       "  '#반려견분양',\n",
       "  '#thing',\n",
       "  '#follow'],\n",
       " ['#01년생',\n",
       "  '#이태원카페',\n",
       "  '#해방촌',\n",
       "  '#루프탑',\n",
       "  '#해방촌카페',\n",
       "  '#핫플',\n",
       "  '#셀피',\n",
       "  '#itaewon',\n",
       "  '#셀스타그램',\n",
       "  '#서울야경',\n",
       "  '#화곡',\n",
       "  '#마곡',\n",
       "  '#오목교',\n",
       "  '#남산',\n",
       "  '#이태원펍',\n",
       "  '#pub',\n",
       "  '#칵테일']]"
      ]
     },
     "execution_count": 126,
     "metadata": {},
     "output_type": "execute_result"
    }
   ],
   "source": []
  },
  {
   "cell_type": "markdown",
   "metadata": {},
   "source": [
    "## 크롤링 참고용 추가 코드"
   ]
  },
  {
   "cell_type": "code",
   "execution_count": null,
   "metadata": {},
   "outputs": [],
   "source": [
    "# 로그인 시 \n",
    "from selenium.webdriver.chrome.options import Options\n",
    "co = Options()\n",
    "co.add_experimental_option('debuggerAddress', '127.0.0.1:9222')\n",
    "driver = webdriver.Chrome('./chromedriver', options=co)"
   ]
  },
  {
   "cell_type": "code",
   "execution_count": null,
   "metadata": {},
   "outputs": [],
   "source": [
    "# 스크롤다운\n",
    "driver.execute_script(\"window.scrollTo(150, document.body.scrollHeight);\")"
   ]
  }
 ],
 "metadata": {
  "kernelspec": {
   "display_name": "Python 3 (ipykernel)",
   "language": "python",
   "name": "python3"
  },
  "language_info": {
   "codemirror_mode": {
    "name": "ipython",
    "version": 3
   },
   "file_extension": ".py",
   "mimetype": "text/x-python",
   "name": "python",
   "nbconvert_exporter": "python",
   "pygments_lexer": "ipython3",
   "version": "3.9.12"
  },
  "toc": {
   "base_numbering": 1,
   "nav_menu": {},
   "number_sections": true,
   "sideBar": true,
   "skip_h1_title": true,
   "title_cell": "Table of Contents",
   "title_sidebar": "Contents",
   "toc_cell": false,
   "toc_position": {},
   "toc_section_display": true,
   "toc_window_display": false
  },
  "varInspector": {
   "cols": {
    "lenName": 16,
    "lenType": 16,
    "lenVar": 40
   },
   "kernels_config": {
    "python": {
     "delete_cmd_postfix": "",
     "delete_cmd_prefix": "del ",
     "library": "var_list.py",
     "varRefreshCmd": "print(var_dic_list())"
    },
    "r": {
     "delete_cmd_postfix": ") ",
     "delete_cmd_prefix": "rm(",
     "library": "var_list.r",
     "varRefreshCmd": "cat(var_dic_list()) "
    }
   },
   "types_to_exclude": [
    "module",
    "function",
    "builtin_function_or_method",
    "instance",
    "_Feature"
   ],
   "window_display": false
  }
 },
 "nbformat": 4,
 "nbformat_minor": 2
}

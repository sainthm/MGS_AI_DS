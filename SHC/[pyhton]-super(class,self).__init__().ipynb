{
 "cells": [
  {
   "cell_type": "code",
   "execution_count": 1,
   "id": "06922084",
   "metadata": {},
   "outputs": [],
   "source": [
    "class Human(object):\n",
    "    ''' Parent Class '''\n",
    "    \n",
    "    def __init__(self):\n",
    "        self.name = '이름'\n",
    "        self.age = '나이'\n",
    "        self.city = '도시'\n",
    "        \n",
    "    def show(self):\n",
    "        print('This is Human Class')\n",
    "\n",
    "    def show_name(self):\n",
    "        print('name: ', self.name)\n",
    "\n",
    "    def show_age(self):\n",
    "        print('age: ', self.age)\n",
    "\n",
    "    def show_city(self):\n",
    "        print('city: ', self.city)\n",
    "\n",
    "\n",
    "class Student(Human):\n",
    "    ''' Child Class '''\n",
    "\n",
    "    def __init__(self, name, school):\n",
    "        ''' \n",
    "        super(Student, self).__init__()의 의미는\n",
    "        자식 클래스(Student)가 상속받는 부모 클래스(Human)를 자식 클래스(Student)에 불러오겠다는 의미\n",
    "        \n",
    "        - super().__init__() 이렇게도 작성가능\n",
    "        - super().__init__() → python 3 에서만 작동\n",
    "        - super(클래스,self).__init__() → python 2,3 모두 작동\n",
    "        '''\n",
    "    \n",
    "        super(Student, self).__init__()\n",
    "\n",
    "        self.name = name\n",
    "        self.school = school\n",
    "\n",
    "    def show_school(self):\n",
    "        print('school: ', self.school)"
   ]
  },
  {
   "cell_type": "code",
   "execution_count": 2,
   "id": "68eb652a",
   "metadata": {},
   "outputs": [
    {
     "name": "stdout",
     "output_type": "stream",
     "text": [
      "This is Human Class\n",
      "name:  이름\n",
      "age:  나이\n",
      "city:  도시\n"
     ]
    }
   ],
   "source": [
    "human = Human()\n",
    "\n",
    "human.show()\n",
    "human.show_name()\n",
    "human.show_age()\n",
    "human.show_city()"
   ]
  },
  {
   "cell_type": "code",
   "execution_count": 3,
   "id": "3aa1dbe2",
   "metadata": {},
   "outputs": [
    {
     "name": "stdout",
     "output_type": "stream",
     "text": [
      "This is Human Class\n",
      "name:  홍길동\n",
      "age:  나이\n",
      "city:  도시\n",
      "school:  학교\n"
     ]
    }
   ],
   "source": [
    "student = Student('홍길동', '학교')\n",
    "\n",
    "student.show()\n",
    "student.show_name()\n",
    "student.show_age()\n",
    "student.show_city()\n",
    "student.show_school()"
   ]
  },
  {
   "cell_type": "code",
   "execution_count": null,
   "id": "f322771c",
   "metadata": {},
   "outputs": [],
   "source": []
  }
 ],
 "metadata": {
  "kernelspec": {
   "display_name": "Python 3 (ipykernel)",
   "language": "python",
   "name": "python3"
  },
  "language_info": {
   "codemirror_mode": {
    "name": "ipython",
    "version": 3
   },
   "file_extension": ".py",
   "mimetype": "text/x-python",
   "name": "python",
   "nbconvert_exporter": "python",
   "pygments_lexer": "ipython3",
   "version": "3.10.0"
  }
 },
 "nbformat": 4,
 "nbformat_minor": 5
}
